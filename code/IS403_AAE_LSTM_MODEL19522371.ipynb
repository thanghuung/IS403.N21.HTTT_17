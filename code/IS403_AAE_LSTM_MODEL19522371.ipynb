{
  "nbformat": 4,
  "nbformat_minor": 0,
  "metadata": {
    "colab": {
      "provenance": []
    },
    "kernelspec": {
      "name": "python3",
      "display_name": "Python 3"
    },
    "language_info": {
      "name": "python"
    }
  },
  "cells": [
    {
      "cell_type": "markdown",
      "source": [
        "#**ARI_HISTORICAL_DATA**"
      ],
      "metadata": {
        "id": "4_Zl4hrMGcnX"
      }
    },
    {
      "cell_type": "markdown",
      "source": [
        "### **Thuật toán AAE**"
      ],
      "metadata": {
        "id": "zaGuOe_sGcne"
      }
    },
    {
      "cell_type": "code",
      "source": [
        "dataset = pd.read_csv('/content/ARE-Historical-Data.csv')"
      ],
      "metadata": {
        "id": "tOgVW9tdGcne"
      },
      "execution_count": 323,
      "outputs": []
    },
    {
      "cell_type": "code",
      "source": [
        "scaler=MinMaxScaler(feature_range=(0,1))\n",
        "\n",
        "df1 = dataset.reset_index()['Price']\n",
        "\n",
        "df1=scaler.fit_transform(np.array(df1).reshape(-1,1))\n",
        "\n",
        "# 4. Chia train test\n",
        "data_transform_size = int(0.7 * len(df1))\n",
        "test_size = int(0.2 * len(df1))\n",
        "val_size = len(df1) - data_transform_size - test_size\n",
        "\n",
        "data_transform = df1[:data_transform_size]\n",
        "test_data = df1[data_transform_size:data_transform_size+test_size]\n",
        "val_data = df1[data_transform_size+test_size:]"
      ],
      "metadata": {
        "id": "V_ZXE4FuGcne"
      },
      "execution_count": 324,
      "outputs": []
    },
    {
      "cell_type": "code",
      "source": [],
      "metadata": {
        "id": "i7p1S5iQGcne"
      },
      "execution_count": 324,
      "outputs": []
    },
    {
      "cell_type": "code",
      "source": [
        "data_transform"
      ],
      "metadata": {
        "colab": {
          "base_uri": "https://localhost:8080/"
        },
        "outputId": "fb112b3f-f27b-484d-ed9d-ad4672a61f80",
        "id": "1FgOzBWsGcne"
      },
      "execution_count": 325,
      "outputs": [
        {
          "output_type": "execute_result",
          "data": {
            "text/plain": [
              "array([[0.04492894],\n",
              "       [0.01844823],\n",
              "       [0.02806956],\n",
              "       ...,\n",
              "       [0.28802189],\n",
              "       [0.29614264],\n",
              "       [0.27707653]])"
            ]
          },
          "metadata": {},
          "execution_count": 325
        }
      ]
    },
    {
      "cell_type": "code",
      "source": [],
      "metadata": {
        "id": "VmnN8KPpGcne"
      },
      "execution_count": 325,
      "outputs": []
    },
    {
      "cell_type": "code",
      "source": [
        "data_transform.shape"
      ],
      "metadata": {
        "colab": {
          "base_uri": "https://localhost:8080/"
        },
        "outputId": "947f8636-81b1-4f20-f7fd-a7e3a6db2b18",
        "id": "788-ctKdGcnf"
      },
      "execution_count": 326,
      "outputs": [
        {
          "output_type": "execute_result",
          "data": {
            "text/plain": [
              "(1057, 1)"
            ]
          },
          "metadata": {},
          "execution_count": 326
        }
      ]
    },
    {
      "cell_type": "code",
      "source": [
        "data_transform"
      ],
      "metadata": {
        "colab": {
          "base_uri": "https://localhost:8080/"
        },
        "outputId": "afcb5b6d-f05a-4cf4-d67b-86a08d082835",
        "id": "dHb4Yy7uGcnf"
      },
      "execution_count": 327,
      "outputs": [
        {
          "output_type": "execute_result",
          "data": {
            "text/plain": [
              "array([[0.04492894],\n",
              "       [0.01844823],\n",
              "       [0.02806956],\n",
              "       ...,\n",
              "       [0.28802189],\n",
              "       [0.29614264],\n",
              "       [0.27707653]])"
            ]
          },
          "metadata": {},
          "execution_count": 327
        }
      ]
    },
    {
      "cell_type": "code",
      "source": [
        "import numpy as np\n",
        "import torch\n",
        "import torch.nn as nn\n",
        "import torch.optim as optim\n",
        "from torch.utils.data import DataLoader, TensorDataset\n",
        "from torchvision import datasets\n",
        "from torch.autograd import Variable\n",
        "import torch.nn as nn\n",
        "import torch.nn.functional as F\n",
        "import torch\n",
        "\n",
        "# dùng 'gpu'.\n",
        "device = 'cuda' if torch.cuda.is_available() else 'cpu'\n",
        "Tensor = torch.cuda.FloatTensor if torch.cuda.is_available() else torch.FloatTensor\n",
        "\n",
        "# số chiều không gian tiềm ẩn\n",
        "latent_dim = 1\n",
        "\n",
        "# số chiều vector đầu vào.\n",
        "embedding = 1\n",
        "\n",
        "# sampling từ trung bình và độ lệch chuẩn.\n",
        "def reparameterization(mu, logvar):\n",
        "    std = torch.exp(logvar / 2)\n",
        "    sampled_z = Variable(torch.randn((mu.size(0), latent_dim))).to(device)\n",
        "    z = sampled_z * std + mu\n",
        "    return z\n",
        "\n",
        "class Encoder(nn.Module):\n",
        "    def __init__(self, embedding):\n",
        "        super(Encoder, self).__init__()\n",
        "\n",
        "        self.model = nn.Sequential(\n",
        "            nn.Linear(embedding, 512),\n",
        "            nn.LeakyReLU(0.2, inplace=True),\n",
        "            nn.Linear(512, 512),\n",
        "            nn.BatchNorm1d(512),\n",
        "            nn.LeakyReLU(0.2, inplace=True),\n",
        "        )\n",
        "\n",
        "        self.mu = nn.Linear(512, latent_dim)\n",
        "        self.logvar = nn.Linear(512, latent_dim)\n",
        "\n",
        "    def forward(self, img):\n",
        "        img_flat = img.view(img.shape[0], -1)\n",
        "        x = self.model(img_flat)\n",
        "        mu = self.mu(x)\n",
        "        logvar = self.logvar(x)\n",
        "        z = reparameterization(mu, logvar)\n",
        "        return z\n",
        "\n",
        "\n",
        "class Decoder(nn.Module):\n",
        "    def __init__(self, embedding):\n",
        "        super(Decoder, self).__init__()\n",
        "\n",
        "        self.model = nn.Sequential(\n",
        "            nn.Linear(latent_dim, 512),\n",
        "            nn.LeakyReLU(0.2, inplace=True),\n",
        "            nn.Linear(512, 512),\n",
        "            nn.BatchNorm1d(512),\n",
        "            nn.LeakyReLU(0.2, inplace=True),\n",
        "            nn.Linear(512, embedding),\n",
        "            nn.Tanh(),\n",
        "        )\n",
        "\n",
        "    def forward(self, z):\n",
        "        img_flat = self.model(z)\n",
        "        img = img_flat.view(img_flat.shape[0], -1)\n",
        "        return img\n",
        "\n",
        "\n",
        "class Discriminator(nn.Module):\n",
        "    def __init__(self):\n",
        "        super(Discriminator, self).__init__()\n",
        "\n",
        "        self.model = nn.Sequential(\n",
        "            nn.Linear(latent_dim, 512),\n",
        "            nn.LeakyReLU(0.2, inplace=True),\n",
        "            nn.Linear(512, 256),\n",
        "            nn.LeakyReLU(0.2, inplace=True),\n",
        "            nn.Linear(256, 1),\n",
        "            nn.Sigmoid(),\n",
        "        )\n",
        "\n",
        "    def forward(self, z):\n",
        "        validity = self.model(z)\n",
        "        return validity\n",
        "\n",
        "\n"
      ],
      "metadata": {
        "id": "KQjdMh6nGcnf"
      },
      "execution_count": 328,
      "outputs": []
    },
    {
      "cell_type": "code",
      "source": [
        "batch_size=512\n",
        "n_epochs = 100"
      ],
      "metadata": {
        "id": "Jaeq-aMsGcnf"
      },
      "execution_count": 329,
      "outputs": []
    },
    {
      "cell_type": "code",
      "source": [
        "# Chuẩn bị dữ liệu huấn luyện (torch dùng đc gpu, numpy -> cpu)\n",
        "tensor_data = torch.from_numpy(data_transform).float()  # Chuyển đổi thành Tensor và kiểu dữ liệu float\n",
        "\n",
        "# Tạo DataLoader\n",
        "data_loader = DataLoader(tensor_data, batch_size=batch_size, shuffle=False)"
      ],
      "metadata": {
        "id": "ECUbeNLbGcnf"
      },
      "execution_count": 330,
      "outputs": []
    },
    {
      "cell_type": "code",
      "source": [
        "# Use binary cross-entropy loss\n",
        "adversarial_loss = torch.nn.BCELoss().to(device)\n",
        "pixelwise_loss = torch.nn.L1Loss().to(device)\n",
        "\n",
        "# Initialize generator and discriminator\n",
        "encoder = Encoder(embedding).to(device)\n",
        "decoder = Decoder(embedding).to(device)\n",
        "discriminator = Discriminator().to(device)\n"
      ],
      "metadata": {
        "id": "K0iZ3OF1Gcnf"
      },
      "execution_count": 331,
      "outputs": []
    },
    {
      "cell_type": "code",
      "source": [
        "# Optimizers\n",
        "optimizer_G = torch.optim.Adam(\n",
        "    itertools.chain(encoder.parameters(), decoder.parameters()), lr=0.0005\n",
        ")\n",
        "optimizer_D = torch.optim.Adam(discriminator.parameters(), lr=0.00005)"
      ],
      "metadata": {
        "id": "iM6VsU1vGcng"
      },
      "execution_count": 332,
      "outputs": []
    },
    {
      "cell_type": "code",
      "source": [
        "# Khởi tạo list để lưu loss\n",
        "d_losses = []\n",
        "g_losses = []\n",
        "\n",
        "for epoch in range(n_epochs):\n",
        "    for i, imgs in enumerate(data_loader):\n",
        "\n",
        "        # Adversarial ground truths\n",
        "        valid = Variable(Tensor(imgs.shape[0], 1).fill_(1.0), requires_grad=False)\n",
        "        fake = Variable(Tensor(imgs.shape[0], 1).fill_(0.0), requires_grad=False)\n",
        "\n",
        "        # Configure input\n",
        "        real_imgs = Variable(imgs.type(Tensor)).to(device)\n",
        "\n",
        "        # -----------------\n",
        "        #  Train Generator\n",
        "        # -----------------\n",
        "\n",
        "        optimizer_G.zero_grad()\n",
        "        # print(real_imgs.shape)\n",
        "        encoded_imgs = encoder(real_imgs)\n",
        "        decoded_imgs = decoder(encoded_imgs)\n",
        "\n",
        "        # Loss measures generator's ability to fool the discriminator\n",
        "        g_loss = 0.001 * adversarial_loss(discriminator(encoded_imgs), valid) + 0.999 * pixelwise_loss(\n",
        "            decoded_imgs, real_imgs\n",
        "        )\n",
        "\n",
        "        g_loss.backward()\n",
        "        optimizer_G.step()\n",
        "\n",
        "        # ---------------------\n",
        "        #  Train Discriminator\n",
        "        # ---------------------\n",
        "\n",
        "        optimizer_D.zero_grad()\n",
        "\n",
        "        # Sample noise as discriminator ground truth\n",
        "        z = Variable(Tensor(np.random.normal(0, 1, (real_imgs.shape[0], latent_dim))))\n",
        "\n",
        "        # Measure discriminator's ability to classify real from generated samples\n",
        "        real_loss = adversarial_loss(discriminator(z), valid)\n",
        "        fake_loss = adversarial_loss(discriminator(encoded_imgs.detach()), fake)\n",
        "        d_loss = 0.5 * (real_loss + fake_loss)\n",
        "\n",
        "        d_loss.backward()\n",
        "        optimizer_D.step()\n",
        "\n",
        "        d_losses.append(d_loss.item())\n",
        "        g_losses.append(g_loss.item())\n",
        "\n",
        "        if (epoch + 1) % 5 == 0:\n",
        "          print(\n",
        "              \"[Epoch %d/%d] [Batch %d/%d] [D loss: %f] [G loss: %f]\"\n",
        "              % (epoch, n_epochs, i, len(data_loader), d_loss.item(), g_loss.item())\n",
        "          )"
      ],
      "metadata": {
        "colab": {
          "base_uri": "https://localhost:8080/"
        },
        "outputId": "217ad6c0-39ee-4c18-f64e-06199f9575ed",
        "id": "qzIlIdhiGcng"
      },
      "execution_count": 333,
      "outputs": [
        {
          "output_type": "stream",
          "name": "stdout",
          "text": [
            "[Epoch 4/100] [Batch 0/3] [D loss: 0.646137] [G loss: 0.138631]\n",
            "[Epoch 4/100] [Batch 1/3] [D loss: 0.648489] [G loss: 0.096073]\n",
            "[Epoch 4/100] [Batch 2/3] [D loss: 0.655445] [G loss: 0.177950]\n",
            "[Epoch 9/100] [Batch 0/3] [D loss: 0.574978] [G loss: 0.157100]\n",
            "[Epoch 9/100] [Batch 1/3] [D loss: 0.589421] [G loss: 0.077013]\n",
            "[Epoch 9/100] [Batch 2/3] [D loss: 0.585216] [G loss: 0.145417]\n",
            "[Epoch 14/100] [Batch 0/3] [D loss: 0.506034] [G loss: 0.101676]\n",
            "[Epoch 14/100] [Batch 1/3] [D loss: 0.543726] [G loss: 0.046672]\n",
            "[Epoch 14/100] [Batch 2/3] [D loss: 0.528864] [G loss: 0.144078]\n",
            "[Epoch 19/100] [Batch 0/3] [D loss: 0.431523] [G loss: 0.111995]\n",
            "[Epoch 19/100] [Batch 1/3] [D loss: 0.479197] [G loss: 0.057372]\n",
            "[Epoch 19/100] [Batch 2/3] [D loss: 0.526282] [G loss: 0.118445]\n",
            "[Epoch 24/100] [Batch 0/3] [D loss: 0.398840] [G loss: 0.110606]\n",
            "[Epoch 24/100] [Batch 1/3] [D loss: 0.475631] [G loss: 0.048669]\n",
            "[Epoch 24/100] [Batch 2/3] [D loss: 0.509472] [G loss: 0.086488]\n",
            "[Epoch 29/100] [Batch 0/3] [D loss: 0.389645] [G loss: 0.081626]\n",
            "[Epoch 29/100] [Batch 1/3] [D loss: 0.475267] [G loss: 0.035910]\n",
            "[Epoch 29/100] [Batch 2/3] [D loss: 0.486445] [G loss: 0.146163]\n",
            "[Epoch 34/100] [Batch 0/3] [D loss: 0.370070] [G loss: 0.099209]\n",
            "[Epoch 34/100] [Batch 1/3] [D loss: 0.489053] [G loss: 0.030566]\n",
            "[Epoch 34/100] [Batch 2/3] [D loss: 0.511023] [G loss: 0.072682]\n",
            "[Epoch 39/100] [Batch 0/3] [D loss: 0.364805] [G loss: 0.076296]\n",
            "[Epoch 39/100] [Batch 1/3] [D loss: 0.480209] [G loss: 0.025759]\n",
            "[Epoch 39/100] [Batch 2/3] [D loss: 0.469614] [G loss: 0.066917]\n",
            "[Epoch 44/100] [Batch 0/3] [D loss: 0.369079] [G loss: 0.075616]\n",
            "[Epoch 44/100] [Batch 1/3] [D loss: 0.486911] [G loss: 0.097793]\n",
            "[Epoch 44/100] [Batch 2/3] [D loss: 0.485888] [G loss: 0.110705]\n",
            "[Epoch 49/100] [Batch 0/3] [D loss: 0.366263] [G loss: 0.061862]\n",
            "[Epoch 49/100] [Batch 1/3] [D loss: 0.459358] [G loss: 0.046387]\n",
            "[Epoch 49/100] [Batch 2/3] [D loss: 0.465370] [G loss: 0.044533]\n",
            "[Epoch 54/100] [Batch 0/3] [D loss: 0.358502] [G loss: 0.065371]\n",
            "[Epoch 54/100] [Batch 1/3] [D loss: 0.494043] [G loss: 0.035133]\n",
            "[Epoch 54/100] [Batch 2/3] [D loss: 0.489015] [G loss: 0.053632]\n",
            "[Epoch 59/100] [Batch 0/3] [D loss: 0.363467] [G loss: 0.061338]\n",
            "[Epoch 59/100] [Batch 1/3] [D loss: 0.479268] [G loss: 0.071434]\n",
            "[Epoch 59/100] [Batch 2/3] [D loss: 0.477810] [G loss: 0.069129]\n",
            "[Epoch 64/100] [Batch 0/3] [D loss: 0.386580] [G loss: 0.048553]\n",
            "[Epoch 64/100] [Batch 1/3] [D loss: 0.465313] [G loss: 0.026799]\n",
            "[Epoch 64/100] [Batch 2/3] [D loss: 0.634451] [G loss: 0.039050]\n",
            "[Epoch 69/100] [Batch 0/3] [D loss: 0.398814] [G loss: 0.046500]\n",
            "[Epoch 69/100] [Batch 1/3] [D loss: 0.499545] [G loss: 0.043708]\n",
            "[Epoch 69/100] [Batch 2/3] [D loss: 0.569457] [G loss: 0.051714]\n",
            "[Epoch 74/100] [Batch 0/3] [D loss: 0.395105] [G loss: 0.055324]\n",
            "[Epoch 74/100] [Batch 1/3] [D loss: 0.493720] [G loss: 0.034084]\n",
            "[Epoch 74/100] [Batch 2/3] [D loss: 0.446742] [G loss: 0.070202]\n",
            "[Epoch 79/100] [Batch 0/3] [D loss: 0.413160] [G loss: 0.058276]\n",
            "[Epoch 79/100] [Batch 1/3] [D loss: 0.514298] [G loss: 0.063331]\n",
            "[Epoch 79/100] [Batch 2/3] [D loss: 0.514692] [G loss: 0.058862]\n",
            "[Epoch 84/100] [Batch 0/3] [D loss: 0.416470] [G loss: 0.047812]\n",
            "[Epoch 84/100] [Batch 1/3] [D loss: 0.497779] [G loss: 0.025798]\n",
            "[Epoch 84/100] [Batch 2/3] [D loss: 0.533731] [G loss: 0.042037]\n",
            "[Epoch 89/100] [Batch 0/3] [D loss: 0.421765] [G loss: 0.030116]\n",
            "[Epoch 89/100] [Batch 1/3] [D loss: 0.519603] [G loss: 0.027554]\n",
            "[Epoch 89/100] [Batch 2/3] [D loss: 0.517580] [G loss: 0.041656]\n",
            "[Epoch 94/100] [Batch 0/3] [D loss: 0.396793] [G loss: 0.049404]\n",
            "[Epoch 94/100] [Batch 1/3] [D loss: 0.490317] [G loss: 0.031891]\n",
            "[Epoch 94/100] [Batch 2/3] [D loss: 0.540239] [G loss: 0.034233]\n",
            "[Epoch 99/100] [Batch 0/3] [D loss: 0.430782] [G loss: 0.030849]\n",
            "[Epoch 99/100] [Batch 1/3] [D loss: 0.517825] [G loss: 0.032544]\n",
            "[Epoch 99/100] [Batch 2/3] [D loss: 0.581272] [G loss: 0.046081]\n"
          ]
        }
      ]
    },
    {
      "cell_type": "code",
      "source": [
        "import matplotlib.pyplot as plt\n",
        "# Vẽ biểu đồ Discriminator Loss\n",
        "plt.plot(range(len(d_losses)), d_losses, label='Discriminator Loss')\n",
        "plt.xlabel('Iterations')\n",
        "plt.ylabel('Loss')\n",
        "plt.legend()\n",
        "plt.title('Discriminator Loss')\n",
        "plt.show()\n"
      ],
      "metadata": {
        "colab": {
          "base_uri": "https://localhost:8080/",
          "height": 472
        },
        "outputId": "66f59bf2-816e-46ea-b929-85b3b900d6f1",
        "id": "epV-11JwGcng"
      },
      "execution_count": 334,
      "outputs": [
        {
          "output_type": "display_data",
          "data": {
            "text/plain": [
              "<Figure size 640x480 with 1 Axes>"
            ],
            "image/png": "[encoded data removed]"
          },
          "metadata": {}
        }
      ]
    },
    {
      "cell_type": "code",
      "source": [
        "# Vẽ biểu đồ Generator Loss\n",
        "plt.plot(range(len(g_losses)), g_losses, label='Generator Loss')\n",
        "plt.xlabel('Iterations')\n",
        "plt.ylabel('Loss')\n",
        "plt.legend()\n",
        "plt.title('Generator Loss')\n",
        "plt.show()"
      ],
      "metadata": {
        "colab": {
          "base_uri": "https://localhost:8080/",
          "height": 472
        },
        "outputId": "d8623ae3-b9c8-4a97-dbd3-7b20ac35eab3",
        "id": "B79wjcgxGcng"
      },
      "execution_count": 335,
      "outputs": [
        {
          "output_type": "display_data",
          "data": {
            "text/plain": [
              "<Figure size 640x480 with 1 Axes>"
            ],
            "image/png": "[encoded data removed]"
          },
          "metadata": {}
        }
      ]
    },
    {
      "cell_type": "code",
      "source": [
        "# Chuyển đổi dữ liệu thành tensor\n",
        "tensor_data = torch.tensor(data_transform, dtype=torch.float32).to(device)\n",
        "latent_vectors = encoder(tensor_data)\n",
        "\n",
        "# reconstructed_data = decoder(latent_vectors)\n",
        "\n",
        "# # Chuyển đổi dữ liệu mới thành dạng ban đầu\n",
        "# generated_data = reconstructed_data.cpu().detach().numpy()\n"
      ],
      "metadata": {
        "id": "JYlNwvwdGcng"
      },
      "execution_count": 336,
      "outputs": []
    },
    {
      "cell_type": "markdown",
      "source": [
        "### **Thuật toán LSTM**"
      ],
      "metadata": {
        "id": "0raPkyjuGcng"
      }
    },
    {
      "cell_type": "code",
      "source": [
        "# 1. Import thư viện cần thiết\n",
        "import numpy as np\n",
        "import pandas as pd\n",
        "import matplotlib.pyplot as plt\n",
        "from sklearn.preprocessing import MinMaxScaler\n",
        "from keras.models import Sequential\n",
        "from keras.layers import Dense, LSTM"
      ],
      "metadata": {
        "id": "CdmNOzZjGcng"
      },
      "execution_count": 337,
      "outputs": []
    },
    {
      "cell_type": "code",
      "source": [
        "# 4. Chia train test\n",
        "train_size = len(latent_vectors)\n",
        "train_data = latent_vectors\n"
      ],
      "metadata": {
        "id": "flTMY4VJGcnh"
      },
      "execution_count": 338,
      "outputs": []
    },
    {
      "cell_type": "code",
      "source": [
        "scaler=MinMaxScaler(feature_range=(0,1))\n",
        "train_data=scaler.fit_transform(np.array(train_data.detach().numpy()).reshape(-1,1))"
      ],
      "metadata": {
        "id": "EDMGFgiTGcnh"
      },
      "execution_count": 339,
      "outputs": []
    },
    {
      "cell_type": "code",
      "source": [
        "# 5. Hàm Create Dataset\n",
        "import numpy\n",
        "# convert an array of values into a dataset matrix\n",
        "def create_dataset(dataset, time_step=1):\n",
        "\tdataX, dataY = [], []\n",
        "\tfor i in range(len(dataset)-time_step-1):\n",
        "\t\ta = dataset[i:(i+time_step), 0]   ###i=0, X=0,1,2,3-----99   Y=100 \n",
        "\t\tdataX.append(a)\n",
        "\t\tdataY.append(dataset[i + time_step, 0])\n",
        "\treturn numpy.array(dataX), numpy.array(dataY)"
      ],
      "metadata": {
        "id": "8SRTNrh3Gcnh"
      },
      "execution_count": 340,
      "outputs": []
    },
    {
      "cell_type": "code",
      "source": [
        "#6. Reshape into X=t,t+1,t+2..t+99 and Y=t+100\n",
        "\n",
        "time_step = 100\n",
        "X_train, y_train = create_dataset(train_data, time_step)\n",
        "X_val, yval = create_dataset(val_data, time_step)\n",
        "X_test, ytest = create_dataset(test_data, time_step)"
      ],
      "metadata": {
        "id": "OKrtquyQGcnh"
      },
      "execution_count": 341,
      "outputs": []
    },
    {
      "cell_type": "code",
      "source": [
        "# 7. Reshape input to be [samples, time steps, features] which is required for LSTM\n",
        "X_train =X_train.reshape(X_train.shape[0],X_train.shape[1] , 1)\n",
        "X_test = X_test.reshape(X_test.shape[0],X_test.shape[1] , 1)\n",
        "X_val = X_val.reshape(X_val.shape[0],X_val.shape[1] , 1)"
      ],
      "metadata": {
        "id": "mWZEhZkTGcnh"
      },
      "execution_count": 342,
      "outputs": []
    },
    {
      "cell_type": "code",
      "source": [
        "# 8. Define LSTM Model\n",
        "\n",
        "model=Sequential()\n",
        "model.add(LSTM(50,return_sequences=True,input_shape=(100,1)))\n",
        "model.add(LSTM(50,return_sequences=True))\n",
        "model.add(LSTM(50))\n",
        "model.add(Dense(1))\n",
        "model.compile(loss='mean_squared_error',optimizer='adam')"
      ],
      "metadata": {
        "id": "LArkvtzVGcnh"
      },
      "execution_count": 343,
      "outputs": []
    },
    {
      "cell_type": "code",
      "source": [
        "# 9. Fit mô hình với dữ liệu train\n",
        "model.fit(X_train,y_train,validation_data=(X_test,ytest),epochs=100,batch_size=64,verbose=1)"
      ],
      "metadata": {
        "colab": {
          "base_uri": "https://localhost:8080/"
        },
        "outputId": "13217cbe-3c31-4b88-9110-27a1347e2ab2",
        "id": "XZlRBck1Gcnh"
      },
      "execution_count": 344,
      "outputs": [
        {
          "output_type": "stream",
          "name": "stdout",
          "text": [
            "Epoch 1/100\n",
            "15/15 [==============================] - 11s 343ms/step - loss: 0.1415 - val_loss: 0.0111\n",
            "Epoch 2/100\n",
            "15/15 [==============================] - 4s 282ms/step - loss: 0.0192 - val_loss: 0.0324\n",
            "Epoch 3/100\n",
            "15/15 [==============================] - 3s 212ms/step - loss: 0.0095 - val_loss: 0.0306\n",
            "Epoch 4/100\n",
            "15/15 [==============================] - 3s 214ms/step - loss: 0.0081 - val_loss: 0.0199\n",
            "Epoch 5/100\n",
            "15/15 [==============================] - 4s 278ms/step - loss: 0.0070 - val_loss: 0.0124\n",
            "Epoch 6/100\n",
            "15/15 [==============================] - 6s 343ms/step - loss: 0.0064 - val_loss: 0.0067\n",
            "Epoch 7/100\n",
            "15/15 [==============================] - 3s 213ms/step - loss: 0.0058 - val_loss: 0.0035\n",
            "Epoch 8/100\n",
            "15/15 [==============================] - 3s 213ms/step - loss: 0.0056 - val_loss: 0.0029\n",
            "Epoch 9/100\n",
            "15/15 [==============================] - 4s 287ms/step - loss: 0.0053 - val_loss: 0.0028\n",
            "Epoch 10/100\n",
            "15/15 [==============================] - 4s 259ms/step - loss: 0.0053 - val_loss: 0.0025\n",
            "Epoch 11/100\n",
            "15/15 [==============================] - 3s 209ms/step - loss: 0.0050 - val_loss: 0.0029\n",
            "Epoch 12/100\n",
            "15/15 [==============================] - 3s 212ms/step - loss: 0.0049 - val_loss: 0.0031\n",
            "Epoch 13/100\n",
            "15/15 [==============================] - 4s 271ms/step - loss: 0.0047 - val_loss: 0.0037\n",
            "Epoch 14/100\n",
            "15/15 [==============================] - 4s 276ms/step - loss: 0.0046 - val_loss: 0.0037\n",
            "Epoch 15/100\n",
            "15/15 [==============================] - 3s 215ms/step - loss: 0.0043 - val_loss: 0.0042\n",
            "Epoch 16/100\n",
            "15/15 [==============================] - 3s 210ms/step - loss: 0.0043 - val_loss: 0.0047\n",
            "Epoch 17/100\n",
            "15/15 [==============================] - 4s 285ms/step - loss: 0.0041 - val_loss: 0.0038\n",
            "Epoch 18/100\n",
            "15/15 [==============================] - 4s 264ms/step - loss: 0.0039 - val_loss: 0.0034\n",
            "Epoch 19/100\n",
            "15/15 [==============================] - 3s 210ms/step - loss: 0.0038 - val_loss: 0.0040\n",
            "Epoch 20/100\n",
            "15/15 [==============================] - 3s 209ms/step - loss: 0.0037 - val_loss: 0.0034\n",
            "Epoch 21/100\n",
            "15/15 [==============================] - 4s 285ms/step - loss: 0.0036 - val_loss: 0.0038\n",
            "Epoch 22/100\n",
            "15/15 [==============================] - 4s 259ms/step - loss: 0.0036 - val_loss: 0.0041\n",
            "Epoch 23/100\n",
            "15/15 [==============================] - 3s 206ms/step - loss: 0.0034 - val_loss: 0.0042\n",
            "Epoch 24/100\n",
            "15/15 [==============================] - 3s 211ms/step - loss: 0.0036 - val_loss: 0.0036\n",
            "Epoch 25/100\n",
            "15/15 [==============================] - 4s 265ms/step - loss: 0.0033 - val_loss: 0.0041\n",
            "Epoch 26/100\n",
            "15/15 [==============================] - 4s 279ms/step - loss: 0.0031 - val_loss: 0.0034\n",
            "Epoch 27/100\n",
            "15/15 [==============================] - 3s 230ms/step - loss: 0.0031 - val_loss: 0.0036\n",
            "Epoch 28/100\n",
            "15/15 [==============================] - 3s 228ms/step - loss: 0.0031 - val_loss: 0.0036\n",
            "Epoch 29/100\n",
            "15/15 [==============================] - 4s 300ms/step - loss: 0.0030 - val_loss: 0.0035\n",
            "Epoch 30/100\n",
            "15/15 [==============================] - 4s 248ms/step - loss: 0.0030 - val_loss: 0.0035\n",
            "Epoch 31/100\n",
            "15/15 [==============================] - 3s 208ms/step - loss: 0.0029 - val_loss: 0.0036\n",
            "Epoch 32/100\n",
            "15/15 [==============================] - 3s 210ms/step - loss: 0.0029 - val_loss: 0.0036\n",
            "Epoch 33/100\n",
            "15/15 [==============================] - 4s 281ms/step - loss: 0.0030 - val_loss: 0.0035\n",
            "Epoch 34/100\n",
            "15/15 [==============================] - 4s 262ms/step - loss: 0.0029 - val_loss: 0.0040\n",
            "Epoch 35/100\n",
            "15/15 [==============================] - 3s 208ms/step - loss: 0.0029 - val_loss: 0.0033\n",
            "Epoch 36/100\n",
            "15/15 [==============================] - 3s 208ms/step - loss: 0.0028 - val_loss: 0.0031\n",
            "Epoch 37/100\n",
            "15/15 [==============================] - 4s 265ms/step - loss: 0.0028 - val_loss: 0.0030\n",
            "Epoch 38/100\n",
            "15/15 [==============================] - 4s 273ms/step - loss: 0.0027 - val_loss: 0.0035\n",
            "Epoch 39/100\n",
            "15/15 [==============================] - 3s 209ms/step - loss: 0.0027 - val_loss: 0.0034\n",
            "Epoch 40/100\n",
            "15/15 [==============================] - 3s 210ms/step - loss: 0.0028 - val_loss: 0.0035\n",
            "Epoch 41/100\n",
            "15/15 [==============================] - 4s 277ms/step - loss: 0.0029 - val_loss: 0.0037\n",
            "Epoch 42/100\n",
            "15/15 [==============================] - 4s 270ms/step - loss: 0.0027 - val_loss: 0.0044\n",
            "Epoch 43/100\n",
            "15/15 [==============================] - 3s 210ms/step - loss: 0.0027 - val_loss: 0.0026\n",
            "Epoch 44/100\n",
            "15/15 [==============================] - 3s 209ms/step - loss: 0.0031 - val_loss: 0.0044\n",
            "Epoch 45/100\n",
            "15/15 [==============================] - 4s 278ms/step - loss: 0.0027 - val_loss: 0.0035\n",
            "Epoch 46/100\n",
            "15/15 [==============================] - 4s 264ms/step - loss: 0.0025 - val_loss: 0.0031\n",
            "Epoch 47/100\n",
            "15/15 [==============================] - 3s 209ms/step - loss: 0.0025 - val_loss: 0.0032\n",
            "Epoch 48/100\n",
            "15/15 [==============================] - 3s 212ms/step - loss: 0.0028 - val_loss: 0.0031\n",
            "Epoch 49/100\n",
            "15/15 [==============================] - 4s 271ms/step - loss: 0.0029 - val_loss: 0.0031\n",
            "Epoch 50/100\n",
            "15/15 [==============================] - 4s 275ms/step - loss: 0.0028 - val_loss: 0.0031\n",
            "Epoch 51/100\n",
            "15/15 [==============================] - 3s 209ms/step - loss: 0.0030 - val_loss: 0.0029\n",
            "Epoch 52/100\n",
            "15/15 [==============================] - 3s 210ms/step - loss: 0.0025 - val_loss: 0.0023\n",
            "Epoch 53/100\n",
            "15/15 [==============================] - 4s 255ms/step - loss: 0.0024 - val_loss: 0.0026\n",
            "Epoch 54/100\n",
            "15/15 [==============================] - 4s 290ms/step - loss: 0.0024 - val_loss: 0.0028\n",
            "Epoch 55/100\n",
            "15/15 [==============================] - 3s 212ms/step - loss: 0.0024 - val_loss: 0.0024\n",
            "Epoch 56/100\n",
            "15/15 [==============================] - 3s 211ms/step - loss: 0.0023 - val_loss: 0.0028\n",
            "Epoch 57/100\n",
            "15/15 [==============================] - 4s 267ms/step - loss: 0.0025 - val_loss: 0.0025\n",
            "Epoch 58/100\n",
            "15/15 [==============================] - 4s 285ms/step - loss: 0.0026 - val_loss: 0.0032\n",
            "Epoch 59/100\n",
            "15/15 [==============================] - 3s 209ms/step - loss: 0.0024 - val_loss: 0.0031\n",
            "Epoch 60/100\n",
            "15/15 [==============================] - 3s 210ms/step - loss: 0.0027 - val_loss: 0.0022\n",
            "Epoch 61/100\n",
            "15/15 [==============================] - 4s 273ms/step - loss: 0.0025 - val_loss: 0.0029\n",
            "Epoch 62/100\n",
            "15/15 [==============================] - 4s 280ms/step - loss: 0.0023 - val_loss: 0.0025\n",
            "Epoch 63/100\n",
            "15/15 [==============================] - 3s 208ms/step - loss: 0.0023 - val_loss: 0.0022\n",
            "Epoch 64/100\n",
            "15/15 [==============================] - 3s 212ms/step - loss: 0.0023 - val_loss: 0.0025\n",
            "Epoch 65/100\n",
            "15/15 [==============================] - 4s 255ms/step - loss: 0.0022 - val_loss: 0.0026\n",
            "Epoch 66/100\n",
            "15/15 [==============================] - 4s 291ms/step - loss: 0.0022 - val_loss: 0.0029\n",
            "Epoch 67/100\n",
            "15/15 [==============================] - 3s 212ms/step - loss: 0.0023 - val_loss: 0.0029\n",
            "Epoch 68/100\n",
            "15/15 [==============================] - 3s 211ms/step - loss: 0.0022 - val_loss: 0.0022\n",
            "Epoch 69/100\n",
            "15/15 [==============================] - 4s 267ms/step - loss: 0.0022 - val_loss: 0.0025\n",
            "Epoch 70/100\n",
            "15/15 [==============================] - 4s 284ms/step - loss: 0.0024 - val_loss: 0.0027\n",
            "Epoch 71/100\n",
            "15/15 [==============================] - 3s 209ms/step - loss: 0.0022 - val_loss: 0.0028\n",
            "Epoch 72/100\n",
            "15/15 [==============================] - 3s 210ms/step - loss: 0.0022 - val_loss: 0.0027\n",
            "Epoch 73/100\n",
            "15/15 [==============================] - 4s 249ms/step - loss: 0.0022 - val_loss: 0.0024\n",
            "Epoch 74/100\n",
            "15/15 [==============================] - 5s 298ms/step - loss: 0.0021 - val_loss: 0.0021\n",
            "Epoch 75/100\n",
            "15/15 [==============================] - 3s 210ms/step - loss: 0.0021 - val_loss: 0.0024\n",
            "Epoch 76/100\n",
            "15/15 [==============================] - 3s 209ms/step - loss: 0.0020 - val_loss: 0.0024\n",
            "Epoch 77/100\n",
            "15/15 [==============================] - 4s 259ms/step - loss: 0.0022 - val_loss: 0.0027\n",
            "Epoch 78/100\n",
            "15/15 [==============================] - 4s 293ms/step - loss: 0.0020 - val_loss: 0.0024\n",
            "Epoch 79/100\n",
            "15/15 [==============================] - 3s 218ms/step - loss: 0.0020 - val_loss: 0.0021\n",
            "Epoch 80/100\n",
            "15/15 [==============================] - 3s 216ms/step - loss: 0.0022 - val_loss: 0.0033\n",
            "Epoch 81/100\n",
            "15/15 [==============================] - 4s 274ms/step - loss: 0.0021 - val_loss: 0.0026\n",
            "Epoch 82/100\n",
            "15/15 [==============================] - 4s 282ms/step - loss: 0.0019 - val_loss: 0.0024\n",
            "Epoch 83/100\n",
            "15/15 [==============================] - 3s 210ms/step - loss: 0.0019 - val_loss: 0.0022\n",
            "Epoch 84/100\n",
            "15/15 [==============================] - 3s 213ms/step - loss: 0.0020 - val_loss: 0.0025\n",
            "Epoch 85/100\n",
            "15/15 [==============================] - 4s 278ms/step - loss: 0.0021 - val_loss: 0.0023\n",
            "Epoch 86/100\n",
            "15/15 [==============================] - 4s 274ms/step - loss: 0.0020 - val_loss: 0.0028\n",
            "Epoch 87/100\n",
            "15/15 [==============================] - 3s 211ms/step - loss: 0.0020 - val_loss: 0.0024\n",
            "Epoch 88/100\n",
            "15/15 [==============================] - 3s 209ms/step - loss: 0.0022 - val_loss: 0.0029\n",
            "Epoch 89/100\n",
            "15/15 [==============================] - 4s 280ms/step - loss: 0.0019 - val_loss: 0.0026\n",
            "Epoch 90/100\n",
            "15/15 [==============================] - 4s 273ms/step - loss: 0.0018 - val_loss: 0.0023\n",
            "Epoch 91/100\n",
            "15/15 [==============================] - 3s 212ms/step - loss: 0.0021 - val_loss: 0.0025\n",
            "Epoch 92/100\n",
            "15/15 [==============================] - 3s 212ms/step - loss: 0.0019 - val_loss: 0.0029\n",
            "Epoch 93/100\n",
            "15/15 [==============================] - 4s 266ms/step - loss: 0.0018 - val_loss: 0.0023\n",
            "Epoch 94/100\n",
            "15/15 [==============================] - 4s 279ms/step - loss: 0.0018 - val_loss: 0.0021\n",
            "Epoch 95/100\n",
            "15/15 [==============================] - 3s 209ms/step - loss: 0.0018 - val_loss: 0.0024\n",
            "Epoch 96/100\n",
            "15/15 [==============================] - 3s 212ms/step - loss: 0.0019 - val_loss: 0.0034\n",
            "Epoch 97/100\n",
            "15/15 [==============================] - 4s 280ms/step - loss: 0.0022 - val_loss: 0.0025\n",
            "Epoch 98/100\n",
            "15/15 [==============================] - 4s 274ms/step - loss: 0.0021 - val_loss: 0.0023\n",
            "Epoch 99/100\n",
            "15/15 [==============================] - 3s 209ms/step - loss: 0.0018 - val_loss: 0.0027\n",
            "Epoch 100/100\n",
            "15/15 [==============================] - 3s 210ms/step - loss: 0.0017 - val_loss: 0.0023\n"
          ]
        },
        {
          "output_type": "execute_result",
          "data": {
            "text/plain": [
              "<keras.callbacks.History at 0x7f47355ecf40>"
            ]
          },
          "metadata": {},
          "execution_count": 344
        }
      ]
    },
    {
      "cell_type": "code",
      "source": [
        "# 10. Dự báo dữ liệu test, val\n",
        "train_predict=model.predict(X_train)\n",
        "y_pred=model.predict(X_test)\n",
        "y_pred_val=model.predict(X_val)\n"
      ],
      "metadata": {
        "colab": {
          "base_uri": "https://localhost:8080/"
        },
        "outputId": "cc543ebb-bc5e-417f-9cfa-0166efa5cc99",
        "id": "BE_qIr7OGcni"
      },
      "execution_count": 345,
      "outputs": [
        {
          "output_type": "stream",
          "name": "stdout",
          "text": [
            "30/30 [==============================] - 3s 52ms/step\n",
            "7/7 [==============================] - 0s 64ms/step\n",
            "2/2 [==============================] - 0s 61ms/step\n"
          ]
        }
      ]
    },
    {
      "cell_type": "code",
      "source": [
        "# 11. Chuẩn hóa dữ liệu y_pred, y_pred_val\n",
        "train_predict=scaler.inverse_transform(train_predict)\n",
        "y_pred=scaler.inverse_transform(y_pred)\n",
        "y_pred_val=scaler.inverse_transform(y_pred_val)"
      ],
      "metadata": {
        "id": "Nokkx8B_Gcni"
      },
      "execution_count": 346,
      "outputs": []
    },
    {
      "cell_type": "code",
      "source": [
        "# 12. Đánh giá độ chính xác thuật toán bằng RMSE\n",
        "valid_rmse = np.sqrt(np.mean((y_pred_val - yval)**2))\n",
        "test_rmse = np.sqrt(np.mean((y_pred - ytest)**2))\n",
        "print('Validation RMSE:', valid_rmse)\n",
        "print('Testing RMSE:', test_rmse)"
      ],
      "metadata": {
        "colab": {
          "base_uri": "https://localhost:8080/"
        },
        "outputId": "b340f933-53c2-4559-f138-abaa441fcb87",
        "id": "CuLv667DGcni"
      },
      "execution_count": 347,
      "outputs": [
        {
          "output_type": "stream",
          "name": "stdout",
          "text": [
            "Validation RMSE: 7.369624271703529\n",
            "Testing RMSE: 7.028291176174321\n"
          ]
        }
      ]
    },
    {
      "cell_type": "code",
      "source": [
        "# 13. Dự báo 30 ngày tiếp theo\n",
        "x_input=val_data[60:].reshape(1,-1)\n",
        "x_input.shape\n",
        "\n",
        "temp_input=list(x_input)\n",
        "temp_input=temp_input[0].tolist()\n",
        "\n",
        "from numpy import array\n",
        "\n",
        "lst_output=[]\n",
        "n_steps=100\n",
        "i=0\n",
        "while(i<30):\n",
        "    if(len(temp_input)>100):\n",
        "        #print(temp_input)\n",
        "        x_input=np.array(temp_input[1:])\n",
        "        print(\"{} day input {}\".format(i,x_input))\n",
        "        x_input=x_input.reshape(1,-1)\n",
        "        x_input = x_input.reshape((1, n_steps, 1))\n",
        "        #print(x_input)\n",
        "        yhat = model.predict(x_input, verbose=0)\n",
        "        print(\"{} day output {}\".format(i,yhat))\n",
        "        temp_input.extend(yhat[0].tolist())\n",
        "        temp_input=temp_input[1:]\n",
        "        #print(temp_input)\n",
        "        lst_output.extend(yhat.tolist())\n",
        "        i=i+1\n",
        "    else:\n",
        "        x_input = x_input.reshape((1, 91,1))\n",
        "        yhat = model.predict(x_input, verbose=0)\n",
        "        print(yhat[0])\n",
        "        temp_input.extend(yhat[0].tolist())\n",
        "        print(len(temp_input))\n",
        "        lst_output.extend(yhat.tolist())\n",
        "        i=i+1\n"
      ],
      "metadata": {
        "colab": {
          "base_uri": "https://localhost:8080/"
        },
        "outputId": "0f204b01-2fce-4bf1-b803-e3f745da89cf",
        "id": "mh6svedoGcni"
      },
      "execution_count": 348,
      "outputs": [
        {
          "output_type": "stream",
          "name": "stdout",
          "text": [
            "[0.13276857]\n",
            "92\n",
            "[0.13276857]\n",
            "93\n",
            "[0.13276857]\n",
            "94\n",
            "[0.13276857]\n",
            "95\n",
            "[0.13276857]\n",
            "96\n",
            "[0.13276857]\n",
            "97\n",
            "[0.13276857]\n",
            "98\n",
            "[0.13276857]\n",
            "99\n",
            "[0.13276857]\n",
            "100\n",
            "[0.13276857]\n",
            "101\n",
            "10 day input [0.10177421 0.09427134 0.08976962 0.08915173 0.08588578 0.07626445\n",
            " 0.07467561 0.0767058  0.06355371 0.06425986 0.07838291 0.07520523\n",
            " 0.06867332 0.07997175 0.08006002 0.08579751 0.08950481 0.0903875\n",
            " 0.09312384 0.08085444 0.08579751 0.0889752  0.08014829 0.0866802\n",
            " 0.08924    0.08976962 0.09727249 0.09736076 0.08050137 0.07388119\n",
            " 0.07961868 0.09012269 0.09700768 0.09418307 0.08632713 0.09541884\n",
            " 0.08588578 0.10053844 0.10256863 0.09886133 0.10115632 0.0818254\n",
            " 0.08482655 0.09312384 0.09127019 0.09091712 0.09118192 0.0926825\n",
            " 0.0903875  0.09471268 0.09683114 0.08932827 0.09330038 0.09303557\n",
            " 0.08703328 0.0903875  0.09462442 0.1040692  0.10424574 0.09197634\n",
            " 0.09577191 0.08615059 0.07458734 0.07750022 0.06681967 0.06117045\n",
            " 0.07282196 0.06946774 0.08888693 0.09418307 0.08994616 0.07688234\n",
            " 0.09047577 0.09992056 0.09709595 0.09109365 0.09277077 0.07741195\n",
            " 0.0792656  0.07802983 0.06708447 0.07617619 0.0767058  0.07423427\n",
            " 0.07352811 0.07370465 0.0729985  0.07591138 0.07317504 0.08879866\n",
            " 0.13276857 0.13276857 0.13276857 0.13276857 0.13276857 0.13276857\n",
            " 0.13276857 0.13276857 0.13276857 0.13276857]\n",
            "10 day output [[0.19069496]]\n",
            "11 day input [0.09427134 0.08976962 0.08915173 0.08588578 0.07626445 0.07467561\n",
            " 0.0767058  0.06355371 0.06425986 0.07838291 0.07520523 0.06867332\n",
            " 0.07997175 0.08006002 0.08579751 0.08950481 0.0903875  0.09312384\n",
            " 0.08085444 0.08579751 0.0889752  0.08014829 0.0866802  0.08924\n",
            " 0.08976962 0.09727249 0.09736076 0.08050137 0.07388119 0.07961868\n",
            " 0.09012269 0.09700768 0.09418307 0.08632713 0.09541884 0.08588578\n",
            " 0.10053844 0.10256863 0.09886133 0.10115632 0.0818254  0.08482655\n",
            " 0.09312384 0.09127019 0.09091712 0.09118192 0.0926825  0.0903875\n",
            " 0.09471268 0.09683114 0.08932827 0.09330038 0.09303557 0.08703328\n",
            " 0.0903875  0.09462442 0.1040692  0.10424574 0.09197634 0.09577191\n",
            " 0.08615059 0.07458734 0.07750022 0.06681967 0.06117045 0.07282196\n",
            " 0.06946774 0.08888693 0.09418307 0.08994616 0.07688234 0.09047577\n",
            " 0.09992056 0.09709595 0.09109365 0.09277077 0.07741195 0.0792656\n",
            " 0.07802983 0.06708447 0.07617619 0.0767058  0.07423427 0.07352811\n",
            " 0.07370465 0.0729985  0.07591138 0.07317504 0.08879866 0.13276857\n",
            " 0.13276857 0.13276857 0.13276857 0.13276857 0.13276857 0.13276857\n",
            " 0.13276857 0.13276857 0.13276857 0.19069496]\n",
            "11 day output [[0.19320056]]\n",
            "12 day input [0.08976962 0.08915173 0.08588578 0.07626445 0.07467561 0.0767058\n",
            " 0.06355371 0.06425986 0.07838291 0.07520523 0.06867332 0.07997175\n",
            " 0.08006002 0.08579751 0.08950481 0.0903875  0.09312384 0.08085444\n",
            " 0.08579751 0.0889752  0.08014829 0.0866802  0.08924    0.08976962\n",
            " 0.09727249 0.09736076 0.08050137 0.07388119 0.07961868 0.09012269\n",
            " 0.09700768 0.09418307 0.08632713 0.09541884 0.08588578 0.10053844\n",
            " 0.10256863 0.09886133 0.10115632 0.0818254  0.08482655 0.09312384\n",
            " 0.09127019 0.09091712 0.09118192 0.0926825  0.0903875  0.09471268\n",
            " 0.09683114 0.08932827 0.09330038 0.09303557 0.08703328 0.0903875\n",
            " 0.09462442 0.1040692  0.10424574 0.09197634 0.09577191 0.08615059\n",
            " 0.07458734 0.07750022 0.06681967 0.06117045 0.07282196 0.06946774\n",
            " 0.08888693 0.09418307 0.08994616 0.07688234 0.09047577 0.09992056\n",
            " 0.09709595 0.09109365 0.09277077 0.07741195 0.0792656  0.07802983\n",
            " 0.06708447 0.07617619 0.0767058  0.07423427 0.07352811 0.07370465\n",
            " 0.0729985  0.07591138 0.07317504 0.08879866 0.13276857 0.13276857\n",
            " 0.13276857 0.13276857 0.13276857 0.13276857 0.13276857 0.13276857\n",
            " 0.13276857 0.13276857 0.19069496 0.19320056]\n",
            "12 day output [[0.19955598]]\n",
            "13 day input [0.08915173 0.08588578 0.07626445 0.07467561 0.0767058  0.06355371\n",
            " 0.06425986 0.07838291 0.07520523 0.06867332 0.07997175 0.08006002\n",
            " 0.08579751 0.08950481 0.0903875  0.09312384 0.08085444 0.08579751\n",
            " 0.0889752  0.08014829 0.0866802  0.08924    0.08976962 0.09727249\n",
            " 0.09736076 0.08050137 0.07388119 0.07961868 0.09012269 0.09700768\n",
            " 0.09418307 0.08632713 0.09541884 0.08588578 0.10053844 0.10256863\n",
            " 0.09886133 0.10115632 0.0818254  0.08482655 0.09312384 0.09127019\n",
            " 0.09091712 0.09118192 0.0926825  0.0903875  0.09471268 0.09683114\n",
            " 0.08932827 0.09330038 0.09303557 0.08703328 0.0903875  0.09462442\n",
            " 0.1040692  0.10424574 0.09197634 0.09577191 0.08615059 0.07458734\n",
            " 0.07750022 0.06681967 0.06117045 0.07282196 0.06946774 0.08888693\n",
            " 0.09418307 0.08994616 0.07688234 0.09047577 0.09992056 0.09709595\n",
            " 0.09109365 0.09277077 0.07741195 0.0792656  0.07802983 0.06708447\n",
            " 0.07617619 0.0767058  0.07423427 0.07352811 0.07370465 0.0729985\n",
            " 0.07591138 0.07317504 0.08879866 0.13276857 0.13276857 0.13276857\n",
            " 0.13276857 0.13276857 0.13276857 0.13276857 0.13276857 0.13276857\n",
            " 0.13276857 0.19069496 0.19320056 0.19955598]\n",
            "13 day output [[0.20868792]]\n",
            "14 day input [0.08588578 0.07626445 0.07467561 0.0767058  0.06355371 0.06425986\n",
            " 0.07838291 0.07520523 0.06867332 0.07997175 0.08006002 0.08579751\n",
            " 0.08950481 0.0903875  0.09312384 0.08085444 0.08579751 0.0889752\n",
            " 0.08014829 0.0866802  0.08924    0.08976962 0.09727249 0.09736076\n",
            " 0.08050137 0.07388119 0.07961868 0.09012269 0.09700768 0.09418307\n",
            " 0.08632713 0.09541884 0.08588578 0.10053844 0.10256863 0.09886133\n",
            " 0.10115632 0.0818254  0.08482655 0.09312384 0.09127019 0.09091712\n",
            " 0.09118192 0.0926825  0.0903875  0.09471268 0.09683114 0.08932827\n",
            " 0.09330038 0.09303557 0.08703328 0.0903875  0.09462442 0.1040692\n",
            " 0.10424574 0.09197634 0.09577191 0.08615059 0.07458734 0.07750022\n",
            " 0.06681967 0.06117045 0.07282196 0.06946774 0.08888693 0.09418307\n",
            " 0.08994616 0.07688234 0.09047577 0.09992056 0.09709595 0.09109365\n",
            " 0.09277077 0.07741195 0.0792656  0.07802983 0.06708447 0.07617619\n",
            " 0.0767058  0.07423427 0.07352811 0.07370465 0.0729985  0.07591138\n",
            " 0.07317504 0.08879866 0.13276857 0.13276857 0.13276857 0.13276857\n",
            " 0.13276857 0.13276857 0.13276857 0.13276857 0.13276857 0.13276857\n",
            " 0.19069496 0.19320056 0.19955598 0.20868792]\n",
            "14 day output [[0.2194444]]\n",
            "15 day input [0.07626445 0.07467561 0.0767058  0.06355371 0.06425986 0.07838291\n",
            " 0.07520523 0.06867332 0.07997175 0.08006002 0.08579751 0.08950481\n",
            " 0.0903875  0.09312384 0.08085444 0.08579751 0.0889752  0.08014829\n",
            " 0.0866802  0.08924    0.08976962 0.09727249 0.09736076 0.08050137\n",
            " 0.07388119 0.07961868 0.09012269 0.09700768 0.09418307 0.08632713\n",
            " 0.09541884 0.08588578 0.10053844 0.10256863 0.09886133 0.10115632\n",
            " 0.0818254  0.08482655 0.09312384 0.09127019 0.09091712 0.09118192\n",
            " 0.0926825  0.0903875  0.09471268 0.09683114 0.08932827 0.09330038\n",
            " 0.09303557 0.08703328 0.0903875  0.09462442 0.1040692  0.10424574\n",
            " 0.09197634 0.09577191 0.08615059 0.07458734 0.07750022 0.06681967\n",
            " 0.06117045 0.07282196 0.06946774 0.08888693 0.09418307 0.08994616\n",
            " 0.07688234 0.09047577 0.09992056 0.09709595 0.09109365 0.09277077\n",
            " 0.07741195 0.0792656  0.07802983 0.06708447 0.07617619 0.0767058\n",
            " 0.07423427 0.07352811 0.07370465 0.0729985  0.07591138 0.07317504\n",
            " 0.08879866 0.13276857 0.13276857 0.13276857 0.13276857 0.13276857\n",
            " 0.13276857 0.13276857 0.13276857 0.13276857 0.13276857 0.19069496\n",
            " 0.19320056 0.19955598 0.20868792 0.21944439]\n",
            "15 day output [[0.23093818]]\n",
            "16 day input [0.07467561 0.0767058  0.06355371 0.06425986 0.07838291 0.07520523\n",
            " 0.06867332 0.07997175 0.08006002 0.08579751 0.08950481 0.0903875\n",
            " 0.09312384 0.08085444 0.08579751 0.0889752  0.08014829 0.0866802\n",
            " 0.08924    0.08976962 0.09727249 0.09736076 0.08050137 0.07388119\n",
            " 0.07961868 0.09012269 0.09700768 0.09418307 0.08632713 0.09541884\n",
            " 0.08588578 0.10053844 0.10256863 0.09886133 0.10115632 0.0818254\n",
            " 0.08482655 0.09312384 0.09127019 0.09091712 0.09118192 0.0926825\n",
            " 0.0903875  0.09471268 0.09683114 0.08932827 0.09330038 0.09303557\n",
            " 0.08703328 0.0903875  0.09462442 0.1040692  0.10424574 0.09197634\n",
            " 0.09577191 0.08615059 0.07458734 0.07750022 0.06681967 0.06117045\n",
            " 0.07282196 0.06946774 0.08888693 0.09418307 0.08994616 0.07688234\n",
            " 0.09047577 0.09992056 0.09709595 0.09109365 0.09277077 0.07741195\n",
            " 0.0792656  0.07802983 0.06708447 0.07617619 0.0767058  0.07423427\n",
            " 0.07352811 0.07370465 0.0729985  0.07591138 0.07317504 0.08879866\n",
            " 0.13276857 0.13276857 0.13276857 0.13276857 0.13276857 0.13276857\n",
            " 0.13276857 0.13276857 0.13276857 0.13276857 0.19069496 0.19320056\n",
            " 0.19955598 0.20868792 0.21944439 0.23093818]\n",
            "16 day output [[0.24258864]]\n",
            "17 day input [0.0767058  0.06355371 0.06425986 0.07838291 0.07520523 0.06867332\n",
            " 0.07997175 0.08006002 0.08579751 0.08950481 0.0903875  0.09312384\n",
            " 0.08085444 0.08579751 0.0889752  0.08014829 0.0866802  0.08924\n",
            " 0.08976962 0.09727249 0.09736076 0.08050137 0.07388119 0.07961868\n",
            " 0.09012269 0.09700768 0.09418307 0.08632713 0.09541884 0.08588578\n",
            " 0.10053844 0.10256863 0.09886133 0.10115632 0.0818254  0.08482655\n",
            " 0.09312384 0.09127019 0.09091712 0.09118192 0.0926825  0.0903875\n",
            " 0.09471268 0.09683114 0.08932827 0.09330038 0.09303557 0.08703328\n",
            " 0.0903875  0.09462442 0.1040692  0.10424574 0.09197634 0.09577191\n",
            " 0.08615059 0.07458734 0.07750022 0.06681967 0.06117045 0.07282196\n",
            " 0.06946774 0.08888693 0.09418307 0.08994616 0.07688234 0.09047577\n",
            " 0.09992056 0.09709595 0.09109365 0.09277077 0.07741195 0.0792656\n",
            " 0.07802983 0.06708447 0.07617619 0.0767058  0.07423427 0.07352811\n",
            " 0.07370465 0.0729985  0.07591138 0.07317504 0.08879866 0.13276857\n",
            " 0.13276857 0.13276857 0.13276857 0.13276857 0.13276857 0.13276857\n",
            " 0.13276857 0.13276857 0.13276857 0.19069496 0.19320056 0.19955598\n",
            " 0.20868792 0.21944439 0.23093818 0.24258864]\n",
            "17 day output [[0.25405288]]\n",
            "18 day input [0.06355371 0.06425986 0.07838291 0.07520523 0.06867332 0.07997175\n",
            " 0.08006002 0.08579751 0.08950481 0.0903875  0.09312384 0.08085444\n",
            " 0.08579751 0.0889752  0.08014829 0.0866802  0.08924    0.08976962\n",
            " 0.09727249 0.09736076 0.08050137 0.07388119 0.07961868 0.09012269\n",
            " 0.09700768 0.09418307 0.08632713 0.09541884 0.08588578 0.10053844\n",
            " 0.10256863 0.09886133 0.10115632 0.0818254  0.08482655 0.09312384\n",
            " 0.09127019 0.09091712 0.09118192 0.0926825  0.0903875  0.09471268\n",
            " 0.09683114 0.08932827 0.09330038 0.09303557 0.08703328 0.0903875\n",
            " 0.09462442 0.1040692  0.10424574 0.09197634 0.09577191 0.08615059\n",
            " 0.07458734 0.07750022 0.06681967 0.06117045 0.07282196 0.06946774\n",
            " 0.08888693 0.09418307 0.08994616 0.07688234 0.09047577 0.09992056\n",
            " 0.09709595 0.09109365 0.09277077 0.07741195 0.0792656  0.07802983\n",
            " 0.06708447 0.07617619 0.0767058  0.07423427 0.07352811 0.07370465\n",
            " 0.0729985  0.07591138 0.07317504 0.08879866 0.13276857 0.13276857\n",
            " 0.13276857 0.13276857 0.13276857 0.13276857 0.13276857 0.13276857\n",
            " 0.13276857 0.13276857 0.19069496 0.19320056 0.19955598 0.20868792\n",
            " 0.21944439 0.23093818 0.24258864 0.25405288]\n",
            "18 day output [[0.26514056]]\n",
            "19 day input [0.06425986 0.07838291 0.07520523 0.06867332 0.07997175 0.08006002\n",
            " 0.08579751 0.08950481 0.0903875  0.09312384 0.08085444 0.08579751\n",
            " 0.0889752  0.08014829 0.0866802  0.08924    0.08976962 0.09727249\n",
            " 0.09736076 0.08050137 0.07388119 0.07961868 0.09012269 0.09700768\n",
            " 0.09418307 0.08632713 0.09541884 0.08588578 0.10053844 0.10256863\n",
            " 0.09886133 0.10115632 0.0818254  0.08482655 0.09312384 0.09127019\n",
            " 0.09091712 0.09118192 0.0926825  0.0903875  0.09471268 0.09683114\n",
            " 0.08932827 0.09330038 0.09303557 0.08703328 0.0903875  0.09462442\n",
            " 0.1040692  0.10424574 0.09197634 0.09577191 0.08615059 0.07458734\n",
            " 0.07750022 0.06681967 0.06117045 0.07282196 0.06946774 0.08888693\n",
            " 0.09418307 0.08994616 0.07688234 0.09047577 0.09992056 0.09709595\n",
            " 0.09109365 0.09277077 0.07741195 0.0792656  0.07802983 0.06708447\n",
            " 0.07617619 0.0767058  0.07423427 0.07352811 0.07370465 0.0729985\n",
            " 0.07591138 0.07317504 0.08879866 0.13276857 0.13276857 0.13276857\n",
            " 0.13276857 0.13276857 0.13276857 0.13276857 0.13276857 0.13276857\n",
            " 0.13276857 0.19069496 0.19320056 0.19955598 0.20868792 0.21944439\n",
            " 0.23093818 0.24258864 0.25405288 0.26514056]\n",
            "19 day output [[0.27574578]]\n",
            "20 day input [0.07838291 0.07520523 0.06867332 0.07997175 0.08006002 0.08579751\n",
            " 0.08950481 0.0903875  0.09312384 0.08085444 0.08579751 0.0889752\n",
            " 0.08014829 0.0866802  0.08924    0.08976962 0.09727249 0.09736076\n",
            " 0.08050137 0.07388119 0.07961868 0.09012269 0.09700768 0.09418307\n",
            " 0.08632713 0.09541884 0.08588578 0.10053844 0.10256863 0.09886133\n",
            " 0.10115632 0.0818254  0.08482655 0.09312384 0.09127019 0.09091712\n",
            " 0.09118192 0.0926825  0.0903875  0.09471268 0.09683114 0.08932827\n",
            " 0.09330038 0.09303557 0.08703328 0.0903875  0.09462442 0.1040692\n",
            " 0.10424574 0.09197634 0.09577191 0.08615059 0.07458734 0.07750022\n",
            " 0.06681967 0.06117045 0.07282196 0.06946774 0.08888693 0.09418307\n",
            " 0.08994616 0.07688234 0.09047577 0.09992056 0.09709595 0.09109365\n",
            " 0.09277077 0.07741195 0.0792656  0.07802983 0.06708447 0.07617619\n",
            " 0.0767058  0.07423427 0.07352811 0.07370465 0.0729985  0.07591138\n",
            " 0.07317504 0.08879866 0.13276857 0.13276857 0.13276857 0.13276857\n",
            " 0.13276857 0.13276857 0.13276857 0.13276857 0.13276857 0.13276857\n",
            " 0.19069496 0.19320056 0.19955598 0.20868792 0.21944439 0.23093818\n",
            " 0.24258864 0.25405288 0.26514056 0.27574578]\n",
            "20 day output [[0.2858049]]\n",
            "21 day input [0.07520523 0.06867332 0.07997175 0.08006002 0.08579751 0.08950481\n",
            " 0.0903875  0.09312384 0.08085444 0.08579751 0.0889752  0.08014829\n",
            " 0.0866802  0.08924    0.08976962 0.09727249 0.09736076 0.08050137\n",
            " 0.07388119 0.07961868 0.09012269 0.09700768 0.09418307 0.08632713\n",
            " 0.09541884 0.08588578 0.10053844 0.10256863 0.09886133 0.10115632\n",
            " 0.0818254  0.08482655 0.09312384 0.09127019 0.09091712 0.09118192\n",
            " 0.0926825  0.0903875  0.09471268 0.09683114 0.08932827 0.09330038\n",
            " 0.09303557 0.08703328 0.0903875  0.09462442 0.1040692  0.10424574\n",
            " 0.09197634 0.09577191 0.08615059 0.07458734 0.07750022 0.06681967\n",
            " 0.06117045 0.07282196 0.06946774 0.08888693 0.09418307 0.08994616\n",
            " 0.07688234 0.09047577 0.09992056 0.09709595 0.09109365 0.09277077\n",
            " 0.07741195 0.0792656  0.07802983 0.06708447 0.07617619 0.0767058\n",
            " 0.07423427 0.07352811 0.07370465 0.0729985  0.07591138 0.07317504\n",
            " 0.08879866 0.13276857 0.13276857 0.13276857 0.13276857 0.13276857\n",
            " 0.13276857 0.13276857 0.13276857 0.13276857 0.13276857 0.19069496\n",
            " 0.19320056 0.19955598 0.20868792 0.21944439 0.23093818 0.24258864\n",
            " 0.25405288 0.26514056 0.27574578 0.2858049 ]\n",
            "21 day output [[0.29527515]]\n",
            "22 day input [0.06867332 0.07997175 0.08006002 0.08579751 0.08950481 0.0903875\n",
            " 0.09312384 0.08085444 0.08579751 0.0889752  0.08014829 0.0866802\n",
            " 0.08924    0.08976962 0.09727249 0.09736076 0.08050137 0.07388119\n",
            " 0.07961868 0.09012269 0.09700768 0.09418307 0.08632713 0.09541884\n",
            " 0.08588578 0.10053844 0.10256863 0.09886133 0.10115632 0.0818254\n",
            " 0.08482655 0.09312384 0.09127019 0.09091712 0.09118192 0.0926825\n",
            " 0.0903875  0.09471268 0.09683114 0.08932827 0.09330038 0.09303557\n",
            " 0.08703328 0.0903875  0.09462442 0.1040692  0.10424574 0.09197634\n",
            " 0.09577191 0.08615059 0.07458734 0.07750022 0.06681967 0.06117045\n",
            " 0.07282196 0.06946774 0.08888693 0.09418307 0.08994616 0.07688234\n",
            " 0.09047577 0.09992056 0.09709595 0.09109365 0.09277077 0.07741195\n",
            " 0.0792656  0.07802983 0.06708447 0.07617619 0.0767058  0.07423427\n",
            " 0.07352811 0.07370465 0.0729985  0.07591138 0.07317504 0.08879866\n",
            " 0.13276857 0.13276857 0.13276857 0.13276857 0.13276857 0.13276857\n",
            " 0.13276857 0.13276857 0.13276857 0.13276857 0.19069496 0.19320056\n",
            " 0.19955598 0.20868792 0.21944439 0.23093818 0.24258864 0.25405288\n",
            " 0.26514056 0.27574578 0.2858049  0.29527515]\n",
            "22 day output [[0.30412456]]\n",
            "23 day input [0.07997175 0.08006002 0.08579751 0.08950481 0.0903875  0.09312384\n",
            " 0.08085444 0.08579751 0.0889752  0.08014829 0.0866802  0.08924\n",
            " 0.08976962 0.09727249 0.09736076 0.08050137 0.07388119 0.07961868\n",
            " 0.09012269 0.09700768 0.09418307 0.08632713 0.09541884 0.08588578\n",
            " 0.10053844 0.10256863 0.09886133 0.10115632 0.0818254  0.08482655\n",
            " 0.09312384 0.09127019 0.09091712 0.09118192 0.0926825  0.0903875\n",
            " 0.09471268 0.09683114 0.08932827 0.09330038 0.09303557 0.08703328\n",
            " 0.0903875  0.09462442 0.1040692  0.10424574 0.09197634 0.09577191\n",
            " 0.08615059 0.07458734 0.07750022 0.06681967 0.06117045 0.07282196\n",
            " 0.06946774 0.08888693 0.09418307 0.08994616 0.07688234 0.09047577\n",
            " 0.09992056 0.09709595 0.09109365 0.09277077 0.07741195 0.0792656\n",
            " 0.07802983 0.06708447 0.07617619 0.0767058  0.07423427 0.07352811\n",
            " 0.07370465 0.0729985  0.07591138 0.07317504 0.08879866 0.13276857\n",
            " 0.13276857 0.13276857 0.13276857 0.13276857 0.13276857 0.13276857\n",
            " 0.13276857 0.13276857 0.13276857 0.19069496 0.19320056 0.19955598\n",
            " 0.20868792 0.21944439 0.23093818 0.24258864 0.25405288 0.26514056\n",
            " 0.27574578 0.2858049  0.29527515 0.30412456]\n",
            "23 day output [[0.31232968]]\n",
            "24 day input [0.08006002 0.08579751 0.08950481 0.0903875  0.09312384 0.08085444\n",
            " 0.08579751 0.0889752  0.08014829 0.0866802  0.08924    0.08976962\n",
            " 0.09727249 0.09736076 0.08050137 0.07388119 0.07961868 0.09012269\n",
            " 0.09700768 0.09418307 0.08632713 0.09541884 0.08588578 0.10053844\n",
            " 0.10256863 0.09886133 0.10115632 0.0818254  0.08482655 0.09312384\n",
            " 0.09127019 0.09091712 0.09118192 0.0926825  0.0903875  0.09471268\n",
            " 0.09683114 0.08932827 0.09330038 0.09303557 0.08703328 0.0903875\n",
            " 0.09462442 0.1040692  0.10424574 0.09197634 0.09577191 0.08615059\n",
            " 0.07458734 0.07750022 0.06681967 0.06117045 0.07282196 0.06946774\n",
            " 0.08888693 0.09418307 0.08994616 0.07688234 0.09047577 0.09992056\n",
            " 0.09709595 0.09109365 0.09277077 0.07741195 0.0792656  0.07802983\n",
            " 0.06708447 0.07617619 0.0767058  0.07423427 0.07352811 0.07370465\n",
            " 0.0729985  0.07591138 0.07317504 0.08879866 0.13276857 0.13276857\n",
            " 0.13276857 0.13276857 0.13276857 0.13276857 0.13276857 0.13276857\n",
            " 0.13276857 0.13276857 0.19069496 0.19320056 0.19955598 0.20868792\n",
            " 0.21944439 0.23093818 0.24258864 0.25405288 0.26514056 0.27574578\n",
            " 0.2858049  0.29527515 0.30412456 0.31232968]\n",
            "24 day output [[0.31987557]]\n",
            "25 day input [0.08579751 0.08950481 0.0903875  0.09312384 0.08085444 0.08579751\n",
            " 0.0889752  0.08014829 0.0866802  0.08924    0.08976962 0.09727249\n",
            " 0.09736076 0.08050137 0.07388119 0.07961868 0.09012269 0.09700768\n",
            " 0.09418307 0.08632713 0.09541884 0.08588578 0.10053844 0.10256863\n",
            " 0.09886133 0.10115632 0.0818254  0.08482655 0.09312384 0.09127019\n",
            " 0.09091712 0.09118192 0.0926825  0.0903875  0.09471268 0.09683114\n",
            " 0.08932827 0.09330038 0.09303557 0.08703328 0.0903875  0.09462442\n",
            " 0.1040692  0.10424574 0.09197634 0.09577191 0.08615059 0.07458734\n",
            " 0.07750022 0.06681967 0.06117045 0.07282196 0.06946774 0.08888693\n",
            " 0.09418307 0.08994616 0.07688234 0.09047577 0.09992056 0.09709595\n",
            " 0.09109365 0.09277077 0.07741195 0.0792656  0.07802983 0.06708447\n",
            " 0.07617619 0.0767058  0.07423427 0.07352811 0.07370465 0.0729985\n",
            " 0.07591138 0.07317504 0.08879866 0.13276857 0.13276857 0.13276857\n",
            " 0.13276857 0.13276857 0.13276857 0.13276857 0.13276857 0.13276857\n",
            " 0.13276857 0.19069496 0.19320056 0.19955598 0.20868792 0.21944439\n",
            " 0.23093818 0.24258864 0.25405288 0.26514056 0.27574578 0.2858049\n",
            " 0.29527515 0.30412456 0.31232968 0.31987557]\n",
            "25 day output [[0.32675627]]\n",
            "26 day input [0.08950481 0.0903875  0.09312384 0.08085444 0.08579751 0.0889752\n",
            " 0.08014829 0.0866802  0.08924    0.08976962 0.09727249 0.09736076\n",
            " 0.08050137 0.07388119 0.07961868 0.09012269 0.09700768 0.09418307\n",
            " 0.08632713 0.09541884 0.08588578 0.10053844 0.10256863 0.09886133\n",
            " 0.10115632 0.0818254  0.08482655 0.09312384 0.09127019 0.09091712\n",
            " 0.09118192 0.0926825  0.0903875  0.09471268 0.09683114 0.08932827\n",
            " 0.09330038 0.09303557 0.08703328 0.0903875  0.09462442 0.1040692\n",
            " 0.10424574 0.09197634 0.09577191 0.08615059 0.07458734 0.07750022\n",
            " 0.06681967 0.06117045 0.07282196 0.06946774 0.08888693 0.09418307\n",
            " 0.08994616 0.07688234 0.09047577 0.09992056 0.09709595 0.09109365\n",
            " 0.09277077 0.07741195 0.0792656  0.07802983 0.06708447 0.07617619\n",
            " 0.0767058  0.07423427 0.07352811 0.07370465 0.0729985  0.07591138\n",
            " 0.07317504 0.08879866 0.13276857 0.13276857 0.13276857 0.13276857\n",
            " 0.13276857 0.13276857 0.13276857 0.13276857 0.13276857 0.13276857\n",
            " 0.19069496 0.19320056 0.19955598 0.20868792 0.21944439 0.23093818\n",
            " 0.24258864 0.25405288 0.26514056 0.27574578 0.2858049  0.29527515\n",
            " 0.30412456 0.31232968 0.31987557 0.32675627]\n",
            "26 day output [[0.3329744]]\n",
            "27 day input [0.0903875  0.09312384 0.08085444 0.08579751 0.0889752  0.08014829\n",
            " 0.0866802  0.08924    0.08976962 0.09727249 0.09736076 0.08050137\n",
            " 0.07388119 0.07961868 0.09012269 0.09700768 0.09418307 0.08632713\n",
            " 0.09541884 0.08588578 0.10053844 0.10256863 0.09886133 0.10115632\n",
            " 0.0818254  0.08482655 0.09312384 0.09127019 0.09091712 0.09118192\n",
            " 0.0926825  0.0903875  0.09471268 0.09683114 0.08932827 0.09330038\n",
            " 0.09303557 0.08703328 0.0903875  0.09462442 0.1040692  0.10424574\n",
            " 0.09197634 0.09577191 0.08615059 0.07458734 0.07750022 0.06681967\n",
            " 0.06117045 0.07282196 0.06946774 0.08888693 0.09418307 0.08994616\n",
            " 0.07688234 0.09047577 0.09992056 0.09709595 0.09109365 0.09277077\n",
            " 0.07741195 0.0792656  0.07802983 0.06708447 0.07617619 0.0767058\n",
            " 0.07423427 0.07352811 0.07370465 0.0729985  0.07591138 0.07317504\n",
            " 0.08879866 0.13276857 0.13276857 0.13276857 0.13276857 0.13276857\n",
            " 0.13276857 0.13276857 0.13276857 0.13276857 0.13276857 0.19069496\n",
            " 0.19320056 0.19955598 0.20868792 0.21944439 0.23093818 0.24258864\n",
            " 0.25405288 0.26514056 0.27574578 0.2858049  0.29527515 0.30412456\n",
            " 0.31232968 0.31987557 0.32675627 0.3329744 ]\n",
            "27 day output [[0.33854112]]\n",
            "28 day input [0.09312384 0.08085444 0.08579751 0.0889752  0.08014829 0.0866802\n",
            " 0.08924    0.08976962 0.09727249 0.09736076 0.08050137 0.07388119\n",
            " 0.07961868 0.09012269 0.09700768 0.09418307 0.08632713 0.09541884\n",
            " 0.08588578 0.10053844 0.10256863 0.09886133 0.10115632 0.0818254\n",
            " 0.08482655 0.09312384 0.09127019 0.09091712 0.09118192 0.0926825\n",
            " 0.0903875  0.09471268 0.09683114 0.08932827 0.09330038 0.09303557\n",
            " 0.08703328 0.0903875  0.09462442 0.1040692  0.10424574 0.09197634\n",
            " 0.09577191 0.08615059 0.07458734 0.07750022 0.06681967 0.06117045\n",
            " 0.07282196 0.06946774 0.08888693 0.09418307 0.08994616 0.07688234\n",
            " 0.09047577 0.09992056 0.09709595 0.09109365 0.09277077 0.07741195\n",
            " 0.0792656  0.07802983 0.06708447 0.07617619 0.0767058  0.07423427\n",
            " 0.07352811 0.07370465 0.0729985  0.07591138 0.07317504 0.08879866\n",
            " 0.13276857 0.13276857 0.13276857 0.13276857 0.13276857 0.13276857\n",
            " 0.13276857 0.13276857 0.13276857 0.13276857 0.19069496 0.19320056\n",
            " 0.19955598 0.20868792 0.21944439 0.23093818 0.24258864 0.25405288\n",
            " 0.26514056 0.27574578 0.2858049  0.29527515 0.30412456 0.31232968\n",
            " 0.31987557 0.32675627 0.3329744  0.33854112]\n",
            "28 day output [[0.343475]]\n",
            "29 day input [0.08085444 0.08579751 0.0889752  0.08014829 0.0866802  0.08924\n",
            " 0.08976962 0.09727249 0.09736076 0.08050137 0.07388119 0.07961868\n",
            " 0.09012269 0.09700768 0.09418307 0.08632713 0.09541884 0.08588578\n",
            " 0.10053844 0.10256863 0.09886133 0.10115632 0.0818254  0.08482655\n",
            " 0.09312384 0.09127019 0.09091712 0.09118192 0.0926825  0.0903875\n",
            " 0.09471268 0.09683114 0.08932827 0.09330038 0.09303557 0.08703328\n",
            " 0.0903875  0.09462442 0.1040692  0.10424574 0.09197634 0.09577191\n",
            " 0.08615059 0.07458734 0.07750022 0.06681967 0.06117045 0.07282196\n",
            " 0.06946774 0.08888693 0.09418307 0.08994616 0.07688234 0.09047577\n",
            " 0.09992056 0.09709595 0.09109365 0.09277077 0.07741195 0.0792656\n",
            " 0.07802983 0.06708447 0.07617619 0.0767058  0.07423427 0.07352811\n",
            " 0.07370465 0.0729985  0.07591138 0.07317504 0.08879866 0.13276857\n",
            " 0.13276857 0.13276857 0.13276857 0.13276857 0.13276857 0.13276857\n",
            " 0.13276857 0.13276857 0.13276857 0.19069496 0.19320056 0.19955598\n",
            " 0.20868792 0.21944439 0.23093818 0.24258864 0.25405288 0.26514056\n",
            " 0.27574578 0.2858049  0.29527515 0.30412456 0.31232968 0.31987557\n",
            " 0.32675627 0.3329744  0.33854112 0.34347501]\n",
            "29 day output [[0.3478007]]\n"
          ]
        }
      ]
    },
    {
      "cell_type": "code",
      "source": [
        "# 14.Vẽ hình\n",
        "\n",
        "train_data_index = pd.RangeIndex(start=0, stop=train_size, step=1)\n",
        "plt.plot(scaler.inverse_transform(data_transform))\n",
        "test_data_index = pd.RangeIndex(start=train_size, stop=train_size+test_size, step=1)\n",
        "plt.plot(test_data_index,scaler.inverse_transform(test_data))\n",
        "test_data_index = pd.RangeIndex(start=train_size+101, stop=train_size+test_size, step=1)\n",
        "plt.plot(test_data_index,(y_pred))\n",
        "val_data_index = pd.RangeIndex(start=train_size+test_size, stop=train_size+test_size+val_size, step=1)\n",
        "plt.plot(val_data_index,scaler.inverse_transform(val_data))\n",
        "val_data_index = pd.RangeIndex(start=train_size+test_size+101, stop=train_size+test_size+val_size, step=1)\n",
        "plt.plot(val_data_index,y_pred_val)\n",
        "prediect_data_index = pd.RangeIndex(start=len(df1)-1, stop=len(df1)+29, step=1)\n",
        "plt.plot(prediect_data_index,scaler.inverse_transform(lst_output))\n",
        "plt.legend(['Train','Test','Predict','Validate','ValidatePred','Predict30days'])\n",
        "plt.show()"
      ],
      "metadata": {
        "colab": {
          "base_uri": "https://localhost:8080/",
          "height": 430
        },
        "outputId": "d3f74f11-d221-4f3c-d67e-99eb27b9b1c9",
        "id": "tzqESGxLGcni"
      },
      "execution_count": 349,
      "outputs": [
        {
          "output_type": "display_data",
          "data": {
            "text/plain": [
              "<Figure size 640x480 with 1 Axes>"
            ],
            "image/png": "[encoded data removed]"
          },
          "metadata": {}
        }
      ]
    },
    {
      "cell_type": "markdown",
      "source": [
        "#**MAA_HISTORICAL_DATA**"
      ],
      "metadata": {
        "id": "xRXYcK9I9O1t"
      }
    },
    {
      "cell_type": "markdown",
      "source": [
        "### **Thuật toán AAE**"
      ],
      "metadata": {
        "id": "rnN8tm8z9puu"
      }
    },
    {
      "cell_type": "code",
      "execution_count": null,
      "metadata": {
        "colab": {
          "base_uri": "https://localhost:8080/"
        },
        "outputId": "69c3e7ce-cdfc-456d-bc31-b6ec049cdad9",
        "id": "fTPrhY0F9pu1"
      },
      "outputs": [
        {
          "output_type": "stream",
          "name": "stdout",
          "text": [
            "Drive already mounted at /content/drive; to attempt to forcibly remount, call drive.mount(\"/content/drive\", force_remount=True).\n"
          ]
        }
      ],
      "source": [
        "from google.colab import drive\n",
        "drive.mount('/content/drive')"
      ]
    },
    {
      "cell_type": "code",
      "source": [
        "import pandas as pd\n",
        "import numpy as np\n",
        "import math\n",
        "import itertools\n",
        "\n",
        "import torchvision.transforms as transforms\n",
        "from torchvision.utils import save_image\n",
        "\n",
        "from torch.utils.data import DataLoader\n",
        "from torchvision import datasets\n",
        "from torch.autograd import Variable\n",
        "\n",
        "import torch.nn as nn\n",
        "import torch.nn.functional as F\n",
        "import torch"
      ],
      "metadata": {
        "id": "jsm4cmlr9pu1"
      },
      "execution_count": null,
      "outputs": []
    },
    {
      "cell_type": "code",
      "source": [
        "dataset = pd.read_csv('/content/MAA-Historical-Data.csv')"
      ],
      "metadata": {
        "id": "sUAKx6Ma9pu2"
      },
      "execution_count": null,
      "outputs": []
    },
    {
      "cell_type": "code",
      "source": [
        "scaler=MinMaxScaler(feature_range=(0,1))\n",
        "\n",
        "df1 = dataset.reset_index()['Price']\n",
        "\n",
        "df1=scaler.fit_transform(np.array(df1).reshape(-1,1))\n",
        "\n",
        "# 4. Chia train test\n",
        "data_transform_size = int(0.7 * len(df1))\n",
        "test_size = int(0.2 * len(df1))\n",
        "val_size = len(df1) - data_transform_size - test_size\n",
        "\n",
        "data_transform = df1[:data_transform_size]\n",
        "test_data = df1[data_transform_size:data_transform_size+test_size]\n",
        "val_data = df1[data_transform_size+test_size:]"
      ],
      "metadata": {
        "id": "nrRJuYdX9pu2"
      },
      "execution_count": null,
      "outputs": []
    },
    {
      "cell_type": "code",
      "source": [],
      "metadata": {
        "id": "3LE6GXrC9pu2"
      },
      "execution_count": null,
      "outputs": []
    },
    {
      "cell_type": "code",
      "source": [
        "data_transform"
      ],
      "metadata": {
        "colab": {
          "base_uri": "https://localhost:8080/"
        },
        "outputId": "f85949d6-69eb-44df-c13e-6476bb1eec0b",
        "id": "0-c8dDEW9pu2"
      },
      "execution_count": null,
      "outputs": [
        {
          "output_type": "execute_result",
          "data": {
            "text/plain": [
              "array([[0.45582648],\n",
              "       [0.4299924 ],\n",
              "       [0.43095945],\n",
              "       ...,\n",
              "       [0.16626373],\n",
              "       [0.16992471],\n",
              "       [0.16453685]])"
            ]
          },
          "metadata": {},
          "execution_count": 257
        }
      ]
    },
    {
      "cell_type": "code",
      "source": [],
      "metadata": {
        "id": "jhOAaDoq9pu2"
      },
      "execution_count": null,
      "outputs": []
    },
    {
      "cell_type": "code",
      "source": [
        "data_transform.shape"
      ],
      "metadata": {
        "colab": {
          "base_uri": "https://localhost:8080/"
        },
        "outputId": "5c5395d6-b4f8-4c15-bfcd-75372e8bcaeb",
        "id": "oRWMQgp59pu2"
      },
      "execution_count": null,
      "outputs": [
        {
          "output_type": "execute_result",
          "data": {
            "text/plain": [
              "(1057, 1)"
            ]
          },
          "metadata": {},
          "execution_count": 258
        }
      ]
    },
    {
      "cell_type": "code",
      "source": [
        "data_transform"
      ],
      "metadata": {
        "colab": {
          "base_uri": "https://localhost:8080/"
        },
        "outputId": "2093aef3-1cba-490e-d9c4-d855ebf4ec87",
        "id": "T2rFxtBl9pu2"
      },
      "execution_count": null,
      "outputs": [
        {
          "output_type": "execute_result",
          "data": {
            "text/plain": [
              "array([[0.45582648],\n",
              "       [0.4299924 ],\n",
              "       [0.43095945],\n",
              "       ...,\n",
              "       [0.16626373],\n",
              "       [0.16992471],\n",
              "       [0.16453685]])"
            ]
          },
          "metadata": {},
          "execution_count": 259
        }
      ]
    },
    {
      "cell_type": "code",
      "source": [
        "import numpy as np\n",
        "import torch\n",
        "import torch.nn as nn\n",
        "import torch.optim as optim\n",
        "from torch.utils.data import DataLoader, TensorDataset\n",
        "from torchvision import datasets\n",
        "from torch.autograd import Variable\n",
        "import torch.nn as nn\n",
        "import torch.nn.functional as F\n",
        "import torch\n",
        "\n",
        "# dùng 'gpu'.\n",
        "device = 'cuda' if torch.cuda.is_available() else 'cpu'\n",
        "Tensor = torch.cuda.FloatTensor if torch.cuda.is_available() else torch.FloatTensor\n",
        "\n",
        "# số chiều không gian tiềm ẩn\n",
        "latent_dim = 1\n",
        "\n",
        "# số chiều vector đầu vào.\n",
        "embedding = 1\n",
        "\n",
        "# sampling từ trung bình và độ lệch chuẩn.\n",
        "def reparameterization(mu, logvar):\n",
        "    std = torch.exp(logvar / 2)\n",
        "    sampled_z = Variable(torch.randn((mu.size(0), latent_dim))).to(device)\n",
        "    z = sampled_z * std + mu\n",
        "    return z\n",
        "\n",
        "class Encoder(nn.Module):\n",
        "    def __init__(self, embedding):\n",
        "        super(Encoder, self).__init__()\n",
        "\n",
        "        self.model = nn.Sequential(\n",
        "            nn.Linear(embedding, 512),\n",
        "            nn.LeakyReLU(0.2, inplace=True),\n",
        "            nn.Linear(512, 512),\n",
        "            nn.BatchNorm1d(512),\n",
        "            nn.LeakyReLU(0.2, inplace=True),\n",
        "        )\n",
        "\n",
        "        self.mu = nn.Linear(512, latent_dim)\n",
        "        self.logvar = nn.Linear(512, latent_dim)\n",
        "\n",
        "    def forward(self, img):\n",
        "        img_flat = img.view(img.shape[0], -1)\n",
        "        x = self.model(img_flat)\n",
        "        mu = self.mu(x)\n",
        "        logvar = self.logvar(x)\n",
        "        z = reparameterization(mu, logvar)\n",
        "        return z\n",
        "\n",
        "\n",
        "class Decoder(nn.Module):\n",
        "    def __init__(self, embedding):\n",
        "        super(Decoder, self).__init__()\n",
        "\n",
        "        self.model = nn.Sequential(\n",
        "            nn.Linear(latent_dim, 512),\n",
        "            nn.LeakyReLU(0.2, inplace=True),\n",
        "            nn.Linear(512, 512),\n",
        "            nn.BatchNorm1d(512),\n",
        "            nn.LeakyReLU(0.2, inplace=True),\n",
        "            nn.Linear(512, embedding),\n",
        "            nn.Tanh(),\n",
        "        )\n",
        "\n",
        "    def forward(self, z):\n",
        "        img_flat = self.model(z)\n",
        "        img = img_flat.view(img_flat.shape[0], -1)\n",
        "        return img\n",
        "\n",
        "\n",
        "class Discriminator(nn.Module):\n",
        "    def __init__(self):\n",
        "        super(Discriminator, self).__init__()\n",
        "\n",
        "        self.model = nn.Sequential(\n",
        "            nn.Linear(latent_dim, 512),\n",
        "            nn.LeakyReLU(0.2, inplace=True),\n",
        "            nn.Linear(512, 256),\n",
        "            nn.LeakyReLU(0.2, inplace=True),\n",
        "            nn.Linear(256, 1),\n",
        "            nn.Sigmoid(),\n",
        "        )\n",
        "\n",
        "    def forward(self, z):\n",
        "        validity = self.model(z)\n",
        "        return validity\n",
        "\n",
        "\n"
      ],
      "metadata": {
        "id": "_YXgwkTw9pu2"
      },
      "execution_count": null,
      "outputs": []
    },
    {
      "cell_type": "code",
      "source": [
        "batch_size=512\n",
        "n_epochs = 100"
      ],
      "metadata": {
        "id": "mXaSaahh9pu3"
      },
      "execution_count": null,
      "outputs": []
    },
    {
      "cell_type": "code",
      "source": [
        "# Chuẩn bị dữ liệu huấn luyện (torch dùng đc gpu, numpy -> cpu)\n",
        "tensor_data = torch.from_numpy(data_transform).float()  # Chuyển đổi thành Tensor và kiểu dữ liệu float\n",
        "\n",
        "# Tạo DataLoader\n",
        "data_loader = DataLoader(tensor_data, batch_size=batch_size, shuffle=False)"
      ],
      "metadata": {
        "id": "0K3PFGuB9pu3"
      },
      "execution_count": null,
      "outputs": []
    },
    {
      "cell_type": "code",
      "source": [
        "# Use binary cross-entropy loss\n",
        "adversarial_loss = torch.nn.BCELoss().to(device)\n",
        "pixelwise_loss = torch.nn.L1Loss().to(device)\n",
        "\n",
        "# Initialize generator and discriminator\n",
        "encoder = Encoder(embedding).to(device)\n",
        "decoder = Decoder(embedding).to(device)\n",
        "discriminator = Discriminator().to(device)\n"
      ],
      "metadata": {
        "id": "rwK9obZg9pu3"
      },
      "execution_count": null,
      "outputs": []
    },
    {
      "cell_type": "code",
      "source": [
        "# Optimizers\n",
        "optimizer_G = torch.optim.Adam(\n",
        "    itertools.chain(encoder.parameters(), decoder.parameters()), lr=0.0005\n",
        ")\n",
        "optimizer_D = torch.optim.Adam(discriminator.parameters(), lr=0.00005)"
      ],
      "metadata": {
        "id": "vL3mc5-l9pu3"
      },
      "execution_count": null,
      "outputs": []
    },
    {
      "cell_type": "code",
      "source": [
        "# Khởi tạo list để lưu loss\n",
        "d_losses = []\n",
        "g_losses = []\n",
        "\n",
        "for epoch in range(n_epochs):\n",
        "    for i, imgs in enumerate(data_loader):\n",
        "\n",
        "        # Adversarial ground truths\n",
        "        valid = Variable(Tensor(imgs.shape[0], 1).fill_(1.0), requires_grad=False)\n",
        "        fake = Variable(Tensor(imgs.shape[0], 1).fill_(0.0), requires_grad=False)\n",
        "\n",
        "        # Configure input\n",
        "        real_imgs = Variable(imgs.type(Tensor)).to(device)\n",
        "\n",
        "        # -----------------\n",
        "        #  Train Generator\n",
        "        # -----------------\n",
        "\n",
        "        optimizer_G.zero_grad()\n",
        "        # print(real_imgs.shape)\n",
        "        encoded_imgs = encoder(real_imgs)\n",
        "        decoded_imgs = decoder(encoded_imgs)\n",
        "\n",
        "        # Loss measures generator's ability to fool the discriminator\n",
        "        g_loss = 0.001 * adversarial_loss(discriminator(encoded_imgs), valid) + 0.999 * pixelwise_loss(\n",
        "            decoded_imgs, real_imgs\n",
        "        )\n",
        "\n",
        "        g_loss.backward()\n",
        "        optimizer_G.step()\n",
        "\n",
        "        # ---------------------\n",
        "        #  Train Discriminator\n",
        "        # ---------------------\n",
        "\n",
        "        optimizer_D.zero_grad()\n",
        "\n",
        "        # Sample noise as discriminator ground truth\n",
        "        z = Variable(Tensor(np.random.normal(0, 1, (real_imgs.shape[0], latent_dim))))\n",
        "\n",
        "        # Measure discriminator's ability to classify real from generated samples\n",
        "        real_loss = adversarial_loss(discriminator(z), valid)\n",
        "        fake_loss = adversarial_loss(discriminator(encoded_imgs.detach()), fake)\n",
        "        d_loss = 0.5 * (real_loss + fake_loss)\n",
        "\n",
        "        d_loss.backward()\n",
        "        optimizer_D.step()\n",
        "\n",
        "        d_losses.append(d_loss.item())\n",
        "        g_losses.append(g_loss.item())\n",
        "\n",
        "        if (epoch + 1) % 5 == 0:\n",
        "          print(\n",
        "              \"[Epoch %d/%d] [Batch %d/%d] [D loss: %f] [G loss: %f]\"\n",
        "              % (epoch, n_epochs, i, len(data_loader), d_loss.item(), g_loss.item())\n",
        "          )"
      ],
      "metadata": {
        "colab": {
          "base_uri": "https://localhost:8080/"
        },
        "outputId": "81d1b891-0fc7-40d7-cbf8-d90f8025ba88",
        "id": "5H_YPu1h9pu3"
      },
      "execution_count": null,
      "outputs": [
        {
          "output_type": "stream",
          "name": "stdout",
          "text": [
            "[Epoch 4/100] [Batch 0/3] [D loss: 0.653315] [G loss: 0.277914]\n",
            "[Epoch 4/100] [Batch 1/3] [D loss: 0.649163] [G loss: 0.143642]\n",
            "[Epoch 4/100] [Batch 2/3] [D loss: 0.661672] [G loss: 0.349421]\n",
            "[Epoch 9/100] [Batch 0/3] [D loss: 0.607470] [G loss: 0.153119]\n",
            "[Epoch 9/100] [Batch 1/3] [D loss: 0.619865] [G loss: 0.107805]\n",
            "[Epoch 9/100] [Batch 2/3] [D loss: 0.690751] [G loss: 0.087449]\n",
            "[Epoch 14/100] [Batch 0/3] [D loss: 0.575606] [G loss: 0.118537]\n",
            "[Epoch 14/100] [Batch 1/3] [D loss: 0.587265] [G loss: 0.071271]\n",
            "[Epoch 14/100] [Batch 2/3] [D loss: 0.629100] [G loss: 0.220164]\n",
            "[Epoch 19/100] [Batch 0/3] [D loss: 0.533717] [G loss: 0.133015]\n",
            "[Epoch 19/100] [Batch 1/3] [D loss: 0.569486] [G loss: 0.116040]\n",
            "[Epoch 19/100] [Batch 2/3] [D loss: 0.671073] [G loss: 0.107448]\n",
            "[Epoch 24/100] [Batch 0/3] [D loss: 0.489879] [G loss: 0.079481]\n",
            "[Epoch 24/100] [Batch 1/3] [D loss: 0.516770] [G loss: 0.181773]\n",
            "[Epoch 24/100] [Batch 2/3] [D loss: 0.616812] [G loss: 0.151614]\n",
            "[Epoch 29/100] [Batch 0/3] [D loss: 0.459294] [G loss: 0.071479]\n",
            "[Epoch 29/100] [Batch 1/3] [D loss: 0.490124] [G loss: 0.073372]\n",
            "[Epoch 29/100] [Batch 2/3] [D loss: 0.559161] [G loss: 0.121505]\n",
            "[Epoch 34/100] [Batch 0/3] [D loss: 0.426602] [G loss: 0.076490]\n",
            "[Epoch 34/100] [Batch 1/3] [D loss: 0.483951] [G loss: 0.067762]\n",
            "[Epoch 34/100] [Batch 2/3] [D loss: 0.492575] [G loss: 0.136894]\n",
            "[Epoch 39/100] [Batch 0/3] [D loss: 0.407469] [G loss: 0.132408]\n",
            "[Epoch 39/100] [Batch 1/3] [D loss: 0.474156] [G loss: 0.130376]\n",
            "[Epoch 39/100] [Batch 2/3] [D loss: 0.559379] [G loss: 0.076408]\n",
            "[Epoch 44/100] [Batch 0/3] [D loss: 0.418540] [G loss: 0.061612]\n",
            "[Epoch 44/100] [Batch 1/3] [D loss: 0.450238] [G loss: 0.117803]\n",
            "[Epoch 44/100] [Batch 2/3] [D loss: 0.437919] [G loss: 0.190485]\n",
            "[Epoch 49/100] [Batch 0/3] [D loss: 0.380343] [G loss: 0.077982]\n",
            "[Epoch 49/100] [Batch 1/3] [D loss: 0.480698] [G loss: 0.112369]\n",
            "[Epoch 49/100] [Batch 2/3] [D loss: 0.584481] [G loss: 0.073436]\n",
            "[Epoch 54/100] [Batch 0/3] [D loss: 0.368937] [G loss: 0.073970]\n",
            "[Epoch 54/100] [Batch 1/3] [D loss: 0.446906] [G loss: 0.073902]\n",
            "[Epoch 54/100] [Batch 2/3] [D loss: 0.511624] [G loss: 0.148799]\n",
            "[Epoch 59/100] [Batch 0/3] [D loss: 0.388997] [G loss: 0.056975]\n",
            "[Epoch 59/100] [Batch 1/3] [D loss: 0.481047] [G loss: 0.134955]\n",
            "[Epoch 59/100] [Batch 2/3] [D loss: 0.523288] [G loss: 0.156781]\n",
            "[Epoch 64/100] [Batch 0/3] [D loss: 0.375955] [G loss: 0.052973]\n",
            "[Epoch 64/100] [Batch 1/3] [D loss: 0.449059] [G loss: 0.081226]\n",
            "[Epoch 64/100] [Batch 2/3] [D loss: 0.531687] [G loss: 0.137842]\n",
            "[Epoch 69/100] [Batch 0/3] [D loss: 0.357756] [G loss: 0.093803]\n",
            "[Epoch 69/100] [Batch 1/3] [D loss: 0.447981] [G loss: 0.174108]\n",
            "[Epoch 69/100] [Batch 2/3] [D loss: 0.463656] [G loss: 0.095409]\n",
            "[Epoch 74/100] [Batch 0/3] [D loss: 0.394524] [G loss: 0.065631]\n",
            "[Epoch 74/100] [Batch 1/3] [D loss: 0.468375] [G loss: 0.143105]\n",
            "[Epoch 74/100] [Batch 2/3] [D loss: 0.602707] [G loss: 0.122133]\n",
            "[Epoch 79/100] [Batch 0/3] [D loss: 0.393367] [G loss: 0.082493]\n",
            "[Epoch 79/100] [Batch 1/3] [D loss: 0.467380] [G loss: 0.113364]\n",
            "[Epoch 79/100] [Batch 2/3] [D loss: 0.555842] [G loss: 0.089009]\n",
            "[Epoch 84/100] [Batch 0/3] [D loss: 0.396453] [G loss: 0.048351]\n",
            "[Epoch 84/100] [Batch 1/3] [D loss: 0.463745] [G loss: 0.075194]\n",
            "[Epoch 84/100] [Batch 2/3] [D loss: 0.521177] [G loss: 0.055876]\n",
            "[Epoch 89/100] [Batch 0/3] [D loss: 0.374371] [G loss: 0.069913]\n",
            "[Epoch 89/100] [Batch 1/3] [D loss: 0.488422] [G loss: 0.119123]\n",
            "[Epoch 89/100] [Batch 2/3] [D loss: 0.557890] [G loss: 0.144446]\n",
            "[Epoch 94/100] [Batch 0/3] [D loss: 0.378721] [G loss: 0.055196]\n",
            "[Epoch 94/100] [Batch 1/3] [D loss: 0.485515] [G loss: 0.080105]\n",
            "[Epoch 94/100] [Batch 2/3] [D loss: 0.578316] [G loss: 0.173160]\n",
            "[Epoch 99/100] [Batch 0/3] [D loss: 0.377498] [G loss: 0.089805]\n",
            "[Epoch 99/100] [Batch 1/3] [D loss: 0.459709] [G loss: 0.130166]\n",
            "[Epoch 99/100] [Batch 2/3] [D loss: 0.497937] [G loss: 0.071117]\n"
          ]
        }
      ]
    },
    {
      "cell_type": "code",
      "source": [
        "import matplotlib.pyplot as plt\n",
        "# Vẽ biểu đồ Discriminator Loss\n",
        "plt.plot(range(len(d_losses)), d_losses, label='Discriminator Loss')\n",
        "plt.xlabel('Iterations')\n",
        "plt.ylabel('Loss')\n",
        "plt.legend()\n",
        "plt.title('Discriminator Loss')\n",
        "plt.show()\n"
      ],
      "metadata": {
        "colab": {
          "base_uri": "https://localhost:8080/",
          "height": 472
        },
        "outputId": "fceac052-67c5-481b-c077-4015ce9292f5",
        "id": "BvORsuEf9pu4"
      },
      "execution_count": null,
      "outputs": [
        {
          "output_type": "display_data",
          "data": {
            "text/plain": [
              "<Figure size 640x480 with 1 Axes>"
            ],
            "image/png": "[encoded data removed]"
          },
          "metadata": {}
        }
      ]
    },
    {
      "cell_type": "code",
      "source": [
        "# Vẽ biểu đồ Generator Loss\n",
        "plt.plot(range(len(g_losses)), g_losses, label='Generator Loss')\n",
        "plt.xlabel('Iterations')\n",
        "plt.ylabel('Loss')\n",
        "plt.legend()\n",
        "plt.title('Generator Loss')\n",
        "plt.show()"
      ],
      "metadata": {
        "colab": {
          "base_uri": "https://localhost:8080/",
          "height": 472
        },
        "outputId": "a102a6e2-bd7f-47a9-fc94-a4da7789e42d",
        "id": "XXZSTdaD9pu4"
      },
      "execution_count": null,
      "outputs": [
        {
          "output_type": "display_data",
          "data": {
            "text/plain": [
              "<Figure size 640x480 with 1 Axes>"
            ],
            "image/png": "[encoded data removed]"
          },
          "metadata": {}
        }
      ]
    },
    {
      "cell_type": "code",
      "source": [
        "# Chuyển đổi dữ liệu thành tensor\n",
        "tensor_data = torch.tensor(data_transform, dtype=torch.float32).to(device)\n",
        "latent_vectors = encoder(tensor_data)\n",
        "\n",
        "# reconstructed_data = decoder(latent_vectors)\n",
        "\n",
        "# # Chuyển đổi dữ liệu mới thành dạng ban đầu\n",
        "# generated_data = reconstructed_data.cpu().detach().numpy()\n"
      ],
      "metadata": {
        "id": "2ovHMp749pu4"
      },
      "execution_count": null,
      "outputs": []
    },
    {
      "cell_type": "markdown",
      "source": [
        "### **Thuật toán LSTM**"
      ],
      "metadata": {
        "id": "XwsIP-d_9pu4"
      }
    },
    {
      "cell_type": "code",
      "source": [
        "# 1. Import thư viện cần thiết\n",
        "import numpy as np\n",
        "import pandas as pd\n",
        "import matplotlib.pyplot as plt\n",
        "from sklearn.preprocessing import MinMaxScaler\n",
        "from keras.models import Sequential\n",
        "from keras.layers import Dense, LSTM"
      ],
      "metadata": {
        "id": "lmqf8Lqh9pu4"
      },
      "execution_count": null,
      "outputs": []
    },
    {
      "cell_type": "code",
      "source": [
        "# 4. Chia train test\n",
        "train_size = len(latent_vectors)\n",
        "train_data = latent_vectors\n"
      ],
      "metadata": {
        "id": "8jAUDO2c9pu4"
      },
      "execution_count": null,
      "outputs": []
    },
    {
      "cell_type": "code",
      "source": [
        "scaler=MinMaxScaler(feature_range=(0,1))\n",
        "train_data=scaler.fit_transform(np.array(train_data.detach().numpy()).reshape(-1,1))"
      ],
      "metadata": {
        "id": "ah9FBv7l9pu4"
      },
      "execution_count": null,
      "outputs": []
    },
    {
      "cell_type": "code",
      "source": [
        "# 5. Hàm Create Dataset\n",
        "import numpy\n",
        "# convert an array of values into a dataset matrix\n",
        "def create_dataset(dataset, time_step=1):\n",
        "\tdataX, dataY = [], []\n",
        "\tfor i in range(len(dataset)-time_step-1):\n",
        "\t\ta = dataset[i:(i+time_step), 0]   ###i=0, X=0,1,2,3-----99   Y=100 \n",
        "\t\tdataX.append(a)\n",
        "\t\tdataY.append(dataset[i + time_step, 0])\n",
        "\treturn numpy.array(dataX), numpy.array(dataY)"
      ],
      "metadata": {
        "id": "wDGKVZ7E9pu5"
      },
      "execution_count": null,
      "outputs": []
    },
    {
      "cell_type": "code",
      "source": [
        "#6. Reshape into X=t,t+1,t+2..t+99 and Y=t+100\n",
        "\n",
        "time_step = 100\n",
        "X_train, y_train = create_dataset(train_data, time_step)\n",
        "X_val, yval = create_dataset(val_data, time_step)\n",
        "X_test, ytest = create_dataset(test_data, time_step)"
      ],
      "metadata": {
        "id": "G2A2zg3f9pu5"
      },
      "execution_count": null,
      "outputs": []
    },
    {
      "cell_type": "code",
      "source": [
        "# 7. Reshape input to be [samples, time steps, features] which is required for LSTM\n",
        "X_train =X_train.reshape(X_train.shape[0],X_train.shape[1] , 1)\n",
        "X_test = X_test.reshape(X_test.shape[0],X_test.shape[1] , 1)\n",
        "X_val = X_val.reshape(X_val.shape[0],X_val.shape[1] , 1)"
      ],
      "metadata": {
        "id": "55ULFrm19pu5"
      },
      "execution_count": null,
      "outputs": []
    },
    {
      "cell_type": "code",
      "source": [
        "# 8. Define LSTM Model\n",
        "\n",
        "model=Sequential()\n",
        "model.add(LSTM(50,return_sequences=True,input_shape=(100,1)))\n",
        "model.add(LSTM(50,return_sequences=True))\n",
        "model.add(LSTM(50))\n",
        "model.add(Dense(1))\n",
        "model.compile(loss='mean_squared_error',optimizer='adam')"
      ],
      "metadata": {
        "id": "evhDVmh79pu5"
      },
      "execution_count": null,
      "outputs": []
    },
    {
      "cell_type": "code",
      "source": [
        "# 9. Fit mô hình với dữ liệu train\n",
        "model.fit(X_train,y_train,validation_data=(X_test,ytest),epochs=100,batch_size=64,verbose=1)"
      ],
      "metadata": {
        "colab": {
          "base_uri": "https://localhost:8080/"
        },
        "outputId": "d7e1f192-7954-4165-bbd9-11f98b5fc6ed",
        "id": "9yEoljI79pu5"
      },
      "execution_count": null,
      "outputs": [
        {
          "output_type": "stream",
          "name": "stdout",
          "text": [
            "Epoch 1/100\n",
            "15/15 [==============================] - 13s 377ms/step - loss: 0.0521 - val_loss: 0.0069\n",
            "Epoch 2/100\n",
            "15/15 [==============================] - 3s 204ms/step - loss: 0.0073 - val_loss: 0.0211\n",
            "Epoch 3/100\n",
            "15/15 [==============================] - 5s 326ms/step - loss: 0.0039 - val_loss: 0.0256\n",
            "Epoch 4/100\n",
            "15/15 [==============================] - 3s 210ms/step - loss: 0.0037 - val_loss: 0.0227\n",
            "Epoch 5/100\n",
            "15/15 [==============================] - 3s 205ms/step - loss: 0.0034 - val_loss: 0.0198\n",
            "Epoch 6/100\n",
            "15/15 [==============================] - 3s 204ms/step - loss: 0.0033 - val_loss: 0.0186\n",
            "Epoch 7/100\n",
            "15/15 [==============================] - 5s 315ms/step - loss: 0.0033 - val_loss: 0.0188\n",
            "Epoch 8/100\n",
            "15/15 [==============================] - 3s 224ms/step - loss: 0.0033 - val_loss: 0.0174\n",
            "Epoch 9/100\n",
            "15/15 [==============================] - 3s 206ms/step - loss: 0.0033 - val_loss: 0.0168\n",
            "Epoch 10/100\n",
            "15/15 [==============================] - 3s 202ms/step - loss: 0.0033 - val_loss: 0.0152\n",
            "Epoch 11/100\n",
            "15/15 [==============================] - 4s 277ms/step - loss: 0.0032 - val_loss: 0.0134\n",
            "Epoch 12/100\n",
            "15/15 [==============================] - 4s 264ms/step - loss: 0.0032 - val_loss: 0.0121\n",
            "Epoch 13/100\n",
            "15/15 [==============================] - 3s 205ms/step - loss: 0.0033 - val_loss: 0.0106\n",
            "Epoch 14/100\n",
            "15/15 [==============================] - 3s 203ms/step - loss: 0.0034 - val_loss: 0.0109\n",
            "Epoch 15/100\n",
            "15/15 [==============================] - 4s 251ms/step - loss: 0.0032 - val_loss: 0.0105\n",
            "Epoch 16/100\n",
            "15/15 [==============================] - 4s 284ms/step - loss: 0.0033 - val_loss: 0.0093\n",
            "Epoch 17/100\n",
            "15/15 [==============================] - 3s 203ms/step - loss: 0.0032 - val_loss: 0.0082\n",
            "Epoch 18/100\n",
            "15/15 [==============================] - 3s 203ms/step - loss: 0.0031 - val_loss: 0.0069\n",
            "Epoch 19/100\n",
            "15/15 [==============================] - 3s 219ms/step - loss: 0.0032 - val_loss: 0.0070\n",
            "Epoch 20/100\n",
            "15/15 [==============================] - 5s 314ms/step - loss: 0.0031 - val_loss: 0.0061\n",
            "Epoch 21/100\n",
            "15/15 [==============================] - 3s 204ms/step - loss: 0.0031 - val_loss: 0.0054\n",
            "Epoch 22/100\n",
            "15/15 [==============================] - 3s 206ms/step - loss: 0.0032 - val_loss: 0.0058\n",
            "Epoch 23/100\n",
            "15/15 [==============================] - 3s 205ms/step - loss: 0.0032 - val_loss: 0.0039\n",
            "Epoch 24/100\n",
            "15/15 [==============================] - 6s 413ms/step - loss: 0.0032 - val_loss: 0.0051\n",
            "Epoch 25/100\n",
            "15/15 [==============================] - 3s 207ms/step - loss: 0.0031 - val_loss: 0.0036\n",
            "Epoch 26/100\n",
            "15/15 [==============================] - 4s 246ms/step - loss: 0.0033 - val_loss: 0.0049\n",
            "Epoch 27/100\n",
            "15/15 [==============================] - 4s 260ms/step - loss: 0.0033 - val_loss: 0.0041\n",
            "Epoch 28/100\n",
            "15/15 [==============================] - 4s 283ms/step - loss: 0.0031 - val_loss: 0.0034\n",
            "Epoch 29/100\n",
            "15/15 [==============================] - 3s 207ms/step - loss: 0.0031 - val_loss: 0.0039\n",
            "Epoch 30/100\n",
            "15/15 [==============================] - 3s 204ms/step - loss: 0.0032 - val_loss: 0.0032\n",
            "Epoch 31/100\n",
            "15/15 [==============================] - 3s 226ms/step - loss: 0.0034 - val_loss: 0.0033\n",
            "Epoch 32/100\n",
            "15/15 [==============================] - 5s 310ms/step - loss: 0.0036 - val_loss: 0.0045\n",
            "Epoch 33/100\n",
            "15/15 [==============================] - 3s 203ms/step - loss: 0.0033 - val_loss: 0.0040\n",
            "Epoch 34/100\n",
            "15/15 [==============================] - 3s 203ms/step - loss: 0.0032 - val_loss: 0.0040\n",
            "Epoch 35/100\n",
            "15/15 [==============================] - 3s 203ms/step - loss: 0.0031 - val_loss: 0.0039\n",
            "Epoch 36/100\n",
            "15/15 [==============================] - 5s 340ms/step - loss: 0.0031 - val_loss: 0.0039\n",
            "Epoch 37/100\n",
            "15/15 [==============================] - 3s 206ms/step - loss: 0.0031 - val_loss: 0.0033\n",
            "Epoch 38/100\n",
            "15/15 [==============================] - 3s 205ms/step - loss: 0.0031 - val_loss: 0.0036\n",
            "Epoch 39/100\n",
            "15/15 [==============================] - 3s 202ms/step - loss: 0.0031 - val_loss: 0.0034\n",
            "Epoch 40/100\n",
            "15/15 [==============================] - 5s 323ms/step - loss: 0.0032 - val_loss: 0.0033\n",
            "Epoch 41/100\n",
            "15/15 [==============================] - 3s 210ms/step - loss: 0.0032 - val_loss: 0.0031\n",
            "Epoch 42/100\n",
            "15/15 [==============================] - 3s 205ms/step - loss: 0.0032 - val_loss: 0.0029\n",
            "Epoch 43/100\n",
            "15/15 [==============================] - 3s 205ms/step - loss: 0.0031 - val_loss: 0.0027\n",
            "Epoch 44/100\n",
            "15/15 [==============================] - 4s 294ms/step - loss: 0.0032 - val_loss: 0.0029\n",
            "Epoch 45/100\n",
            "15/15 [==============================] - 4s 243ms/step - loss: 0.0032 - val_loss: 0.0032\n",
            "Epoch 46/100\n",
            "15/15 [==============================] - 3s 207ms/step - loss: 0.0031 - val_loss: 0.0030\n",
            "Epoch 47/100\n",
            "15/15 [==============================] - 3s 204ms/step - loss: 0.0032 - val_loss: 0.0027\n",
            "Epoch 48/100\n",
            "15/15 [==============================] - 4s 269ms/step - loss: 0.0031 - val_loss: 0.0028\n",
            "Epoch 49/100\n",
            "15/15 [==============================] - 4s 268ms/step - loss: 0.0032 - val_loss: 0.0031\n",
            "Epoch 50/100\n",
            "15/15 [==============================] - 3s 206ms/step - loss: 0.0033 - val_loss: 0.0035\n",
            "Epoch 51/100\n",
            "15/15 [==============================] - 3s 204ms/step - loss: 0.0032 - val_loss: 0.0032\n",
            "Epoch 52/100\n",
            "15/15 [==============================] - 4s 242ms/step - loss: 0.0031 - val_loss: 0.0033\n",
            "Epoch 53/100\n",
            "15/15 [==============================] - 4s 296ms/step - loss: 0.0031 - val_loss: 0.0028\n",
            "Epoch 54/100\n",
            "15/15 [==============================] - 3s 203ms/step - loss: 0.0032 - val_loss: 0.0034\n",
            "Epoch 55/100\n",
            "15/15 [==============================] - 3s 203ms/step - loss: 0.0032 - val_loss: 0.0036\n",
            "Epoch 56/100\n",
            "15/15 [==============================] - 3s 215ms/step - loss: 0.0031 - val_loss: 0.0030\n",
            "Epoch 57/100\n",
            "15/15 [==============================] - 5s 321ms/step - loss: 0.0031 - val_loss: 0.0034\n",
            "Epoch 58/100\n",
            "15/15 [==============================] - 3s 204ms/step - loss: 0.0031 - val_loss: 0.0036\n",
            "Epoch 59/100\n",
            "15/15 [==============================] - 3s 207ms/step - loss: 0.0031 - val_loss: 0.0028\n",
            "Epoch 60/100\n",
            "15/15 [==============================] - 3s 205ms/step - loss: 0.0032 - val_loss: 0.0031\n",
            "Epoch 61/100\n",
            "15/15 [==============================] - 5s 341ms/step - loss: 0.0031 - val_loss: 0.0029\n",
            "Epoch 62/100\n",
            "15/15 [==============================] - 3s 205ms/step - loss: 0.0031 - val_loss: 0.0033\n",
            "Epoch 63/100\n",
            "15/15 [==============================] - 3s 204ms/step - loss: 0.0034 - val_loss: 0.0036\n",
            "Epoch 64/100\n",
            "15/15 [==============================] - 3s 204ms/step - loss: 0.0034 - val_loss: 0.0046\n",
            "Epoch 65/100\n",
            "15/15 [==============================] - 5s 317ms/step - loss: 0.0032 - val_loss: 0.0037\n",
            "Epoch 66/100\n",
            "15/15 [==============================] - 3s 217ms/step - loss: 0.0033 - val_loss: 0.0034\n",
            "Epoch 67/100\n",
            "15/15 [==============================] - 3s 206ms/step - loss: 0.0033 - val_loss: 0.0039\n",
            "Epoch 68/100\n",
            "15/15 [==============================] - 3s 204ms/step - loss: 0.0032 - val_loss: 0.0044\n",
            "Epoch 69/100\n",
            "15/15 [==============================] - 4s 292ms/step - loss: 0.0032 - val_loss: 0.0046\n",
            "Epoch 70/100\n",
            "15/15 [==============================] - 4s 244ms/step - loss: 0.0035 - val_loss: 0.0042\n",
            "Epoch 71/100\n",
            "15/15 [==============================] - 3s 205ms/step - loss: 0.0035 - val_loss: 0.0034\n",
            "Epoch 72/100\n",
            "15/15 [==============================] - 3s 205ms/step - loss: 0.0037 - val_loss: 0.0052\n",
            "Epoch 73/100\n",
            "15/15 [==============================] - 4s 258ms/step - loss: 0.0031 - val_loss: 0.0051\n",
            "Epoch 74/100\n",
            "15/15 [==============================] - 4s 276ms/step - loss: 0.0031 - val_loss: 0.0046\n",
            "Epoch 75/100\n",
            "15/15 [==============================] - 3s 206ms/step - loss: 0.0031 - val_loss: 0.0050\n",
            "Epoch 76/100\n",
            "15/15 [==============================] - 3s 205ms/step - loss: 0.0032 - val_loss: 0.0049\n",
            "Epoch 77/100\n",
            "15/15 [==============================] - 3s 229ms/step - loss: 0.0031 - val_loss: 0.0043\n",
            "Epoch 78/100\n",
            "15/15 [==============================] - 5s 305ms/step - loss: 0.0032 - val_loss: 0.0042\n",
            "Epoch 79/100\n",
            "15/15 [==============================] - 3s 208ms/step - loss: 0.0033 - val_loss: 0.0037\n",
            "Epoch 80/100\n",
            "15/15 [==============================] - 3s 203ms/step - loss: 0.0032 - val_loss: 0.0042\n",
            "Epoch 81/100\n",
            "15/15 [==============================] - 3s 209ms/step - loss: 0.0032 - val_loss: 0.0042\n",
            "Epoch 82/100\n",
            "15/15 [==============================] - 5s 330ms/step - loss: 0.0032 - val_loss: 0.0046\n",
            "Epoch 83/100\n",
            "15/15 [==============================] - 3s 207ms/step - loss: 0.0031 - val_loss: 0.0042\n",
            "Epoch 84/100\n",
            "15/15 [==============================] - 3s 205ms/step - loss: 0.0031 - val_loss: 0.0042\n",
            "Epoch 85/100\n",
            "15/15 [==============================] - 3s 204ms/step - loss: 0.0031 - val_loss: 0.0037\n",
            "Epoch 86/100\n",
            "15/15 [==============================] - 5s 335ms/step - loss: 0.0031 - val_loss: 0.0040\n",
            "Epoch 87/100\n",
            "15/15 [==============================] - 3s 205ms/step - loss: 0.0032 - val_loss: 0.0037\n",
            "Epoch 88/100\n",
            "15/15 [==============================] - 3s 207ms/step - loss: 0.0032 - val_loss: 0.0048\n",
            "Epoch 89/100\n",
            "15/15 [==============================] - 3s 205ms/step - loss: 0.0032 - val_loss: 0.0042\n",
            "Epoch 90/100\n",
            "15/15 [==============================] - 5s 310ms/step - loss: 0.0031 - val_loss: 0.0041\n",
            "Epoch 91/100\n",
            "15/15 [==============================] - 4s 227ms/step - loss: 0.0033 - val_loss: 0.0048\n",
            "Epoch 92/100\n",
            "15/15 [==============================] - 3s 205ms/step - loss: 0.0032 - val_loss: 0.0047\n",
            "Epoch 93/100\n",
            "15/15 [==============================] - 3s 205ms/step - loss: 0.0032 - val_loss: 0.0045\n",
            "Epoch 94/100\n",
            "15/15 [==============================] - 4s 290ms/step - loss: 0.0031 - val_loss: 0.0046\n",
            "Epoch 95/100\n",
            "15/15 [==============================] - 4s 246ms/step - loss: 0.0032 - val_loss: 0.0044\n",
            "Epoch 96/100\n",
            "15/15 [==============================] - 3s 207ms/step - loss: 0.0031 - val_loss: 0.0045\n",
            "Epoch 97/100\n",
            "15/15 [==============================] - 3s 204ms/step - loss: 0.0032 - val_loss: 0.0044\n",
            "Epoch 98/100\n",
            "15/15 [==============================] - 4s 261ms/step - loss: 0.0031 - val_loss: 0.0044\n",
            "Epoch 99/100\n",
            "15/15 [==============================] - 4s 274ms/step - loss: 0.0033 - val_loss: 0.0045\n",
            "Epoch 100/100\n",
            "15/15 [==============================] - 3s 206ms/step - loss: 0.0033 - val_loss: 0.0041\n"
          ]
        },
        {
          "output_type": "execute_result",
          "data": {
            "text/plain": [
              "<keras.callbacks.History at 0x7f473a479990>"
            ]
          },
          "metadata": {},
          "execution_count": 277
        }
      ]
    },
    {
      "cell_type": "code",
      "source": [
        "# 10. Dự báo dữ liệu test, val\n",
        "train_predict=model.predict(X_train)\n",
        "y_pred=model.predict(X_test)\n",
        "y_pred_val=model.predict(X_val)\n"
      ],
      "metadata": {
        "colab": {
          "base_uri": "https://localhost:8080/"
        },
        "outputId": "e1fe8e2d-add2-46ec-9c14-eda7c2d2b88b",
        "id": "w6CemAkZ9pu5"
      },
      "execution_count": null,
      "outputs": [
        {
          "output_type": "stream",
          "name": "stdout",
          "text": [
            "30/30 [==============================] - 4s 65ms/step\n",
            "7/7 [==============================] - 0s 58ms/step\n",
            "2/2 [==============================] - 0s 37ms/step\n"
          ]
        }
      ]
    },
    {
      "cell_type": "code",
      "source": [
        "# 11. Chuẩn hóa dữ liệu y_pred, y_pred_val\n",
        "train_predict=scaler.inverse_transform(train_predict)\n",
        "y_pred=scaler.inverse_transform(y_pred)\n",
        "y_pred_val=scaler.inverse_transform(y_pred_val)"
      ],
      "metadata": {
        "id": "XqfcmS0P9pu5"
      },
      "execution_count": null,
      "outputs": []
    },
    {
      "cell_type": "code",
      "source": [
        "# 12. Đánh giá độ chính xác thuật toán bằng RMSE\n",
        "valid_rmse = np.sqrt(np.mean((y_pred_val - yval)**2))\n",
        "test_rmse = np.sqrt(np.mean((y_pred - ytest)**2))\n",
        "print('Validation RMSE:', valid_rmse)\n",
        "print('Testing RMSE:', test_rmse)"
      ],
      "metadata": {
        "colab": {
          "base_uri": "https://localhost:8080/"
        },
        "outputId": "47688641-56c5-4439-cf68-4d1b2afb0dbd",
        "id": "Uo2BG0qQ9pu6"
      },
      "execution_count": null,
      "outputs": [
        {
          "output_type": "stream",
          "name": "stdout",
          "text": [
            "Validation RMSE: 30.32203053087128\n",
            "Testing RMSE: 34.43005595893021\n"
          ]
        }
      ]
    },
    {
      "cell_type": "code",
      "source": [
        "# 13. Dự báo 30 ngày tiếp theo\n",
        "x_input=val_data[60:].reshape(1,-1)\n",
        "x_input.shape\n",
        "\n",
        "temp_input=list(x_input)\n",
        "temp_input=temp_input[0].tolist()\n",
        "\n",
        "from numpy import array\n",
        "\n",
        "lst_output=[]\n",
        "n_steps=100\n",
        "i=0\n",
        "while(i<30):\n",
        "    if(len(temp_input)>100):\n",
        "        #print(temp_input)\n",
        "        x_input=np.array(temp_input[1:])\n",
        "        print(\"{} day input {}\".format(i,x_input))\n",
        "        x_input=x_input.reshape(1,-1)\n",
        "        x_input = x_input.reshape((1, n_steps, 1))\n",
        "        #print(x_input)\n",
        "        yhat = model.predict(x_input, verbose=0)\n",
        "        print(\"{} day output {}\".format(i,yhat))\n",
        "        temp_input.extend(yhat[0].tolist())\n",
        "        temp_input=temp_input[1:]\n",
        "        #print(temp_input)\n",
        "        lst_output.extend(yhat.tolist())\n",
        "        i=i+1\n",
        "    else:\n",
        "        x_input = x_input.reshape((1, 91,1))\n",
        "        yhat = model.predict(x_input, verbose=0)\n",
        "        print(yhat[0])\n",
        "        temp_input.extend(yhat[0].tolist())\n",
        "        print(len(temp_input))\n",
        "        lst_output.extend(yhat.tolist())\n",
        "        i=i+1\n"
      ],
      "metadata": {
        "colab": {
          "base_uri": "https://localhost:8080/"
        },
        "outputId": "3a380f07-48a0-4c08-932f-540ab62ba55e",
        "id": "y4uQHFwL9pu6"
      },
      "execution_count": null,
      "outputs": [
        {
          "output_type": "stream",
          "name": "stdout",
          "text": [
            "[0.19921015]\n",
            "92\n",
            "[0.19921015]\n",
            "93\n",
            "[0.19921015]\n",
            "94\n",
            "[0.19921015]\n",
            "95\n",
            "[0.19921015]\n",
            "96\n",
            "[0.19921015]\n",
            "97\n",
            "[0.19921015]\n",
            "98\n",
            "[0.19921015]\n",
            "99\n",
            "[0.19921015]\n",
            "100\n",
            "[0.19921015]\n",
            "101\n",
            "10 day input [0.16474408 0.16350073 0.16066865 0.16294812 0.16032327 0.15548802\n",
            " 0.15562617 0.15341576 0.14726808 0.14768253 0.15500449 0.15362299\n",
            " 0.15534987 0.15610969 0.15631692 0.15907992 0.16294812 0.16267182\n",
            " 0.15431374 0.14906403 0.15465911 0.16881951 0.16073772 0.15445189\n",
            " 0.14989293 0.15072183 0.14885681 0.15051461 0.15161981 0.1458175\n",
            " 0.14961663 0.15486634 0.15749119 0.15852732 0.15348484 0.15735304\n",
            " 0.14574843 0.15092906 0.15210334 0.15493541 0.14871866 0.13366029\n",
            " 0.13683774 0.14105132 0.13600884 0.13366029 0.13186434 0.13310769\n",
            " 0.13248601 0.13269324 0.13027561 0.13151896 0.12592388 0.12136492\n",
            " 0.11563169 0.12046695 0.11411204 0.11286869 0.11487187 0.11224701\n",
            " 0.11445742 0.10872418 0.10409615 0.10471783 0.10306003 0.11024384\n",
            " 0.1222629  0.11659874 0.14264005 0.1466464  0.1430545  0.14457415\n",
            " 0.14906403 0.15231056 0.16529668 0.16930303 0.17013193 0.17627962\n",
            " 0.17406921 0.17717759 0.17524349 0.17496719 0.16723078 0.16225737\n",
            " 0.15700767 0.15562617 0.15680044 0.15279409 0.1405678  0.14436693\n",
            " 0.19921015 0.19921015 0.19921015 0.19921015 0.19921015 0.19921015\n",
            " 0.19921015 0.19921015 0.19921015 0.19921015]\n",
            "10 day output [[0.2139195]]\n",
            "11 day input [0.16350073 0.16066865 0.16294812 0.16032327 0.15548802 0.15562617\n",
            " 0.15341576 0.14726808 0.14768253 0.15500449 0.15362299 0.15534987\n",
            " 0.15610969 0.15631692 0.15907992 0.16294812 0.16267182 0.15431374\n",
            " 0.14906403 0.15465911 0.16881951 0.16073772 0.15445189 0.14989293\n",
            " 0.15072183 0.14885681 0.15051461 0.15161981 0.1458175  0.14961663\n",
            " 0.15486634 0.15749119 0.15852732 0.15348484 0.15735304 0.14574843\n",
            " 0.15092906 0.15210334 0.15493541 0.14871866 0.13366029 0.13683774\n",
            " 0.14105132 0.13600884 0.13366029 0.13186434 0.13310769 0.13248601\n",
            " 0.13269324 0.13027561 0.13151896 0.12592388 0.12136492 0.11563169\n",
            " 0.12046695 0.11411204 0.11286869 0.11487187 0.11224701 0.11445742\n",
            " 0.10872418 0.10409615 0.10471783 0.10306003 0.11024384 0.1222629\n",
            " 0.11659874 0.14264005 0.1466464  0.1430545  0.14457415 0.14906403\n",
            " 0.15231056 0.16529668 0.16930303 0.17013193 0.17627962 0.17406921\n",
            " 0.17717759 0.17524349 0.17496719 0.16723078 0.16225737 0.15700767\n",
            " 0.15562617 0.15680044 0.15279409 0.1405678  0.14436693 0.19921015\n",
            " 0.19921015 0.19921015 0.19921015 0.19921015 0.19921015 0.19921015\n",
            " 0.19921015 0.19921015 0.19921015 0.21391951]\n",
            "11 day output [[0.21598475]]\n",
            "12 day input [0.16066865 0.16294812 0.16032327 0.15548802 0.15562617 0.15341576\n",
            " 0.14726808 0.14768253 0.15500449 0.15362299 0.15534987 0.15610969\n",
            " 0.15631692 0.15907992 0.16294812 0.16267182 0.15431374 0.14906403\n",
            " 0.15465911 0.16881951 0.16073772 0.15445189 0.14989293 0.15072183\n",
            " 0.14885681 0.15051461 0.15161981 0.1458175  0.14961663 0.15486634\n",
            " 0.15749119 0.15852732 0.15348484 0.15735304 0.14574843 0.15092906\n",
            " 0.15210334 0.15493541 0.14871866 0.13366029 0.13683774 0.14105132\n",
            " 0.13600884 0.13366029 0.13186434 0.13310769 0.13248601 0.13269324\n",
            " 0.13027561 0.13151896 0.12592388 0.12136492 0.11563169 0.12046695\n",
            " 0.11411204 0.11286869 0.11487187 0.11224701 0.11445742 0.10872418\n",
            " 0.10409615 0.10471783 0.10306003 0.11024384 0.1222629  0.11659874\n",
            " 0.14264005 0.1466464  0.1430545  0.14457415 0.14906403 0.15231056\n",
            " 0.16529668 0.16930303 0.17013193 0.17627962 0.17406921 0.17717759\n",
            " 0.17524349 0.17496719 0.16723078 0.16225737 0.15700767 0.15562617\n",
            " 0.15680044 0.15279409 0.1405678  0.14436693 0.19921015 0.19921015\n",
            " 0.19921015 0.19921015 0.19921015 0.19921015 0.19921015 0.19921015\n",
            " 0.19921015 0.19921015 0.21391951 0.21598475]\n",
            "12 day output [[0.21811168]]\n",
            "13 day input [0.16294812 0.16032327 0.15548802 0.15562617 0.15341576 0.14726808\n",
            " 0.14768253 0.15500449 0.15362299 0.15534987 0.15610969 0.15631692\n",
            " 0.15907992 0.16294812 0.16267182 0.15431374 0.14906403 0.15465911\n",
            " 0.16881951 0.16073772 0.15445189 0.14989293 0.15072183 0.14885681\n",
            " 0.15051461 0.15161981 0.1458175  0.14961663 0.15486634 0.15749119\n",
            " 0.15852732 0.15348484 0.15735304 0.14574843 0.15092906 0.15210334\n",
            " 0.15493541 0.14871866 0.13366029 0.13683774 0.14105132 0.13600884\n",
            " 0.13366029 0.13186434 0.13310769 0.13248601 0.13269324 0.13027561\n",
            " 0.13151896 0.12592388 0.12136492 0.11563169 0.12046695 0.11411204\n",
            " 0.11286869 0.11487187 0.11224701 0.11445742 0.10872418 0.10409615\n",
            " 0.10471783 0.10306003 0.11024384 0.1222629  0.11659874 0.14264005\n",
            " 0.1466464  0.1430545  0.14457415 0.14906403 0.15231056 0.16529668\n",
            " 0.16930303 0.17013193 0.17627962 0.17406921 0.17717759 0.17524349\n",
            " 0.17496719 0.16723078 0.16225737 0.15700767 0.15562617 0.15680044\n",
            " 0.15279409 0.1405678  0.14436693 0.19921015 0.19921015 0.19921015\n",
            " 0.19921015 0.19921015 0.19921015 0.19921015 0.19921015 0.19921015\n",
            " 0.19921015 0.21391951 0.21598475 0.21811168]\n",
            "13 day output [[0.22030236]]\n",
            "14 day input [0.16032327 0.15548802 0.15562617 0.15341576 0.14726808 0.14768253\n",
            " 0.15500449 0.15362299 0.15534987 0.15610969 0.15631692 0.15907992\n",
            " 0.16294812 0.16267182 0.15431374 0.14906403 0.15465911 0.16881951\n",
            " 0.16073772 0.15445189 0.14989293 0.15072183 0.14885681 0.15051461\n",
            " 0.15161981 0.1458175  0.14961663 0.15486634 0.15749119 0.15852732\n",
            " 0.15348484 0.15735304 0.14574843 0.15092906 0.15210334 0.15493541\n",
            " 0.14871866 0.13366029 0.13683774 0.14105132 0.13600884 0.13366029\n",
            " 0.13186434 0.13310769 0.13248601 0.13269324 0.13027561 0.13151896\n",
            " 0.12592388 0.12136492 0.11563169 0.12046695 0.11411204 0.11286869\n",
            " 0.11487187 0.11224701 0.11445742 0.10872418 0.10409615 0.10471783\n",
            " 0.10306003 0.11024384 0.1222629  0.11659874 0.14264005 0.1466464\n",
            " 0.1430545  0.14457415 0.14906403 0.15231056 0.16529668 0.16930303\n",
            " 0.17013193 0.17627962 0.17406921 0.17717759 0.17524349 0.17496719\n",
            " 0.16723078 0.16225737 0.15700767 0.15562617 0.15680044 0.15279409\n",
            " 0.1405678  0.14436693 0.19921015 0.19921015 0.19921015 0.19921015\n",
            " 0.19921015 0.19921015 0.19921015 0.19921015 0.19921015 0.19921015\n",
            " 0.21391951 0.21598475 0.21811168 0.22030236]\n",
            "14 day output [[0.22254491]]\n",
            "15 day input [0.15548802 0.15562617 0.15341576 0.14726808 0.14768253 0.15500449\n",
            " 0.15362299 0.15534987 0.15610969 0.15631692 0.15907992 0.16294812\n",
            " 0.16267182 0.15431374 0.14906403 0.15465911 0.16881951 0.16073772\n",
            " 0.15445189 0.14989293 0.15072183 0.14885681 0.15051461 0.15161981\n",
            " 0.1458175  0.14961663 0.15486634 0.15749119 0.15852732 0.15348484\n",
            " 0.15735304 0.14574843 0.15092906 0.15210334 0.15493541 0.14871866\n",
            " 0.13366029 0.13683774 0.14105132 0.13600884 0.13366029 0.13186434\n",
            " 0.13310769 0.13248601 0.13269324 0.13027561 0.13151896 0.12592388\n",
            " 0.12136492 0.11563169 0.12046695 0.11411204 0.11286869 0.11487187\n",
            " 0.11224701 0.11445742 0.10872418 0.10409615 0.10471783 0.10306003\n",
            " 0.11024384 0.1222629  0.11659874 0.14264005 0.1466464  0.1430545\n",
            " 0.14457415 0.14906403 0.15231056 0.16529668 0.16930303 0.17013193\n",
            " 0.17627962 0.17406921 0.17717759 0.17524349 0.17496719 0.16723078\n",
            " 0.16225737 0.15700767 0.15562617 0.15680044 0.15279409 0.1405678\n",
            " 0.14436693 0.19921015 0.19921015 0.19921015 0.19921015 0.19921015\n",
            " 0.19921015 0.19921015 0.19921015 0.19921015 0.19921015 0.21391951\n",
            " 0.21598475 0.21811168 0.22030236 0.22254491]\n",
            "15 day output [[0.22482227]]\n",
            "16 day input [0.15562617 0.15341576 0.14726808 0.14768253 0.15500449 0.15362299\n",
            " 0.15534987 0.15610969 0.15631692 0.15907992 0.16294812 0.16267182\n",
            " 0.15431374 0.14906403 0.15465911 0.16881951 0.16073772 0.15445189\n",
            " 0.14989293 0.15072183 0.14885681 0.15051461 0.15161981 0.1458175\n",
            " 0.14961663 0.15486634 0.15749119 0.15852732 0.15348484 0.15735304\n",
            " 0.14574843 0.15092906 0.15210334 0.15493541 0.14871866 0.13366029\n",
            " 0.13683774 0.14105132 0.13600884 0.13366029 0.13186434 0.13310769\n",
            " 0.13248601 0.13269324 0.13027561 0.13151896 0.12592388 0.12136492\n",
            " 0.11563169 0.12046695 0.11411204 0.11286869 0.11487187 0.11224701\n",
            " 0.11445742 0.10872418 0.10409615 0.10471783 0.10306003 0.11024384\n",
            " 0.1222629  0.11659874 0.14264005 0.1466464  0.1430545  0.14457415\n",
            " 0.14906403 0.15231056 0.16529668 0.16930303 0.17013193 0.17627962\n",
            " 0.17406921 0.17717759 0.17524349 0.17496719 0.16723078 0.16225737\n",
            " 0.15700767 0.15562617 0.15680044 0.15279409 0.1405678  0.14436693\n",
            " 0.19921015 0.19921015 0.19921015 0.19921015 0.19921015 0.19921015\n",
            " 0.19921015 0.19921015 0.19921015 0.19921015 0.21391951 0.21598475\n",
            " 0.21811168 0.22030236 0.22254491 0.22482227]\n",
            "16 day output [[0.22711752]]\n",
            "17 day input [0.15341576 0.14726808 0.14768253 0.15500449 0.15362299 0.15534987\n",
            " 0.15610969 0.15631692 0.15907992 0.16294812 0.16267182 0.15431374\n",
            " 0.14906403 0.15465911 0.16881951 0.16073772 0.15445189 0.14989293\n",
            " 0.15072183 0.14885681 0.15051461 0.15161981 0.1458175  0.14961663\n",
            " 0.15486634 0.15749119 0.15852732 0.15348484 0.15735304 0.14574843\n",
            " 0.15092906 0.15210334 0.15493541 0.14871866 0.13366029 0.13683774\n",
            " 0.14105132 0.13600884 0.13366029 0.13186434 0.13310769 0.13248601\n",
            " 0.13269324 0.13027561 0.13151896 0.12592388 0.12136492 0.11563169\n",
            " 0.12046695 0.11411204 0.11286869 0.11487187 0.11224701 0.11445742\n",
            " 0.10872418 0.10409615 0.10471783 0.10306003 0.11024384 0.1222629\n",
            " 0.11659874 0.14264005 0.1466464  0.1430545  0.14457415 0.14906403\n",
            " 0.15231056 0.16529668 0.16930303 0.17013193 0.17627962 0.17406921\n",
            " 0.17717759 0.17524349 0.17496719 0.16723078 0.16225737 0.15700767\n",
            " 0.15562617 0.15680044 0.15279409 0.1405678  0.14436693 0.19921015\n",
            " 0.19921015 0.19921015 0.19921015 0.19921015 0.19921015 0.19921015\n",
            " 0.19921015 0.19921015 0.19921015 0.21391951 0.21598475 0.21811168\n",
            " 0.22030236 0.22254491 0.22482227 0.22711752]\n",
            "17 day output [[0.22941539]]\n",
            "18 day input [0.14726808 0.14768253 0.15500449 0.15362299 0.15534987 0.15610969\n",
            " 0.15631692 0.15907992 0.16294812 0.16267182 0.15431374 0.14906403\n",
            " 0.15465911 0.16881951 0.16073772 0.15445189 0.14989293 0.15072183\n",
            " 0.14885681 0.15051461 0.15161981 0.1458175  0.14961663 0.15486634\n",
            " 0.15749119 0.15852732 0.15348484 0.15735304 0.14574843 0.15092906\n",
            " 0.15210334 0.15493541 0.14871866 0.13366029 0.13683774 0.14105132\n",
            " 0.13600884 0.13366029 0.13186434 0.13310769 0.13248601 0.13269324\n",
            " 0.13027561 0.13151896 0.12592388 0.12136492 0.11563169 0.12046695\n",
            " 0.11411204 0.11286869 0.11487187 0.11224701 0.11445742 0.10872418\n",
            " 0.10409615 0.10471783 0.10306003 0.11024384 0.1222629  0.11659874\n",
            " 0.14264005 0.1466464  0.1430545  0.14457415 0.14906403 0.15231056\n",
            " 0.16529668 0.16930303 0.17013193 0.17627962 0.17406921 0.17717759\n",
            " 0.17524349 0.17496719 0.16723078 0.16225737 0.15700767 0.15562617\n",
            " 0.15680044 0.15279409 0.1405678  0.14436693 0.19921015 0.19921015\n",
            " 0.19921015 0.19921015 0.19921015 0.19921015 0.19921015 0.19921015\n",
            " 0.19921015 0.19921015 0.21391951 0.21598475 0.21811168 0.22030236\n",
            " 0.22254491 0.22482227 0.22711752 0.22941539]\n",
            "18 day output [[0.23170362]]\n",
            "19 day input [0.14768253 0.15500449 0.15362299 0.15534987 0.15610969 0.15631692\n",
            " 0.15907992 0.16294812 0.16267182 0.15431374 0.14906403 0.15465911\n",
            " 0.16881951 0.16073772 0.15445189 0.14989293 0.15072183 0.14885681\n",
            " 0.15051461 0.15161981 0.1458175  0.14961663 0.15486634 0.15749119\n",
            " 0.15852732 0.15348484 0.15735304 0.14574843 0.15092906 0.15210334\n",
            " 0.15493541 0.14871866 0.13366029 0.13683774 0.14105132 0.13600884\n",
            " 0.13366029 0.13186434 0.13310769 0.13248601 0.13269324 0.13027561\n",
            " 0.13151896 0.12592388 0.12136492 0.11563169 0.12046695 0.11411204\n",
            " 0.11286869 0.11487187 0.11224701 0.11445742 0.10872418 0.10409615\n",
            " 0.10471783 0.10306003 0.11024384 0.1222629  0.11659874 0.14264005\n",
            " 0.1466464  0.1430545  0.14457415 0.14906403 0.15231056 0.16529668\n",
            " 0.16930303 0.17013193 0.17627962 0.17406921 0.17717759 0.17524349\n",
            " 0.17496719 0.16723078 0.16225737 0.15700767 0.15562617 0.15680044\n",
            " 0.15279409 0.1405678  0.14436693 0.19921015 0.19921015 0.19921015\n",
            " 0.19921015 0.19921015 0.19921015 0.19921015 0.19921015 0.19921015\n",
            " 0.19921015 0.21391951 0.21598475 0.21811168 0.22030236 0.22254491\n",
            " 0.22482227 0.22711752 0.22941539 0.23170362]\n",
            "19 day output [[0.23397258]]\n",
            "20 day input [0.15500449 0.15362299 0.15534987 0.15610969 0.15631692 0.15907992\n",
            " 0.16294812 0.16267182 0.15431374 0.14906403 0.15465911 0.16881951\n",
            " 0.16073772 0.15445189 0.14989293 0.15072183 0.14885681 0.15051461\n",
            " 0.15161981 0.1458175  0.14961663 0.15486634 0.15749119 0.15852732\n",
            " 0.15348484 0.15735304 0.14574843 0.15092906 0.15210334 0.15493541\n",
            " 0.14871866 0.13366029 0.13683774 0.14105132 0.13600884 0.13366029\n",
            " 0.13186434 0.13310769 0.13248601 0.13269324 0.13027561 0.13151896\n",
            " 0.12592388 0.12136492 0.11563169 0.12046695 0.11411204 0.11286869\n",
            " 0.11487187 0.11224701 0.11445742 0.10872418 0.10409615 0.10471783\n",
            " 0.10306003 0.11024384 0.1222629  0.11659874 0.14264005 0.1466464\n",
            " 0.1430545  0.14457415 0.14906403 0.15231056 0.16529668 0.16930303\n",
            " 0.17013193 0.17627962 0.17406921 0.17717759 0.17524349 0.17496719\n",
            " 0.16723078 0.16225737 0.15700767 0.15562617 0.15680044 0.15279409\n",
            " 0.1405678  0.14436693 0.19921015 0.19921015 0.19921015 0.19921015\n",
            " 0.19921015 0.19921015 0.19921015 0.19921015 0.19921015 0.19921015\n",
            " 0.21391951 0.21598475 0.21811168 0.22030236 0.22254491 0.22482227\n",
            " 0.22711752 0.22941539 0.23170362 0.23397258]\n",
            "20 day output [[0.23621546]]\n",
            "21 day input [0.15362299 0.15534987 0.15610969 0.15631692 0.15907992 0.16294812\n",
            " 0.16267182 0.15431374 0.14906403 0.15465911 0.16881951 0.16073772\n",
            " 0.15445189 0.14989293 0.15072183 0.14885681 0.15051461 0.15161981\n",
            " 0.1458175  0.14961663 0.15486634 0.15749119 0.15852732 0.15348484\n",
            " 0.15735304 0.14574843 0.15092906 0.15210334 0.15493541 0.14871866\n",
            " 0.13366029 0.13683774 0.14105132 0.13600884 0.13366029 0.13186434\n",
            " 0.13310769 0.13248601 0.13269324 0.13027561 0.13151896 0.12592388\n",
            " 0.12136492 0.11563169 0.12046695 0.11411204 0.11286869 0.11487187\n",
            " 0.11224701 0.11445742 0.10872418 0.10409615 0.10471783 0.10306003\n",
            " 0.11024384 0.1222629  0.11659874 0.14264005 0.1466464  0.1430545\n",
            " 0.14457415 0.14906403 0.15231056 0.16529668 0.16930303 0.17013193\n",
            " 0.17627962 0.17406921 0.17717759 0.17524349 0.17496719 0.16723078\n",
            " 0.16225737 0.15700767 0.15562617 0.15680044 0.15279409 0.1405678\n",
            " 0.14436693 0.19921015 0.19921015 0.19921015 0.19921015 0.19921015\n",
            " 0.19921015 0.19921015 0.19921015 0.19921015 0.19921015 0.21391951\n",
            " 0.21598475 0.21811168 0.22030236 0.22254491 0.22482227 0.22711752\n",
            " 0.22941539 0.23170362 0.23397258 0.23621546]\n",
            "21 day output [[0.23842725]]\n",
            "22 day input [0.15534987 0.15610969 0.15631692 0.15907992 0.16294812 0.16267182\n",
            " 0.15431374 0.14906403 0.15465911 0.16881951 0.16073772 0.15445189\n",
            " 0.14989293 0.15072183 0.14885681 0.15051461 0.15161981 0.1458175\n",
            " 0.14961663 0.15486634 0.15749119 0.15852732 0.15348484 0.15735304\n",
            " 0.14574843 0.15092906 0.15210334 0.15493541 0.14871866 0.13366029\n",
            " 0.13683774 0.14105132 0.13600884 0.13366029 0.13186434 0.13310769\n",
            " 0.13248601 0.13269324 0.13027561 0.13151896 0.12592388 0.12136492\n",
            " 0.11563169 0.12046695 0.11411204 0.11286869 0.11487187 0.11224701\n",
            " 0.11445742 0.10872418 0.10409615 0.10471783 0.10306003 0.11024384\n",
            " 0.1222629  0.11659874 0.14264005 0.1466464  0.1430545  0.14457415\n",
            " 0.14906403 0.15231056 0.16529668 0.16930303 0.17013193 0.17627962\n",
            " 0.17406921 0.17717759 0.17524349 0.17496719 0.16723078 0.16225737\n",
            " 0.15700767 0.15562617 0.15680044 0.15279409 0.1405678  0.14436693\n",
            " 0.19921015 0.19921015 0.19921015 0.19921015 0.19921015 0.19921015\n",
            " 0.19921015 0.19921015 0.19921015 0.19921015 0.21391951 0.21598475\n",
            " 0.21811168 0.22030236 0.22254491 0.22482227 0.22711752 0.22941539\n",
            " 0.23170362 0.23397258 0.23621546 0.23842725]\n",
            "22 day output [[0.2406047]]\n",
            "23 day input [0.15610969 0.15631692 0.15907992 0.16294812 0.16267182 0.15431374\n",
            " 0.14906403 0.15465911 0.16881951 0.16073772 0.15445189 0.14989293\n",
            " 0.15072183 0.14885681 0.15051461 0.15161981 0.1458175  0.14961663\n",
            " 0.15486634 0.15749119 0.15852732 0.15348484 0.15735304 0.14574843\n",
            " 0.15092906 0.15210334 0.15493541 0.14871866 0.13366029 0.13683774\n",
            " 0.14105132 0.13600884 0.13366029 0.13186434 0.13310769 0.13248601\n",
            " 0.13269324 0.13027561 0.13151896 0.12592388 0.12136492 0.11563169\n",
            " 0.12046695 0.11411204 0.11286869 0.11487187 0.11224701 0.11445742\n",
            " 0.10872418 0.10409615 0.10471783 0.10306003 0.11024384 0.1222629\n",
            " 0.11659874 0.14264005 0.1466464  0.1430545  0.14457415 0.14906403\n",
            " 0.15231056 0.16529668 0.16930303 0.17013193 0.17627962 0.17406921\n",
            " 0.17717759 0.17524349 0.17496719 0.16723078 0.16225737 0.15700767\n",
            " 0.15562617 0.15680044 0.15279409 0.1405678  0.14436693 0.19921015\n",
            " 0.19921015 0.19921015 0.19921015 0.19921015 0.19921015 0.19921015\n",
            " 0.19921015 0.19921015 0.19921015 0.21391951 0.21598475 0.21811168\n",
            " 0.22030236 0.22254491 0.22482227 0.22711752 0.22941539 0.23170362\n",
            " 0.23397258 0.23621546 0.23842725 0.2406047 ]\n",
            "23 day output [[0.24274571]]\n",
            "24 day input [0.15631692 0.15907992 0.16294812 0.16267182 0.15431374 0.14906403\n",
            " 0.15465911 0.16881951 0.16073772 0.15445189 0.14989293 0.15072183\n",
            " 0.14885681 0.15051461 0.15161981 0.1458175  0.14961663 0.15486634\n",
            " 0.15749119 0.15852732 0.15348484 0.15735304 0.14574843 0.15092906\n",
            " 0.15210334 0.15493541 0.14871866 0.13366029 0.13683774 0.14105132\n",
            " 0.13600884 0.13366029 0.13186434 0.13310769 0.13248601 0.13269324\n",
            " 0.13027561 0.13151896 0.12592388 0.12136492 0.11563169 0.12046695\n",
            " 0.11411204 0.11286869 0.11487187 0.11224701 0.11445742 0.10872418\n",
            " 0.10409615 0.10471783 0.10306003 0.11024384 0.1222629  0.11659874\n",
            " 0.14264005 0.1466464  0.1430545  0.14457415 0.14906403 0.15231056\n",
            " 0.16529668 0.16930303 0.17013193 0.17627962 0.17406921 0.17717759\n",
            " 0.17524349 0.17496719 0.16723078 0.16225737 0.15700767 0.15562617\n",
            " 0.15680044 0.15279409 0.1405678  0.14436693 0.19921015 0.19921015\n",
            " 0.19921015 0.19921015 0.19921015 0.19921015 0.19921015 0.19921015\n",
            " 0.19921015 0.19921015 0.21391951 0.21598475 0.21811168 0.22030236\n",
            " 0.22254491 0.22482227 0.22711752 0.22941539 0.23170362 0.23397258\n",
            " 0.23621546 0.23842725 0.2406047  0.24274571]\n",
            "24 day output [[0.24484935]]\n",
            "25 day input [0.15907992 0.16294812 0.16267182 0.15431374 0.14906403 0.15465911\n",
            " 0.16881951 0.16073772 0.15445189 0.14989293 0.15072183 0.14885681\n",
            " 0.15051461 0.15161981 0.1458175  0.14961663 0.15486634 0.15749119\n",
            " 0.15852732 0.15348484 0.15735304 0.14574843 0.15092906 0.15210334\n",
            " 0.15493541 0.14871866 0.13366029 0.13683774 0.14105132 0.13600884\n",
            " 0.13366029 0.13186434 0.13310769 0.13248601 0.13269324 0.13027561\n",
            " 0.13151896 0.12592388 0.12136492 0.11563169 0.12046695 0.11411204\n",
            " 0.11286869 0.11487187 0.11224701 0.11445742 0.10872418 0.10409615\n",
            " 0.10471783 0.10306003 0.11024384 0.1222629  0.11659874 0.14264005\n",
            " 0.1466464  0.1430545  0.14457415 0.14906403 0.15231056 0.16529668\n",
            " 0.16930303 0.17013193 0.17627962 0.17406921 0.17717759 0.17524349\n",
            " 0.17496719 0.16723078 0.16225737 0.15700767 0.15562617 0.15680044\n",
            " 0.15279409 0.1405678  0.14436693 0.19921015 0.19921015 0.19921015\n",
            " 0.19921015 0.19921015 0.19921015 0.19921015 0.19921015 0.19921015\n",
            " 0.19921015 0.21391951 0.21598475 0.21811168 0.22030236 0.22254491\n",
            " 0.22482227 0.22711752 0.22941539 0.23170362 0.23397258 0.23621546\n",
            " 0.23842725 0.2406047  0.24274571 0.24484935]\n",
            "25 day output [[0.24691518]]\n",
            "26 day input [0.16294812 0.16267182 0.15431374 0.14906403 0.15465911 0.16881951\n",
            " 0.16073772 0.15445189 0.14989293 0.15072183 0.14885681 0.15051461\n",
            " 0.15161981 0.1458175  0.14961663 0.15486634 0.15749119 0.15852732\n",
            " 0.15348484 0.15735304 0.14574843 0.15092906 0.15210334 0.15493541\n",
            " 0.14871866 0.13366029 0.13683774 0.14105132 0.13600884 0.13366029\n",
            " 0.13186434 0.13310769 0.13248601 0.13269324 0.13027561 0.13151896\n",
            " 0.12592388 0.12136492 0.11563169 0.12046695 0.11411204 0.11286869\n",
            " 0.11487187 0.11224701 0.11445742 0.10872418 0.10409615 0.10471783\n",
            " 0.10306003 0.11024384 0.1222629  0.11659874 0.14264005 0.1466464\n",
            " 0.1430545  0.14457415 0.14906403 0.15231056 0.16529668 0.16930303\n",
            " 0.17013193 0.17627962 0.17406921 0.17717759 0.17524349 0.17496719\n",
            " 0.16723078 0.16225737 0.15700767 0.15562617 0.15680044 0.15279409\n",
            " 0.1405678  0.14436693 0.19921015 0.19921015 0.19921015 0.19921015\n",
            " 0.19921015 0.19921015 0.19921015 0.19921015 0.19921015 0.19921015\n",
            " 0.21391951 0.21598475 0.21811168 0.22030236 0.22254491 0.22482227\n",
            " 0.22711752 0.22941539 0.23170362 0.23397258 0.23621546 0.23842725\n",
            " 0.2406047  0.24274571 0.24484935 0.24691518]\n",
            "26 day output [[0.24894318]]\n",
            "27 day input [0.16267182 0.15431374 0.14906403 0.15465911 0.16881951 0.16073772\n",
            " 0.15445189 0.14989293 0.15072183 0.14885681 0.15051461 0.15161981\n",
            " 0.1458175  0.14961663 0.15486634 0.15749119 0.15852732 0.15348484\n",
            " 0.15735304 0.14574843 0.15092906 0.15210334 0.15493541 0.14871866\n",
            " 0.13366029 0.13683774 0.14105132 0.13600884 0.13366029 0.13186434\n",
            " 0.13310769 0.13248601 0.13269324 0.13027561 0.13151896 0.12592388\n",
            " 0.12136492 0.11563169 0.12046695 0.11411204 0.11286869 0.11487187\n",
            " 0.11224701 0.11445742 0.10872418 0.10409615 0.10471783 0.10306003\n",
            " 0.11024384 0.1222629  0.11659874 0.14264005 0.1466464  0.1430545\n",
            " 0.14457415 0.14906403 0.15231056 0.16529668 0.16930303 0.17013193\n",
            " 0.17627962 0.17406921 0.17717759 0.17524349 0.17496719 0.16723078\n",
            " 0.16225737 0.15700767 0.15562617 0.15680044 0.15279409 0.1405678\n",
            " 0.14436693 0.19921015 0.19921015 0.19921015 0.19921015 0.19921015\n",
            " 0.19921015 0.19921015 0.19921015 0.19921015 0.19921015 0.21391951\n",
            " 0.21598475 0.21811168 0.22030236 0.22254491 0.22482227 0.22711752\n",
            " 0.22941539 0.23170362 0.23397258 0.23621546 0.23842725 0.2406047\n",
            " 0.24274571 0.24484935 0.24691518 0.24894318]\n",
            "27 day output [[0.2509337]]\n",
            "28 day input [0.15431374 0.14906403 0.15465911 0.16881951 0.16073772 0.15445189\n",
            " 0.14989293 0.15072183 0.14885681 0.15051461 0.15161981 0.1458175\n",
            " 0.14961663 0.15486634 0.15749119 0.15852732 0.15348484 0.15735304\n",
            " 0.14574843 0.15092906 0.15210334 0.15493541 0.14871866 0.13366029\n",
            " 0.13683774 0.14105132 0.13600884 0.13366029 0.13186434 0.13310769\n",
            " 0.13248601 0.13269324 0.13027561 0.13151896 0.12592388 0.12136492\n",
            " 0.11563169 0.12046695 0.11411204 0.11286869 0.11487187 0.11224701\n",
            " 0.11445742 0.10872418 0.10409615 0.10471783 0.10306003 0.11024384\n",
            " 0.1222629  0.11659874 0.14264005 0.1466464  0.1430545  0.14457415\n",
            " 0.14906403 0.15231056 0.16529668 0.16930303 0.17013193 0.17627962\n",
            " 0.17406921 0.17717759 0.17524349 0.17496719 0.16723078 0.16225737\n",
            " 0.15700767 0.15562617 0.15680044 0.15279409 0.1405678  0.14436693\n",
            " 0.19921015 0.19921015 0.19921015 0.19921015 0.19921015 0.19921015\n",
            " 0.19921015 0.19921015 0.19921015 0.19921015 0.21391951 0.21598475\n",
            " 0.21811168 0.22030236 0.22254491 0.22482227 0.22711752 0.22941539\n",
            " 0.23170362 0.23397258 0.23621546 0.23842725 0.2406047  0.24274571\n",
            " 0.24484935 0.24691518 0.24894318 0.25093371]\n",
            "28 day output [[0.2528874]]\n",
            "29 day input [0.14906403 0.15465911 0.16881951 0.16073772 0.15445189 0.14989293\n",
            " 0.15072183 0.14885681 0.15051461 0.15161981 0.1458175  0.14961663\n",
            " 0.15486634 0.15749119 0.15852732 0.15348484 0.15735304 0.14574843\n",
            " 0.15092906 0.15210334 0.15493541 0.14871866 0.13366029 0.13683774\n",
            " 0.14105132 0.13600884 0.13366029 0.13186434 0.13310769 0.13248601\n",
            " 0.13269324 0.13027561 0.13151896 0.12592388 0.12136492 0.11563169\n",
            " 0.12046695 0.11411204 0.11286869 0.11487187 0.11224701 0.11445742\n",
            " 0.10872418 0.10409615 0.10471783 0.10306003 0.11024384 0.1222629\n",
            " 0.11659874 0.14264005 0.1466464  0.1430545  0.14457415 0.14906403\n",
            " 0.15231056 0.16529668 0.16930303 0.17013193 0.17627962 0.17406921\n",
            " 0.17717759 0.17524349 0.17496719 0.16723078 0.16225737 0.15700767\n",
            " 0.15562617 0.15680044 0.15279409 0.1405678  0.14436693 0.19921015\n",
            " 0.19921015 0.19921015 0.19921015 0.19921015 0.19921015 0.19921015\n",
            " 0.19921015 0.19921015 0.19921015 0.21391951 0.21598475 0.21811168\n",
            " 0.22030236 0.22254491 0.22482227 0.22711752 0.22941539 0.23170362\n",
            " 0.23397258 0.23621546 0.23842725 0.2406047  0.24274571 0.24484935\n",
            " 0.24691518 0.24894318 0.25093371 0.2528874 ]\n",
            "29 day output [[0.2548049]]\n"
          ]
        }
      ]
    },
    {
      "cell_type": "code",
      "source": [
        "# 14.Vẽ hình\n",
        "\n",
        "train_data_index = pd.RangeIndex(start=0, stop=train_size, step=1)\n",
        "plt.plot(scaler.inverse_transform(data_transform))\n",
        "test_data_index = pd.RangeIndex(start=train_size, stop=train_size+test_size, step=1)\n",
        "plt.plot(test_data_index,scaler.inverse_transform(test_data))\n",
        "test_data_index = pd.RangeIndex(start=train_size+101, stop=train_size+test_size, step=1)\n",
        "plt.plot(test_data_index,(y_pred))\n",
        "val_data_index = pd.RangeIndex(start=train_size+test_size, stop=train_size+test_size+val_size, step=1)\n",
        "plt.plot(val_data_index,scaler.inverse_transform(val_data))\n",
        "val_data_index = pd.RangeIndex(start=train_size+test_size+101, stop=train_size+test_size+val_size, step=1)\n",
        "plt.plot(val_data_index,y_pred_val)\n",
        "prediect_data_index = pd.RangeIndex(start=len(df1)-1, stop=len(df1)+29, step=1)\n",
        "plt.plot(prediect_data_index,scaler.inverse_transform(lst_output))\n",
        "plt.legend(['Train','Test','Predict','Validate','ValidatePred','Predict30days'])\n",
        "plt.show()"
      ],
      "metadata": {
        "colab": {
          "base_uri": "https://localhost:8080/",
          "height": 430
        },
        "outputId": "66c98f58-9dc6-4394-8710-161a218383bf",
        "id": "_A1DcCWh9pu6"
      },
      "execution_count": null,
      "outputs": [
        {
          "output_type": "display_data",
          "data": {
            "text/plain": [
              "<Figure size 640x480 with 1 Axes>"
            ],
            "image/png": "[encoded data removed]"
          },
          "metadata": {}
        }
      ]
    },
    {
      "cell_type": "markdown",
      "source": [
        "#**ARI_HISTORICAL_DATA**"
      ],
      "metadata": {
        "id": "Vy10qJ8693sw"
      }
    },
    {
      "cell_type": "markdown",
      "source": [
        "### **Thuật toán AAE**"
      ],
      "metadata": {
        "id": "sIRcWk7zwn1I"
      }
    },
    {
      "cell_type": "code",
      "source": [
        "dataset = pd.read_csv('/content/ARI-Historical-Data.csv')"
      ],
      "metadata": {
        "id": "gweanJXvnouP"
      },
      "execution_count": 296,
      "outputs": []
    },
    {
      "cell_type": "code",
      "source": [
        "scaler=MinMaxScaler(feature_range=(0,1))\n",
        "\n",
        "df1 = dataset.reset_index()['Price']\n",
        "\n",
        "df1=scaler.fit_transform(np.array(df1).reshape(-1,1))\n",
        "\n",
        "# 4. Chia train test\n",
        "data_transform_size = int(0.7 * len(df1))\n",
        "test_size = int(0.2 * len(df1))\n",
        "val_size = len(df1) - data_transform_size - test_size\n",
        "\n",
        "data_transform = df1[:data_transform_size]\n",
        "test_data = df1[data_transform_size:data_transform_size+test_size]\n",
        "val_data = df1[data_transform_size+test_size:]"
      ],
      "metadata": {
        "id": "6yheIvCJTTMH"
      },
      "execution_count": 297,
      "outputs": []
    },
    {
      "cell_type": "code",
      "source": [],
      "metadata": {
        "id": "JWNvCsYpnzqK"
      },
      "execution_count": 297,
      "outputs": []
    },
    {
      "cell_type": "code",
      "source": [
        "data_transform"
      ],
      "metadata": {
        "colab": {
          "base_uri": "https://localhost:8080/"
        },
        "id": "TYKvtpYIOZg5",
        "outputId": "c3451dd5-cdf0-43f6-9d78-8ea508e82ad1"
      },
      "execution_count": 298,
      "outputs": [
        {
          "output_type": "execute_result",
          "data": {
            "text/plain": [
              "array([[0.42033679],\n",
              "       [0.39572539],\n",
              "       [0.37888601],\n",
              "       ...,\n",
              "       [0.92487047],\n",
              "       [0.92551813],\n",
              "       [0.91321244]])"
            ]
          },
          "metadata": {},
          "execution_count": 298
        }
      ]
    },
    {
      "cell_type": "code",
      "source": [],
      "metadata": {
        "id": "BHP3E4D6n1Fx"
      },
      "execution_count": 298,
      "outputs": []
    },
    {
      "cell_type": "code",
      "source": [
        "data_transform.shape"
      ],
      "metadata": {
        "colab": {
          "base_uri": "https://localhost:8080/"
        },
        "id": "Xozs3-XUn2lY",
        "outputId": "a20e58f5-8d7d-4514-f10a-9aabf022b9b3"
      },
      "execution_count": 299,
      "outputs": [
        {
          "output_type": "execute_result",
          "data": {
            "text/plain": [
              "(1057, 1)"
            ]
          },
          "metadata": {},
          "execution_count": 299
        }
      ]
    },
    {
      "cell_type": "code",
      "source": [
        "data_transform"
      ],
      "metadata": {
        "colab": {
          "base_uri": "https://localhost:8080/"
        },
        "id": "r-Xr4uoGn4QR",
        "outputId": "71baaafe-dce6-459c-f611-355ae2cb9a4a"
      },
      "execution_count": 300,
      "outputs": [
        {
          "output_type": "execute_result",
          "data": {
            "text/plain": [
              "array([[0.42033679],\n",
              "       [0.39572539],\n",
              "       [0.37888601],\n",
              "       ...,\n",
              "       [0.92487047],\n",
              "       [0.92551813],\n",
              "       [0.91321244]])"
            ]
          },
          "metadata": {},
          "execution_count": 300
        }
      ]
    },
    {
      "cell_type": "code",
      "source": [
        "import numpy as np\n",
        "import torch\n",
        "import torch.nn as nn\n",
        "import torch.optim as optim\n",
        "from torch.utils.data import DataLoader, TensorDataset\n",
        "from torchvision import datasets\n",
        "from torch.autograd import Variable\n",
        "import torch.nn as nn\n",
        "import torch.nn.functional as F\n",
        "import torch\n",
        "\n",
        "# dùng 'gpu'.\n",
        "device = 'cuda' if torch.cuda.is_available() else 'cpu'\n",
        "Tensor = torch.cuda.FloatTensor if torch.cuda.is_available() else torch.FloatTensor\n",
        "\n",
        "# số chiều không gian tiềm ẩn\n",
        "latent_dim = 1\n",
        "\n",
        "# số chiều vector đầu vào.\n",
        "embedding = 1\n",
        "\n",
        "# sampling từ trung bình và độ lệch chuẩn.\n",
        "def reparameterization(mu, logvar):\n",
        "    std = torch.exp(logvar / 2)\n",
        "    sampled_z = Variable(torch.randn((mu.size(0), latent_dim))).to(device)\n",
        "    z = sampled_z * std + mu\n",
        "    return z\n",
        "\n",
        "class Encoder(nn.Module):\n",
        "    def __init__(self, embedding):\n",
        "        super(Encoder, self).__init__()\n",
        "\n",
        "        self.model = nn.Sequential(\n",
        "            nn.Linear(embedding, 512),\n",
        "            nn.LeakyReLU(0.2, inplace=True),\n",
        "            nn.Linear(512, 512),\n",
        "            nn.BatchNorm1d(512),\n",
        "            nn.LeakyReLU(0.2, inplace=True),\n",
        "        )\n",
        "\n",
        "        self.mu = nn.Linear(512, latent_dim)\n",
        "        self.logvar = nn.Linear(512, latent_dim)\n",
        "\n",
        "    def forward(self, img):\n",
        "        img_flat = img.view(img.shape[0], -1)\n",
        "        x = self.model(img_flat)\n",
        "        mu = self.mu(x)\n",
        "        logvar = self.logvar(x)\n",
        "        z = reparameterization(mu, logvar)\n",
        "        return z\n",
        "\n",
        "\n",
        "class Decoder(nn.Module):\n",
        "    def __init__(self, embedding):\n",
        "        super(Decoder, self).__init__()\n",
        "\n",
        "        self.model = nn.Sequential(\n",
        "            nn.Linear(latent_dim, 512),\n",
        "            nn.LeakyReLU(0.2, inplace=True),\n",
        "            nn.Linear(512, 512),\n",
        "            nn.BatchNorm1d(512),\n",
        "            nn.LeakyReLU(0.2, inplace=True),\n",
        "            nn.Linear(512, embedding),\n",
        "            nn.Tanh(),\n",
        "        )\n",
        "\n",
        "    def forward(self, z):\n",
        "        img_flat = self.model(z)\n",
        "        img = img_flat.view(img_flat.shape[0], -1)\n",
        "        return img\n",
        "\n",
        "\n",
        "class Discriminator(nn.Module):\n",
        "    def __init__(self):\n",
        "        super(Discriminator, self).__init__()\n",
        "\n",
        "        self.model = nn.Sequential(\n",
        "            nn.Linear(latent_dim, 512),\n",
        "            nn.LeakyReLU(0.2, inplace=True),\n",
        "            nn.Linear(512, 256),\n",
        "            nn.LeakyReLU(0.2, inplace=True),\n",
        "            nn.Linear(256, 1),\n",
        "            nn.Sigmoid(),\n",
        "        )\n",
        "\n",
        "    def forward(self, z):\n",
        "        validity = self.model(z)\n",
        "        return validity\n",
        "\n",
        "\n"
      ],
      "metadata": {
        "id": "RQNTemuan6sJ"
      },
      "execution_count": 301,
      "outputs": []
    },
    {
      "cell_type": "code",
      "source": [
        "batch_size=512\n",
        "n_epochs = 100"
      ],
      "metadata": {
        "id": "k6sRELiXn9B_"
      },
      "execution_count": 302,
      "outputs": []
    },
    {
      "cell_type": "code",
      "source": [
        "# Chuẩn bị dữ liệu huấn luyện (torch dùng đc gpu, numpy -> cpu)\n",
        "tensor_data = torch.from_numpy(data_transform).float()  # Chuyển đổi thành Tensor và kiểu dữ liệu float\n",
        "\n",
        "# Tạo DataLoader\n",
        "data_loader = DataLoader(tensor_data, batch_size=batch_size, shuffle=False)"
      ],
      "metadata": {
        "id": "JiWrT7OWn-gB"
      },
      "execution_count": 303,
      "outputs": []
    },
    {
      "cell_type": "code",
      "source": [
        "# Use binary cross-entropy loss\n",
        "adversarial_loss = torch.nn.BCELoss().to(device)\n",
        "pixelwise_loss = torch.nn.L1Loss().to(device)\n",
        "\n",
        "# Initialize generator and discriminator\n",
        "encoder = Encoder(embedding).to(device)\n",
        "decoder = Decoder(embedding).to(device)\n",
        "discriminator = Discriminator().to(device)\n"
      ],
      "metadata": {
        "id": "sbKki3gkn_3y"
      },
      "execution_count": 304,
      "outputs": []
    },
    {
      "cell_type": "code",
      "source": [
        "# Optimizers\n",
        "optimizer_G = torch.optim.Adam(\n",
        "    itertools.chain(encoder.parameters(), decoder.parameters()), lr=0.0005\n",
        ")\n",
        "optimizer_D = torch.optim.Adam(discriminator.parameters(), lr=0.00005)"
      ],
      "metadata": {
        "id": "XYCr8AaHoBOx"
      },
      "execution_count": 305,
      "outputs": []
    },
    {
      "cell_type": "code",
      "source": [
        "# Khởi tạo list để lưu loss\n",
        "d_losses = []\n",
        "g_losses = []\n",
        "\n",
        "for epoch in range(n_epochs):\n",
        "    for i, imgs in enumerate(data_loader):\n",
        "\n",
        "        # Adversarial ground truths\n",
        "        valid = Variable(Tensor(imgs.shape[0], 1).fill_(1.0), requires_grad=False)\n",
        "        fake = Variable(Tensor(imgs.shape[0], 1).fill_(0.0), requires_grad=False)\n",
        "\n",
        "        # Configure input\n",
        "        real_imgs = Variable(imgs.type(Tensor)).to(device)\n",
        "\n",
        "        # -----------------\n",
        "        #  Train Generator\n",
        "        # -----------------\n",
        "\n",
        "        optimizer_G.zero_grad()\n",
        "        # print(real_imgs.shape)\n",
        "        encoded_imgs = encoder(real_imgs)\n",
        "        decoded_imgs = decoder(encoded_imgs)\n",
        "\n",
        "        # Loss measures generator's ability to fool the discriminator\n",
        "        g_loss = 0.001 * adversarial_loss(discriminator(encoded_imgs), valid) + 0.999 * pixelwise_loss(\n",
        "            decoded_imgs, real_imgs\n",
        "        )\n",
        "\n",
        "        g_loss.backward()\n",
        "        optimizer_G.step()\n",
        "\n",
        "        # ---------------------\n",
        "        #  Train Discriminator\n",
        "        # ---------------------\n",
        "\n",
        "        optimizer_D.zero_grad()\n",
        "\n",
        "        # Sample noise as discriminator ground truth\n",
        "        z = Variable(Tensor(np.random.normal(0, 1, (real_imgs.shape[0], latent_dim))))\n",
        "\n",
        "        # Measure discriminator's ability to classify real from generated samples\n",
        "        real_loss = adversarial_loss(discriminator(z), valid)\n",
        "        fake_loss = adversarial_loss(discriminator(encoded_imgs.detach()), fake)\n",
        "        d_loss = 0.5 * (real_loss + fake_loss)\n",
        "\n",
        "        d_loss.backward()\n",
        "        optimizer_D.step()\n",
        "\n",
        "        d_losses.append(d_loss.item())\n",
        "        g_losses.append(g_loss.item())\n",
        "\n",
        "        if (epoch + 1) % 5 == 0:\n",
        "          print(\n",
        "              \"[Epoch %d/%d] [Batch %d/%d] [D loss: %f] [G loss: %f]\"\n",
        "              % (epoch, n_epochs, i, len(data_loader), d_loss.item(), g_loss.item())\n",
        "          )"
      ],
      "metadata": {
        "colab": {
          "base_uri": "https://localhost:8080/"
        },
        "id": "pjUI7IAHoCl_",
        "outputId": "aa5c3c97-a8ba-4ee0-e238-2485a650f607"
      },
      "execution_count": 306,
      "outputs": [
        {
          "output_type": "stream",
          "name": "stdout",
          "text": [
            "[Epoch 4/100] [Batch 0/3] [D loss: 0.700267] [G loss: 0.201237]\n",
            "[Epoch 4/100] [Batch 1/3] [D loss: 0.673611] [G loss: 0.397608]\n",
            "[Epoch 4/100] [Batch 2/3] [D loss: 0.660546] [G loss: 0.400039]\n",
            "[Epoch 9/100] [Batch 0/3] [D loss: 0.640242] [G loss: 0.208857]\n",
            "[Epoch 9/100] [Batch 1/3] [D loss: 0.630500] [G loss: 0.329103]\n",
            "[Epoch 9/100] [Batch 2/3] [D loss: 0.645137] [G loss: 0.219168]\n",
            "[Epoch 14/100] [Batch 0/3] [D loss: 0.628979] [G loss: 0.119262]\n",
            "[Epoch 14/100] [Batch 1/3] [D loss: 0.614994] [G loss: 0.227046]\n",
            "[Epoch 14/100] [Batch 2/3] [D loss: 0.615232] [G loss: 0.069177]\n",
            "[Epoch 19/100] [Batch 0/3] [D loss: 0.631147] [G loss: 0.126982]\n",
            "[Epoch 19/100] [Batch 1/3] [D loss: 0.613009] [G loss: 0.216704]\n",
            "[Epoch 19/100] [Batch 2/3] [D loss: 0.627412] [G loss: 0.023480]\n",
            "[Epoch 24/100] [Batch 0/3] [D loss: 0.644454] [G loss: 0.136670]\n",
            "[Epoch 24/100] [Batch 1/3] [D loss: 0.624367] [G loss: 0.207488]\n",
            "[Epoch 24/100] [Batch 2/3] [D loss: 0.631400] [G loss: 0.028184]\n",
            "[Epoch 29/100] [Batch 0/3] [D loss: 0.614123] [G loss: 0.104247]\n",
            "[Epoch 29/100] [Batch 1/3] [D loss: 0.597141] [G loss: 0.186255]\n",
            "[Epoch 29/100] [Batch 2/3] [D loss: 0.547263] [G loss: 0.036303]\n",
            "[Epoch 34/100] [Batch 0/3] [D loss: 0.617534] [G loss: 0.103597]\n",
            "[Epoch 34/100] [Batch 1/3] [D loss: 0.599533] [G loss: 0.147409]\n",
            "[Epoch 34/100] [Batch 2/3] [D loss: 0.654255] [G loss: 0.021116]\n",
            "[Epoch 39/100] [Batch 0/3] [D loss: 0.623323] [G loss: 0.128626]\n",
            "[Epoch 39/100] [Batch 1/3] [D loss: 0.570763] [G loss: 0.121729]\n",
            "[Epoch 39/100] [Batch 2/3] [D loss: 0.633099] [G loss: 0.039127]\n",
            "[Epoch 44/100] [Batch 0/3] [D loss: 0.625793] [G loss: 0.086326]\n",
            "[Epoch 44/100] [Batch 1/3] [D loss: 0.611392] [G loss: 0.129776]\n",
            "[Epoch 44/100] [Batch 2/3] [D loss: 0.636599] [G loss: 0.037743]\n",
            "[Epoch 49/100] [Batch 0/3] [D loss: 0.611431] [G loss: 0.140254]\n",
            "[Epoch 49/100] [Batch 1/3] [D loss: 0.612919] [G loss: 0.131298]\n",
            "[Epoch 49/100] [Batch 2/3] [D loss: 0.687267] [G loss: 0.021840]\n",
            "[Epoch 54/100] [Batch 0/3] [D loss: 0.617674] [G loss: 0.078629]\n",
            "[Epoch 54/100] [Batch 1/3] [D loss: 0.599398] [G loss: 0.118657]\n",
            "[Epoch 54/100] [Batch 2/3] [D loss: 0.582848] [G loss: 0.044097]\n",
            "[Epoch 59/100] [Batch 0/3] [D loss: 0.584792] [G loss: 0.085631]\n",
            "[Epoch 59/100] [Batch 1/3] [D loss: 0.560666] [G loss: 0.106640]\n",
            "[Epoch 59/100] [Batch 2/3] [D loss: 0.572047] [G loss: 0.048398]\n",
            "[Epoch 64/100] [Batch 0/3] [D loss: 0.629363] [G loss: 0.081737]\n",
            "[Epoch 64/100] [Batch 1/3] [D loss: 0.607065] [G loss: 0.096262]\n",
            "[Epoch 64/100] [Batch 2/3] [D loss: 0.709491] [G loss: 0.025300]\n",
            "[Epoch 69/100] [Batch 0/3] [D loss: 0.594457] [G loss: 0.114337]\n",
            "[Epoch 69/100] [Batch 1/3] [D loss: 0.578329] [G loss: 0.082906]\n",
            "[Epoch 69/100] [Batch 2/3] [D loss: 0.605246] [G loss: 0.050668]\n",
            "[Epoch 74/100] [Batch 0/3] [D loss: 0.607576] [G loss: 0.112461]\n",
            "[Epoch 74/100] [Batch 1/3] [D loss: 0.591099] [G loss: 0.113555]\n",
            "[Epoch 74/100] [Batch 2/3] [D loss: 0.609034] [G loss: 0.020490]\n",
            "[Epoch 79/100] [Batch 0/3] [D loss: 0.600647] [G loss: 0.061024]\n",
            "[Epoch 79/100] [Batch 1/3] [D loss: 0.545926] [G loss: 0.134037]\n",
            "[Epoch 79/100] [Batch 2/3] [D loss: 0.611665] [G loss: 0.018739]\n",
            "[Epoch 84/100] [Batch 0/3] [D loss: 0.604056] [G loss: 0.098629]\n",
            "[Epoch 84/100] [Batch 1/3] [D loss: 0.575372] [G loss: 0.119250]\n",
            "[Epoch 84/100] [Batch 2/3] [D loss: 0.619121] [G loss: 0.029052]\n",
            "[Epoch 89/100] [Batch 0/3] [D loss: 0.600896] [G loss: 0.059546]\n",
            "[Epoch 89/100] [Batch 1/3] [D loss: 0.563741] [G loss: 0.114496]\n",
            "[Epoch 89/100] [Batch 2/3] [D loss: 0.600022] [G loss: 0.015471]\n",
            "[Epoch 94/100] [Batch 0/3] [D loss: 0.597513] [G loss: 0.065955]\n",
            "[Epoch 94/100] [Batch 1/3] [D loss: 0.569493] [G loss: 0.108952]\n",
            "[Epoch 94/100] [Batch 2/3] [D loss: 0.656798] [G loss: 0.016554]\n",
            "[Epoch 99/100] [Batch 0/3] [D loss: 0.593131] [G loss: 0.076359]\n",
            "[Epoch 99/100] [Batch 1/3] [D loss: 0.570796] [G loss: 0.090193]\n",
            "[Epoch 99/100] [Batch 2/3] [D loss: 0.653840] [G loss: 0.019542]\n"
          ]
        }
      ]
    },
    {
      "cell_type": "code",
      "source": [
        "import matplotlib.pyplot as plt\n",
        "# Vẽ biểu đồ Discriminator Loss\n",
        "plt.plot(range(len(d_losses)), d_losses, label='Discriminator Loss')\n",
        "plt.xlabel('Iterations')\n",
        "plt.ylabel('Loss')\n",
        "plt.legend()\n",
        "plt.title('Discriminator Loss')\n",
        "plt.show()\n"
      ],
      "metadata": {
        "colab": {
          "base_uri": "https://localhost:8080/",
          "height": 472
        },
        "id": "-NuhFQ8OoEnY",
        "outputId": "baba0fa8-3b30-4f87-f106-6a5306353c58"
      },
      "execution_count": 307,
      "outputs": [
        {
          "output_type": "display_data",
          "data": {
            "text/plain": [
              "<Figure size 640x480 with 1 Axes>"
            ],
            "image/png": "[encoded data removed]"
          },
          "metadata": {}
        }
      ]
    },
    {
      "cell_type": "code",
      "source": [
        "# Vẽ biểu đồ Generator Loss\n",
        "plt.plot(range(len(g_losses)), g_losses, label='Generator Loss')\n",
        "plt.xlabel('Iterations')\n",
        "plt.ylabel('Loss')\n",
        "plt.legend()\n",
        "plt.title('Generator Loss')\n",
        "plt.show()"
      ],
      "metadata": {
        "colab": {
          "base_uri": "https://localhost:8080/",
          "height": 472
        },
        "id": "u-LCcHKVoGFo",
        "outputId": "ef37e29d-edb9-41d1-a60e-107229a9e76a"
      },
      "execution_count": 308,
      "outputs": [
        {
          "output_type": "display_data",
          "data": {
            "text/plain": [
              "<Figure size 640x480 with 1 Axes>"
            ],
            "image/png": "[encoded data removed]"
          },
          "metadata": {}
        }
      ]
    },
    {
      "cell_type": "code",
      "source": [
        "# Chuyển đổi dữ liệu thành tensor\n",
        "tensor_data = torch.tensor(data_transform, dtype=torch.float32).to(device)\n",
        "latent_vectors = encoder(tensor_data)\n",
        "\n",
        "# reconstructed_data = decoder(latent_vectors)\n",
        "\n",
        "# # Chuyển đổi dữ liệu mới thành dạng ban đầu\n",
        "# generated_data = reconstructed_data.cpu().detach().numpy()\n"
      ],
      "metadata": {
        "id": "6qZxFTyRoHqh"
      },
      "execution_count": 309,
      "outputs": []
    },
    {
      "cell_type": "markdown",
      "source": [
        "### **Thuật toán LSTM**"
      ],
      "metadata": {
        "id": "0dcBW3Qexo1p"
      }
    },
    {
      "cell_type": "code",
      "source": [
        "# 1. Import thư viện cần thiết\n",
        "import numpy as np\n",
        "import pandas as pd\n",
        "import matplotlib.pyplot as plt\n",
        "from sklearn.preprocessing import MinMaxScaler\n",
        "from keras.models import Sequential\n",
        "from keras.layers import Dense, LSTM"
      ],
      "metadata": {
        "id": "y03VjZDkxyG2"
      },
      "execution_count": 310,
      "outputs": []
    },
    {
      "cell_type": "code",
      "source": [
        "# 4. Chia train test\n",
        "train_size = len(latent_vectors)\n",
        "train_data = latent_vectors\n"
      ],
      "metadata": {
        "id": "WZBMuS_Yx-Nu"
      },
      "execution_count": 311,
      "outputs": []
    },
    {
      "cell_type": "code",
      "source": [
        "scaler=MinMaxScaler(feature_range=(0,1))\n",
        "train_data=scaler.fit_transform(np.array(train_data.detach().numpy()).reshape(-1,1))"
      ],
      "metadata": {
        "id": "ySdZVi6JpLNU"
      },
      "execution_count": 312,
      "outputs": []
    },
    {
      "cell_type": "code",
      "source": [
        "# 5. Hàm Create Dataset\n",
        "import numpy\n",
        "# convert an array of values into a dataset matrix\n",
        "def create_dataset(dataset, time_step=1):\n",
        "\tdataX, dataY = [], []\n",
        "\tfor i in range(len(dataset)-time_step-1):\n",
        "\t\ta = dataset[i:(i+time_step), 0]   ###i=0, X=0,1,2,3-----99   Y=100 \n",
        "\t\tdataX.append(a)\n",
        "\t\tdataY.append(dataset[i + time_step, 0])\n",
        "\treturn numpy.array(dataX), numpy.array(dataY)"
      ],
      "metadata": {
        "id": "E1PQETg5yg9b"
      },
      "execution_count": 313,
      "outputs": []
    },
    {
      "cell_type": "code",
      "source": [
        "#6. Reshape into X=t,t+1,t+2..t+99 and Y=t+100\n",
        "\n",
        "time_step = 100\n",
        "X_train, y_train = create_dataset(train_data, time_step)\n",
        "X_val, yval = create_dataset(val_data, time_step)\n",
        "X_test, ytest = create_dataset(test_data, time_step)"
      ],
      "metadata": {
        "id": "dCPwg3VzyQTL"
      },
      "execution_count": 314,
      "outputs": []
    },
    {
      "cell_type": "code",
      "source": [
        "# 7. Reshape input to be [samples, time steps, features] which is required for LSTM\n",
        "X_train =X_train.reshape(X_train.shape[0],X_train.shape[1] , 1)\n",
        "X_test = X_test.reshape(X_test.shape[0],X_test.shape[1] , 1)\n",
        "X_val = X_val.reshape(X_val.shape[0],X_val.shape[1] , 1)"
      ],
      "metadata": {
        "id": "yHkaziFtyFBY"
      },
      "execution_count": 315,
      "outputs": []
    },
    {
      "cell_type": "code",
      "source": [
        "# 8. Define LSTM Model\n",
        "\n",
        "model=Sequential()\n",
        "model.add(LSTM(50,return_sequences=True,input_shape=(100,1)))\n",
        "model.add(LSTM(50,return_sequences=True))\n",
        "model.add(LSTM(50))\n",
        "model.add(Dense(1))\n",
        "model.compile(loss='mean_squared_error',optimizer='adam')"
      ],
      "metadata": {
        "id": "kK2cwsjPyGaw"
      },
      "execution_count": 316,
      "outputs": []
    },
    {
      "cell_type": "code",
      "source": [
        "# 9. Fit mô hình với dữ liệu train\n",
        "model.fit(X_train,y_train,validation_data=(X_test,ytest),epochs=100,batch_size=64,verbose=1)"
      ],
      "metadata": {
        "colab": {
          "base_uri": "https://localhost:8080/"
        },
        "id": "V6_32BVqyJG_",
        "outputId": "b790d1f5-bec0-454e-c2d4-115c7bdd387f"
      },
      "execution_count": 317,
      "outputs": [
        {
          "output_type": "stream",
          "name": "stdout",
          "text": [
            "Epoch 1/100\n",
            "15/15 [==============================] - 13s 441ms/step - loss: 0.0264 - val_loss: 0.0784\n",
            "Epoch 2/100\n",
            "15/15 [==============================] - 3s 209ms/step - loss: 0.0039 - val_loss: 0.0712\n",
            "Epoch 3/100\n",
            "15/15 [==============================] - 3s 216ms/step - loss: 0.0026 - val_loss: 0.0579\n",
            "Epoch 4/100\n",
            "15/15 [==============================] - 3s 215ms/step - loss: 0.0024 - val_loss: 0.0502\n",
            "Epoch 5/100\n",
            "15/15 [==============================] - 5s 325ms/step - loss: 0.0023 - val_loss: 0.0510\n",
            "Epoch 6/100\n",
            "15/15 [==============================] - 3s 206ms/step - loss: 0.0023 - val_loss: 0.0535\n",
            "Epoch 7/100\n",
            "15/15 [==============================] - 4s 252ms/step - loss: 0.0023 - val_loss: 0.0527\n",
            "Epoch 8/100\n",
            "15/15 [==============================] - 4s 244ms/step - loss: 0.0023 - val_loss: 0.0555\n",
            "Epoch 9/100\n",
            "15/15 [==============================] - 5s 342ms/step - loss: 0.0023 - val_loss: 0.0622\n",
            "Epoch 10/100\n",
            "15/15 [==============================] - 4s 244ms/step - loss: 0.0023 - val_loss: 0.0551\n",
            "Epoch 11/100\n",
            "15/15 [==============================] - 4s 273ms/step - loss: 0.0023 - val_loss: 0.0620\n",
            "Epoch 12/100\n",
            "15/15 [==============================] - 5s 319ms/step - loss: 0.0023 - val_loss: 0.0609\n",
            "Epoch 13/100\n",
            "15/15 [==============================] - 3s 226ms/step - loss: 0.0024 - val_loss: 0.0539\n",
            "Epoch 14/100\n",
            "15/15 [==============================] - 3s 211ms/step - loss: 0.0023 - val_loss: 0.0554\n",
            "Epoch 15/100\n",
            "15/15 [==============================] - 3s 210ms/step - loss: 0.0023 - val_loss: 0.0629\n",
            "Epoch 16/100\n",
            "15/15 [==============================] - 5s 331ms/step - loss: 0.0023 - val_loss: 0.0652\n",
            "Epoch 17/100\n",
            "15/15 [==============================] - 3s 218ms/step - loss: 0.0023 - val_loss: 0.0604\n",
            "Epoch 18/100\n",
            "15/15 [==============================] - 4s 304ms/step - loss: 0.0023 - val_loss: 0.0647\n",
            "Epoch 19/100\n",
            "15/15 [==============================] - 3s 225ms/step - loss: 0.0023 - val_loss: 0.0617\n",
            "Epoch 20/100\n",
            "15/15 [==============================] - 5s 323ms/step - loss: 0.0023 - val_loss: 0.0613\n",
            "Epoch 21/100\n",
            "15/15 [==============================] - 3s 213ms/step - loss: 0.0023 - val_loss: 0.0632\n",
            "Epoch 22/100\n",
            "15/15 [==============================] - 3s 212ms/step - loss: 0.0023 - val_loss: 0.0781\n",
            "Epoch 23/100\n",
            "15/15 [==============================] - 4s 240ms/step - loss: 0.0023 - val_loss: 0.0705\n",
            "Epoch 24/100\n",
            "15/15 [==============================] - 5s 310ms/step - loss: 0.0023 - val_loss: 0.0741\n",
            "Epoch 25/100\n",
            "15/15 [==============================] - 3s 210ms/step - loss: 0.0024 - val_loss: 0.0757\n",
            "Epoch 26/100\n",
            "15/15 [==============================] - 3s 211ms/step - loss: 0.0024 - val_loss: 0.0668\n",
            "Epoch 27/100\n",
            "15/15 [==============================] - 4s 249ms/step - loss: 0.0023 - val_loss: 0.0830\n",
            "Epoch 28/100\n",
            "15/15 [==============================] - 5s 307ms/step - loss: 0.0023 - val_loss: 0.0746\n",
            "Epoch 29/100\n",
            "15/15 [==============================] - 3s 211ms/step - loss: 0.0022 - val_loss: 0.0800\n",
            "Epoch 30/100\n",
            "15/15 [==============================] - 3s 212ms/step - loss: 0.0023 - val_loss: 0.0696\n",
            "Epoch 31/100\n",
            "15/15 [==============================] - 4s 252ms/step - loss: 0.0023 - val_loss: 0.0882\n",
            "Epoch 32/100\n",
            "15/15 [==============================] - 4s 297ms/step - loss: 0.0024 - val_loss: 0.0789\n",
            "Epoch 33/100\n",
            "15/15 [==============================] - 3s 211ms/step - loss: 0.0023 - val_loss: 0.0814\n",
            "Epoch 34/100\n",
            "15/15 [==============================] - 3s 209ms/step - loss: 0.0022 - val_loss: 0.0809\n",
            "Epoch 35/100\n",
            "15/15 [==============================] - 3s 234ms/step - loss: 0.0022 - val_loss: 0.0841\n",
            "Epoch 36/100\n",
            "15/15 [==============================] - 5s 311ms/step - loss: 0.0022 - val_loss: 0.0810\n",
            "Epoch 37/100\n",
            "15/15 [==============================] - 3s 211ms/step - loss: 0.0023 - val_loss: 0.0798\n",
            "Epoch 38/100\n",
            "15/15 [==============================] - 3s 212ms/step - loss: 0.0023 - val_loss: 0.0759\n",
            "Epoch 39/100\n",
            "15/15 [==============================] - 4s 244ms/step - loss: 0.0023 - val_loss: 0.0813\n",
            "Epoch 40/100\n",
            "15/15 [==============================] - 5s 308ms/step - loss: 0.0022 - val_loss: 0.0852\n",
            "Epoch 41/100\n",
            "15/15 [==============================] - 3s 210ms/step - loss: 0.0022 - val_loss: 0.0888\n",
            "Epoch 42/100\n",
            "15/15 [==============================] - 3s 211ms/step - loss: 0.0023 - val_loss: 0.0855\n",
            "Epoch 43/100\n",
            "15/15 [==============================] - 3s 231ms/step - loss: 0.0022 - val_loss: 0.0893\n",
            "Epoch 44/100\n",
            "15/15 [==============================] - 5s 318ms/step - loss: 0.0022 - val_loss: 0.0868\n",
            "Epoch 45/100\n",
            "15/15 [==============================] - 3s 208ms/step - loss: 0.0023 - val_loss: 0.0770\n",
            "Epoch 46/100\n",
            "15/15 [==============================] - 3s 211ms/step - loss: 0.0022 - val_loss: 0.0862\n",
            "Epoch 47/100\n",
            "15/15 [==============================] - 3s 218ms/step - loss: 0.0022 - val_loss: 0.0858\n",
            "Epoch 48/100\n",
            "15/15 [==============================] - 5s 329ms/step - loss: 0.0022 - val_loss: 0.0941\n",
            "Epoch 49/100\n",
            "15/15 [==============================] - 3s 210ms/step - loss: 0.0022 - val_loss: 0.0862\n",
            "Epoch 50/100\n",
            "15/15 [==============================] - 3s 211ms/step - loss: 0.0022 - val_loss: 0.0862\n",
            "Epoch 51/100\n",
            "15/15 [==============================] - 3s 216ms/step - loss: 0.0022 - val_loss: 0.0850\n",
            "Epoch 52/100\n",
            "15/15 [==============================] - 5s 335ms/step - loss: 0.0022 - val_loss: 0.0899\n",
            "Epoch 53/100\n",
            "15/15 [==============================] - 3s 211ms/step - loss: 0.0022 - val_loss: 0.0897\n",
            "Epoch 54/100\n",
            "15/15 [==============================] - 3s 210ms/step - loss: 0.0022 - val_loss: 0.0932\n",
            "Epoch 55/100\n",
            "15/15 [==============================] - 3s 211ms/step - loss: 0.0022 - val_loss: 0.0864\n",
            "Epoch 56/100\n",
            "15/15 [==============================] - 5s 341ms/step - loss: 0.0022 - val_loss: 0.0822\n",
            "Epoch 57/100\n",
            "15/15 [==============================] - 3s 211ms/step - loss: 0.0023 - val_loss: 0.1055\n",
            "Epoch 58/100\n",
            "15/15 [==============================] - 3s 211ms/step - loss: 0.0023 - val_loss: 0.0794\n",
            "Epoch 59/100\n",
            "15/15 [==============================] - 3s 212ms/step - loss: 0.0023 - val_loss: 0.0946\n",
            "Epoch 60/100\n",
            "15/15 [==============================] - 5s 349ms/step - loss: 0.0022 - val_loss: 0.0913\n",
            "Epoch 61/100\n",
            "15/15 [==============================] - 3s 212ms/step - loss: 0.0021 - val_loss: 0.0950\n",
            "Epoch 62/100\n",
            "15/15 [==============================] - 3s 218ms/step - loss: 0.0021 - val_loss: 0.0812\n",
            "Epoch 63/100\n",
            "15/15 [==============================] - 3s 213ms/step - loss: 0.0022 - val_loss: 0.0990\n",
            "Epoch 64/100\n",
            "15/15 [==============================] - 5s 348ms/step - loss: 0.0021 - val_loss: 0.0910\n",
            "Epoch 65/100\n",
            "15/15 [==============================] - 3s 208ms/step - loss: 0.0021 - val_loss: 0.0848\n",
            "Epoch 66/100\n",
            "15/15 [==============================] - 3s 210ms/step - loss: 0.0022 - val_loss: 0.0871\n",
            "Epoch 67/100\n",
            "15/15 [==============================] - 3s 215ms/step - loss: 0.0023 - val_loss: 0.0960\n",
            "Epoch 68/100\n",
            "15/15 [==============================] - 5s 346ms/step - loss: 0.0021 - val_loss: 0.0763\n",
            "Epoch 69/100\n",
            "15/15 [==============================] - 3s 210ms/step - loss: 0.0022 - val_loss: 0.1020\n",
            "Epoch 70/100\n",
            "15/15 [==============================] - 3s 210ms/step - loss: 0.0022 - val_loss: 0.0926\n",
            "Epoch 71/100\n",
            "15/15 [==============================] - 3s 212ms/step - loss: 0.0022 - val_loss: 0.0997\n",
            "Epoch 72/100\n",
            "15/15 [==============================] - 5s 361ms/step - loss: 0.0023 - val_loss: 0.0783\n",
            "Epoch 73/100\n",
            "15/15 [==============================] - 3s 211ms/step - loss: 0.0022 - val_loss: 0.1010\n",
            "Epoch 74/100\n",
            "15/15 [==============================] - 3s 213ms/step - loss: 0.0021 - val_loss: 0.0852\n",
            "Epoch 75/100\n",
            "15/15 [==============================] - 3s 212ms/step - loss: 0.0021 - val_loss: 0.0988\n",
            "Epoch 76/100\n",
            "15/15 [==============================] - 5s 362ms/step - loss: 0.0020 - val_loss: 0.1008\n",
            "Epoch 77/100\n",
            "15/15 [==============================] - 3s 211ms/step - loss: 0.0021 - val_loss: 0.0855\n",
            "Epoch 78/100\n",
            "15/15 [==============================] - 3s 213ms/step - loss: 0.0021 - val_loss: 0.0845\n",
            "Epoch 79/100\n",
            "15/15 [==============================] - 3s 211ms/step - loss: 0.0021 - val_loss: 0.0902\n",
            "Epoch 80/100\n",
            "15/15 [==============================] - 5s 347ms/step - loss: 0.0020 - val_loss: 0.0911\n",
            "Epoch 81/100\n",
            "15/15 [==============================] - 3s 210ms/step - loss: 0.0020 - val_loss: 0.1085\n",
            "Epoch 82/100\n",
            "15/15 [==============================] - 3s 211ms/step - loss: 0.0021 - val_loss: 0.0862\n",
            "Epoch 83/100\n",
            "15/15 [==============================] - 3s 209ms/step - loss: 0.0021 - val_loss: 0.0945\n",
            "Epoch 84/100\n",
            "15/15 [==============================] - 5s 333ms/step - loss: 0.0021 - val_loss: 0.0837\n",
            "Epoch 85/100\n",
            "15/15 [==============================] - 3s 211ms/step - loss: 0.0020 - val_loss: 0.0869\n",
            "Epoch 86/100\n",
            "15/15 [==============================] - 3s 209ms/step - loss: 0.0020 - val_loss: 0.0834\n",
            "Epoch 87/100\n",
            "15/15 [==============================] - 3s 211ms/step - loss: 0.0021 - val_loss: 0.0945\n",
            "Epoch 88/100\n",
            "15/15 [==============================] - 5s 330ms/step - loss: 0.0020 - val_loss: 0.0830\n",
            "Epoch 89/100\n",
            "15/15 [==============================] - 3s 218ms/step - loss: 0.0021 - val_loss: 0.1007\n",
            "Epoch 90/100\n",
            "15/15 [==============================] - 3s 210ms/step - loss: 0.0021 - val_loss: 0.0793\n",
            "Epoch 91/100\n",
            "15/15 [==============================] - 3s 209ms/step - loss: 0.0021 - val_loss: 0.1032\n",
            "Epoch 92/100\n",
            "15/15 [==============================] - 5s 321ms/step - loss: 0.0021 - val_loss: 0.0831\n",
            "Epoch 93/100\n",
            "15/15 [==============================] - 3s 225ms/step - loss: 0.0023 - val_loss: 0.1048\n",
            "Epoch 94/100\n",
            "15/15 [==============================] - 3s 212ms/step - loss: 0.0021 - val_loss: 0.0684\n",
            "Epoch 95/100\n",
            "15/15 [==============================] - 3s 210ms/step - loss: 0.0023 - val_loss: 0.1033\n",
            "Epoch 96/100\n",
            "15/15 [==============================] - 5s 309ms/step - loss: 0.0022 - val_loss: 0.0752\n",
            "Epoch 97/100\n",
            "15/15 [==============================] - 4s 237ms/step - loss: 0.0021 - val_loss: 0.0875\n",
            "Epoch 98/100\n",
            "15/15 [==============================] - 3s 211ms/step - loss: 0.0020 - val_loss: 0.0981\n",
            "Epoch 99/100\n",
            "15/15 [==============================] - 3s 211ms/step - loss: 0.0021 - val_loss: 0.0820\n",
            "Epoch 100/100\n",
            "15/15 [==============================] - 5s 322ms/step - loss: 0.0020 - val_loss: 0.0826\n"
          ]
        },
        {
          "output_type": "execute_result",
          "data": {
            "text/plain": [
              "<keras.callbacks.History at 0x7f474124eda0>"
            ]
          },
          "metadata": {},
          "execution_count": 317
        }
      ]
    },
    {
      "cell_type": "code",
      "source": [
        "# 10. Dự báo dữ liệu test, val\n",
        "train_predict=model.predict(X_train)\n",
        "y_pred=model.predict(X_test)\n",
        "y_pred_val=model.predict(X_val)\n"
      ],
      "metadata": {
        "colab": {
          "base_uri": "https://localhost:8080/"
        },
        "id": "u4pWX-kmyLpI",
        "outputId": "29310933-c3c1-47c2-f0ba-3c97b93af4ed"
      },
      "execution_count": 318,
      "outputs": [
        {
          "output_type": "stream",
          "name": "stdout",
          "text": [
            "30/30 [==============================] - 3s 57ms/step\n",
            "7/7 [==============================] - 0s 42ms/step\n",
            "2/2 [==============================] - 0s 42ms/step\n"
          ]
        }
      ]
    },
    {
      "cell_type": "code",
      "source": [
        "# 11. Chuẩn hóa dữ liệu y_pred, y_pred_val\n",
        "train_predict=scaler.inverse_transform(train_predict)\n",
        "y_pred=scaler.inverse_transform(y_pred)\n",
        "y_pred_val=scaler.inverse_transform(y_pred_val)"
      ],
      "metadata": {
        "id": "qLh7pfL4yNVA"
      },
      "execution_count": 319,
      "outputs": []
    },
    {
      "cell_type": "code",
      "source": [
        "# 12. Đánh giá độ chính xác thuật toán bằng RMSE\n",
        "valid_rmse = np.sqrt(np.mean((y_pred_val - yval)**2))\n",
        "test_rmse = np.sqrt(np.mean((y_pred - ytest)**2))\n",
        "print('Validation RMSE:', valid_rmse)\n",
        "print('Testing RMSE:', test_rmse)"
      ],
      "metadata": {
        "colab": {
          "base_uri": "https://localhost:8080/"
        },
        "id": "-SKKTRIEyQHI",
        "outputId": "57cf45c9-d4b5-4489-a3af-ab06195f29d4"
      },
      "execution_count": 320,
      "outputs": [
        {
          "output_type": "stream",
          "name": "stdout",
          "text": [
            "Validation RMSE: 26.198356439948274\n",
            "Testing RMSE: 26.752785017087696\n"
          ]
        }
      ]
    },
    {
      "cell_type": "code",
      "source": [
        "# 13. Dự báo 30 ngày tiếp theo\n",
        "x_input=val_data[60:].reshape(1,-1)\n",
        "x_input.shape\n",
        "\n",
        "temp_input=list(x_input)\n",
        "temp_input=temp_input[0].tolist()\n",
        "\n",
        "from numpy import array\n",
        "\n",
        "lst_output=[]\n",
        "n_steps=100\n",
        "i=0\n",
        "while(i<30):\n",
        "    if(len(temp_input)>100):\n",
        "        #print(temp_input)\n",
        "        x_input=np.array(temp_input[1:])\n",
        "        print(\"{} day input {}\".format(i,x_input))\n",
        "        x_input=x_input.reshape(1,-1)\n",
        "        x_input = x_input.reshape((1, n_steps, 1))\n",
        "        #print(x_input)\n",
        "        yhat = model.predict(x_input, verbose=0)\n",
        "        print(\"{} day output {}\".format(i,yhat))\n",
        "        temp_input.extend(yhat[0].tolist())\n",
        "        temp_input=temp_input[1:]\n",
        "        #print(temp_input)\n",
        "        lst_output.extend(yhat.tolist())\n",
        "        i=i+1\n",
        "    else:\n",
        "        x_input = x_input.reshape((1, 91,1))\n",
        "        yhat = model.predict(x_input, verbose=0)\n",
        "        print(yhat[0])\n",
        "        temp_input.extend(yhat[0].tolist())\n",
        "        print(len(temp_input))\n",
        "        lst_output.extend(yhat.tolist())\n",
        "        i=i+1\n"
      ],
      "metadata": {
        "colab": {
          "base_uri": "https://localhost:8080/"
        },
        "id": "3fTb1tsiyRnA",
        "outputId": "3d7c79a1-8ab4-4355-9f4e-d0bc3ec1833e"
      },
      "execution_count": 321,
      "outputs": [
        {
          "output_type": "stream",
          "name": "stdout",
          "text": [
            "[0.63328326]\n",
            "92\n",
            "[0.63328326]\n",
            "93\n",
            "[0.63328326]\n",
            "94\n",
            "[0.63328326]\n",
            "95\n",
            "[0.63328326]\n",
            "96\n",
            "[0.63328326]\n",
            "97\n",
            "[0.63328326]\n",
            "98\n",
            "[0.63328326]\n",
            "99\n",
            "[0.63328326]\n",
            "100\n",
            "[0.63328326]\n",
            "101\n",
            "10 day input [0.90673575 0.90479275 0.90414508 0.90932642 0.90349741 0.90479275\n",
            " 0.9015544  0.89831606 0.90090674 0.93588083 0.92810881 0.92163212\n",
            " 0.9138601  0.90803109 0.90932642 0.90284974 0.89248705 0.8892487\n",
            " 0.88471503 0.8873057  0.88601036 0.8892487  0.875      0.87759067\n",
            " 0.88536269 0.88536269 0.90284974 0.89702073 0.87759067 0.87823834\n",
            " 0.88471503 0.88082902 0.88212435 0.88277202 0.8873057  0.88406736\n",
            " 0.88601036 0.88536269 0.89572539 0.89766839 0.90608808 0.88989637\n",
            " 0.89507772 0.90414508 0.89572539 0.89183938 0.89183938 0.88665803\n",
            " 0.88406736 0.88536269 0.89313472 0.88341969 0.88536269 0.89378238\n",
            " 0.89378238 0.90414508 0.90608808 0.89831606 0.89119171 0.89183938\n",
            " 0.90673575 0.91256477 0.90479275 0.91645078 0.91645078 0.90997409\n",
            " 0.91256477 0.93134715 0.93911917 0.9384715  0.92681347 0.92810881\n",
            " 0.93393782 0.95595855 0.96632124 0.96696891 0.96955959 0.95984456\n",
            " 0.96826425 0.96696891 0.95401554 0.94624352 0.94559585 0.94041451\n",
            " 0.93782383 0.92487047 0.91580311 0.90932642 0.91062176 0.91968912\n",
            " 0.63328326 0.63328326 0.63328326 0.63328326 0.63328326 0.63328326\n",
            " 0.63328326 0.63328326 0.63328326 0.63328326]\n",
            "10 day output [[0.4915576]]\n",
            "11 day input [0.90479275 0.90414508 0.90932642 0.90349741 0.90479275 0.9015544\n",
            " 0.89831606 0.90090674 0.93588083 0.92810881 0.92163212 0.9138601\n",
            " 0.90803109 0.90932642 0.90284974 0.89248705 0.8892487  0.88471503\n",
            " 0.8873057  0.88601036 0.8892487  0.875      0.87759067 0.88536269\n",
            " 0.88536269 0.90284974 0.89702073 0.87759067 0.87823834 0.88471503\n",
            " 0.88082902 0.88212435 0.88277202 0.8873057  0.88406736 0.88601036\n",
            " 0.88536269 0.89572539 0.89766839 0.90608808 0.88989637 0.89507772\n",
            " 0.90414508 0.89572539 0.89183938 0.89183938 0.88665803 0.88406736\n",
            " 0.88536269 0.89313472 0.88341969 0.88536269 0.89378238 0.89378238\n",
            " 0.90414508 0.90608808 0.89831606 0.89119171 0.89183938 0.90673575\n",
            " 0.91256477 0.90479275 0.91645078 0.91645078 0.90997409 0.91256477\n",
            " 0.93134715 0.93911917 0.9384715  0.92681347 0.92810881 0.93393782\n",
            " 0.95595855 0.96632124 0.96696891 0.96955959 0.95984456 0.96826425\n",
            " 0.96696891 0.95401554 0.94624352 0.94559585 0.94041451 0.93782383\n",
            " 0.92487047 0.91580311 0.90932642 0.91062176 0.91968912 0.63328326\n",
            " 0.63328326 0.63328326 0.63328326 0.63328326 0.63328326 0.63328326\n",
            " 0.63328326 0.63328326 0.63328326 0.4915576 ]\n",
            "11 day output [[0.49307013]]\n",
            "12 day input [0.90414508 0.90932642 0.90349741 0.90479275 0.9015544  0.89831606\n",
            " 0.90090674 0.93588083 0.92810881 0.92163212 0.9138601  0.90803109\n",
            " 0.90932642 0.90284974 0.89248705 0.8892487  0.88471503 0.8873057\n",
            " 0.88601036 0.8892487  0.875      0.87759067 0.88536269 0.88536269\n",
            " 0.90284974 0.89702073 0.87759067 0.87823834 0.88471503 0.88082902\n",
            " 0.88212435 0.88277202 0.8873057  0.88406736 0.88601036 0.88536269\n",
            " 0.89572539 0.89766839 0.90608808 0.88989637 0.89507772 0.90414508\n",
            " 0.89572539 0.89183938 0.89183938 0.88665803 0.88406736 0.88536269\n",
            " 0.89313472 0.88341969 0.88536269 0.89378238 0.89378238 0.90414508\n",
            " 0.90608808 0.89831606 0.89119171 0.89183938 0.90673575 0.91256477\n",
            " 0.90479275 0.91645078 0.91645078 0.90997409 0.91256477 0.93134715\n",
            " 0.93911917 0.9384715  0.92681347 0.92810881 0.93393782 0.95595855\n",
            " 0.96632124 0.96696891 0.96955959 0.95984456 0.96826425 0.96696891\n",
            " 0.95401554 0.94624352 0.94559585 0.94041451 0.93782383 0.92487047\n",
            " 0.91580311 0.90932642 0.91062176 0.91968912 0.63328326 0.63328326\n",
            " 0.63328326 0.63328326 0.63328326 0.63328326 0.63328326 0.63328326\n",
            " 0.63328326 0.63328326 0.4915576  0.49307013]\n",
            "12 day output [[0.49067864]]\n",
            "13 day input [0.90932642 0.90349741 0.90479275 0.9015544  0.89831606 0.90090674\n",
            " 0.93588083 0.92810881 0.92163212 0.9138601  0.90803109 0.90932642\n",
            " 0.90284974 0.89248705 0.8892487  0.88471503 0.8873057  0.88601036\n",
            " 0.8892487  0.875      0.87759067 0.88536269 0.88536269 0.90284974\n",
            " 0.89702073 0.87759067 0.87823834 0.88471503 0.88082902 0.88212435\n",
            " 0.88277202 0.8873057  0.88406736 0.88601036 0.88536269 0.89572539\n",
            " 0.89766839 0.90608808 0.88989637 0.89507772 0.90414508 0.89572539\n",
            " 0.89183938 0.89183938 0.88665803 0.88406736 0.88536269 0.89313472\n",
            " 0.88341969 0.88536269 0.89378238 0.89378238 0.90414508 0.90608808\n",
            " 0.89831606 0.89119171 0.89183938 0.90673575 0.91256477 0.90479275\n",
            " 0.91645078 0.91645078 0.90997409 0.91256477 0.93134715 0.93911917\n",
            " 0.9384715  0.92681347 0.92810881 0.93393782 0.95595855 0.96632124\n",
            " 0.96696891 0.96955959 0.95984456 0.96826425 0.96696891 0.95401554\n",
            " 0.94624352 0.94559585 0.94041451 0.93782383 0.92487047 0.91580311\n",
            " 0.90932642 0.91062176 0.91968912 0.63328326 0.63328326 0.63328326\n",
            " 0.63328326 0.63328326 0.63328326 0.63328326 0.63328326 0.63328326\n",
            " 0.63328326 0.4915576  0.49307013 0.49067864]\n",
            "13 day output [[0.48529643]]\n",
            "14 day input [0.90349741 0.90479275 0.9015544  0.89831606 0.90090674 0.93588083\n",
            " 0.92810881 0.92163212 0.9138601  0.90803109 0.90932642 0.90284974\n",
            " 0.89248705 0.8892487  0.88471503 0.8873057  0.88601036 0.8892487\n",
            " 0.875      0.87759067 0.88536269 0.88536269 0.90284974 0.89702073\n",
            " 0.87759067 0.87823834 0.88471503 0.88082902 0.88212435 0.88277202\n",
            " 0.8873057  0.88406736 0.88601036 0.88536269 0.89572539 0.89766839\n",
            " 0.90608808 0.88989637 0.89507772 0.90414508 0.89572539 0.89183938\n",
            " 0.89183938 0.88665803 0.88406736 0.88536269 0.89313472 0.88341969\n",
            " 0.88536269 0.89378238 0.89378238 0.90414508 0.90608808 0.89831606\n",
            " 0.89119171 0.89183938 0.90673575 0.91256477 0.90479275 0.91645078\n",
            " 0.91645078 0.90997409 0.91256477 0.93134715 0.93911917 0.9384715\n",
            " 0.92681347 0.92810881 0.93393782 0.95595855 0.96632124 0.96696891\n",
            " 0.96955959 0.95984456 0.96826425 0.96696891 0.95401554 0.94624352\n",
            " 0.94559585 0.94041451 0.93782383 0.92487047 0.91580311 0.90932642\n",
            " 0.91062176 0.91968912 0.63328326 0.63328326 0.63328326 0.63328326\n",
            " 0.63328326 0.63328326 0.63328326 0.63328326 0.63328326 0.63328326\n",
            " 0.4915576  0.49307013 0.49067864 0.48529643]\n",
            "14 day output [[0.47839227]]\n",
            "15 day input [0.90479275 0.9015544  0.89831606 0.90090674 0.93588083 0.92810881\n",
            " 0.92163212 0.9138601  0.90803109 0.90932642 0.90284974 0.89248705\n",
            " 0.8892487  0.88471503 0.8873057  0.88601036 0.8892487  0.875\n",
            " 0.87759067 0.88536269 0.88536269 0.90284974 0.89702073 0.87759067\n",
            " 0.87823834 0.88471503 0.88082902 0.88212435 0.88277202 0.8873057\n",
            " 0.88406736 0.88601036 0.88536269 0.89572539 0.89766839 0.90608808\n",
            " 0.88989637 0.89507772 0.90414508 0.89572539 0.89183938 0.89183938\n",
            " 0.88665803 0.88406736 0.88536269 0.89313472 0.88341969 0.88536269\n",
            " 0.89378238 0.89378238 0.90414508 0.90608808 0.89831606 0.89119171\n",
            " 0.89183938 0.90673575 0.91256477 0.90479275 0.91645078 0.91645078\n",
            " 0.90997409 0.91256477 0.93134715 0.93911917 0.9384715  0.92681347\n",
            " 0.92810881 0.93393782 0.95595855 0.96632124 0.96696891 0.96955959\n",
            " 0.95984456 0.96826425 0.96696891 0.95401554 0.94624352 0.94559585\n",
            " 0.94041451 0.93782383 0.92487047 0.91580311 0.90932642 0.91062176\n",
            " 0.91968912 0.63328326 0.63328326 0.63328326 0.63328326 0.63328326\n",
            " 0.63328326 0.63328326 0.63328326 0.63328326 0.63328326 0.4915576\n",
            " 0.49307013 0.49067864 0.48529643 0.47839227]\n",
            "15 day output [[0.47130534]]\n",
            "16 day input [0.9015544  0.89831606 0.90090674 0.93588083 0.92810881 0.92163212\n",
            " 0.9138601  0.90803109 0.90932642 0.90284974 0.89248705 0.8892487\n",
            " 0.88471503 0.8873057  0.88601036 0.8892487  0.875      0.87759067\n",
            " 0.88536269 0.88536269 0.90284974 0.89702073 0.87759067 0.87823834\n",
            " 0.88471503 0.88082902 0.88212435 0.88277202 0.8873057  0.88406736\n",
            " 0.88601036 0.88536269 0.89572539 0.89766839 0.90608808 0.88989637\n",
            " 0.89507772 0.90414508 0.89572539 0.89183938 0.89183938 0.88665803\n",
            " 0.88406736 0.88536269 0.89313472 0.88341969 0.88536269 0.89378238\n",
            " 0.89378238 0.90414508 0.90608808 0.89831606 0.89119171 0.89183938\n",
            " 0.90673575 0.91256477 0.90479275 0.91645078 0.91645078 0.90997409\n",
            " 0.91256477 0.93134715 0.93911917 0.9384715  0.92681347 0.92810881\n",
            " 0.93393782 0.95595855 0.96632124 0.96696891 0.96955959 0.95984456\n",
            " 0.96826425 0.96696891 0.95401554 0.94624352 0.94559585 0.94041451\n",
            " 0.93782383 0.92487047 0.91580311 0.90932642 0.91062176 0.91968912\n",
            " 0.63328326 0.63328326 0.63328326 0.63328326 0.63328326 0.63328326\n",
            " 0.63328326 0.63328326 0.63328326 0.63328326 0.4915576  0.49307013\n",
            " 0.49067864 0.48529643 0.47839227 0.47130534]\n",
            "16 day output [[0.46499518]]\n",
            "17 day input [0.89831606 0.90090674 0.93588083 0.92810881 0.92163212 0.9138601\n",
            " 0.90803109 0.90932642 0.90284974 0.89248705 0.8892487  0.88471503\n",
            " 0.8873057  0.88601036 0.8892487  0.875      0.87759067 0.88536269\n",
            " 0.88536269 0.90284974 0.89702073 0.87759067 0.87823834 0.88471503\n",
            " 0.88082902 0.88212435 0.88277202 0.8873057  0.88406736 0.88601036\n",
            " 0.88536269 0.89572539 0.89766839 0.90608808 0.88989637 0.89507772\n",
            " 0.90414508 0.89572539 0.89183938 0.89183938 0.88665803 0.88406736\n",
            " 0.88536269 0.89313472 0.88341969 0.88536269 0.89378238 0.89378238\n",
            " 0.90414508 0.90608808 0.89831606 0.89119171 0.89183938 0.90673575\n",
            " 0.91256477 0.90479275 0.91645078 0.91645078 0.90997409 0.91256477\n",
            " 0.93134715 0.93911917 0.9384715  0.92681347 0.92810881 0.93393782\n",
            " 0.95595855 0.96632124 0.96696891 0.96955959 0.95984456 0.96826425\n",
            " 0.96696891 0.95401554 0.94624352 0.94559585 0.94041451 0.93782383\n",
            " 0.92487047 0.91580311 0.90932642 0.91062176 0.91968912 0.63328326\n",
            " 0.63328326 0.63328326 0.63328326 0.63328326 0.63328326 0.63328326\n",
            " 0.63328326 0.63328326 0.63328326 0.4915576  0.49307013 0.49067864\n",
            " 0.48529643 0.47839227 0.47130534 0.46499518]\n",
            "17 day output [[0.46001923]]\n",
            "18 day input [0.90090674 0.93588083 0.92810881 0.92163212 0.9138601  0.90803109\n",
            " 0.90932642 0.90284974 0.89248705 0.8892487  0.88471503 0.8873057\n",
            " 0.88601036 0.8892487  0.875      0.87759067 0.88536269 0.88536269\n",
            " 0.90284974 0.89702073 0.87759067 0.87823834 0.88471503 0.88082902\n",
            " 0.88212435 0.88277202 0.8873057  0.88406736 0.88601036 0.88536269\n",
            " 0.89572539 0.89766839 0.90608808 0.88989637 0.89507772 0.90414508\n",
            " 0.89572539 0.89183938 0.89183938 0.88665803 0.88406736 0.88536269\n",
            " 0.89313472 0.88341969 0.88536269 0.89378238 0.89378238 0.90414508\n",
            " 0.90608808 0.89831606 0.89119171 0.89183938 0.90673575 0.91256477\n",
            " 0.90479275 0.91645078 0.91645078 0.90997409 0.91256477 0.93134715\n",
            " 0.93911917 0.9384715  0.92681347 0.92810881 0.93393782 0.95595855\n",
            " 0.96632124 0.96696891 0.96955959 0.95984456 0.96826425 0.96696891\n",
            " 0.95401554 0.94624352 0.94559585 0.94041451 0.93782383 0.92487047\n",
            " 0.91580311 0.90932642 0.91062176 0.91968912 0.63328326 0.63328326\n",
            " 0.63328326 0.63328326 0.63328326 0.63328326 0.63328326 0.63328326\n",
            " 0.63328326 0.63328326 0.4915576  0.49307013 0.49067864 0.48529643\n",
            " 0.47839227 0.47130534 0.46499518 0.46001923]\n",
            "18 day output [[0.45660523]]\n",
            "19 day input [0.93588083 0.92810881 0.92163212 0.9138601  0.90803109 0.90932642\n",
            " 0.90284974 0.89248705 0.8892487  0.88471503 0.8873057  0.88601036\n",
            " 0.8892487  0.875      0.87759067 0.88536269 0.88536269 0.90284974\n",
            " 0.89702073 0.87759067 0.87823834 0.88471503 0.88082902 0.88212435\n",
            " 0.88277202 0.8873057  0.88406736 0.88601036 0.88536269 0.89572539\n",
            " 0.89766839 0.90608808 0.88989637 0.89507772 0.90414508 0.89572539\n",
            " 0.89183938 0.89183938 0.88665803 0.88406736 0.88536269 0.89313472\n",
            " 0.88341969 0.88536269 0.89378238 0.89378238 0.90414508 0.90608808\n",
            " 0.89831606 0.89119171 0.89183938 0.90673575 0.91256477 0.90479275\n",
            " 0.91645078 0.91645078 0.90997409 0.91256477 0.93134715 0.93911917\n",
            " 0.9384715  0.92681347 0.92810881 0.93393782 0.95595855 0.96632124\n",
            " 0.96696891 0.96955959 0.95984456 0.96826425 0.96696891 0.95401554\n",
            " 0.94624352 0.94559585 0.94041451 0.93782383 0.92487047 0.91580311\n",
            " 0.90932642 0.91062176 0.91968912 0.63328326 0.63328326 0.63328326\n",
            " 0.63328326 0.63328326 0.63328326 0.63328326 0.63328326 0.63328326\n",
            " 0.63328326 0.4915576  0.49307013 0.49067864 0.48529643 0.47839227\n",
            " 0.47130534 0.46499518 0.46001923 0.45660523]\n",
            "19 day output [[0.4547498]]\n",
            "20 day input [0.92810881 0.92163212 0.9138601  0.90803109 0.90932642 0.90284974\n",
            " 0.89248705 0.8892487  0.88471503 0.8873057  0.88601036 0.8892487\n",
            " 0.875      0.87759067 0.88536269 0.88536269 0.90284974 0.89702073\n",
            " 0.87759067 0.87823834 0.88471503 0.88082902 0.88212435 0.88277202\n",
            " 0.8873057  0.88406736 0.88601036 0.88536269 0.89572539 0.89766839\n",
            " 0.90608808 0.88989637 0.89507772 0.90414508 0.89572539 0.89183938\n",
            " 0.89183938 0.88665803 0.88406736 0.88536269 0.89313472 0.88341969\n",
            " 0.88536269 0.89378238 0.89378238 0.90414508 0.90608808 0.89831606\n",
            " 0.89119171 0.89183938 0.90673575 0.91256477 0.90479275 0.91645078\n",
            " 0.91645078 0.90997409 0.91256477 0.93134715 0.93911917 0.9384715\n",
            " 0.92681347 0.92810881 0.93393782 0.95595855 0.96632124 0.96696891\n",
            " 0.96955959 0.95984456 0.96826425 0.96696891 0.95401554 0.94624352\n",
            " 0.94559585 0.94041451 0.93782383 0.92487047 0.91580311 0.90932642\n",
            " 0.91062176 0.91968912 0.63328326 0.63328326 0.63328326 0.63328326\n",
            " 0.63328326 0.63328326 0.63328326 0.63328326 0.63328326 0.63328326\n",
            " 0.4915576  0.49307013 0.49067864 0.48529643 0.47839227 0.47130534\n",
            " 0.46499518 0.46001923 0.45660523 0.45474979]\n",
            "20 day output [[0.45430523]]\n",
            "21 day input [0.92163212 0.9138601  0.90803109 0.90932642 0.90284974 0.89248705\n",
            " 0.8892487  0.88471503 0.8873057  0.88601036 0.8892487  0.875\n",
            " 0.87759067 0.88536269 0.88536269 0.90284974 0.89702073 0.87759067\n",
            " 0.87823834 0.88471503 0.88082902 0.88212435 0.88277202 0.8873057\n",
            " 0.88406736 0.88601036 0.88536269 0.89572539 0.89766839 0.90608808\n",
            " 0.88989637 0.89507772 0.90414508 0.89572539 0.89183938 0.89183938\n",
            " 0.88665803 0.88406736 0.88536269 0.89313472 0.88341969 0.88536269\n",
            " 0.89378238 0.89378238 0.90414508 0.90608808 0.89831606 0.89119171\n",
            " 0.89183938 0.90673575 0.91256477 0.90479275 0.91645078 0.91645078\n",
            " 0.90997409 0.91256477 0.93134715 0.93911917 0.9384715  0.92681347\n",
            " 0.92810881 0.93393782 0.95595855 0.96632124 0.96696891 0.96955959\n",
            " 0.95984456 0.96826425 0.96696891 0.95401554 0.94624352 0.94559585\n",
            " 0.94041451 0.93782383 0.92487047 0.91580311 0.90932642 0.91062176\n",
            " 0.91968912 0.63328326 0.63328326 0.63328326 0.63328326 0.63328326\n",
            " 0.63328326 0.63328326 0.63328326 0.63328326 0.63328326 0.4915576\n",
            " 0.49307013 0.49067864 0.48529643 0.47839227 0.47130534 0.46499518\n",
            " 0.46001923 0.45660523 0.45474979 0.45430523]\n",
            "21 day output [[0.4550461]]\n",
            "22 day input [0.9138601  0.90803109 0.90932642 0.90284974 0.89248705 0.8892487\n",
            " 0.88471503 0.8873057  0.88601036 0.8892487  0.875      0.87759067\n",
            " 0.88536269 0.88536269 0.90284974 0.89702073 0.87759067 0.87823834\n",
            " 0.88471503 0.88082902 0.88212435 0.88277202 0.8873057  0.88406736\n",
            " 0.88601036 0.88536269 0.89572539 0.89766839 0.90608808 0.88989637\n",
            " 0.89507772 0.90414508 0.89572539 0.89183938 0.89183938 0.88665803\n",
            " 0.88406736 0.88536269 0.89313472 0.88341969 0.88536269 0.89378238\n",
            " 0.89378238 0.90414508 0.90608808 0.89831606 0.89119171 0.89183938\n",
            " 0.90673575 0.91256477 0.90479275 0.91645078 0.91645078 0.90997409\n",
            " 0.91256477 0.93134715 0.93911917 0.9384715  0.92681347 0.92810881\n",
            " 0.93393782 0.95595855 0.96632124 0.96696891 0.96955959 0.95984456\n",
            " 0.96826425 0.96696891 0.95401554 0.94624352 0.94559585 0.94041451\n",
            " 0.93782383 0.92487047 0.91580311 0.90932642 0.91062176 0.91968912\n",
            " 0.63328326 0.63328326 0.63328326 0.63328326 0.63328326 0.63328326\n",
            " 0.63328326 0.63328326 0.63328326 0.63328326 0.4915576  0.49307013\n",
            " 0.49067864 0.48529643 0.47839227 0.47130534 0.46499518 0.46001923\n",
            " 0.45660523 0.45474979 0.45430523 0.45504609]\n",
            "22 day output [[0.45671484]]\n",
            "23 day input [0.90803109 0.90932642 0.90284974 0.89248705 0.8892487  0.88471503\n",
            " 0.8873057  0.88601036 0.8892487  0.875      0.87759067 0.88536269\n",
            " 0.88536269 0.90284974 0.89702073 0.87759067 0.87823834 0.88471503\n",
            " 0.88082902 0.88212435 0.88277202 0.8873057  0.88406736 0.88601036\n",
            " 0.88536269 0.89572539 0.89766839 0.90608808 0.88989637 0.89507772\n",
            " 0.90414508 0.89572539 0.89183938 0.89183938 0.88665803 0.88406736\n",
            " 0.88536269 0.89313472 0.88341969 0.88536269 0.89378238 0.89378238\n",
            " 0.90414508 0.90608808 0.89831606 0.89119171 0.89183938 0.90673575\n",
            " 0.91256477 0.90479275 0.91645078 0.91645078 0.90997409 0.91256477\n",
            " 0.93134715 0.93911917 0.9384715  0.92681347 0.92810881 0.93393782\n",
            " 0.95595855 0.96632124 0.96696891 0.96955959 0.95984456 0.96826425\n",
            " 0.96696891 0.95401554 0.94624352 0.94559585 0.94041451 0.93782383\n",
            " 0.92487047 0.91580311 0.90932642 0.91062176 0.91968912 0.63328326\n",
            " 0.63328326 0.63328326 0.63328326 0.63328326 0.63328326 0.63328326\n",
            " 0.63328326 0.63328326 0.63328326 0.4915576  0.49307013 0.49067864\n",
            " 0.48529643 0.47839227 0.47130534 0.46499518 0.46001923 0.45660523\n",
            " 0.45474979 0.45430523 0.45504609 0.45671484]\n",
            "23 day output [[0.45905024]]\n",
            "24 day input [0.90932642 0.90284974 0.89248705 0.8892487  0.88471503 0.8873057\n",
            " 0.88601036 0.8892487  0.875      0.87759067 0.88536269 0.88536269\n",
            " 0.90284974 0.89702073 0.87759067 0.87823834 0.88471503 0.88082902\n",
            " 0.88212435 0.88277202 0.8873057  0.88406736 0.88601036 0.88536269\n",
            " 0.89572539 0.89766839 0.90608808 0.88989637 0.89507772 0.90414508\n",
            " 0.89572539 0.89183938 0.89183938 0.88665803 0.88406736 0.88536269\n",
            " 0.89313472 0.88341969 0.88536269 0.89378238 0.89378238 0.90414508\n",
            " 0.90608808 0.89831606 0.89119171 0.89183938 0.90673575 0.91256477\n",
            " 0.90479275 0.91645078 0.91645078 0.90997409 0.91256477 0.93134715\n",
            " 0.93911917 0.9384715  0.92681347 0.92810881 0.93393782 0.95595855\n",
            " 0.96632124 0.96696891 0.96955959 0.95984456 0.96826425 0.96696891\n",
            " 0.95401554 0.94624352 0.94559585 0.94041451 0.93782383 0.92487047\n",
            " 0.91580311 0.90932642 0.91062176 0.91968912 0.63328326 0.63328326\n",
            " 0.63328326 0.63328326 0.63328326 0.63328326 0.63328326 0.63328326\n",
            " 0.63328326 0.63328326 0.4915576  0.49307013 0.49067864 0.48529643\n",
            " 0.47839227 0.47130534 0.46499518 0.46001923 0.45660523 0.45474979\n",
            " 0.45430523 0.45504609 0.45671484 0.45905024]\n",
            "24 day output [[0.46180558]]\n",
            "25 day input [0.90284974 0.89248705 0.8892487  0.88471503 0.8873057  0.88601036\n",
            " 0.8892487  0.875      0.87759067 0.88536269 0.88536269 0.90284974\n",
            " 0.89702073 0.87759067 0.87823834 0.88471503 0.88082902 0.88212435\n",
            " 0.88277202 0.8873057  0.88406736 0.88601036 0.88536269 0.89572539\n",
            " 0.89766839 0.90608808 0.88989637 0.89507772 0.90414508 0.89572539\n",
            " 0.89183938 0.89183938 0.88665803 0.88406736 0.88536269 0.89313472\n",
            " 0.88341969 0.88536269 0.89378238 0.89378238 0.90414508 0.90608808\n",
            " 0.89831606 0.89119171 0.89183938 0.90673575 0.91256477 0.90479275\n",
            " 0.91645078 0.91645078 0.90997409 0.91256477 0.93134715 0.93911917\n",
            " 0.9384715  0.92681347 0.92810881 0.93393782 0.95595855 0.96632124\n",
            " 0.96696891 0.96955959 0.95984456 0.96826425 0.96696891 0.95401554\n",
            " 0.94624352 0.94559585 0.94041451 0.93782383 0.92487047 0.91580311\n",
            " 0.90932642 0.91062176 0.91968912 0.63328326 0.63328326 0.63328326\n",
            " 0.63328326 0.63328326 0.63328326 0.63328326 0.63328326 0.63328326\n",
            " 0.63328326 0.4915576  0.49307013 0.49067864 0.48529643 0.47839227\n",
            " 0.47130534 0.46499518 0.46001923 0.45660523 0.45474979 0.45430523\n",
            " 0.45504609 0.45671484 0.45905024 0.46180558]\n",
            "25 day output [[0.46475774]]\n",
            "26 day input [0.89248705 0.8892487  0.88471503 0.8873057  0.88601036 0.8892487\n",
            " 0.875      0.87759067 0.88536269 0.88536269 0.90284974 0.89702073\n",
            " 0.87759067 0.87823834 0.88471503 0.88082902 0.88212435 0.88277202\n",
            " 0.8873057  0.88406736 0.88601036 0.88536269 0.89572539 0.89766839\n",
            " 0.90608808 0.88989637 0.89507772 0.90414508 0.89572539 0.89183938\n",
            " 0.89183938 0.88665803 0.88406736 0.88536269 0.89313472 0.88341969\n",
            " 0.88536269 0.89378238 0.89378238 0.90414508 0.90608808 0.89831606\n",
            " 0.89119171 0.89183938 0.90673575 0.91256477 0.90479275 0.91645078\n",
            " 0.91645078 0.90997409 0.91256477 0.93134715 0.93911917 0.9384715\n",
            " 0.92681347 0.92810881 0.93393782 0.95595855 0.96632124 0.96696891\n",
            " 0.96955959 0.95984456 0.96826425 0.96696891 0.95401554 0.94624352\n",
            " 0.94559585 0.94041451 0.93782383 0.92487047 0.91580311 0.90932642\n",
            " 0.91062176 0.91968912 0.63328326 0.63328326 0.63328326 0.63328326\n",
            " 0.63328326 0.63328326 0.63328326 0.63328326 0.63328326 0.63328326\n",
            " 0.4915576  0.49307013 0.49067864 0.48529643 0.47839227 0.47130534\n",
            " 0.46499518 0.46001923 0.45660523 0.45474979 0.45430523 0.45504609\n",
            " 0.45671484 0.45905024 0.46180558 0.46475774]\n",
            "26 day output [[0.46771324]]\n",
            "27 day input [0.8892487  0.88471503 0.8873057  0.88601036 0.8892487  0.875\n",
            " 0.87759067 0.88536269 0.88536269 0.90284974 0.89702073 0.87759067\n",
            " 0.87823834 0.88471503 0.88082902 0.88212435 0.88277202 0.8873057\n",
            " 0.88406736 0.88601036 0.88536269 0.89572539 0.89766839 0.90608808\n",
            " 0.88989637 0.89507772 0.90414508 0.89572539 0.89183938 0.89183938\n",
            " 0.88665803 0.88406736 0.88536269 0.89313472 0.88341969 0.88536269\n",
            " 0.89378238 0.89378238 0.90414508 0.90608808 0.89831606 0.89119171\n",
            " 0.89183938 0.90673575 0.91256477 0.90479275 0.91645078 0.91645078\n",
            " 0.90997409 0.91256477 0.93134715 0.93911917 0.9384715  0.92681347\n",
            " 0.92810881 0.93393782 0.95595855 0.96632124 0.96696891 0.96955959\n",
            " 0.95984456 0.96826425 0.96696891 0.95401554 0.94624352 0.94559585\n",
            " 0.94041451 0.93782383 0.92487047 0.91580311 0.90932642 0.91062176\n",
            " 0.91968912 0.63328326 0.63328326 0.63328326 0.63328326 0.63328326\n",
            " 0.63328326 0.63328326 0.63328326 0.63328326 0.63328326 0.4915576\n",
            " 0.49307013 0.49067864 0.48529643 0.47839227 0.47130534 0.46499518\n",
            " 0.46001923 0.45660523 0.45474979 0.45430523 0.45504609 0.45671484\n",
            " 0.45905024 0.46180558 0.46475774 0.46771324]\n",
            "27 day output [[0.47051105]]\n",
            "28 day input [0.88471503 0.8873057  0.88601036 0.8892487  0.875      0.87759067\n",
            " 0.88536269 0.88536269 0.90284974 0.89702073 0.87759067 0.87823834\n",
            " 0.88471503 0.88082902 0.88212435 0.88277202 0.8873057  0.88406736\n",
            " 0.88601036 0.88536269 0.89572539 0.89766839 0.90608808 0.88989637\n",
            " 0.89507772 0.90414508 0.89572539 0.89183938 0.89183938 0.88665803\n",
            " 0.88406736 0.88536269 0.89313472 0.88341969 0.88536269 0.89378238\n",
            " 0.89378238 0.90414508 0.90608808 0.89831606 0.89119171 0.89183938\n",
            " 0.90673575 0.91256477 0.90479275 0.91645078 0.91645078 0.90997409\n",
            " 0.91256477 0.93134715 0.93911917 0.9384715  0.92681347 0.92810881\n",
            " 0.93393782 0.95595855 0.96632124 0.96696891 0.96955959 0.95984456\n",
            " 0.96826425 0.96696891 0.95401554 0.94624352 0.94559585 0.94041451\n",
            " 0.93782383 0.92487047 0.91580311 0.90932642 0.91062176 0.91968912\n",
            " 0.63328326 0.63328326 0.63328326 0.63328326 0.63328326 0.63328326\n",
            " 0.63328326 0.63328326 0.63328326 0.63328326 0.4915576  0.49307013\n",
            " 0.49067864 0.48529643 0.47839227 0.47130534 0.46499518 0.46001923\n",
            " 0.45660523 0.45474979 0.45430523 0.45504609 0.45671484 0.45905024\n",
            " 0.46180558 0.46475774 0.46771324 0.47051105]\n",
            "28 day output [[0.4730242]]\n",
            "29 day input [0.8873057  0.88601036 0.8892487  0.875      0.87759067 0.88536269\n",
            " 0.88536269 0.90284974 0.89702073 0.87759067 0.87823834 0.88471503\n",
            " 0.88082902 0.88212435 0.88277202 0.8873057  0.88406736 0.88601036\n",
            " 0.88536269 0.89572539 0.89766839 0.90608808 0.88989637 0.89507772\n",
            " 0.90414508 0.89572539 0.89183938 0.89183938 0.88665803 0.88406736\n",
            " 0.88536269 0.89313472 0.88341969 0.88536269 0.89378238 0.89378238\n",
            " 0.90414508 0.90608808 0.89831606 0.89119171 0.89183938 0.90673575\n",
            " 0.91256477 0.90479275 0.91645078 0.91645078 0.90997409 0.91256477\n",
            " 0.93134715 0.93911917 0.9384715  0.92681347 0.92810881 0.93393782\n",
            " 0.95595855 0.96632124 0.96696891 0.96955959 0.95984456 0.96826425\n",
            " 0.96696891 0.95401554 0.94624352 0.94559585 0.94041451 0.93782383\n",
            " 0.92487047 0.91580311 0.90932642 0.91062176 0.91968912 0.63328326\n",
            " 0.63328326 0.63328326 0.63328326 0.63328326 0.63328326 0.63328326\n",
            " 0.63328326 0.63328326 0.63328326 0.4915576  0.49307013 0.49067864\n",
            " 0.48529643 0.47839227 0.47130534 0.46499518 0.46001923 0.45660523\n",
            " 0.45474979 0.45430523 0.45504609 0.45671484 0.45905024 0.46180558\n",
            " 0.46475774 0.46771324 0.47051105 0.47302419]\n",
            "29 day output [[0.47515827]]\n"
          ]
        }
      ]
    },
    {
      "cell_type": "code",
      "source": [
        "# 14.Vẽ hình\n",
        "\n",
        "train_data_index = pd.RangeIndex(start=0, stop=train_size, step=1)\n",
        "plt.plot(scaler.inverse_transform(data_transform))\n",
        "test_data_index = pd.RangeIndex(start=train_size, stop=train_size+test_size, step=1)\n",
        "plt.plot(test_data_index,scaler.inverse_transform(test_data))\n",
        "test_data_index = pd.RangeIndex(start=train_size+101, stop=train_size+test_size, step=1)\n",
        "plt.plot(test_data_index,(y_pred))\n",
        "val_data_index = pd.RangeIndex(start=train_size+test_size, stop=train_size+test_size+val_size, step=1)\n",
        "plt.plot(val_data_index,scaler.inverse_transform(val_data))\n",
        "val_data_index = pd.RangeIndex(start=train_size+test_size+101, stop=train_size+test_size+val_size, step=1)\n",
        "plt.plot(val_data_index,y_pred_val)\n",
        "prediect_data_index = pd.RangeIndex(start=len(df1)-1, stop=len(df1)+29, step=1)\n",
        "plt.plot(prediect_data_index,scaler.inverse_transform(lst_output))\n",
        "plt.legend(['Train','Test','Predict','Validate','ValidatePred','Predict30days'])\n",
        "plt.show()"
      ],
      "metadata": {
        "colab": {
          "base_uri": "https://localhost:8080/",
          "height": 430
        },
        "id": "Dvynv2f2yUFn",
        "outputId": "ae174ddd-bedb-4ec7-d1e9-f6b30c95e3ea"
      },
      "execution_count": 322,
      "outputs": [
        {
          "output_type": "display_data",
          "data": {
            "text/plain": [
              "<Figure size 640x480 with 1 Axes>"
            ],
            "image/png": "[encoded data removed]"
          },
          "metadata": {}
        }
      ]
    }
  ]
}