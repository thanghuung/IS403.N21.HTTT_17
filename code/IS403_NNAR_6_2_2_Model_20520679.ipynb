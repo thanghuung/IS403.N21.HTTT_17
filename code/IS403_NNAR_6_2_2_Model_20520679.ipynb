{
 "cells": [
  {
   "cell_type": "code",
   "execution_count": 127,
   "metadata": {},
   "outputs": [],
   "source": [
    "# Import thư viện cần thiết\n",
    "import pandas as pd\n",
    "import numpy as np\n",
    "from sklearn.preprocessing import MinMaxScaler\n",
    "import matplotlib.pyplot as plt\n",
    "from keras.models import Sequential\n",
    "from keras.layers import Dense, LSTM\n",
    "from sklearn.metrics import mean_squared_error\n",
    "from sklearn.metrics import PredictionErrorDisplay\n",
    "from statsmodels.graphics.tsaplots import plot_pacf"
   ]
  },
  {
   "attachments": {},
   "cell_type": "markdown",
   "metadata": {},
   "source": [
    "<h2>1. Data ARE-Historical-Data-final"
   ]
  },
  {
   "cell_type": "code",
   "execution_count": 128,
   "metadata": {},
   "outputs": [],
   "source": [
    "# Import data\n",
    "df = pd.read_csv('ARE-Historical-Data-final.csv', index_col='Date', parse_dates=True)\n",
    "df = df.iloc[::-1]\n",
    "df1=df.reset_index()['Price']"
   ]
  },
  {
   "cell_type": "code",
   "execution_count": 129,
   "metadata": {},
   "outputs": [
    {
     "data": {
      "image/png": "[encoded data removed]",
      "text/plain": [
       "<Figure size 640x480 with 1 Axes>"
      ]
     },
     "metadata": {},
     "output_type": "display_data"
    }
   ],
   "source": [
    "# Kiểm tra sự tương quan một phần PAFC\n",
    "plot_pacf(df1, lags=5)\n",
    "plt.show()"
   ]
  },
  {
   "cell_type": "code",
   "execution_count": 130,
   "metadata": {},
   "outputs": [],
   "source": [
    "# Scaler data\n",
    "scaler=MinMaxScaler(feature_range=(0,1))\n",
    "df1=scaler.fit_transform(np.array(df1).reshape(-1,1))"
   ]
  },
  {
   "cell_type": "code",
   "execution_count": 131,
   "metadata": {},
   "outputs": [],
   "source": [
    "# Chia thành các tập train, test, validation\n",
    "train_size = int(0.6 * len(df1))\n",
    "test_size = int(0.2 * len(df1))\n",
    "val_size = len(df1) - train_size - test_size\n",
    "\n",
    "train_data = df1[:train_size]\n",
    "test_data = df1[train_size:train_size+test_size]\n",
    "val_data = df1[train_size+test_size:]"
   ]
  },
  {
   "cell_type": "code",
   "execution_count": 132,
   "metadata": {},
   "outputs": [],
   "source": [
    "# Hàm tạo dữ liệu cho mô hình\n",
    "def create_dataset(dataset, lookback, horizon):\n",
    "    X, y = [], []\n",
    "    for i in range(len(dataset)-lookback-horizon+1):\n",
    "        X.append(dataset[i:(i+lookback), :])\n",
    "        y.append(dataset[(i+lookback):(i+lookback+horizon), 0])\n",
    "    return np.array(X), np.array(y)"
   ]
  },
  {
   "cell_type": "code",
   "execution_count": 133,
   "metadata": {},
   "outputs": [],
   "source": [
    "# Thiết lập thông số mô hình\n",
    "lookback = 5\n",
    "horizon = 2\n",
    "n_features = 1"
   ]
  },
  {
   "cell_type": "code",
   "execution_count": 134,
   "metadata": {},
   "outputs": [],
   "source": [
    "# Tạo dữ liệu cho mô hình\n",
    "X_train, y_train = create_dataset(train_data, lookback, horizon)\n",
    "X_test, y_test = create_dataset(test_data, lookback, horizon)\n",
    "X_val, y_val = create_dataset(val_data, lookback, horizon)"
   ]
  },
  {
   "cell_type": "code",
   "execution_count": 135,
   "metadata": {},
   "outputs": [],
   "source": [
    "# Xây dựng mô hình NNAR\n",
    "model = Sequential()\n",
    "model.add(LSTM(64, input_shape=(lookback, n_features), return_sequences=True))\n",
    "model.add(LSTM(32, return_sequences=False))\n",
    "model.add(Dense(horizon))\n",
    "model.compile(loss='mse', optimizer='adam')"
   ]
  },
  {
   "cell_type": "code",
   "execution_count": 136,
   "metadata": {},
   "outputs": [
    {
     "name": "stdout",
     "output_type": "stream",
     "text": [
      "Epoch 1/50\n",
      "40/40 - 3s - loss: 0.0260 - val_loss: 0.0375 - 3s/epoch - 84ms/step\n",
      "Epoch 2/50\n",
      "40/40 - 0s - loss: 0.0022 - val_loss: 0.0024 - 204ms/epoch - 5ms/step\n",
      "Epoch 3/50\n",
      "40/40 - 0s - loss: 3.7941e-04 - val_loss: 0.0038 - 217ms/epoch - 5ms/step\n",
      "Epoch 4/50\n",
      "40/40 - 0s - loss: 3.0952e-04 - val_loss: 0.0038 - 201ms/epoch - 5ms/step\n",
      "Epoch 5/50\n",
      "40/40 - 0s - loss: 2.9110e-04 - val_loss: 0.0025 - 201ms/epoch - 5ms/step\n",
      "Epoch 6/50\n",
      "40/40 - 0s - loss: 2.8930e-04 - val_loss: 0.0025 - 200ms/epoch - 5ms/step\n",
      "Epoch 7/50\n",
      "40/40 - 0s - loss: 2.7460e-04 - val_loss: 0.0023 - 202ms/epoch - 5ms/step\n",
      "Epoch 8/50\n",
      "40/40 - 0s - loss: 2.6444e-04 - val_loss: 0.0020 - 201ms/epoch - 5ms/step\n",
      "Epoch 9/50\n",
      "40/40 - 0s - loss: 2.6196e-04 - val_loss: 0.0017 - 204ms/epoch - 5ms/step\n",
      "Epoch 10/50\n",
      "40/40 - 0s - loss: 2.5874e-04 - val_loss: 0.0018 - 203ms/epoch - 5ms/step\n",
      "Epoch 11/50\n",
      "40/40 - 0s - loss: 2.5617e-04 - val_loss: 0.0016 - 202ms/epoch - 5ms/step\n",
      "Epoch 12/50\n",
      "40/40 - 0s - loss: 2.4783e-04 - val_loss: 0.0016 - 201ms/epoch - 5ms/step\n",
      "Epoch 13/50\n",
      "40/40 - 0s - loss: 2.4912e-04 - val_loss: 0.0016 - 206ms/epoch - 5ms/step\n",
      "Epoch 14/50\n",
      "40/40 - 0s - loss: 2.4941e-04 - val_loss: 0.0016 - 197ms/epoch - 5ms/step\n",
      "Epoch 15/50\n",
      "40/40 - 0s - loss: 2.4591e-04 - val_loss: 0.0016 - 204ms/epoch - 5ms/step\n",
      "Epoch 16/50\n",
      "40/40 - 0s - loss: 2.4301e-04 - val_loss: 0.0016 - 201ms/epoch - 5ms/step\n",
      "Epoch 17/50\n",
      "40/40 - 0s - loss: 2.4840e-04 - val_loss: 0.0016 - 198ms/epoch - 5ms/step\n",
      "Epoch 18/50\n",
      "40/40 - 0s - loss: 2.4533e-04 - val_loss: 0.0016 - 204ms/epoch - 5ms/step\n",
      "Epoch 19/50\n",
      "40/40 - 0s - loss: 2.4679e-04 - val_loss: 0.0016 - 200ms/epoch - 5ms/step\n",
      "Epoch 20/50\n",
      "40/40 - 0s - loss: 2.4812e-04 - val_loss: 0.0016 - 203ms/epoch - 5ms/step\n",
      "Epoch 21/50\n",
      "40/40 - 0s - loss: 2.4703e-04 - val_loss: 0.0016 - 198ms/epoch - 5ms/step\n",
      "Epoch 22/50\n",
      "40/40 - 0s - loss: 2.5137e-04 - val_loss: 0.0016 - 202ms/epoch - 5ms/step\n",
      "Epoch 23/50\n",
      "40/40 - 0s - loss: 2.5403e-04 - val_loss: 0.0016 - 207ms/epoch - 5ms/step\n",
      "Epoch 24/50\n",
      "40/40 - 0s - loss: 2.5306e-04 - val_loss: 0.0016 - 204ms/epoch - 5ms/step\n",
      "Epoch 25/50\n",
      "40/40 - 0s - loss: 2.4306e-04 - val_loss: 0.0017 - 203ms/epoch - 5ms/step\n",
      "Epoch 26/50\n",
      "40/40 - 0s - loss: 2.6376e-04 - val_loss: 0.0016 - 201ms/epoch - 5ms/step\n",
      "Epoch 27/50\n",
      "40/40 - 0s - loss: 2.4009e-04 - val_loss: 0.0017 - 204ms/epoch - 5ms/step\n",
      "Epoch 28/50\n",
      "40/40 - 0s - loss: 2.4739e-04 - val_loss: 0.0021 - 238ms/epoch - 6ms/step\n",
      "Epoch 29/50\n",
      "40/40 - 0s - loss: 2.5159e-04 - val_loss: 0.0016 - 203ms/epoch - 5ms/step\n",
      "Epoch 30/50\n",
      "40/40 - 0s - loss: 2.4486e-04 - val_loss: 0.0016 - 204ms/epoch - 5ms/step\n",
      "Epoch 31/50\n",
      "40/40 - 0s - loss: 2.6889e-04 - val_loss: 0.0016 - 219ms/epoch - 5ms/step\n",
      "Epoch 32/50\n",
      "40/40 - 0s - loss: 2.4585e-04 - val_loss: 0.0017 - 208ms/epoch - 5ms/step\n",
      "Epoch 33/50\n",
      "40/40 - 0s - loss: 2.4507e-04 - val_loss: 0.0016 - 204ms/epoch - 5ms/step\n",
      "Epoch 34/50\n",
      "40/40 - 0s - loss: 2.3792e-04 - val_loss: 0.0016 - 199ms/epoch - 5ms/step\n",
      "Epoch 35/50\n",
      "40/40 - 0s - loss: 2.4498e-04 - val_loss: 0.0016 - 201ms/epoch - 5ms/step\n",
      "Epoch 36/50\n",
      "40/40 - 0s - loss: 2.4019e-04 - val_loss: 0.0016 - 194ms/epoch - 5ms/step\n",
      "Epoch 37/50\n",
      "40/40 - 0s - loss: 2.3527e-04 - val_loss: 0.0016 - 194ms/epoch - 5ms/step\n",
      "Epoch 38/50\n",
      "40/40 - 0s - loss: 2.3875e-04 - val_loss: 0.0015 - 195ms/epoch - 5ms/step\n",
      "Epoch 39/50\n",
      "40/40 - 0s - loss: 2.3362e-04 - val_loss: 0.0015 - 196ms/epoch - 5ms/step\n",
      "Epoch 40/50\n",
      "40/40 - 0s - loss: 2.6487e-04 - val_loss: 0.0017 - 195ms/epoch - 5ms/step\n",
      "Epoch 41/50\n",
      "40/40 - 0s - loss: 2.4650e-04 - val_loss: 0.0017 - 195ms/epoch - 5ms/step\n",
      "Epoch 42/50\n",
      "40/40 - 0s - loss: 2.6304e-04 - val_loss: 0.0015 - 198ms/epoch - 5ms/step\n",
      "Epoch 43/50\n",
      "40/40 - 0s - loss: 2.5016e-04 - val_loss: 0.0017 - 202ms/epoch - 5ms/step\n",
      "Epoch 44/50\n",
      "40/40 - 0s - loss: 2.5244e-04 - val_loss: 0.0015 - 192ms/epoch - 5ms/step\n",
      "Epoch 45/50\n",
      "40/40 - 0s - loss: 2.5027e-04 - val_loss: 0.0017 - 194ms/epoch - 5ms/step\n",
      "Epoch 46/50\n",
      "40/40 - 0s - loss: 2.3569e-04 - val_loss: 0.0015 - 195ms/epoch - 5ms/step\n",
      "Epoch 47/50\n",
      "40/40 - 0s - loss: 2.3974e-04 - val_loss: 0.0015 - 194ms/epoch - 5ms/step\n",
      "Epoch 48/50\n",
      "40/40 - 0s - loss: 2.2738e-04 - val_loss: 0.0015 - 197ms/epoch - 5ms/step\n",
      "Epoch 49/50\n",
      "40/40 - 0s - loss: 2.3666e-04 - val_loss: 0.0016 - 282ms/epoch - 7ms/step\n",
      "Epoch 50/50\n",
      "40/40 - 0s - loss: 2.3455e-04 - val_loss: 0.0016 - 229ms/epoch - 6ms/step\n"
     ]
    }
   ],
   "source": [
    "# Huấn luyện mô hình\n",
    "history = model.fit(X_train, y_train, epochs=50, batch_size=32, validation_data=(X_val, y_val), verbose=2)"
   ]
  },
  {
   "cell_type": "code",
   "execution_count": 137,
   "metadata": {},
   "outputs": [
    {
     "name": "stdout",
     "output_type": "stream",
     "text": [
      "14/14 [==============================] - 1s 3ms/step\n",
      "14/14 [==============================] - 0s 2ms/step\n"
     ]
    }
   ],
   "source": [
    "# Dự đoán trên 2 tập X_test và X_val\n",
    "y_pred = model.predict(X_test)\n",
    "y_pred_val = model.predict(X_val)"
   ]
  },
  {
   "cell_type": "code",
   "execution_count": 138,
   "metadata": {},
   "outputs": [
    {
     "name": "stdout",
     "output_type": "stream",
     "text": [
      "Validation RMSE: 0.03970254466662665\n",
      "Testing RMSE: 0.03461655636989492\n",
      "Testing MAE: 0.02498227291802922\n",
      "Validation MAE: 0.030294305330178368\n",
      "Testing MAPE: 4.335208222176928\n",
      "Validation MAPE: 5.759704461038258\n"
     ]
    }
   ],
   "source": [
    "# Đánh giá độ chính xác\n",
    "valid_rmse = np.sqrt(np.mean((y_pred_val - y_val)**2))\n",
    "test_rmse = np.sqrt(np.mean((y_pred - y_test)**2))\n",
    "test_mae = np.mean(np.abs(y_pred - y_test))\n",
    "valid_mae = np.mean(np.abs(y_pred_val - y_val))\n",
    "test_mape = np.mean(np.abs((y_test - y_pred) / y_test)) * 100\n",
    "valid_mape = np.mean(np.abs((y_val - y_pred_val) / y_val)) * 100\n",
    "print('Validation RMSE:', valid_rmse)\n",
    "print('Testing RMSE:', test_rmse)\n",
    "print('Testing MAE:', test_mae)\n",
    "print('Validation MAE:', valid_mae)\n",
    "print('Testing MAPE:', test_mape)\n",
    "print('Validation MAPE:', valid_mape)"
   ]
  },
  {
   "cell_type": "code",
   "execution_count": 139,
   "metadata": {},
   "outputs": [],
   "source": [
    "# Scaler lại các giá trị\n",
    "y_pred = scaler.inverse_transform(y_pred)\n",
    "y_pred_val = scaler.inverse_transform(y_pred_val)"
   ]
  },
  {
   "cell_type": "code",
   "execution_count": 140,
   "metadata": {},
   "outputs": [],
   "source": [
    "# Tạo một danh sách mới\n",
    "y_pred = [y_pred[i][0] for i in range(len(y_pred))]\n",
    "y_pred_val = [y_pred_val[i][0] for i in range(len(y_pred_val))]"
   ]
  },
  {
   "cell_type": "code",
   "execution_count": 141,
   "metadata": {},
   "outputs": [
    {
     "name": "stdout",
     "output_type": "stream",
     "text": [
      "1/1 [==============================] - 0s 18ms/step\n"
     ]
    },
    {
     "name": "stdout",
     "output_type": "stream",
     "text": [
      "1/1 [==============================] - 1s 594ms/step\n",
      "1/1 [==============================] - 0s 17ms/step\n",
      "1/1 [==============================] - 0s 18ms/step\n",
      "1/1 [==============================] - 0s 18ms/step\n",
      "1/1 [==============================] - 0s 18ms/step\n",
      "1/1 [==============================] - 0s 18ms/step\n",
      "1/1 [==============================] - 0s 20ms/step\n",
      "1/1 [==============================] - 0s 17ms/step\n",
      "1/1 [==============================] - 0s 17ms/step\n",
      "1/1 [==============================] - 0s 19ms/step\n",
      "1/1 [==============================] - 0s 17ms/step\n",
      "1/1 [==============================] - 0s 20ms/step\n",
      "1/1 [==============================] - 0s 19ms/step\n",
      "1/1 [==============================] - 0s 21ms/step\n",
      "1/1 [==============================] - 0s 22ms/step\n",
      "1/1 [==============================] - 0s 21ms/step\n",
      "1/1 [==============================] - 0s 20ms/step\n",
      "1/1 [==============================] - 0s 22ms/step\n",
      "1/1 [==============================] - 0s 20ms/step\n",
      "1/1 [==============================] - 0s 17ms/step\n",
      "1/1 [==============================] - 0s 18ms/step\n",
      "1/1 [==============================] - 0s 18ms/step\n",
      "1/1 [==============================] - 0s 17ms/step\n",
      "1/1 [==============================] - 0s 18ms/step\n",
      "1/1 [==============================] - 0s 20ms/step\n",
      "1/1 [==============================] - 0s 17ms/step\n",
      "1/1 [==============================] - 0s 17ms/step\n",
      "1/1 [==============================] - 0s 18ms/step\n",
      "1/1 [==============================] - 0s 18ms/step\n"
     ]
    }
   ],
   "source": [
    "# Dự đoán 30 ngày tiếp theo\n",
    "num_predictions = 30\n",
    "initial_input = X_val[-1]\n",
    "initial_input = initial_input.reshape(1, lookback, n_features)\n",
    "next30days_predictions = []\n",
    "for _ in range(num_predictions):\n",
    "    next_pred = model.predict(initial_input)\n",
    "    next30days_predictions.append(next_pred[0])\n",
    "    initial_input = np.append(initial_input[:, 1:, :], next_pred.reshape(1, horizon, n_features), axis=1)\n",
    "next30days_predictions = scaler.inverse_transform(next30days_predictions)"
   ]
  },
  {
   "cell_type": "code",
   "execution_count": 142,
   "metadata": {},
   "outputs": [],
   "source": [
    "# Trích xuất giá trị dự đoán vào danh sách mới\n",
    "next30days_predictions=[next30days_predictions[i][0] for i in range(len(next30days_predictions))]"
   ]
  },
  {
   "cell_type": "code",
   "execution_count": 143,
   "metadata": {},
   "outputs": [
    {
     "data": {
      "image/png": "[encoded data removed]",
      "text/plain": [
       "<Figure size 640x480 with 1 Axes>"
      ]
     },
     "metadata": {},
     "output_type": "display_data"
    }
   ],
   "source": [
    "# Tạo danh sách ngày cho trục x\n",
    "dates_train = df.index[:train_size]\n",
    "dates_test = df.index[train_size:train_size+test_size]\n",
    "dates_val = df.index[train_size+test_size:train_size+test_size+val_size]\n",
    "dates_pred = df.index[train_size+lookback+horizon-1:train_size+test_size]\n",
    "dates_pred_val = df.index[train_size+test_size+lookback+horizon-1:train_size+test_size+val_size]\n",
    "dates_next30days = pd.date_range(start=df.index[-1], periods=num_predictions+1)[1:]\n",
    "\n",
    "\n",
    "# Vẽ biểu đồ\n",
    "plt.plot(dates_train, scaler.inverse_transform(train_data), label='Train')\n",
    "plt.plot(dates_test, scaler.inverse_transform(test_data), label='Test')\n",
    "plt.plot(dates_val, scaler.inverse_transform(val_data), label='Validation')\n",
    "plt.plot(dates_pred, y_pred, label='Predicted')\n",
    "plt.plot(dates_pred_val, y_pred_val, label='Validation Predicted')\n",
    "plt.plot(dates_next30days, next30days_predictions, label='Next 30 Days Predictions')\n",
    "# plt.xlabel('Date')\n",
    "# plt.ylabel('Price')\n",
    "# plt.title('Stock Price Predictions')\n",
    "plt.legend()\n",
    "plt.show()"
   ]
  },
  {
   "attachments": {},
   "cell_type": "markdown",
   "metadata": {},
   "source": [
    "<h2>2. Data ARI-Historical-Data-final"
   ]
  },
  {
   "cell_type": "code",
   "execution_count": 144,
   "metadata": {},
   "outputs": [],
   "source": [
    "# Import data\n",
    "df = pd.read_csv('ARI-Historical-Data-final.csv', index_col='Date', parse_dates=True)\n",
    "df = df.iloc[::-1]\n",
    "df1=df.reset_index()['Price']"
   ]
  },
  {
   "cell_type": "code",
   "execution_count": 145,
   "metadata": {},
   "outputs": [
    {
     "data": {
      "image/png": "[encoded data removed]",
      "text/plain": [
       "<Figure size 640x480 with 1 Axes>"
      ]
     },
     "metadata": {},
     "output_type": "display_data"
    }
   ],
   "source": [
    "# Kiểm tra sự tương quan một phần PAFC\n",
    "plot_pacf(df1, lags=3)\n",
    "plt.show()"
   ]
  },
  {
   "cell_type": "code",
   "execution_count": 146,
   "metadata": {},
   "outputs": [],
   "source": [
    "# Scaler data\n",
    "scaler=MinMaxScaler(feature_range=(0,1))\n",
    "df1=scaler.fit_transform(np.array(df1).reshape(-1,1))"
   ]
  },
  {
   "cell_type": "code",
   "execution_count": 147,
   "metadata": {},
   "outputs": [],
   "source": [
    "# Chia thành các tập train, test, validation\n",
    "train_size = int(0.6 * len(df1))\n",
    "test_size = int(0.2 * len(df1))\n",
    "val_size = len(df1) - train_size - test_size\n",
    "\n",
    "train_data = df1[:train_size]\n",
    "test_data = df1[train_size:train_size+test_size]\n",
    "val_data = df1[train_size+test_size:]"
   ]
  },
  {
   "cell_type": "code",
   "execution_count": 148,
   "metadata": {},
   "outputs": [],
   "source": [
    "# Hàm tạo dữ liệu cho mô hình\n",
    "def create_dataset(dataset, lookback, horizon):\n",
    "    X, y = [], []\n",
    "    for i in range(len(dataset)-lookback-horizon+1):\n",
    "        X.append(dataset[i:(i+lookback), :])\n",
    "        y.append(dataset[(i+lookback):(i+lookback+horizon), 0])\n",
    "    return np.array(X), np.array(y)"
   ]
  },
  {
   "cell_type": "code",
   "execution_count": 149,
   "metadata": {},
   "outputs": [],
   "source": [
    "# Chọn các giá trị lookback, horizon, n_features\n",
    "lookback = 3\n",
    "horizon = 1\n",
    "n_features = 1"
   ]
  },
  {
   "cell_type": "code",
   "execution_count": 150,
   "metadata": {},
   "outputs": [],
   "source": [
    "X_train, y_train = create_dataset(train_data, lookback, horizon)\n",
    "X_test, y_test = create_dataset(test_data, lookback, horizon)\n",
    "X_val, y_val = create_dataset(val_data, lookback, horizon)"
   ]
  },
  {
   "cell_type": "code",
   "execution_count": 151,
   "metadata": {},
   "outputs": [],
   "source": [
    "# Xây dựng mô hình NNAR\n",
    "model = Sequential()\n",
    "model.add(LSTM(64, input_shape=(lookback, n_features), return_sequences=True))\n",
    "model.add(LSTM(32, return_sequences=False))\n",
    "model.add(Dense(horizon))\n",
    "model.compile(loss='mse', optimizer='adam')"
   ]
  },
  {
   "cell_type": "code",
   "execution_count": 152,
   "metadata": {},
   "outputs": [
    {
     "name": "stdout",
     "output_type": "stream",
     "text": [
      "Epoch 1/50\n",
      "40/40 - 4s - loss: 0.2658 - val_loss: 0.0328 - 4s/epoch - 111ms/step\n",
      "Epoch 2/50\n",
      "40/40 - 0s - loss: 0.0025 - val_loss: 0.0174 - 192ms/epoch - 5ms/step\n",
      "Epoch 3/50\n",
      "40/40 - 0s - loss: 6.7042e-04 - val_loss: 0.0180 - 233ms/epoch - 6ms/step\n",
      "Epoch 4/50\n",
      "40/40 - 0s - loss: 6.0883e-04 - val_loss: 0.0173 - 189ms/epoch - 5ms/step\n",
      "Epoch 5/50\n",
      "40/40 - 0s - loss: 5.8382e-04 - val_loss: 0.0164 - 187ms/epoch - 5ms/step\n",
      "Epoch 6/50\n",
      "40/40 - 0s - loss: 5.5656e-04 - val_loss: 0.0155 - 182ms/epoch - 5ms/step\n",
      "Epoch 7/50\n",
      "40/40 - 0s - loss: 5.3566e-04 - val_loss: 0.0154 - 176ms/epoch - 4ms/step\n",
      "Epoch 8/50\n",
      "40/40 - 0s - loss: 5.0443e-04 - val_loss: 0.0140 - 180ms/epoch - 5ms/step\n",
      "Epoch 9/50\n",
      "40/40 - 0s - loss: 4.7782e-04 - val_loss: 0.0131 - 181ms/epoch - 5ms/step\n",
      "Epoch 10/50\n",
      "40/40 - 0s - loss: 4.5692e-04 - val_loss: 0.0128 - 183ms/epoch - 5ms/step\n",
      "Epoch 11/50\n",
      "40/40 - 0s - loss: 4.3615e-04 - val_loss: 0.0110 - 188ms/epoch - 5ms/step\n",
      "Epoch 12/50\n",
      "40/40 - 0s - loss: 4.0654e-04 - val_loss: 0.0102 - 186ms/epoch - 5ms/step\n",
      "Epoch 13/50\n",
      "40/40 - 0s - loss: 3.8721e-04 - val_loss: 0.0101 - 173ms/epoch - 4ms/step\n",
      "Epoch 14/50\n",
      "40/40 - 0s - loss: 3.6672e-04 - val_loss: 0.0084 - 169ms/epoch - 4ms/step\n",
      "Epoch 15/50\n",
      "40/40 - 0s - loss: 3.4388e-04 - val_loss: 0.0083 - 175ms/epoch - 4ms/step\n",
      "Epoch 16/50\n",
      "40/40 - 0s - loss: 3.2454e-04 - val_loss: 0.0074 - 172ms/epoch - 4ms/step\n",
      "Epoch 17/50\n",
      "40/40 - 0s - loss: 3.0338e-04 - val_loss: 0.0067 - 170ms/epoch - 4ms/step\n",
      "Epoch 18/50\n",
      "40/40 - 0s - loss: 2.8578e-04 - val_loss: 0.0063 - 172ms/epoch - 4ms/step\n",
      "Epoch 19/50\n",
      "40/40 - 0s - loss: 2.7229e-04 - val_loss: 0.0059 - 173ms/epoch - 4ms/step\n",
      "Epoch 20/50\n",
      "40/40 - 0s - loss: 2.5835e-04 - val_loss: 0.0055 - 192ms/epoch - 5ms/step\n",
      "Epoch 21/50\n",
      "40/40 - 0s - loss: 2.6612e-04 - val_loss: 0.0050 - 203ms/epoch - 5ms/step\n",
      "Epoch 22/50\n",
      "40/40 - 0s - loss: 2.4099e-04 - val_loss: 0.0048 - 182ms/epoch - 5ms/step\n",
      "Epoch 23/50\n",
      "40/40 - 0s - loss: 2.3559e-04 - val_loss: 0.0041 - 180ms/epoch - 4ms/step\n",
      "Epoch 24/50\n",
      "40/40 - 0s - loss: 2.3254e-04 - val_loss: 0.0037 - 192ms/epoch - 5ms/step\n",
      "Epoch 25/50\n",
      "40/40 - 0s - loss: 2.3095e-04 - val_loss: 0.0040 - 201ms/epoch - 5ms/step\n",
      "Epoch 26/50\n",
      "40/40 - 0s - loss: 2.2579e-04 - val_loss: 0.0037 - 173ms/epoch - 4ms/step\n",
      "Epoch 27/50\n",
      "40/40 - 0s - loss: 2.2837e-04 - val_loss: 0.0029 - 182ms/epoch - 5ms/step\n",
      "Epoch 28/50\n",
      "40/40 - 0s - loss: 2.3406e-04 - val_loss: 0.0032 - 173ms/epoch - 4ms/step\n",
      "Epoch 29/50\n",
      "40/40 - 0s - loss: 2.2657e-04 - val_loss: 0.0032 - 175ms/epoch - 4ms/step\n",
      "Epoch 30/50\n",
      "40/40 - 0s - loss: 2.3263e-04 - val_loss: 0.0027 - 170ms/epoch - 4ms/step\n",
      "Epoch 31/50\n",
      "40/40 - 0s - loss: 2.2783e-04 - val_loss: 0.0030 - 175ms/epoch - 4ms/step\n",
      "Epoch 32/50\n",
      "40/40 - 0s - loss: 2.3372e-04 - val_loss: 0.0029 - 169ms/epoch - 4ms/step\n",
      "Epoch 33/50\n",
      "40/40 - 0s - loss: 2.2755e-04 - val_loss: 0.0025 - 166ms/epoch - 4ms/step\n",
      "Epoch 34/50\n",
      "40/40 - 0s - loss: 2.1820e-04 - val_loss: 0.0024 - 171ms/epoch - 4ms/step\n",
      "Epoch 35/50\n",
      "40/40 - 0s - loss: 2.1873e-04 - val_loss: 0.0026 - 163ms/epoch - 4ms/step\n",
      "Epoch 36/50\n",
      "40/40 - 0s - loss: 2.1917e-04 - val_loss: 0.0024 - 165ms/epoch - 4ms/step\n",
      "Epoch 37/50\n",
      "40/40 - 0s - loss: 2.1711e-04 - val_loss: 0.0025 - 164ms/epoch - 4ms/step\n",
      "Epoch 38/50\n",
      "40/40 - 0s - loss: 2.1817e-04 - val_loss: 0.0025 - 164ms/epoch - 4ms/step\n",
      "Epoch 39/50\n",
      "40/40 - 0s - loss: 2.1762e-04 - val_loss: 0.0022 - 167ms/epoch - 4ms/step\n",
      "Epoch 40/50\n",
      "40/40 - 0s - loss: 2.2685e-04 - val_loss: 0.0022 - 168ms/epoch - 4ms/step\n",
      "Epoch 41/50\n",
      "40/40 - 0s - loss: 2.1699e-04 - val_loss: 0.0025 - 168ms/epoch - 4ms/step\n",
      "Epoch 42/50\n",
      "40/40 - 0s - loss: 2.2261e-04 - val_loss: 0.0024 - 162ms/epoch - 4ms/step\n",
      "Epoch 43/50\n",
      "40/40 - 0s - loss: 2.3045e-04 - val_loss: 0.0026 - 164ms/epoch - 4ms/step\n",
      "Epoch 44/50\n",
      "40/40 - 0s - loss: 2.3151e-04 - val_loss: 0.0025 - 164ms/epoch - 4ms/step\n",
      "Epoch 45/50\n",
      "40/40 - 0s - loss: 2.1536e-04 - val_loss: 0.0026 - 165ms/epoch - 4ms/step\n",
      "Epoch 46/50\n",
      "40/40 - 0s - loss: 2.1951e-04 - val_loss: 0.0023 - 165ms/epoch - 4ms/step\n",
      "Epoch 47/50\n",
      "40/40 - 0s - loss: 2.1328e-04 - val_loss: 0.0022 - 165ms/epoch - 4ms/step\n",
      "Epoch 48/50\n",
      "40/40 - 0s - loss: 2.2621e-04 - val_loss: 0.0021 - 164ms/epoch - 4ms/step\n",
      "Epoch 49/50\n",
      "40/40 - 0s - loss: 2.3692e-04 - val_loss: 0.0024 - 162ms/epoch - 4ms/step\n",
      "Epoch 50/50\n",
      "40/40 - 0s - loss: 2.3485e-04 - val_loss: 0.0023 - 164ms/epoch - 4ms/step\n"
     ]
    }
   ],
   "source": [
    "# Huấn luyện mô hình\n",
    "history = model.fit(X_train, y_train, epochs=50, batch_size=32, validation_data=(X_val, y_val), verbose=2)"
   ]
  },
  {
   "cell_type": "code",
   "execution_count": 153,
   "metadata": {},
   "outputs": [
    {
     "name": "stdout",
     "output_type": "stream",
     "text": [
      "14/14 [==============================] - 1s 2ms/step\n",
      "14/14 [==============================] - 0s 2ms/step\n"
     ]
    }
   ],
   "source": [
    "y_pred = model.predict(X_test)\n",
    "y_pred_val = model.predict(X_val)"
   ]
  },
  {
   "cell_type": "code",
   "execution_count": 154,
   "metadata": {},
   "outputs": [
    {
     "name": "stdout",
     "output_type": "stream",
     "text": [
      "Validation RMSE: 0.04825714461230854\n",
      "Testing RMSE: 0.0663185096878313\n",
      "Testing MAE: 0.04770023933495698\n",
      "Validation MAE: 0.03933302789849316\n",
      "Testing MAPE: 16.25452506547037\n",
      "Validation MAPE: 9.403209573465976\n"
     ]
    }
   ],
   "source": [
    "# Đánh giá độ chính xác\n",
    "y_test_nonzero = y_test[y_test != 0]\n",
    "y_pred_nonzero = y_pred[y_test != 0]\n",
    "\n",
    "valid_rmse = np.sqrt(np.mean((y_pred_val - y_val)**2))\n",
    "test_rmse = np.sqrt(np.mean((y_pred - y_test)**2))\n",
    "test_mae = np.mean(np.abs(y_pred - y_test))\n",
    "valid_mae = np.mean(np.abs(y_pred_val - y_val))\n",
    "test_mape = np.mean(np.abs((y_test_nonzero - y_pred_nonzero) / y_test_nonzero)) * 100\n",
    "valid_mape = np.mean(np.abs((y_val - y_pred_val) / y_val)) * 100\n",
    "print('Validation RMSE:', valid_rmse)\n",
    "print('Testing RMSE:', test_rmse)\n",
    "print('Testing MAE:', test_mae)\n",
    "print('Validation MAE:', valid_mae)\n",
    "print('Testing MAPE:', test_mape)\n",
    "print('Validation MAPE:', valid_mape)"
   ]
  },
  {
   "cell_type": "code",
   "execution_count": 155,
   "metadata": {},
   "outputs": [],
   "source": [
    "# Scaler lại các giá trị\n",
    "y_pred = scaler.inverse_transform(y_pred)\n",
    "y_pred_val = scaler.inverse_transform(y_pred_val)"
   ]
  },
  {
   "cell_type": "code",
   "execution_count": 156,
   "metadata": {},
   "outputs": [],
   "source": [
    "# Tạo một danh sách mới\n",
    "y_pred = [y_pred[i][0] for i in range(len(y_pred))]\n",
    "y_pred_val = [y_pred_val[i][0] for i in range(len(y_pred_val))]"
   ]
  },
  {
   "cell_type": "code",
   "execution_count": 157,
   "metadata": {},
   "outputs": [
    {
     "name": "stdout",
     "output_type": "stream",
     "text": [
      "1/1 [==============================] - 0s 22ms/step\n",
      "1/1 [==============================] - 0s 19ms/step\n"
     ]
    },
    {
     "name": "stdout",
     "output_type": "stream",
     "text": [
      "1/1 [==============================] - 0s 21ms/step\n",
      "1/1 [==============================] - 0s 16ms/step\n",
      "1/1 [==============================] - 0s 16ms/step\n",
      "1/1 [==============================] - 0s 16ms/step\n",
      "1/1 [==============================] - 0s 17ms/step\n",
      "1/1 [==============================] - 0s 19ms/step\n",
      "1/1 [==============================] - 0s 19ms/step\n",
      "1/1 [==============================] - 0s 18ms/step\n",
      "1/1 [==============================] - 0s 17ms/step\n",
      "1/1 [==============================] - 0s 18ms/step\n",
      "1/1 [==============================] - 0s 17ms/step\n",
      "1/1 [==============================] - 0s 18ms/step\n",
      "1/1 [==============================] - 0s 17ms/step\n",
      "1/1 [==============================] - 0s 17ms/step\n",
      "1/1 [==============================] - 0s 18ms/step\n",
      "1/1 [==============================] - 0s 18ms/step\n",
      "1/1 [==============================] - 0s 17ms/step\n",
      "1/1 [==============================] - 0s 20ms/step\n",
      "1/1 [==============================] - 0s 20ms/step\n",
      "1/1 [==============================] - 0s 20ms/step\n",
      "1/1 [==============================] - 0s 19ms/step\n",
      "1/1 [==============================] - 0s 18ms/step\n",
      "1/1 [==============================] - 0s 19ms/step\n",
      "1/1 [==============================] - 0s 20ms/step\n",
      "1/1 [==============================] - 0s 17ms/step\n",
      "1/1 [==============================] - 0s 18ms/step\n",
      "1/1 [==============================] - 0s 17ms/step\n",
      "1/1 [==============================] - 0s 19ms/step\n"
     ]
    }
   ],
   "source": [
    "# Dự đoán 30 ngày tiếp theo\n",
    "num_predictions = 30\n",
    "initial_input = X_val[-1]\n",
    "initial_input = initial_input.reshape(1, lookback, n_features)\n",
    "next30days_predictions = []\n",
    "for _ in range(num_predictions):\n",
    "    next_pred = model.predict(initial_input)\n",
    "    next30days_predictions.append(next_pred[0])\n",
    "    initial_input = np.append(initial_input[:, 1:, :], next_pred.reshape(1, horizon, n_features), axis=1)\n",
    "# next30days_predictions = np.array(next30days_predictions).reshape(-1, 1)\n",
    "next30days_predictions = scaler.inverse_transform(next30days_predictions)"
   ]
  },
  {
   "cell_type": "code",
   "execution_count": 158,
   "metadata": {},
   "outputs": [],
   "source": [
    "# Trích xuất giá trị dự đoán vào danh sách mới\n",
    "next30days_predictions=[next30days_predictions[i][0] for i in range(len(next30days_predictions))]"
   ]
  },
  {
   "cell_type": "code",
   "execution_count": 159,
   "metadata": {},
   "outputs": [
    {
     "data": {
      "image/png": "[encoded data removed]",
      "text/plain": [
       "<Figure size 640x480 with 1 Axes>"
      ]
     },
     "metadata": {},
     "output_type": "display_data"
    }
   ],
   "source": [
    "# Tạo danh sách ngày cho trục x\n",
    "dates_train = df.index[:train_size]\n",
    "dates_test = df.index[train_size:train_size+test_size]\n",
    "dates_val = df.index[train_size+test_size:train_size+test_size+val_size]\n",
    "dates_pred = df.index[train_size+lookback+horizon-1:train_size+test_size]\n",
    "dates_pred_val = df.index[train_size+test_size+lookback+horizon-1:train_size+test_size+val_size]\n",
    "dates_next30days = pd.date_range(start=df.index[-1], periods=num_predictions+1)[1:]\n",
    "\n",
    "\n",
    "# Vẽ biểu đồ\n",
    "plt.plot(dates_train, scaler.inverse_transform(train_data), label='Train')\n",
    "plt.plot(dates_test, scaler.inverse_transform(test_data), label='Test')\n",
    "plt.plot(dates_val, scaler.inverse_transform(val_data), label='Validation')\n",
    "plt.plot(dates_pred, y_pred, label='Predicted')\n",
    "plt.plot(dates_pred_val, y_pred_val, label='Validation Predicted')\n",
    "plt.plot(dates_next30days, next30days_predictions, label='Next 30 Days Predictions')\n",
    "# plt.xlabel('Date')\n",
    "# plt.ylabel('Price')\n",
    "# plt.title('Stock Price Predictions')\n",
    "plt.legend()\n",
    "plt.show()"
   ]
  },
  {
   "attachments": {},
   "cell_type": "markdown",
   "metadata": {},
   "source": [
    "<h2>3. Data MAA-Historical-Data-final"
   ]
  },
  {
   "cell_type": "code",
   "execution_count": 160,
   "metadata": {},
   "outputs": [],
   "source": [
    "# Import data\n",
    "df = pd.read_csv('MAA-Historical-Data-final.csv', index_col='Date', parse_dates=True)\n",
    "df = df.iloc[::-1]\n",
    "df2=df.reset_index()['Price']"
   ]
  },
  {
   "cell_type": "code",
   "execution_count": 161,
   "metadata": {},
   "outputs": [
    {
     "data": {
      "image/png": "[encoded data removed]",
      "text/plain": [
       "<Figure size 640x480 with 1 Axes>"
      ]
     },
     "metadata": {},
     "output_type": "display_data"
    }
   ],
   "source": [
    "# Kiểm tra sự tương quan một phần PAFC\n",
    "plot_pacf(df2, lags=5)\n",
    "plt.show()"
   ]
  },
  {
   "cell_type": "code",
   "execution_count": 162,
   "metadata": {},
   "outputs": [],
   "source": [
    "# Scaler data\n",
    "scaler=MinMaxScaler(feature_range=(0,1))\n",
    "df2=scaler.fit_transform(np.array(df2).reshape(-1,1))"
   ]
  },
  {
   "cell_type": "code",
   "execution_count": 163,
   "metadata": {},
   "outputs": [],
   "source": [
    "# Chia thành các tập train, test, validation\n",
    "train_size = int(0.6 * len(df1))\n",
    "test_size = int(0.2 * len(df1))\n",
    "val_size = len(df1) - train_size - test_size\n",
    "\n",
    "train_data = df1[:train_size]\n",
    "test_data = df1[train_size:train_size+test_size]\n",
    "val_data = df1[train_size+test_size:]"
   ]
  },
  {
   "cell_type": "code",
   "execution_count": 164,
   "metadata": {},
   "outputs": [],
   "source": [
    "# Hàm tạo dữ liệu cho mô hình\n",
    "def create_dataset(dataset, lookback, horizon):\n",
    "    X, y = [], []\n",
    "    for i in range(len(dataset)-lookback-horizon+1):\n",
    "        X.append(dataset[i:(i+lookback), :])\n",
    "        y.append(dataset[(i+lookback):(i+lookback+horizon), 0])\n",
    "    return np.array(X), np.array(y)"
   ]
  },
  {
   "cell_type": "code",
   "execution_count": 165,
   "metadata": {},
   "outputs": [],
   "source": [
    "# Thiết lập thông số mô hình\n",
    "lookback = 5\n",
    "horizon = 2\n",
    "n_features = 1"
   ]
  },
  {
   "cell_type": "code",
   "execution_count": 166,
   "metadata": {},
   "outputs": [],
   "source": [
    "# Tạo dữ liệu cho mô hình\n",
    "X_train, y_train = create_dataset(train_data, lookback, horizon)\n",
    "X_test, y_test = create_dataset(test_data, lookback, horizon)\n",
    "X_val, y_val = create_dataset(val_data, lookback, horizon)"
   ]
  },
  {
   "cell_type": "code",
   "execution_count": 167,
   "metadata": {},
   "outputs": [],
   "source": [
    "# Xây dựng mô hình NNAR\n",
    "model = Sequential()\n",
    "model.add(LSTM(64, input_shape=(lookback, n_features), return_sequences=True))\n",
    "model.add(LSTM(32, return_sequences=False))\n",
    "model.add(Dense(horizon))\n",
    "model.compile(loss='mse', optimizer='adam')"
   ]
  },
  {
   "cell_type": "code",
   "execution_count": 168,
   "metadata": {},
   "outputs": [
    {
     "name": "stdout",
     "output_type": "stream",
     "text": [
      "Epoch 1/50\n",
      "40/40 - 4s - loss: 0.2094 - val_loss: 0.0040 - 4s/epoch - 90ms/step\n",
      "Epoch 2/50\n",
      "40/40 - 0s - loss: 0.0025 - val_loss: 0.0134 - 218ms/epoch - 5ms/step\n",
      "Epoch 3/50\n",
      "40/40 - 0s - loss: 6.4322e-04 - val_loss: 0.0117 - 223ms/epoch - 6ms/step\n",
      "Epoch 4/50\n",
      "40/40 - 0s - loss: 5.9828e-04 - val_loss: 0.0120 - 230ms/epoch - 6ms/step\n",
      "Epoch 5/50\n",
      "40/40 - 0s - loss: 5.7164e-04 - val_loss: 0.0110 - 236ms/epoch - 6ms/step\n",
      "Epoch 6/50\n",
      "40/40 - 0s - loss: 5.5219e-04 - val_loss: 0.0101 - 214ms/epoch - 5ms/step\n",
      "Epoch 7/50\n",
      "40/40 - 0s - loss: 5.3078e-04 - val_loss: 0.0094 - 232ms/epoch - 6ms/step\n",
      "Epoch 8/50\n",
      "40/40 - 0s - loss: 5.1937e-04 - val_loss: 0.0085 - 222ms/epoch - 6ms/step\n",
      "Epoch 9/50\n",
      "40/40 - 0s - loss: 4.8590e-04 - val_loss: 0.0085 - 217ms/epoch - 5ms/step\n",
      "Epoch 10/50\n",
      "40/40 - 0s - loss: 4.6332e-04 - val_loss: 0.0077 - 238ms/epoch - 6ms/step\n",
      "Epoch 11/50\n",
      "40/40 - 0s - loss: 4.4966e-04 - val_loss: 0.0070 - 216ms/epoch - 5ms/step\n",
      "Epoch 12/50\n",
      "40/40 - 0s - loss: 4.2748e-04 - val_loss: 0.0063 - 214ms/epoch - 5ms/step\n",
      "Epoch 13/50\n",
      "40/40 - 0s - loss: 4.1516e-04 - val_loss: 0.0054 - 212ms/epoch - 5ms/step\n",
      "Epoch 14/50\n",
      "40/40 - 0s - loss: 4.0805e-04 - val_loss: 0.0049 - 235ms/epoch - 6ms/step\n",
      "Epoch 15/50\n",
      "40/40 - 0s - loss: 3.8752e-04 - val_loss: 0.0049 - 250ms/epoch - 6ms/step\n",
      "Epoch 16/50\n",
      "40/40 - 0s - loss: 3.7642e-04 - val_loss: 0.0046 - 215ms/epoch - 5ms/step\n",
      "Epoch 17/50\n",
      "40/40 - 0s - loss: 3.8044e-04 - val_loss: 0.0044 - 222ms/epoch - 6ms/step\n",
      "Epoch 18/50\n",
      "40/40 - 0s - loss: 3.7438e-04 - val_loss: 0.0038 - 239ms/epoch - 6ms/step\n",
      "Epoch 19/50\n",
      "40/40 - 0s - loss: 3.6747e-04 - val_loss: 0.0036 - 228ms/epoch - 6ms/step\n",
      "Epoch 20/50\n",
      "40/40 - 0s - loss: 3.7189e-04 - val_loss: 0.0033 - 242ms/epoch - 6ms/step\n",
      "Epoch 21/50\n",
      "40/40 - 0s - loss: 3.5357e-04 - val_loss: 0.0032 - 224ms/epoch - 6ms/step\n",
      "Epoch 22/50\n",
      "40/40 - 0s - loss: 3.5837e-04 - val_loss: 0.0031 - 257ms/epoch - 6ms/step\n",
      "Epoch 23/50\n",
      "40/40 - 0s - loss: 3.5811e-04 - val_loss: 0.0029 - 271ms/epoch - 7ms/step\n",
      "Epoch 24/50\n",
      "40/40 - 0s - loss: 3.6018e-04 - val_loss: 0.0028 - 256ms/epoch - 6ms/step\n",
      "Epoch 25/50\n",
      "40/40 - 0s - loss: 3.7348e-04 - val_loss: 0.0026 - 274ms/epoch - 7ms/step\n",
      "Epoch 26/50\n",
      "40/40 - 0s - loss: 3.8376e-04 - val_loss: 0.0026 - 220ms/epoch - 5ms/step\n",
      "Epoch 27/50\n",
      "40/40 - 0s - loss: 3.4569e-04 - val_loss: 0.0025 - 217ms/epoch - 5ms/step\n",
      "Epoch 28/50\n",
      "40/40 - 0s - loss: 3.5920e-04 - val_loss: 0.0024 - 215ms/epoch - 5ms/step\n",
      "Epoch 29/50\n",
      "40/40 - 0s - loss: 3.4629e-04 - val_loss: 0.0028 - 213ms/epoch - 5ms/step\n",
      "Epoch 30/50\n",
      "40/40 - 0s - loss: 3.5532e-04 - val_loss: 0.0023 - 207ms/epoch - 5ms/step\n",
      "Epoch 31/50\n",
      "40/40 - 0s - loss: 3.4120e-04 - val_loss: 0.0022 - 206ms/epoch - 5ms/step\n",
      "Epoch 32/50\n",
      "40/40 - 0s - loss: 3.5270e-04 - val_loss: 0.0024 - 207ms/epoch - 5ms/step\n",
      "Epoch 33/50\n",
      "40/40 - 0s - loss: 3.4433e-04 - val_loss: 0.0024 - 204ms/epoch - 5ms/step\n",
      "Epoch 34/50\n",
      "40/40 - 0s - loss: 3.4770e-04 - val_loss: 0.0021 - 206ms/epoch - 5ms/step\n",
      "Epoch 35/50\n",
      "40/40 - 0s - loss: 3.5031e-04 - val_loss: 0.0024 - 207ms/epoch - 5ms/step\n",
      "Epoch 36/50\n",
      "40/40 - 0s - loss: 3.4505e-04 - val_loss: 0.0023 - 208ms/epoch - 5ms/step\n",
      "Epoch 37/50\n",
      "40/40 - 0s - loss: 3.6624e-04 - val_loss: 0.0022 - 212ms/epoch - 5ms/step\n",
      "Epoch 38/50\n",
      "40/40 - 0s - loss: 3.4591e-04 - val_loss: 0.0022 - 206ms/epoch - 5ms/step\n",
      "Epoch 39/50\n",
      "40/40 - 0s - loss: 3.5217e-04 - val_loss: 0.0024 - 207ms/epoch - 5ms/step\n",
      "Epoch 40/50\n",
      "40/40 - 0s - loss: 3.4175e-04 - val_loss: 0.0023 - 219ms/epoch - 5ms/step\n",
      "Epoch 41/50\n",
      "40/40 - 0s - loss: 3.4592e-04 - val_loss: 0.0023 - 205ms/epoch - 5ms/step\n",
      "Epoch 42/50\n",
      "40/40 - 0s - loss: 3.6278e-04 - val_loss: 0.0024 - 209ms/epoch - 5ms/step\n",
      "Epoch 43/50\n",
      "40/40 - 0s - loss: 3.4293e-04 - val_loss: 0.0021 - 213ms/epoch - 5ms/step\n",
      "Epoch 44/50\n",
      "40/40 - 0s - loss: 3.7605e-04 - val_loss: 0.0022 - 206ms/epoch - 5ms/step\n",
      "Epoch 45/50\n",
      "40/40 - 0s - loss: 3.5718e-04 - val_loss: 0.0024 - 209ms/epoch - 5ms/step\n",
      "Epoch 46/50\n",
      "40/40 - 0s - loss: 3.5599e-04 - val_loss: 0.0022 - 210ms/epoch - 5ms/step\n",
      "Epoch 47/50\n",
      "40/40 - 0s - loss: 3.4887e-04 - val_loss: 0.0023 - 206ms/epoch - 5ms/step\n",
      "Epoch 48/50\n",
      "40/40 - 0s - loss: 3.5719e-04 - val_loss: 0.0024 - 204ms/epoch - 5ms/step\n",
      "Epoch 49/50\n",
      "40/40 - 0s - loss: 3.4223e-04 - val_loss: 0.0022 - 206ms/epoch - 5ms/step\n",
      "Epoch 50/50\n",
      "40/40 - 0s - loss: 3.5547e-04 - val_loss: 0.0023 - 202ms/epoch - 5ms/step\n"
     ]
    }
   ],
   "source": [
    "# Huấn luyện mô hình\n",
    "history = model.fit(X_train, y_train, epochs=50, batch_size=32, validation_data=(X_val, y_val), verbose=2)"
   ]
  },
  {
   "cell_type": "code",
   "execution_count": 169,
   "metadata": {},
   "outputs": [
    {
     "name": "stdout",
     "output_type": "stream",
     "text": [
      "14/14 [==============================] - 1s 2ms/step\n",
      "14/14 [==============================] - 0s 2ms/step\n"
     ]
    }
   ],
   "source": [
    "\n",
    "y_pred = model.predict(X_test)\n",
    "y_pred_val = model.predict(X_val)"
   ]
  },
  {
   "cell_type": "code",
   "execution_count": 170,
   "metadata": {},
   "outputs": [
    {
     "name": "stdout",
     "output_type": "stream",
     "text": [
      "Validation RMSE: 0.04845586048659078\n",
      "Testing RMSE: 0.06862091417841898\n",
      "Testing MAE: 0.045840156185748125\n",
      "Validation MAE: 0.03806825330262899\n",
      "Testing MAPE: 15.62845236994638\n",
      "Validation MAPE: 8.984782929817534\n"
     ]
    }
   ],
   "source": [
    "# Đánh giá độ chính xác\n",
    "y_test_nonzero = y_test[y_test != 0]\n",
    "y_pred_nonzero = y_pred[y_test != 0]\n",
    "\n",
    "valid_rmse = np.sqrt(np.mean((y_pred_val - y_val)**2))\n",
    "test_rmse = np.sqrt(np.mean((y_pred - y_test)**2))\n",
    "test_mae = np.mean(np.abs(y_pred - y_test))\n",
    "valid_mae = np.mean(np.abs(y_pred_val - y_val))\n",
    "test_mape = np.mean(np.abs((y_test_nonzero - y_pred_nonzero) / y_test_nonzero)) * 100\n",
    "valid_mape = np.mean(np.abs((y_val - y_pred_val) / y_val)) * 100\n",
    "print('Validation RMSE:', valid_rmse)\n",
    "print('Testing RMSE:', test_rmse)\n",
    "print('Testing MAE:', test_mae)\n",
    "print('Validation MAE:', valid_mae)\n",
    "print('Testing MAPE:', test_mape)\n",
    "print('Validation MAPE:', valid_mape)"
   ]
  },
  {
   "cell_type": "code",
   "execution_count": 171,
   "metadata": {},
   "outputs": [],
   "source": [
    "# Scaler lại các giá trị\n",
    "y_pred = scaler.inverse_transform(y_pred)\n",
    "y_pred_val = scaler.inverse_transform(y_pred_val)"
   ]
  },
  {
   "cell_type": "code",
   "execution_count": 172,
   "metadata": {},
   "outputs": [],
   "source": [
    "# Tạo một danh sách mới\n",
    "y_pred = [y_pred[i][0] for i in range(len(y_pred))]\n",
    "y_pred_val = [y_pred_val[i][0] for i in range(len(y_pred_val))]"
   ]
  },
  {
   "cell_type": "code",
   "execution_count": 173,
   "metadata": {},
   "outputs": [
    {
     "name": "stdout",
     "output_type": "stream",
     "text": [
      "1/1 [==============================] - 0s 22ms/step\n"
     ]
    },
    {
     "name": "stdout",
     "output_type": "stream",
     "text": [
      "1/1 [==============================] - 1s 536ms/step\n",
      "1/1 [==============================] - 0s 19ms/step\n",
      "1/1 [==============================] - 0s 19ms/step\n",
      "1/1 [==============================] - 0s 19ms/step\n",
      "1/1 [==============================] - 0s 19ms/step\n",
      "1/1 [==============================] - 0s 19ms/step\n",
      "1/1 [==============================] - 0s 19ms/step\n",
      "1/1 [==============================] - 0s 17ms/step\n",
      "1/1 [==============================] - 0s 20ms/step\n",
      "1/1 [==============================] - 0s 19ms/step\n",
      "1/1 [==============================] - 0s 19ms/step\n",
      "1/1 [==============================] - 0s 18ms/step\n",
      "1/1 [==============================] - 0s 18ms/step\n",
      "1/1 [==============================] - 0s 18ms/step\n",
      "1/1 [==============================] - 0s 19ms/step\n",
      "1/1 [==============================] - 0s 18ms/step\n",
      "1/1 [==============================] - 0s 19ms/step\n",
      "1/1 [==============================] - 0s 23ms/step\n",
      "1/1 [==============================] - 0s 26ms/step\n",
      "1/1 [==============================] - 0s 18ms/step\n",
      "1/1 [==============================] - 0s 19ms/step\n",
      "1/1 [==============================] - 0s 19ms/step\n",
      "1/1 [==============================] - 0s 17ms/step\n",
      "1/1 [==============================] - 0s 21ms/step\n",
      "1/1 [==============================] - 0s 19ms/step\n",
      "1/1 [==============================] - 0s 18ms/step\n",
      "1/1 [==============================] - 0s 22ms/step\n",
      "1/1 [==============================] - 0s 18ms/step\n",
      "1/1 [==============================] - 0s 18ms/step\n"
     ]
    }
   ],
   "source": [
    "# Dự đoán 30 ngày tiếp theo\n",
    "num_predictions = 30\n",
    "initial_input = X_val[-1]\n",
    "initial_input = initial_input.reshape(1, lookback, n_features)\n",
    "next30days_predictions = []\n",
    "for _ in range(num_predictions):\n",
    "    next_pred = model.predict(initial_input)\n",
    "    next30days_predictions.append(next_pred[0])\n",
    "    initial_input = np.append(initial_input[:, 1:, :], next_pred.reshape(1, horizon, n_features), axis=1)\n",
    "# next30days_predictions = np.array(next30days_predictions).reshape(-1, 1)\n",
    "next30days_predictions = scaler.inverse_transform(next30days_predictions)"
   ]
  },
  {
   "cell_type": "code",
   "execution_count": 174,
   "metadata": {},
   "outputs": [],
   "source": [
    "# Trích xuất giá trị dự đoán vào danh sách mới\n",
    "next30days_predictions=[next30days_predictions[i][0] for i in range(len(next30days_predictions))]"
   ]
  },
  {
   "cell_type": "code",
   "execution_count": 175,
   "metadata": {},
   "outputs": [
    {
     "data": {
      "image/png": "[encoded data removed]",
      "text/plain": [
       "<Figure size 640x480 with 1 Axes>"
      ]
     },
     "metadata": {},
     "output_type": "display_data"
    }
   ],
   "source": [
    "# Tạo danh sách ngày cho trục x\n",
    "dates_train = df.index[:train_size]\n",
    "dates_test = df.index[train_size:train_size+test_size]\n",
    "dates_val = df.index[train_size+test_size:train_size+test_size+val_size]\n",
    "dates_pred = df.index[train_size+lookback+horizon-1:train_size+test_size]\n",
    "dates_pred_val = df.index[train_size+test_size+lookback+horizon-1:train_size+test_size+val_size]\n",
    "dates_next30days = pd.date_range(start=df.index[-1], periods=num_predictions+1)[1:]\n",
    "\n",
    "\n",
    "# Vẽ biểu đồ\n",
    "plt.plot(dates_train, scaler.inverse_transform(train_data), label='Train')\n",
    "plt.plot(dates_test, scaler.inverse_transform(test_data), label='Test')\n",
    "plt.plot(dates_val, scaler.inverse_transform(val_data), label='Validation')\n",
    "plt.plot(dates_pred, y_pred, label='Predicted')\n",
    "plt.plot(dates_pred_val, y_pred_val, label='Validation Predicted')\n",
    "plt.plot(dates_next30days, next30days_predictions, label='Next 30 Days Predictions')\n",
    "# plt.xlabel('Date')\n",
    "# plt.ylabel('Price')\n",
    "# plt.title('Stock Price Predictions')\n",
    "plt.legend()\n",
    "plt.show()"
   ]
  }
 ],
 "metadata": {
  "kernelspec": {
   "display_name": "Python 3",
   "language": "python",
   "name": "python3"
  },
  "language_info": {
   "codemirror_mode": {
    "name": "ipython",
    "version": 3
   },
   "file_extension": ".py",
   "mimetype": "text/x-python",
   "name": "python",
   "nbconvert_exporter": "python",
   "pygments_lexer": "ipython3",
   "version": "3.11.2"
  },
  "orig_nbformat": 4
 },
 "nbformat": 4,
 "nbformat_minor": 2
}
