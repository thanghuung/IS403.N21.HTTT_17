{
  "cells": [
    {
      "cell_type": "code",
      "execution_count": 1,
      "metadata": {
        "id": "FMDKda-XIUAK"
      },
      "outputs": [],
      "source": [
        "# 1. Import thư viện cần thiết\n",
        "import numpy as np\n",
        "import pandas as pd\n",
        "import matplotlib.pyplot as plt\n",
        "from sklearn.preprocessing import MinMaxScaler\n",
        "from sklearn.metrics import mean_squared_error\n",
        "from keras.models import Sequential\n",
        "from keras.layers import Dense, Conv1D, Flatten"
      ]
    },
    {
      "cell_type": "code",
      "execution_count": 2,
      "metadata": {
        "id": "aRm9GQ8KJJ5N"
      },
      "outputs": [],
      "source": [
        "# 2. Đọc file csv và gắng index với giá Close\n",
        "df = pd.read_csv('ARE Historical Data.csv')\n",
        "df1=df.reset_index()['Price']"
      ]
    },
    {
      "cell_type": "code",
      "execution_count": 3,
      "metadata": {
        "id": "RdVpDho2JgL5"
      },
      "outputs": [],
      "source": [
        "# 3. Scaler data\n",
        "scaler=MinMaxScaler(feature_range=(0,1))\n",
        "df1=scaler.fit_transform(np.array(df1).reshape(-1,1))"
      ]
    },
    {
      "cell_type": "code",
      "execution_count": 4,
      "metadata": {
        "id": "B5JXpenzJoR3"
      },
      "outputs": [],
      "source": [
        "# 4. Chia train test\n",
        "train_size = int(0.7 * len(df1))\n",
        "test_size = int(0.2 * len(df1))\n",
        "val_size = len(df1) - train_size - test_size\n",
        "\n",
        "train_data = df1[:train_size]\n",
        "test_data = df1[train_size:train_size+test_size]\n",
        "val_data = df1[train_size+test_size:]"
      ]
    },
    {
      "cell_type": "code",
      "execution_count": 5,
      "metadata": {
        "id": "yJfmuBORLSfC"
      },
      "outputs": [],
      "source": [
        "# 5. Hàm Create Dataset\n",
        "import numpy\n",
        "# convert an array of values into a dataset matrix\n",
        "def create_dataset(dataset, time_step=1):\n",
        "\tdataX, dataY = [], []\n",
        "\tfor i in range(len(dataset)-time_step-1):\n",
        "\t\ta = dataset[i:(i+time_step), 0]   ###i=0, X=0,1,2,3-----99   Y=100 \n",
        "\t\tdataX.append(a)\n",
        "\t\tdataY.append(dataset[i + time_step, 0])\n",
        "\treturn numpy.array(dataX), numpy.array(dataY)"
      ]
    },
    {
      "cell_type": "code",
      "execution_count": 6,
      "metadata": {
        "id": "e81cKq03LXFB"
      },
      "outputs": [],
      "source": [
        "#6. Reshape into X=t,t+1,t+2..t+99 and Y=t+100\n",
        "\n",
        "time_step = 100\n",
        "X_train, y_train = create_dataset(train_data, time_step)\n",
        "X_val, yval = create_dataset(val_data, time_step)\n",
        "X_test, ytest = create_dataset(test_data, time_step)"
      ]
    },
    {
      "cell_type": "code",
      "execution_count": 7,
      "metadata": {
        "id": "RdBVfku7O2qb"
      },
      "outputs": [],
      "source": [
        "# 7. Reshape input to be [samples, time steps, features] which is required for LSTM\n",
        "X_train =X_train.reshape(X_train.shape[0],X_train.shape[1] , 1)\n",
        "X_test = X_test.reshape(X_test.shape[0],X_test.shape[1] , 1)\n",
        "X_val = X_val.reshape(X_val.shape[0],X_val.shape[1] , 1)"
      ]
    },
    {
      "cell_type": "code",
      "execution_count": 8,
      "metadata": {
        "id": "sSfxrE7BO9vX"
      },
      "outputs": [],
      "source": [
        "# Xây dựng mô hình TDNN\n",
        "window_size = 100\n",
        "model = Sequential()\n",
        "model.add(Conv1D(filters=64, kernel_size=window_size, activation='relu', input_shape=(window_size, 1)))\n",
        "model.add(Flatten())\n",
        "model.add(Dense(32, activation='relu'))\n",
        "model.add(Dense(1))"
      ]
    },
    {
      "cell_type": "code",
      "execution_count": 9,
      "metadata": {
        "id": "zgfeujZSPEKr",
        "colab": {
          "base_uri": "https://localhost:8080/"
        },
        "outputId": "5d6bc759-d84d-4793-e063-09c4c0766694"
      },
      "outputs": [
        {
          "output_type": "stream",
          "name": "stdout",
          "text": [
            "Epoch 1/100\n",
            "15/15 [==============================] - 2s 37ms/step - loss: 0.0734 - val_loss: 0.0011\n",
            "Epoch 2/100\n",
            "15/15 [==============================] - 0s 12ms/step - loss: 0.0142 - val_loss: 0.0022\n",
            "Epoch 3/100\n",
            "15/15 [==============================] - 0s 11ms/step - loss: 0.0110 - val_loss: 0.0013\n",
            "Epoch 4/100\n",
            "15/15 [==============================] - 0s 11ms/step - loss: 0.0088 - val_loss: 0.0010\n",
            "Epoch 5/100\n",
            "15/15 [==============================] - 0s 9ms/step - loss: 0.0075 - val_loss: 0.0010\n",
            "Epoch 6/100\n",
            "15/15 [==============================] - 0s 8ms/step - loss: 0.0064 - val_loss: 0.0012\n",
            "Epoch 7/100\n",
            "15/15 [==============================] - 0s 12ms/step - loss: 0.0056 - val_loss: 0.0013\n",
            "Epoch 8/100\n",
            "15/15 [==============================] - 0s 16ms/step - loss: 0.0053 - val_loss: 0.0012\n",
            "Epoch 9/100\n",
            "15/15 [==============================] - 0s 21ms/step - loss: 0.0046 - val_loss: 8.0281e-04\n",
            "Epoch 10/100\n",
            "15/15 [==============================] - 0s 16ms/step - loss: 0.0040 - val_loss: 7.8988e-04\n",
            "Epoch 11/100\n",
            "15/15 [==============================] - 0s 20ms/step - loss: 0.0037 - val_loss: 8.8273e-04\n",
            "Epoch 12/100\n",
            "15/15 [==============================] - 0s 22ms/step - loss: 0.0033 - val_loss: 6.2121e-04\n",
            "Epoch 13/100\n",
            "15/15 [==============================] - 0s 15ms/step - loss: 0.0031 - val_loss: 7.8577e-04\n",
            "Epoch 14/100\n",
            "15/15 [==============================] - 0s 12ms/step - loss: 0.0029 - val_loss: 5.8436e-04\n",
            "Epoch 15/100\n",
            "15/15 [==============================] - 0s 10ms/step - loss: 0.0027 - val_loss: 7.4044e-04\n",
            "Epoch 16/100\n",
            "15/15 [==============================] - 0s 14ms/step - loss: 0.0025 - val_loss: 6.0336e-04\n",
            "Epoch 17/100\n",
            "15/15 [==============================] - 0s 22ms/step - loss: 0.0024 - val_loss: 5.9890e-04\n",
            "Epoch 18/100\n",
            "15/15 [==============================] - 0s 16ms/step - loss: 0.0023 - val_loss: 5.4092e-04\n",
            "Epoch 19/100\n",
            "15/15 [==============================] - 0s 13ms/step - loss: 0.0023 - val_loss: 7.0909e-04\n",
            "Epoch 20/100\n",
            "15/15 [==============================] - 0s 15ms/step - loss: 0.0023 - val_loss: 5.2952e-04\n",
            "Epoch 21/100\n",
            "15/15 [==============================] - 0s 21ms/step - loss: 0.0024 - val_loss: 5.2743e-04\n",
            "Epoch 22/100\n",
            "15/15 [==============================] - 0s 19ms/step - loss: 0.0021 - val_loss: 5.1493e-04\n",
            "Epoch 23/100\n",
            "15/15 [==============================] - 0s 14ms/step - loss: 0.0019 - val_loss: 5.1029e-04\n",
            "Epoch 24/100\n",
            "15/15 [==============================] - 0s 15ms/step - loss: 0.0019 - val_loss: 5.8166e-04\n",
            "Epoch 25/100\n",
            "15/15 [==============================] - 0s 7ms/step - loss: 0.0019 - val_loss: 4.7176e-04\n",
            "Epoch 26/100\n",
            "15/15 [==============================] - 0s 6ms/step - loss: 0.0018 - val_loss: 4.5456e-04\n",
            "Epoch 27/100\n",
            "15/15 [==============================] - 0s 8ms/step - loss: 0.0018 - val_loss: 4.2548e-04\n",
            "Epoch 28/100\n",
            "15/15 [==============================] - 0s 9ms/step - loss: 0.0018 - val_loss: 4.1771e-04\n",
            "Epoch 29/100\n",
            "15/15 [==============================] - 0s 9ms/step - loss: 0.0017 - val_loss: 4.3465e-04\n",
            "Epoch 30/100\n",
            "15/15 [==============================] - 0s 7ms/step - loss: 0.0016 - val_loss: 4.1843e-04\n",
            "Epoch 31/100\n",
            "15/15 [==============================] - 0s 8ms/step - loss: 0.0016 - val_loss: 4.1514e-04\n",
            "Epoch 32/100\n",
            "15/15 [==============================] - 0s 10ms/step - loss: 0.0015 - val_loss: 4.6607e-04\n",
            "Epoch 33/100\n",
            "15/15 [==============================] - 0s 10ms/step - loss: 0.0016 - val_loss: 3.7261e-04\n",
            "Epoch 34/100\n",
            "15/15 [==============================] - 0s 13ms/step - loss: 0.0016 - val_loss: 3.8932e-04\n",
            "Epoch 35/100\n",
            "15/15 [==============================] - 0s 8ms/step - loss: 0.0015 - val_loss: 4.1925e-04\n",
            "Epoch 36/100\n",
            "15/15 [==============================] - 0s 6ms/step - loss: 0.0014 - val_loss: 3.7940e-04\n",
            "Epoch 37/100\n",
            "15/15 [==============================] - 0s 5ms/step - loss: 0.0014 - val_loss: 3.7694e-04\n",
            "Epoch 38/100\n",
            "15/15 [==============================] - 0s 6ms/step - loss: 0.0014 - val_loss: 3.7793e-04\n",
            "Epoch 39/100\n",
            "15/15 [==============================] - 0s 5ms/step - loss: 0.0014 - val_loss: 3.3326e-04\n",
            "Epoch 40/100\n",
            "15/15 [==============================] - 0s 4ms/step - loss: 0.0017 - val_loss: 4.8054e-04\n",
            "Epoch 41/100\n",
            "15/15 [==============================] - 0s 6ms/step - loss: 0.0015 - val_loss: 3.2918e-04\n",
            "Epoch 42/100\n",
            "15/15 [==============================] - 0s 6ms/step - loss: 0.0014 - val_loss: 3.5544e-04\n",
            "Epoch 43/100\n",
            "15/15 [==============================] - 0s 4ms/step - loss: 0.0013 - val_loss: 3.2553e-04\n",
            "Epoch 44/100\n",
            "15/15 [==============================] - 0s 5ms/step - loss: 0.0013 - val_loss: 3.4970e-04\n",
            "Epoch 45/100\n",
            "15/15 [==============================] - 0s 6ms/step - loss: 0.0013 - val_loss: 3.2667e-04\n",
            "Epoch 46/100\n",
            "15/15 [==============================] - 0s 4ms/step - loss: 0.0013 - val_loss: 3.5808e-04\n",
            "Epoch 47/100\n",
            "15/15 [==============================] - 0s 4ms/step - loss: 0.0013 - val_loss: 3.1086e-04\n",
            "Epoch 48/100\n",
            "15/15 [==============================] - 0s 6ms/step - loss: 0.0012 - val_loss: 3.8147e-04\n",
            "Epoch 49/100\n",
            "15/15 [==============================] - 0s 5ms/step - loss: 0.0013 - val_loss: 2.9880e-04\n",
            "Epoch 50/100\n",
            "15/15 [==============================] - 0s 5ms/step - loss: 0.0017 - val_loss: 2.9406e-04\n",
            "Epoch 51/100\n",
            "15/15 [==============================] - 0s 5ms/step - loss: 0.0014 - val_loss: 3.2392e-04\n",
            "Epoch 52/100\n",
            "15/15 [==============================] - 0s 5ms/step - loss: 0.0014 - val_loss: 2.8678e-04\n",
            "Epoch 53/100\n",
            "15/15 [==============================] - 0s 6ms/step - loss: 0.0012 - val_loss: 3.5461e-04\n",
            "Epoch 54/100\n",
            "15/15 [==============================] - 0s 6ms/step - loss: 0.0012 - val_loss: 2.8301e-04\n",
            "Epoch 55/100\n",
            "15/15 [==============================] - 0s 5ms/step - loss: 0.0013 - val_loss: 3.7806e-04\n",
            "Epoch 56/100\n",
            "15/15 [==============================] - 0s 4ms/step - loss: 0.0012 - val_loss: 3.1483e-04\n",
            "Epoch 57/100\n",
            "15/15 [==============================] - 0s 4ms/step - loss: 0.0011 - val_loss: 2.9939e-04\n",
            "Epoch 58/100\n",
            "15/15 [==============================] - 0s 5ms/step - loss: 0.0011 - val_loss: 2.9749e-04\n",
            "Epoch 59/100\n",
            "15/15 [==============================] - 0s 6ms/step - loss: 0.0011 - val_loss: 2.8028e-04\n",
            "Epoch 60/100\n",
            "15/15 [==============================] - 0s 5ms/step - loss: 0.0012 - val_loss: 2.9465e-04\n",
            "Epoch 61/100\n",
            "15/15 [==============================] - 0s 6ms/step - loss: 0.0011 - val_loss: 2.7492e-04\n",
            "Epoch 62/100\n",
            "15/15 [==============================] - 0s 5ms/step - loss: 0.0012 - val_loss: 2.7083e-04\n",
            "Epoch 63/100\n",
            "15/15 [==============================] - 0s 6ms/step - loss: 0.0011 - val_loss: 2.8065e-04\n",
            "Epoch 64/100\n",
            "15/15 [==============================] - 0s 5ms/step - loss: 0.0011 - val_loss: 2.9450e-04\n",
            "Epoch 65/100\n",
            "15/15 [==============================] - 0s 5ms/step - loss: 0.0011 - val_loss: 3.0399e-04\n",
            "Epoch 66/100\n",
            "15/15 [==============================] - 0s 5ms/step - loss: 0.0010 - val_loss: 2.8936e-04\n",
            "Epoch 67/100\n",
            "15/15 [==============================] - 0s 6ms/step - loss: 9.9841e-04 - val_loss: 2.7007e-04\n",
            "Epoch 68/100\n",
            "15/15 [==============================] - 0s 6ms/step - loss: 9.8039e-04 - val_loss: 2.6493e-04\n",
            "Epoch 69/100\n",
            "15/15 [==============================] - 0s 6ms/step - loss: 9.7908e-04 - val_loss: 2.7164e-04\n",
            "Epoch 70/100\n",
            "15/15 [==============================] - 0s 6ms/step - loss: 0.0011 - val_loss: 2.5832e-04\n",
            "Epoch 71/100\n",
            "15/15 [==============================] - 0s 6ms/step - loss: 0.0012 - val_loss: 2.6333e-04\n",
            "Epoch 72/100\n",
            "15/15 [==============================] - 0s 6ms/step - loss: 9.6720e-04 - val_loss: 2.5905e-04\n",
            "Epoch 73/100\n",
            "15/15 [==============================] - 0s 5ms/step - loss: 9.3049e-04 - val_loss: 2.5926e-04\n",
            "Epoch 74/100\n",
            "15/15 [==============================] - 0s 5ms/step - loss: 9.4579e-04 - val_loss: 2.5119e-04\n",
            "Epoch 75/100\n",
            "15/15 [==============================] - 0s 5ms/step - loss: 9.5932e-04 - val_loss: 2.5831e-04\n",
            "Epoch 76/100\n",
            "15/15 [==============================] - 0s 6ms/step - loss: 9.1442e-04 - val_loss: 2.5976e-04\n",
            "Epoch 77/100\n",
            "15/15 [==============================] - 0s 4ms/step - loss: 9.0616e-04 - val_loss: 2.5095e-04\n",
            "Epoch 78/100\n",
            "15/15 [==============================] - 0s 5ms/step - loss: 9.8597e-04 - val_loss: 2.7206e-04\n",
            "Epoch 79/100\n",
            "15/15 [==============================] - 0s 4ms/step - loss: 9.8431e-04 - val_loss: 2.5043e-04\n",
            "Epoch 80/100\n",
            "15/15 [==============================] - 0s 5ms/step - loss: 9.0138e-04 - val_loss: 2.6382e-04\n",
            "Epoch 81/100\n",
            "15/15 [==============================] - 0s 5ms/step - loss: 9.3328e-04 - val_loss: 2.4318e-04\n",
            "Epoch 82/100\n",
            "15/15 [==============================] - 0s 5ms/step - loss: 9.3019e-04 - val_loss: 2.6444e-04\n",
            "Epoch 83/100\n",
            "15/15 [==============================] - 0s 6ms/step - loss: 9.6792e-04 - val_loss: 2.4900e-04\n",
            "Epoch 84/100\n",
            "15/15 [==============================] - 0s 5ms/step - loss: 9.3367e-04 - val_loss: 2.8191e-04\n",
            "Epoch 85/100\n",
            "15/15 [==============================] - 0s 5ms/step - loss: 8.9100e-04 - val_loss: 2.3870e-04\n",
            "Epoch 86/100\n",
            "15/15 [==============================] - 0s 5ms/step - loss: 9.3271e-04 - val_loss: 2.6866e-04\n",
            "Epoch 87/100\n",
            "15/15 [==============================] - 0s 4ms/step - loss: 8.6238e-04 - val_loss: 2.3590e-04\n",
            "Epoch 88/100\n",
            "15/15 [==============================] - 0s 5ms/step - loss: 0.0013 - val_loss: 2.5717e-04\n",
            "Epoch 89/100\n",
            "15/15 [==============================] - 0s 5ms/step - loss: 9.8156e-04 - val_loss: 2.4084e-04\n",
            "Epoch 90/100\n",
            "15/15 [==============================] - 0s 6ms/step - loss: 8.4150e-04 - val_loss: 2.4343e-04\n",
            "Epoch 91/100\n",
            "15/15 [==============================] - 0s 4ms/step - loss: 8.4539e-04 - val_loss: 2.6870e-04\n",
            "Epoch 92/100\n",
            "15/15 [==============================] - 0s 6ms/step - loss: 8.5004e-04 - val_loss: 2.4363e-04\n",
            "Epoch 93/100\n",
            "15/15 [==============================] - 0s 5ms/step - loss: 8.2169e-04 - val_loss: 2.4050e-04\n",
            "Epoch 94/100\n",
            "15/15 [==============================] - 0s 5ms/step - loss: 8.4764e-04 - val_loss: 2.8362e-04\n",
            "Epoch 95/100\n",
            "15/15 [==============================] - 0s 6ms/step - loss: 0.0012 - val_loss: 2.9198e-04\n",
            "Epoch 96/100\n",
            "15/15 [==============================] - 0s 6ms/step - loss: 9.8766e-04 - val_loss: 2.3207e-04\n",
            "Epoch 97/100\n",
            "15/15 [==============================] - 0s 5ms/step - loss: 9.1790e-04 - val_loss: 2.3720e-04\n",
            "Epoch 98/100\n",
            "15/15 [==============================] - 0s 6ms/step - loss: 8.3932e-04 - val_loss: 2.3223e-04\n",
            "Epoch 99/100\n",
            "15/15 [==============================] - 0s 4ms/step - loss: 8.6595e-04 - val_loss: 2.4692e-04\n",
            "Epoch 100/100\n",
            "15/15 [==============================] - 0s 5ms/step - loss: 9.3152e-04 - val_loss: 2.6155e-04\n"
          ]
        },
        {
          "output_type": "execute_result",
          "data": {
            "text/plain": [
              "<keras.callbacks.History at 0x7ff205e9a5f0>"
            ]
          },
          "metadata": {},
          "execution_count": 9
        }
      ],
      "source": [
        "# 9. Fit mô hình với dữ liệu train\n",
        "model.compile(optimizer='adam', loss='mean_squared_error')\n",
        "model.fit(X_train,y_train,validation_data=(X_test,ytest),epochs=100,batch_size=64,verbose=1)"
      ]
    },
    {
      "cell_type": "code",
      "execution_count": 10,
      "metadata": {
        "id": "Rxx_KQSkQpBG",
        "colab": {
          "base_uri": "https://localhost:8080/"
        },
        "outputId": "a3a83019-f1da-4001-a44d-3ba970a3b8d8"
      },
      "outputs": [
        {
          "output_type": "stream",
          "name": "stdout",
          "text": [
            "30/30 [==============================] - 0s 1ms/step\n",
            "7/7 [==============================] - 0s 2ms/step\n",
            "2/2 [==============================] - 0s 6ms/step\n"
          ]
        }
      ],
      "source": [
        "# 10. Dự báo dữ liệu test, val\n",
        "train_predict=model.predict(X_train)\n",
        "y_pred=model.predict(X_test)\n",
        "y_pred_val=model.predict(X_val)"
      ]
    },
    {
      "cell_type": "code",
      "execution_count": 11,
      "metadata": {
        "id": "5rwTN10LQ7rj"
      },
      "outputs": [],
      "source": [
        "# 11. Chuẩn hóa dữ liệu y_pred, y_pred_val\n",
        "train_predict=scaler.inverse_transform(train_predict)\n",
        "y_pred=scaler.inverse_transform(y_pred)\n",
        "y_pred_val=scaler.inverse_transform(y_pred_val)"
      ]
    },
    {
      "cell_type": "code",
      "execution_count": 12,
      "metadata": {
        "id": "wu_9j94kRonD",
        "colab": {
          "base_uri": "https://localhost:8080/"
        },
        "outputId": "dcd7d0a1-b8b8-4fb9-c9c9-4aed6da2f486"
      },
      "outputs": [
        {
          "output_type": "stream",
          "name": "stdout",
          "text": [
            "Validation RMSE: 120.55072611310848\n",
            "Testing RMSE: 125.4010872717334\n"
          ]
        }
      ],
      "source": [
        "# 12. Đánh giá độ chính xác thuật toán bằng RMSE\n",
        "valid_rmse = np.sqrt(np.mean((y_pred_val - yval)**2))\n",
        "test_rmse = np.sqrt(np.mean((y_pred - ytest)**2))\n",
        "print('Validation RMSE:', valid_rmse)\n",
        "print('Testing RMSE:', test_rmse)"
      ]
    },
    {
      "cell_type": "code",
      "execution_count": 13,
      "metadata": {
        "id": "izQZ1iQyYl6N"
      },
      "outputs": [],
      "source": [
        "# Dự báo 30 ngày tiếp theo\n",
        "x_input = val_data[-100:].reshape(1, -1)\n",
        "temp_input = list(x_input)\n",
        "temp_input = temp_input[0].tolist()\n",
        "\n",
        "lst_output = []\n",
        "n_steps = 100\n",
        "i = 0\n",
        "\n",
        "while i < 7:\n",
        "    if len(temp_input) > 100:\n",
        "        x_input = np.array(temp_input[1:])\n",
        "        x_input = x_input.reshape(1, -1)\n",
        "        x_input = x_input.reshape((1, n_steps, 1))\n",
        "        yhat = model.predict(x_input, verbose=0)\n",
        "        temp_input.extend(yhat[0].tolist())\n",
        "        temp_input = temp_input[1:]\n",
        "        lst_output.extend(yhat.tolist())\n",
        "        i += 1\n",
        "    else:\n",
        "        x_input = x_input.reshape((1, n_steps, 1))\n",
        "        yhat = model.predict(x_input, verbose=0)\n",
        "        temp_input.extend(yhat[0].tolist())\n",
        "        lst_output.extend(yhat.tolist())\n",
        "        i += 1"
      ]
    },
    {
      "cell_type": "code",
      "execution_count": 14,
      "metadata": {
        "id": "KSa_mX51a654",
        "colab": {
          "base_uri": "https://localhost:8080/",
          "height": 430
        },
        "outputId": "1c30740b-5f15-4c08-edd0-04327580d97d"
      },
      "outputs": [
        {
          "output_type": "display_data",
          "data": {
            "text/plain": [
              "<Figure size 640x480 with 1 Axes>"
            ],
            "image/png": "[encoded data removed]"
          },
          "metadata": {}
        }
      ],
      "source": [
        "# 14.Vẽ hình\n",
        "train_data_index = pd.RangeIndex(start=0, stop=train_size, step=1)\n",
        "plt.plot(scaler.inverse_transform(train_data))\n",
        "test_data_index = pd.RangeIndex(start=train_size, stop=train_size+test_size, step=1)\n",
        "plt.plot(test_data_index,scaler.inverse_transform(test_data))\n",
        "test_data_index = pd.RangeIndex(start=train_size+101, stop=train_size+test_size, step=1)\n",
        "plt.plot(test_data_index,(y_pred))\n",
        "val_data_index = pd.RangeIndex(start=train_size+test_size, stop=train_size+test_size+val_size, step=1)\n",
        "plt.plot(val_data_index,scaler.inverse_transform(val_data))\n",
        "val_data_index = pd.RangeIndex(start=train_size+test_size+101, stop=train_size+test_size+val_size, step=1)\n",
        "plt.plot(val_data_index,y_pred_val)\n",
        "prediect_data_index = pd.RangeIndex(start=len(df1)-1, stop=len(df1)+6, step=1)\n",
        "plt.plot(prediect_data_index,scaler.inverse_transform(lst_output))\n",
        "plt.legend(['Train','Test','Predict','Validate','ValidatePred','Predict7days'])\n",
        "plt.show()"
      ]
    },
    {
      "cell_type": "code",
      "source": [
        "scaler.inverse_transform(lst_output)"
      ],
      "metadata": {
        "colab": {
          "base_uri": "https://localhost:8080/"
        },
        "id": "h7-dzd86AKTM",
        "outputId": "e091a4d2-4425-4d8b-bb76-0c02b51bb4e0"
      },
      "execution_count": 15,
      "outputs": [
        {
          "output_type": "execute_result",
          "data": {
            "text/plain": [
              "array([[119.92039772],\n",
              "       [120.24482519],\n",
              "       [120.58939317],\n",
              "       [120.77417244],\n",
              "       [121.22652051],\n",
              "       [121.6162913 ],\n",
              "       [121.86626364]])"
            ]
          },
          "metadata": {},
          "execution_count": 15
        }
      ]
    }
  ],
  "metadata": {
    "colab": {
      "provenance": []
    },
    "kernelspec": {
      "display_name": "Python 3",
      "name": "python3"
    },
    "language_info": {
      "codemirror_mode": {
        "name": "ipython",
        "version": 3
      },
      "file_extension": ".py",
      "mimetype": "text/x-python",
      "name": "python",
      "nbconvert_exporter": "python",
      "pygments_lexer": "ipython3",
      "version": "3.10.11"
    }
  },
  "nbformat": 4,
  "nbformat_minor": 0
}