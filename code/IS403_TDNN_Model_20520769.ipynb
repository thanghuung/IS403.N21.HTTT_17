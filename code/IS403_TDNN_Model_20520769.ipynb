{
  "cells": [
    {
      "cell_type": "markdown",
      "source": [
        "# Dataset ARE"
      ],
      "metadata": {
        "id": "bJevkLRA9oKD"
      }
    },
    {
      "cell_type": "code",
      "execution_count": 33,
      "metadata": {
        "id": "FMDKda-XIUAK"
      },
      "outputs": [],
      "source": [
        "# 1. Import thư viện cần thiết\n",
        "import numpy as np\n",
        "import pandas as pd\n",
        "import matplotlib.pyplot as plt\n",
        "from sklearn.preprocessing import MinMaxScaler\n",
        "from sklearn.metrics import mean_squared_error\n",
        "from keras.models import Sequential\n",
        "from keras.layers import Dense, Conv1D, Flatten"
      ]
    },
    {
      "cell_type": "code",
      "execution_count": 34,
      "metadata": {
        "id": "aRm9GQ8KJJ5N"
      },
      "outputs": [],
      "source": [
        "# 2. Đọc file csv và gắng index với giá Close\n",
        "df = pd.read_csv('ARE-Historical-Data-2015.csv')\n",
        "df1=df.reset_index()['Price']"
      ]
    },
    {
      "cell_type": "code",
      "execution_count": 35,
      "metadata": {
        "id": "RdVpDho2JgL5"
      },
      "outputs": [],
      "source": [
        "# 3. Scaler data\n",
        "scaler=MinMaxScaler(feature_range=(0,1))\n",
        "df1=scaler.fit_transform(np.array(df1).reshape(-1,1))"
      ]
    },
    {
      "cell_type": "code",
      "execution_count": 36,
      "metadata": {
        "id": "B5JXpenzJoR3"
      },
      "outputs": [],
      "source": [
        "# 4. Chia train test\n",
        "train_size = int(0.7 * len(df1))\n",
        "test_size = int(0.2 * len(df1))\n",
        "val_size = len(df1) - train_size - test_size\n",
        "\n",
        "train_data = df1[:train_size]\n",
        "test_data = df1[train_size:train_size+test_size]\n",
        "val_data = df1[train_size+test_size:]"
      ]
    },
    {
      "cell_type": "code",
      "execution_count": 37,
      "metadata": {
        "id": "yJfmuBORLSfC"
      },
      "outputs": [],
      "source": [
        "# 5. Hàm Create Dataset\n",
        "import numpy\n",
        "# convert an array of values into a dataset matrix\n",
        "def create_dataset(dataset, time_step=1):\n",
        "\tdataX, dataY = [], []\n",
        "\tfor i in range(len(dataset)-time_step-1):\n",
        "\t\ta = dataset[i:(i+time_step), 0]   ###i=0, X=0,1,2,3-----99   Y=100 \n",
        "\t\tdataX.append(a)\n",
        "\t\tdataY.append(dataset[i + time_step, 0])\n",
        "\treturn numpy.array(dataX), numpy.array(dataY)"
      ]
    },
    {
      "cell_type": "code",
      "execution_count": 38,
      "metadata": {
        "id": "e81cKq03LXFB"
      },
      "outputs": [],
      "source": [
        "#6. Reshape into X=t,t+1,t+2..t+99 and Y=t+100\n",
        "\n",
        "time_step = 100\n",
        "X_train, y_train = create_dataset(train_data, time_step)\n",
        "X_val, yval = create_dataset(val_data, time_step)\n",
        "X_test, ytest = create_dataset(test_data, time_step)"
      ]
    },
    {
      "cell_type": "code",
      "execution_count": 39,
      "metadata": {
        "id": "RdBVfku7O2qb"
      },
      "outputs": [],
      "source": [
        "# 7. Reshape input to be [samples, time steps, features] which is required for LSTM\n",
        "X_train =X_train.reshape(X_train.shape[0],X_train.shape[1] , 1)\n",
        "X_test = X_test.reshape(X_test.shape[0],X_test.shape[1] , 1)\n",
        "X_val = X_val.reshape(X_val.shape[0],X_val.shape[1] , 1)"
      ]
    },
    {
      "cell_type": "code",
      "execution_count": 40,
      "metadata": {
        "id": "sSfxrE7BO9vX"
      },
      "outputs": [],
      "source": [
        "# Xây dựng mô hình TDNN\n",
        "window_size = 100\n",
        "model = Sequential()\n",
        "model.add(Conv1D(filters=64, kernel_size=window_size, activation='relu', input_shape=(window_size, 1)))\n",
        "model.add(Flatten())\n",
        "model.add(Dense(32, activation='relu'))\n",
        "model.add(Dense(1))"
      ]
    },
    {
      "cell_type": "code",
      "execution_count": 41,
      "metadata": {
        "id": "zgfeujZSPEKr",
        "colab": {
          "base_uri": "https://localhost:8080/"
        },
        "outputId": "abc11951-5b94-4617-d3b8-c3efd155f049"
      },
      "outputs": [
        {
          "output_type": "stream",
          "name": "stdout",
          "text": [
            "Epoch 1/100\n",
            "22/22 [==============================] - 1s 10ms/step - loss: 0.0364 - val_loss: 0.0030\n",
            "Epoch 2/100\n",
            "22/22 [==============================] - 0s 6ms/step - loss: 0.0068 - val_loss: 0.0037\n",
            "Epoch 3/100\n",
            "22/22 [==============================] - 0s 7ms/step - loss: 0.0053 - val_loss: 0.0033\n",
            "Epoch 4/100\n",
            "22/22 [==============================] - 0s 6ms/step - loss: 0.0046 - val_loss: 0.0025\n",
            "Epoch 5/100\n",
            "22/22 [==============================] - 0s 7ms/step - loss: 0.0041 - val_loss: 0.0026\n",
            "Epoch 6/100\n",
            "22/22 [==============================] - 0s 6ms/step - loss: 0.0036 - val_loss: 0.0019\n",
            "Epoch 7/100\n",
            "22/22 [==============================] - 0s 6ms/step - loss: 0.0032 - val_loss: 0.0015\n",
            "Epoch 8/100\n",
            "22/22 [==============================] - 0s 7ms/step - loss: 0.0028 - val_loss: 0.0014\n",
            "Epoch 9/100\n",
            "22/22 [==============================] - 0s 6ms/step - loss: 0.0026 - val_loss: 0.0012\n",
            "Epoch 10/100\n",
            "22/22 [==============================] - 0s 6ms/step - loss: 0.0023 - val_loss: 0.0011\n",
            "Epoch 11/100\n",
            "22/22 [==============================] - 0s 6ms/step - loss: 0.0021 - val_loss: 8.4147e-04\n",
            "Epoch 12/100\n",
            "22/22 [==============================] - 0s 5ms/step - loss: 0.0020 - val_loss: 7.1656e-04\n",
            "Epoch 13/100\n",
            "22/22 [==============================] - 0s 4ms/step - loss: 0.0019 - val_loss: 7.5009e-04\n",
            "Epoch 14/100\n",
            "22/22 [==============================] - 0s 5ms/step - loss: 0.0017 - val_loss: 6.2395e-04\n",
            "Epoch 15/100\n",
            "22/22 [==============================] - 0s 4ms/step - loss: 0.0016 - val_loss: 5.5523e-04\n",
            "Epoch 16/100\n",
            "22/22 [==============================] - 0s 4ms/step - loss: 0.0016 - val_loss: 7.2468e-04\n",
            "Epoch 17/100\n",
            "22/22 [==============================] - 0s 6ms/step - loss: 0.0016 - val_loss: 5.1044e-04\n",
            "Epoch 18/100\n",
            "22/22 [==============================] - 0s 5ms/step - loss: 0.0015 - val_loss: 4.7489e-04\n",
            "Epoch 19/100\n",
            "22/22 [==============================] - 0s 5ms/step - loss: 0.0014 - val_loss: 5.2034e-04\n",
            "Epoch 20/100\n",
            "22/22 [==============================] - 0s 6ms/step - loss: 0.0013 - val_loss: 4.3770e-04\n",
            "Epoch 21/100\n",
            "22/22 [==============================] - 0s 6ms/step - loss: 0.0013 - val_loss: 3.9553e-04\n",
            "Epoch 22/100\n",
            "22/22 [==============================] - 0s 7ms/step - loss: 0.0012 - val_loss: 5.8811e-04\n",
            "Epoch 23/100\n",
            "22/22 [==============================] - 0s 6ms/step - loss: 0.0012 - val_loss: 3.9094e-04\n",
            "Epoch 24/100\n",
            "22/22 [==============================] - 0s 6ms/step - loss: 0.0011 - val_loss: 4.7465e-04\n",
            "Epoch 25/100\n",
            "22/22 [==============================] - 0s 6ms/step - loss: 0.0011 - val_loss: 3.6489e-04\n",
            "Epoch 26/100\n",
            "22/22 [==============================] - 0s 7ms/step - loss: 0.0011 - val_loss: 3.9112e-04\n",
            "Epoch 27/100\n",
            "22/22 [==============================] - 0s 5ms/step - loss: 0.0010 - val_loss: 4.0796e-04\n",
            "Epoch 28/100\n",
            "22/22 [==============================] - 0s 6ms/step - loss: 0.0010 - val_loss: 4.4062e-04\n",
            "Epoch 29/100\n",
            "22/22 [==============================] - 0s 6ms/step - loss: 0.0010 - val_loss: 3.4733e-04\n",
            "Epoch 30/100\n",
            "22/22 [==============================] - 0s 8ms/step - loss: 9.7135e-04 - val_loss: 3.6951e-04\n",
            "Epoch 31/100\n",
            "22/22 [==============================] - 0s 8ms/step - loss: 9.5577e-04 - val_loss: 3.5281e-04\n",
            "Epoch 32/100\n",
            "22/22 [==============================] - 0s 7ms/step - loss: 9.3998e-04 - val_loss: 3.6747e-04\n",
            "Epoch 33/100\n",
            "22/22 [==============================] - 0s 6ms/step - loss: 9.1336e-04 - val_loss: 3.3799e-04\n",
            "Epoch 34/100\n",
            "22/22 [==============================] - 0s 9ms/step - loss: 8.5364e-04 - val_loss: 3.1339e-04\n",
            "Epoch 35/100\n",
            "22/22 [==============================] - 0s 8ms/step - loss: 8.5068e-04 - val_loss: 3.2327e-04\n",
            "Epoch 36/100\n",
            "22/22 [==============================] - 0s 7ms/step - loss: 8.6184e-04 - val_loss: 3.3956e-04\n",
            "Epoch 37/100\n",
            "22/22 [==============================] - 0s 7ms/step - loss: 8.5973e-04 - val_loss: 3.4851e-04\n",
            "Epoch 38/100\n",
            "22/22 [==============================] - 0s 8ms/step - loss: 0.0010 - val_loss: 3.0173e-04\n",
            "Epoch 39/100\n",
            "22/22 [==============================] - 0s 7ms/step - loss: 9.5825e-04 - val_loss: 3.2066e-04\n",
            "Epoch 40/100\n",
            "22/22 [==============================] - 0s 7ms/step - loss: 7.9673e-04 - val_loss: 2.8136e-04\n",
            "Epoch 41/100\n",
            "22/22 [==============================] - 0s 7ms/step - loss: 7.5304e-04 - val_loss: 3.1859e-04\n",
            "Epoch 42/100\n",
            "22/22 [==============================] - 0s 7ms/step - loss: 7.4921e-04 - val_loss: 3.0878e-04\n",
            "Epoch 43/100\n",
            "22/22 [==============================] - 0s 6ms/step - loss: 7.1241e-04 - val_loss: 2.6438e-04\n",
            "Epoch 44/100\n",
            "22/22 [==============================] - 0s 6ms/step - loss: 7.8145e-04 - val_loss: 3.3619e-04\n",
            "Epoch 45/100\n",
            "22/22 [==============================] - 0s 8ms/step - loss: 7.3455e-04 - val_loss: 4.2757e-04\n",
            "Epoch 46/100\n",
            "22/22 [==============================] - 0s 9ms/step - loss: 7.2291e-04 - val_loss: 2.9524e-04\n",
            "Epoch 47/100\n",
            "22/22 [==============================] - 0s 7ms/step - loss: 7.3072e-04 - val_loss: 2.7038e-04\n",
            "Epoch 48/100\n",
            "22/22 [==============================] - 0s 7ms/step - loss: 7.4350e-04 - val_loss: 3.5975e-04\n",
            "Epoch 49/100\n",
            "22/22 [==============================] - 0s 8ms/step - loss: 7.9252e-04 - val_loss: 2.5108e-04\n",
            "Epoch 50/100\n",
            "22/22 [==============================] - 0s 6ms/step - loss: 7.0338e-04 - val_loss: 3.2467e-04\n",
            "Epoch 51/100\n",
            "22/22 [==============================] - 0s 6ms/step - loss: 6.4471e-04 - val_loss: 2.6154e-04\n",
            "Epoch 52/100\n",
            "22/22 [==============================] - 0s 5ms/step - loss: 6.2487e-04 - val_loss: 2.6480e-04\n",
            "Epoch 53/100\n",
            "22/22 [==============================] - 0s 4ms/step - loss: 6.2828e-04 - val_loss: 2.7396e-04\n",
            "Epoch 54/100\n",
            "22/22 [==============================] - 0s 5ms/step - loss: 6.0987e-04 - val_loss: 3.1168e-04\n",
            "Epoch 55/100\n",
            "22/22 [==============================] - 0s 4ms/step - loss: 7.2845e-04 - val_loss: 3.3877e-04\n",
            "Epoch 56/100\n",
            "22/22 [==============================] - 0s 5ms/step - loss: 6.6746e-04 - val_loss: 2.3846e-04\n",
            "Epoch 57/100\n",
            "22/22 [==============================] - 0s 4ms/step - loss: 6.1827e-04 - val_loss: 3.1645e-04\n",
            "Epoch 58/100\n",
            "22/22 [==============================] - 0s 5ms/step - loss: 6.2731e-04 - val_loss: 3.2993e-04\n",
            "Epoch 59/100\n",
            "22/22 [==============================] - 0s 5ms/step - loss: 6.2341e-04 - val_loss: 2.8967e-04\n",
            "Epoch 60/100\n",
            "22/22 [==============================] - 0s 4ms/step - loss: 6.1755e-04 - val_loss: 2.2776e-04\n",
            "Epoch 61/100\n",
            "22/22 [==============================] - 0s 4ms/step - loss: 6.4941e-04 - val_loss: 2.3309e-04\n",
            "Epoch 62/100\n",
            "22/22 [==============================] - 0s 4ms/step - loss: 5.7047e-04 - val_loss: 2.3318e-04\n",
            "Epoch 63/100\n",
            "22/22 [==============================] - 0s 5ms/step - loss: 5.6502e-04 - val_loss: 2.6325e-04\n",
            "Epoch 64/100\n",
            "22/22 [==============================] - 0s 5ms/step - loss: 5.7857e-04 - val_loss: 3.7169e-04\n",
            "Epoch 65/100\n",
            "22/22 [==============================] - 0s 5ms/step - loss: 6.4423e-04 - val_loss: 2.9608e-04\n",
            "Epoch 66/100\n",
            "22/22 [==============================] - 0s 6ms/step - loss: 6.3076e-04 - val_loss: 2.2220e-04\n",
            "Epoch 67/100\n",
            "22/22 [==============================] - 0s 4ms/step - loss: 6.9055e-04 - val_loss: 2.2805e-04\n",
            "Epoch 68/100\n",
            "22/22 [==============================] - 0s 7ms/step - loss: 6.3263e-04 - val_loss: 2.1504e-04\n",
            "Epoch 69/100\n",
            "22/22 [==============================] - 0s 4ms/step - loss: 5.4888e-04 - val_loss: 3.2126e-04\n",
            "Epoch 70/100\n",
            "22/22 [==============================] - 0s 6ms/step - loss: 5.5891e-04 - val_loss: 2.2991e-04\n",
            "Epoch 71/100\n",
            "22/22 [==============================] - 0s 5ms/step - loss: 5.5491e-04 - val_loss: 2.2279e-04\n",
            "Epoch 72/100\n",
            "22/22 [==============================] - 0s 5ms/step - loss: 5.1852e-04 - val_loss: 2.6521e-04\n",
            "Epoch 73/100\n",
            "22/22 [==============================] - 0s 4ms/step - loss: 5.4049e-04 - val_loss: 2.1519e-04\n",
            "Epoch 74/100\n",
            "22/22 [==============================] - 0s 4ms/step - loss: 6.1291e-04 - val_loss: 2.0306e-04\n",
            "Epoch 75/100\n",
            "22/22 [==============================] - 0s 5ms/step - loss: 6.1946e-04 - val_loss: 2.1382e-04\n",
            "Epoch 76/100\n",
            "22/22 [==============================] - 0s 5ms/step - loss: 5.5903e-04 - val_loss: 3.1795e-04\n",
            "Epoch 77/100\n",
            "22/22 [==============================] - 0s 4ms/step - loss: 5.1549e-04 - val_loss: 2.3674e-04\n",
            "Epoch 78/100\n",
            "22/22 [==============================] - 0s 5ms/step - loss: 5.1914e-04 - val_loss: 2.0387e-04\n",
            "Epoch 79/100\n",
            "22/22 [==============================] - 0s 5ms/step - loss: 5.3557e-04 - val_loss: 2.1923e-04\n",
            "Epoch 80/100\n",
            "22/22 [==============================] - 0s 5ms/step - loss: 5.3996e-04 - val_loss: 2.0004e-04\n",
            "Epoch 81/100\n",
            "22/22 [==============================] - 0s 5ms/step - loss: 5.5496e-04 - val_loss: 2.0261e-04\n",
            "Epoch 82/100\n",
            "22/22 [==============================] - 0s 4ms/step - loss: 5.8519e-04 - val_loss: 3.2435e-04\n",
            "Epoch 83/100\n",
            "22/22 [==============================] - 0s 5ms/step - loss: 5.6901e-04 - val_loss: 2.0574e-04\n",
            "Epoch 84/100\n",
            "22/22 [==============================] - 0s 5ms/step - loss: 5.4630e-04 - val_loss: 3.6168e-04\n",
            "Epoch 85/100\n",
            "22/22 [==============================] - 0s 6ms/step - loss: 6.5477e-04 - val_loss: 1.9336e-04\n",
            "Epoch 86/100\n",
            "22/22 [==============================] - 0s 5ms/step - loss: 5.7143e-04 - val_loss: 2.0034e-04\n",
            "Epoch 87/100\n",
            "22/22 [==============================] - 0s 4ms/step - loss: 7.3005e-04 - val_loss: 2.2719e-04\n",
            "Epoch 88/100\n",
            "22/22 [==============================] - 0s 5ms/step - loss: 4.8079e-04 - val_loss: 1.9228e-04\n",
            "Epoch 89/100\n",
            "22/22 [==============================] - 0s 4ms/step - loss: 4.7741e-04 - val_loss: 1.9258e-04\n",
            "Epoch 90/100\n",
            "22/22 [==============================] - 0s 5ms/step - loss: 5.1861e-04 - val_loss: 2.2584e-04\n",
            "Epoch 91/100\n",
            "22/22 [==============================] - 0s 4ms/step - loss: 4.9109e-04 - val_loss: 2.0350e-04\n",
            "Epoch 92/100\n",
            "22/22 [==============================] - 0s 5ms/step - loss: 4.4495e-04 - val_loss: 1.8376e-04\n",
            "Epoch 93/100\n",
            "22/22 [==============================] - 0s 5ms/step - loss: 4.9422e-04 - val_loss: 1.9010e-04\n",
            "Epoch 94/100\n",
            "22/22 [==============================] - 0s 4ms/step - loss: 5.8163e-04 - val_loss: 2.8924e-04\n",
            "Epoch 95/100\n",
            "22/22 [==============================] - 0s 5ms/step - loss: 4.8231e-04 - val_loss: 1.9226e-04\n",
            "Epoch 96/100\n",
            "22/22 [==============================] - 0s 4ms/step - loss: 5.6704e-04 - val_loss: 2.0141e-04\n",
            "Epoch 97/100\n",
            "22/22 [==============================] - 0s 5ms/step - loss: 4.8297e-04 - val_loss: 2.1197e-04\n",
            "Epoch 98/100\n",
            "22/22 [==============================] - 0s 5ms/step - loss: 4.5651e-04 - val_loss: 2.0453e-04\n",
            "Epoch 99/100\n",
            "22/22 [==============================] - 0s 6ms/step - loss: 4.8756e-04 - val_loss: 1.8585e-04\n",
            "Epoch 100/100\n",
            "22/22 [==============================] - 0s 6ms/step - loss: 4.9229e-04 - val_loss: 2.0600e-04\n"
          ]
        },
        {
          "output_type": "execute_result",
          "data": {
            "text/plain": [
              "<keras.callbacks.History at 0x7f5d602acbe0>"
            ]
          },
          "metadata": {},
          "execution_count": 41
        }
      ],
      "source": [
        "# 9. Fit mô hình với dữ liệu train\n",
        "model.compile(optimizer='adam', loss='mean_squared_error')\n",
        "model.fit(X_train,y_train,validation_data=(X_test,ytest),epochs=100,batch_size=64,verbose=1)"
      ]
    },
    {
      "cell_type": "code",
      "execution_count": 42,
      "metadata": {
        "id": "Rxx_KQSkQpBG",
        "colab": {
          "base_uri": "https://localhost:8080/"
        },
        "outputId": "c98729d2-720f-4870-ad3f-39e8c123fac7"
      },
      "outputs": [
        {
          "output_type": "stream",
          "name": "stdout",
          "text": [
            "44/44 [==============================] - 0s 1ms/step\n",
            "11/11 [==============================] - 0s 2ms/step\n",
            "4/4 [==============================] - 0s 4ms/step\n"
          ]
        }
      ],
      "source": [
        "# 10. Dự báo dữ liệu test, val\n",
        "train_predict=model.predict(X_train)\n",
        "y_pred=model.predict(X_test)\n",
        "y_pred_val=model.predict(X_val)"
      ]
    },
    {
      "cell_type": "code",
      "execution_count": 43,
      "metadata": {
        "id": "5rwTN10LQ7rj"
      },
      "outputs": [],
      "source": [
        "# 11. Chuẩn hóa dữ liệu y_pred, y_pred_val\n",
        "train_predict=scaler.inverse_transform(train_predict)\n",
        "y_pred=scaler.inverse_transform(y_pred)\n",
        "y_pred_val=scaler.inverse_transform(y_pred_val)"
      ]
    },
    {
      "cell_type": "code",
      "execution_count": 44,
      "metadata": {
        "id": "wu_9j94kRonD",
        "colab": {
          "base_uri": "https://localhost:8080/"
        },
        "outputId": "ce030af8-3b00-4812-ad6d-2a17145dca12"
      },
      "outputs": [
        {
          "output_type": "stream",
          "name": "stdout",
          "text": [
            "Validation RMSE: 95.22352936567198\n",
            "Testing RMSE: 100.25279414336842\n"
          ]
        }
      ],
      "source": [
        "# 12. Đánh giá độ chính xác thuật toán bằng RMSE\n",
        "valid_rmse = np.sqrt(np.mean((y_pred_val - yval)**2))\n",
        "test_rmse = np.sqrt(np.mean((y_pred - ytest)**2))\n",
        "print('Validation RMSE:', valid_rmse)\n",
        "print('Testing RMSE:', test_rmse)"
      ]
    },
    {
      "cell_type": "code",
      "execution_count": 45,
      "metadata": {
        "id": "izQZ1iQyYl6N"
      },
      "outputs": [],
      "source": [
        "# Dự báo 30 ngày tiếp theo\n",
        "x_input = val_data[-100:].reshape(1, -1)\n",
        "temp_input = list(x_input)\n",
        "temp_input = temp_input[0].tolist()\n",
        "\n",
        "lst_output = []\n",
        "n_steps = 100\n",
        "i = 0\n",
        "\n",
        "while i < 7:\n",
        "    if len(temp_input) > 100:\n",
        "        x_input = np.array(temp_input[1:])\n",
        "        x_input = x_input.reshape(1, -1)\n",
        "        x_input = x_input.reshape((1, n_steps, 1))\n",
        "        yhat = model.predict(x_input, verbose=0)\n",
        "        temp_input.extend(yhat[0].tolist())\n",
        "        temp_input = temp_input[1:]\n",
        "        lst_output.extend(yhat.tolist())\n",
        "        i += 1\n",
        "    else:\n",
        "        x_input = x_input.reshape((1, n_steps, 1))\n",
        "        yhat = model.predict(x_input, verbose=0)\n",
        "        temp_input.extend(yhat[0].tolist())\n",
        "        lst_output.extend(yhat.tolist())\n",
        "        i += 1"
      ]
    },
    {
      "cell_type": "code",
      "execution_count": 46,
      "metadata": {
        "id": "KSa_mX51a654",
        "colab": {
          "base_uri": "https://localhost:8080/",
          "height": 430
        },
        "outputId": "72f5e5ad-e636-4806-a833-171a998348ed"
      },
      "outputs": [
        {
          "output_type": "display_data",
          "data": {
            "text/plain": [
              "<Figure size 640x480 with 1 Axes>"
            ],
            "image/png": "[encoded data removed]"
          },
          "metadata": {}
        }
      ],
      "source": [
        "# 14.Vẽ hình\n",
        "train_data_index = pd.RangeIndex(start=0, stop=train_size, step=1)\n",
        "plt.plot(scaler.inverse_transform(train_data))\n",
        "test_data_index = pd.RangeIndex(start=train_size, stop=train_size+test_size, step=1)\n",
        "plt.plot(test_data_index,scaler.inverse_transform(test_data))\n",
        "test_data_index = pd.RangeIndex(start=train_size+101, stop=train_size+test_size, step=1)\n",
        "plt.plot(test_data_index,(y_pred))\n",
        "val_data_index = pd.RangeIndex(start=train_size+test_size, stop=train_size+test_size+val_size, step=1)\n",
        "plt.plot(val_data_index,scaler.inverse_transform(val_data))\n",
        "val_data_index = pd.RangeIndex(start=train_size+test_size+101, stop=train_size+test_size+val_size, step=1)\n",
        "plt.plot(val_data_index,y_pred_val)\n",
        "prediect_data_index = pd.RangeIndex(start=len(df1)-1, stop=len(df1)+6, step=1)\n",
        "plt.plot(prediect_data_index,scaler.inverse_transform(lst_output))\n",
        "plt.legend(['Train','Test','Predict','Validate','ValidatePred','Predict7days'])\n",
        "plt.show()"
      ]
    },
    {
      "cell_type": "code",
      "source": [
        "scaler.inverse_transform(lst_output)"
      ],
      "metadata": {
        "colab": {
          "base_uri": "https://localhost:8080/"
        },
        "id": "h7-dzd86AKTM",
        "outputId": "dff74143-56c8-4f19-8ea4-37681c91ab6f"
      },
      "execution_count": 47,
      "outputs": [
        {
          "output_type": "execute_result",
          "data": {
            "text/plain": [
              "array([[91.81284406],\n",
              "       [91.6207778 ],\n",
              "       [91.66155082],\n",
              "       [91.26009583],\n",
              "       [91.2826318 ],\n",
              "       [91.23420266],\n",
              "       [91.34563745]])"
            ]
          },
          "metadata": {},
          "execution_count": 47
        }
      ]
    },
    {
      "cell_type": "markdown",
      "source": [
        "# Dataset ARI"
      ],
      "metadata": {
        "id": "g5BqR9zs9yg6"
      }
    },
    {
      "cell_type": "code",
      "source": [
        "# 2. Đọc file csv và gắng index với giá Close\n",
        "df = pd.read_csv('ARI-Historical-Data-2015.csv')\n",
        "df1=df.reset_index()['Price']"
      ],
      "metadata": {
        "id": "IdhgtXRT91zq"
      },
      "execution_count": 48,
      "outputs": []
    },
    {
      "cell_type": "code",
      "source": [
        "# 3. Scaler data\n",
        "scaler=MinMaxScaler(feature_range=(0,1))\n",
        "df1=scaler.fit_transform(np.array(df1).reshape(-1,1))"
      ],
      "metadata": {
        "id": "LTaXeMHH-JaC"
      },
      "execution_count": 49,
      "outputs": []
    },
    {
      "cell_type": "code",
      "source": [
        "# 4. Chia train test\n",
        "train_size = int(0.7 * len(df1))\n",
        "test_size = int(0.2 * len(df1))\n",
        "val_size = len(df1) - train_size - test_size\n",
        "\n",
        "train_data = df1[:train_size]\n",
        "test_data = df1[train_size:train_size+test_size]\n",
        "val_data = df1[train_size+test_size:]"
      ],
      "metadata": {
        "id": "SCa7WB3b-K-b"
      },
      "execution_count": 50,
      "outputs": []
    },
    {
      "cell_type": "code",
      "source": [
        "# 5. Hàm Create Dataset\n",
        "import numpy\n",
        "# convert an array of values into a dataset matrix\n",
        "def create_dataset(dataset, time_step=1):\n",
        "\tdataX, dataY = [], []\n",
        "\tfor i in range(len(dataset)-time_step-1):\n",
        "\t\ta = dataset[i:(i+time_step), 0]   ###i=0, X=0,1,2,3-----99   Y=100 \n",
        "\t\tdataX.append(a)\n",
        "\t\tdataY.append(dataset[i + time_step, 0])\n",
        "\treturn numpy.array(dataX), numpy.array(dataY)"
      ],
      "metadata": {
        "id": "UZ2bnT-T-QET"
      },
      "execution_count": 51,
      "outputs": []
    },
    {
      "cell_type": "code",
      "source": [
        "#6. Reshape into X=t,t+1,t+2..t+99 and Y=t+100\n",
        "\n",
        "time_step = 100\n",
        "X_train, y_train = create_dataset(train_data, time_step)\n",
        "X_val, yval = create_dataset(val_data, time_step)\n",
        "X_test, ytest = create_dataset(test_data, time_step)"
      ],
      "metadata": {
        "id": "bFGaNO8E-OFr"
      },
      "execution_count": 52,
      "outputs": []
    },
    {
      "cell_type": "code",
      "source": [
        "# 7. Reshape input to be [samples, time steps, features] which is required for LSTM\n",
        "X_train =X_train.reshape(X_train.shape[0],X_train.shape[1] , 1)\n",
        "X_test = X_test.reshape(X_test.shape[0],X_test.shape[1] , 1)\n",
        "X_val = X_val.reshape(X_val.shape[0],X_val.shape[1] , 1)"
      ],
      "metadata": {
        "id": "E-Xg00ow-Sg8"
      },
      "execution_count": 53,
      "outputs": []
    },
    {
      "cell_type": "code",
      "source": [
        "# Xây dựng mô hình TDNN\n",
        "window_size = 100\n",
        "model = Sequential()\n",
        "model.add(Conv1D(filters=64, kernel_size=window_size, activation='relu', input_shape=(window_size, 1)))\n",
        "model.add(Flatten())\n",
        "model.add(Dense(32, activation='relu'))\n",
        "model.add(Dense(1))"
      ],
      "metadata": {
        "id": "3gKDwlX3-T-7"
      },
      "execution_count": 54,
      "outputs": []
    },
    {
      "cell_type": "code",
      "source": [
        "# 9. Fit mô hình với dữ liệu train\n",
        "model.compile(optimizer='adam', loss='mean_squared_error')\n",
        "model.fit(X_train,y_train,validation_data=(X_test,ytest),epochs=100,batch_size=64,verbose=1)"
      ],
      "metadata": {
        "colab": {
          "base_uri": "https://localhost:8080/"
        },
        "id": "3_z4SliP-VkK",
        "outputId": "d9dd6441-d7e6-44b4-abe9-63c1449f6f8b"
      },
      "execution_count": 55,
      "outputs": [
        {
          "output_type": "stream",
          "name": "stdout",
          "text": [
            "Epoch 1/100\n",
            "22/22 [==============================] - 1s 12ms/step - loss: 0.0874 - val_loss: 0.0226\n",
            "Epoch 2/100\n",
            "22/22 [==============================] - 0s 4ms/step - loss: 0.0152 - val_loss: 0.0020\n",
            "Epoch 3/100\n",
            "22/22 [==============================] - 0s 6ms/step - loss: 0.0092 - val_loss: 0.0011\n",
            "Epoch 4/100\n",
            "22/22 [==============================] - 0s 6ms/step - loss: 0.0065 - val_loss: 0.0011\n",
            "Epoch 5/100\n",
            "22/22 [==============================] - 0s 4ms/step - loss: 0.0050 - val_loss: 8.5568e-04\n",
            "Epoch 6/100\n",
            "22/22 [==============================] - 0s 5ms/step - loss: 0.0041 - val_loss: 7.9822e-04\n",
            "Epoch 7/100\n",
            "22/22 [==============================] - 0s 5ms/step - loss: 0.0036 - val_loss: 7.2102e-04\n",
            "Epoch 8/100\n",
            "22/22 [==============================] - 0s 5ms/step - loss: 0.0032 - val_loss: 6.7478e-04\n",
            "Epoch 9/100\n",
            "22/22 [==============================] - 0s 6ms/step - loss: 0.0028 - val_loss: 6.2220e-04\n",
            "Epoch 10/100\n",
            "22/22 [==============================] - 0s 5ms/step - loss: 0.0026 - val_loss: 5.9948e-04\n",
            "Epoch 11/100\n",
            "22/22 [==============================] - 0s 5ms/step - loss: 0.0023 - val_loss: 5.9108e-04\n",
            "Epoch 12/100\n",
            "22/22 [==============================] - 0s 4ms/step - loss: 0.0022 - val_loss: 7.3485e-04\n",
            "Epoch 13/100\n",
            "22/22 [==============================] - 0s 5ms/step - loss: 0.0021 - val_loss: 8.7270e-04\n",
            "Epoch 14/100\n",
            "22/22 [==============================] - 0s 5ms/step - loss: 0.0020 - val_loss: 5.0955e-04\n",
            "Epoch 15/100\n",
            "22/22 [==============================] - 0s 5ms/step - loss: 0.0019 - val_loss: 5.4294e-04\n",
            "Epoch 16/100\n",
            "22/22 [==============================] - 0s 5ms/step - loss: 0.0017 - val_loss: 5.1991e-04\n",
            "Epoch 17/100\n",
            "22/22 [==============================] - 0s 5ms/step - loss: 0.0016 - val_loss: 7.9603e-04\n",
            "Epoch 18/100\n",
            "22/22 [==============================] - 0s 4ms/step - loss: 0.0015 - val_loss: 4.6986e-04\n",
            "Epoch 19/100\n",
            "22/22 [==============================] - 0s 4ms/step - loss: 0.0014 - val_loss: 4.4581e-04\n",
            "Epoch 20/100\n",
            "22/22 [==============================] - 0s 4ms/step - loss: 0.0014 - val_loss: 4.6615e-04\n",
            "Epoch 21/100\n",
            "22/22 [==============================] - 0s 5ms/step - loss: 0.0013 - val_loss: 5.2362e-04\n",
            "Epoch 22/100\n",
            "22/22 [==============================] - 0s 5ms/step - loss: 0.0014 - val_loss: 5.6247e-04\n",
            "Epoch 23/100\n",
            "22/22 [==============================] - 0s 5ms/step - loss: 0.0013 - val_loss: 7.1174e-04\n",
            "Epoch 24/100\n",
            "22/22 [==============================] - 0s 5ms/step - loss: 0.0013 - val_loss: 4.4111e-04\n",
            "Epoch 25/100\n",
            "22/22 [==============================] - 0s 4ms/step - loss: 0.0012 - val_loss: 4.0103e-04\n",
            "Epoch 26/100\n",
            "22/22 [==============================] - 0s 5ms/step - loss: 0.0011 - val_loss: 4.7731e-04\n",
            "Epoch 27/100\n",
            "22/22 [==============================] - 0s 4ms/step - loss: 0.0012 - val_loss: 4.5026e-04\n",
            "Epoch 28/100\n",
            "22/22 [==============================] - 0s 5ms/step - loss: 0.0011 - val_loss: 4.3467e-04\n",
            "Epoch 29/100\n",
            "22/22 [==============================] - 0s 4ms/step - loss: 0.0010 - val_loss: 5.3041e-04\n",
            "Epoch 30/100\n",
            "22/22 [==============================] - 0s 5ms/step - loss: 0.0010 - val_loss: 3.8127e-04\n",
            "Epoch 31/100\n",
            "22/22 [==============================] - 0s 5ms/step - loss: 9.9439e-04 - val_loss: 3.8482e-04\n",
            "Epoch 32/100\n",
            "22/22 [==============================] - 0s 5ms/step - loss: 0.0010 - val_loss: 6.7345e-04\n",
            "Epoch 33/100\n",
            "22/22 [==============================] - 0s 4ms/step - loss: 0.0010 - val_loss: 3.8760e-04\n",
            "Epoch 34/100\n",
            "22/22 [==============================] - 0s 4ms/step - loss: 9.1387e-04 - val_loss: 4.8191e-04\n",
            "Epoch 35/100\n",
            "22/22 [==============================] - 0s 4ms/step - loss: 9.6186e-04 - val_loss: 4.3188e-04\n",
            "Epoch 36/100\n",
            "22/22 [==============================] - 0s 4ms/step - loss: 8.7994e-04 - val_loss: 3.8476e-04\n",
            "Epoch 37/100\n",
            "22/22 [==============================] - 0s 5ms/step - loss: 9.0210e-04 - val_loss: 5.5033e-04\n",
            "Epoch 38/100\n",
            "22/22 [==============================] - 0s 5ms/step - loss: 9.9609e-04 - val_loss: 0.0011\n",
            "Epoch 39/100\n",
            "22/22 [==============================] - 0s 5ms/step - loss: 9.1305e-04 - val_loss: 3.3125e-04\n",
            "Epoch 40/100\n",
            "22/22 [==============================] - 0s 4ms/step - loss: 8.3463e-04 - val_loss: 3.4996e-04\n",
            "Epoch 41/100\n",
            "22/22 [==============================] - 0s 4ms/step - loss: 9.8060e-04 - val_loss: 4.9828e-04\n",
            "Epoch 42/100\n",
            "22/22 [==============================] - 0s 4ms/step - loss: 9.4342e-04 - val_loss: 5.9267e-04\n",
            "Epoch 43/100\n",
            "22/22 [==============================] - 0s 4ms/step - loss: 8.2436e-04 - val_loss: 5.4532e-04\n",
            "Epoch 44/100\n",
            "22/22 [==============================] - 0s 5ms/step - loss: 9.0032e-04 - val_loss: 4.5938e-04\n",
            "Epoch 45/100\n",
            "22/22 [==============================] - 0s 4ms/step - loss: 9.4171e-04 - val_loss: 3.2719e-04\n",
            "Epoch 46/100\n",
            "22/22 [==============================] - 0s 4ms/step - loss: 9.1546e-04 - val_loss: 3.3201e-04\n",
            "Epoch 47/100\n",
            "22/22 [==============================] - 0s 4ms/step - loss: 7.6709e-04 - val_loss: 3.2037e-04\n",
            "Epoch 48/100\n",
            "22/22 [==============================] - 0s 4ms/step - loss: 7.7544e-04 - val_loss: 3.8725e-04\n",
            "Epoch 49/100\n",
            "22/22 [==============================] - 0s 4ms/step - loss: 9.8272e-04 - val_loss: 7.8389e-04\n",
            "Epoch 50/100\n",
            "22/22 [==============================] - 0s 4ms/step - loss: 7.8234e-04 - val_loss: 5.2257e-04\n",
            "Epoch 51/100\n",
            "22/22 [==============================] - 0s 4ms/step - loss: 8.1686e-04 - val_loss: 3.7548e-04\n",
            "Epoch 52/100\n",
            "22/22 [==============================] - 0s 4ms/step - loss: 7.6371e-04 - val_loss: 3.2700e-04\n",
            "Epoch 53/100\n",
            "22/22 [==============================] - 0s 4ms/step - loss: 7.9656e-04 - val_loss: 4.5516e-04\n",
            "Epoch 54/100\n",
            "22/22 [==============================] - 0s 5ms/step - loss: 7.7632e-04 - val_loss: 4.7404e-04\n",
            "Epoch 55/100\n",
            "22/22 [==============================] - 0s 4ms/step - loss: 7.4037e-04 - val_loss: 3.0064e-04\n",
            "Epoch 56/100\n",
            "22/22 [==============================] - 0s 6ms/step - loss: 7.9249e-04 - val_loss: 3.3411e-04\n",
            "Epoch 57/100\n",
            "22/22 [==============================] - 0s 6ms/step - loss: 8.4643e-04 - val_loss: 3.4433e-04\n",
            "Epoch 58/100\n",
            "22/22 [==============================] - 0s 7ms/step - loss: 7.0039e-04 - val_loss: 3.6597e-04\n",
            "Epoch 59/100\n",
            "22/22 [==============================] - 0s 6ms/step - loss: 7.3868e-04 - val_loss: 3.3666e-04\n",
            "Epoch 60/100\n",
            "22/22 [==============================] - 0s 7ms/step - loss: 6.9007e-04 - val_loss: 2.8729e-04\n",
            "Epoch 61/100\n",
            "22/22 [==============================] - 0s 6ms/step - loss: 0.0011 - val_loss: 2.8533e-04\n",
            "Epoch 62/100\n",
            "22/22 [==============================] - 0s 8ms/step - loss: 8.9567e-04 - val_loss: 4.3917e-04\n",
            "Epoch 63/100\n",
            "22/22 [==============================] - 0s 6ms/step - loss: 8.0988e-04 - val_loss: 3.1529e-04\n",
            "Epoch 64/100\n",
            "22/22 [==============================] - 0s 7ms/step - loss: 7.6347e-04 - val_loss: 7.7276e-04\n",
            "Epoch 65/100\n",
            "22/22 [==============================] - 0s 7ms/step - loss: 7.8857e-04 - val_loss: 4.0335e-04\n",
            "Epoch 66/100\n",
            "22/22 [==============================] - 0s 10ms/step - loss: 7.6720e-04 - val_loss: 6.5443e-04\n",
            "Epoch 67/100\n",
            "22/22 [==============================] - 0s 15ms/step - loss: 7.4887e-04 - val_loss: 3.1021e-04\n",
            "Epoch 68/100\n",
            "22/22 [==============================] - 1s 36ms/step - loss: 6.4818e-04 - val_loss: 2.8674e-04\n",
            "Epoch 69/100\n",
            "22/22 [==============================] - 0s 20ms/step - loss: 6.5589e-04 - val_loss: 2.9640e-04\n",
            "Epoch 70/100\n",
            "22/22 [==============================] - 0s 7ms/step - loss: 6.8339e-04 - val_loss: 2.8526e-04\n",
            "Epoch 71/100\n",
            "22/22 [==============================] - 0s 6ms/step - loss: 6.4080e-04 - val_loss: 3.1727e-04\n",
            "Epoch 72/100\n",
            "22/22 [==============================] - 0s 5ms/step - loss: 7.0672e-04 - val_loss: 2.6894e-04\n",
            "Epoch 73/100\n",
            "22/22 [==============================] - 0s 4ms/step - loss: 6.9069e-04 - val_loss: 2.6743e-04\n",
            "Epoch 74/100\n",
            "22/22 [==============================] - 0s 4ms/step - loss: 8.4905e-04 - val_loss: 3.1103e-04\n",
            "Epoch 75/100\n",
            "22/22 [==============================] - 0s 5ms/step - loss: 6.7072e-04 - val_loss: 4.5144e-04\n",
            "Epoch 76/100\n",
            "22/22 [==============================] - 0s 5ms/step - loss: 9.0195e-04 - val_loss: 3.5794e-04\n",
            "Epoch 77/100\n",
            "22/22 [==============================] - 0s 5ms/step - loss: 6.4510e-04 - val_loss: 3.2220e-04\n",
            "Epoch 78/100\n",
            "22/22 [==============================] - 0s 5ms/step - loss: 9.4443e-04 - val_loss: 0.0024\n",
            "Epoch 79/100\n",
            "22/22 [==============================] - 0s 5ms/step - loss: 9.8631e-04 - val_loss: 3.3898e-04\n",
            "Epoch 80/100\n",
            "22/22 [==============================] - 0s 7ms/step - loss: 6.5479e-04 - val_loss: 3.3241e-04\n",
            "Epoch 81/100\n",
            "22/22 [==============================] - 0s 6ms/step - loss: 5.8910e-04 - val_loss: 2.8810e-04\n",
            "Epoch 82/100\n",
            "22/22 [==============================] - 0s 5ms/step - loss: 6.4226e-04 - val_loss: 3.2762e-04\n",
            "Epoch 83/100\n",
            "22/22 [==============================] - 0s 6ms/step - loss: 5.6700e-04 - val_loss: 3.4058e-04\n",
            "Epoch 84/100\n",
            "22/22 [==============================] - 0s 5ms/step - loss: 6.7513e-04 - val_loss: 3.1937e-04\n",
            "Epoch 85/100\n",
            "22/22 [==============================] - 0s 6ms/step - loss: 6.2390e-04 - val_loss: 3.1607e-04\n",
            "Epoch 86/100\n",
            "22/22 [==============================] - 0s 6ms/step - loss: 7.2934e-04 - val_loss: 4.8580e-04\n",
            "Epoch 87/100\n",
            "22/22 [==============================] - 0s 5ms/step - loss: 8.5569e-04 - val_loss: 8.6494e-04\n",
            "Epoch 88/100\n",
            "22/22 [==============================] - 0s 7ms/step - loss: 7.0683e-04 - val_loss: 5.0123e-04\n",
            "Epoch 89/100\n",
            "22/22 [==============================] - 0s 6ms/step - loss: 6.8082e-04 - val_loss: 2.6655e-04\n",
            "Epoch 90/100\n",
            "22/22 [==============================] - 0s 6ms/step - loss: 6.5326e-04 - val_loss: 3.5618e-04\n",
            "Epoch 91/100\n",
            "22/22 [==============================] - 0s 5ms/step - loss: 6.4007e-04 - val_loss: 3.0134e-04\n",
            "Epoch 92/100\n",
            "22/22 [==============================] - 0s 5ms/step - loss: 6.9017e-04 - val_loss: 4.3578e-04\n",
            "Epoch 93/100\n",
            "22/22 [==============================] - 0s 5ms/step - loss: 8.0364e-04 - val_loss: 5.0326e-04\n",
            "Epoch 94/100\n",
            "22/22 [==============================] - 0s 5ms/step - loss: 7.0220e-04 - val_loss: 2.7442e-04\n",
            "Epoch 95/100\n",
            "22/22 [==============================] - 0s 5ms/step - loss: 6.1280e-04 - val_loss: 3.0523e-04\n",
            "Epoch 96/100\n",
            "22/22 [==============================] - 0s 4ms/step - loss: 6.5770e-04 - val_loss: 2.4092e-04\n",
            "Epoch 97/100\n",
            "22/22 [==============================] - 0s 5ms/step - loss: 5.8972e-04 - val_loss: 4.1847e-04\n",
            "Epoch 98/100\n",
            "22/22 [==============================] - 0s 4ms/step - loss: 6.2418e-04 - val_loss: 3.4175e-04\n",
            "Epoch 99/100\n",
            "22/22 [==============================] - 0s 6ms/step - loss: 5.8507e-04 - val_loss: 2.6392e-04\n",
            "Epoch 100/100\n",
            "22/22 [==============================] - 0s 5ms/step - loss: 5.7322e-04 - val_loss: 2.9573e-04\n"
          ]
        },
        {
          "output_type": "execute_result",
          "data": {
            "text/plain": [
              "<keras.callbacks.History at 0x7f5d506d27d0>"
            ]
          },
          "metadata": {},
          "execution_count": 55
        }
      ]
    },
    {
      "cell_type": "code",
      "source": [
        "# 10. Dự báo dữ liệu test, val\n",
        "train_predict=model.predict(X_train)\n",
        "y_pred=model.predict(X_test)\n",
        "y_pred_val=model.predict(X_val)"
      ],
      "metadata": {
        "colab": {
          "base_uri": "https://localhost:8080/"
        },
        "id": "SVD2wu3k-XCJ",
        "outputId": "6c7387ef-e397-45b9-8643-09075c859e78"
      },
      "execution_count": 56,
      "outputs": [
        {
          "output_type": "stream",
          "name": "stdout",
          "text": [
            "44/44 [==============================] - 0s 2ms/step\n",
            "11/11 [==============================] - 0s 3ms/step\n",
            "4/4 [==============================] - 0s 5ms/step\n"
          ]
        }
      ]
    },
    {
      "cell_type": "code",
      "source": [
        "# 11. Chuẩn hóa dữ liệu y_pred, y_pred_val\n",
        "train_predict=scaler.inverse_transform(train_predict)\n",
        "y_pred=scaler.inverse_transform(y_pred)\n",
        "y_pred_val=scaler.inverse_transform(y_pred_val)"
      ],
      "metadata": {
        "id": "HYMH0wF4-YJp"
      },
      "execution_count": 57,
      "outputs": []
    },
    {
      "cell_type": "code",
      "source": [
        "# 12. Đánh giá độ chính xác thuật toán bằng RMSE\n",
        "valid_rmse = np.sqrt(np.mean((y_pred_val - yval)**2))\n",
        "test_rmse = np.sqrt(np.mean((y_pred - ytest)**2))\n",
        "print('Validation RMSE:', valid_rmse)\n",
        "print('Testing RMSE:', test_rmse)"
      ],
      "metadata": {
        "colab": {
          "base_uri": "https://localhost:8080/"
        },
        "id": "mqiho3jd-aPh",
        "outputId": "87a0a4a1-e580-4348-fd5a-e0482fa2bd0c"
      },
      "execution_count": 58,
      "outputs": [
        {
          "output_type": "stream",
          "name": "stdout",
          "text": [
            "Validation RMSE: 16.3084872306051\n",
            "Testing RMSE: 15.889779068885126\n"
          ]
        }
      ]
    },
    {
      "cell_type": "code",
      "source": [
        "# Dự báo 7 ngày tiếp theo\n",
        "x_input = val_data[-100:].reshape(1, -1)\n",
        "temp_input = list(x_input)\n",
        "temp_input = temp_input[0].tolist()\n",
        "\n",
        "lst_output = []\n",
        "n_steps = 100\n",
        "i = 0\n",
        "\n",
        "while i < 7:\n",
        "    if len(temp_input) > 100:\n",
        "        x_input = np.array(temp_input[1:])\n",
        "        x_input = x_input.reshape(1, -1)\n",
        "        x_input = x_input.reshape((1, n_steps, 1))\n",
        "        yhat = model.predict(x_input, verbose=0)\n",
        "        temp_input.extend(yhat[0].tolist())\n",
        "        temp_input = temp_input[1:]\n",
        "        lst_output.extend(yhat.tolist())\n",
        "        i += 1\n",
        "    else:\n",
        "        x_input = x_input.reshape((1, n_steps, 1))\n",
        "        yhat = model.predict(x_input, verbose=0)\n",
        "        temp_input.extend(yhat[0].tolist())\n",
        "        lst_output.extend(yhat.tolist())\n",
        "        i += 1"
      ],
      "metadata": {
        "id": "mYmPcAEW-cbq"
      },
      "execution_count": 59,
      "outputs": []
    },
    {
      "cell_type": "code",
      "source": [
        "# 14.Vẽ hình\n",
        "train_data_index = pd.RangeIndex(start=0, stop=train_size, step=1)\n",
        "plt.plot(scaler.inverse_transform(train_data))\n",
        "test_data_index = pd.RangeIndex(start=train_size, stop=train_size+test_size, step=1)\n",
        "plt.plot(test_data_index,scaler.inverse_transform(test_data))\n",
        "test_data_index = pd.RangeIndex(start=train_size+101, stop=train_size+test_size, step=1)\n",
        "plt.plot(test_data_index,(y_pred))\n",
        "val_data_index = pd.RangeIndex(start=train_size+test_size, stop=train_size+test_size+val_size, step=1)\n",
        "plt.plot(val_data_index,scaler.inverse_transform(val_data))\n",
        "val_data_index = pd.RangeIndex(start=train_size+test_size+101, stop=train_size+test_size+val_size, step=1)\n",
        "plt.plot(val_data_index,y_pred_val)\n",
        "prediect_data_index = pd.RangeIndex(start=len(df1)-1, stop=len(df1)+6, step=1)\n",
        "plt.plot(prediect_data_index,scaler.inverse_transform(lst_output))\n",
        "plt.legend(['Train','Test','Predict','Validate','ValidatePred','Predict7days'])\n",
        "plt.show()"
      ],
      "metadata": {
        "colab": {
          "base_uri": "https://localhost:8080/",
          "height": 430
        },
        "id": "5atO7L25-ePp",
        "outputId": "dfd8d6f0-f47c-4d0c-a286-aa3952ef9a33"
      },
      "execution_count": 60,
      "outputs": [
        {
          "output_type": "display_data",
          "data": {
            "text/plain": [
              "<Figure size 640x480 with 1 Axes>"
            ],
            "image/png": "[encoded data removed]"
          },
          "metadata": {}
        }
      ]
    },
    {
      "cell_type": "code",
      "source": [
        "scaler.inverse_transform(lst_output)"
      ],
      "metadata": {
        "colab": {
          "base_uri": "https://localhost:8080/"
        },
        "id": "hoA8Krr_-fpq",
        "outputId": "45f93b59-66f2-4bed-a006-3cdd99684799"
      },
      "execution_count": 61,
      "outputs": [
        {
          "output_type": "execute_result",
          "data": {
            "text/plain": [
              "array([[16.58668916],\n",
              "       [16.59638079],\n",
              "       [16.61927867],\n",
              "       [16.66053829],\n",
              "       [16.68607925],\n",
              "       [16.74283113],\n",
              "       [16.8225453 ]])"
            ]
          },
          "metadata": {},
          "execution_count": 61
        }
      ]
    },
    {
      "cell_type": "markdown",
      "source": [
        "# Dataset MAA"
      ],
      "metadata": {
        "id": "AH7ZQZ45-irJ"
      }
    },
    {
      "cell_type": "code",
      "source": [
        "# 2. Đọc file csv và gắng index với giá Close\n",
        "df = pd.read_csv('MAA-Historical-Data-2015.csv')\n",
        "df1=df.reset_index()['Price']"
      ],
      "metadata": {
        "id": "_CbATOpt-syZ"
      },
      "execution_count": 62,
      "outputs": []
    },
    {
      "cell_type": "code",
      "source": [
        "# 3. Scaler data\n",
        "scaler=MinMaxScaler(feature_range=(0,1))\n",
        "df1=scaler.fit_transform(np.array(df1).reshape(-1,1))"
      ],
      "metadata": {
        "id": "2Gino0Et-vUj"
      },
      "execution_count": 63,
      "outputs": []
    },
    {
      "cell_type": "code",
      "source": [
        "# 4. Chia train test\n",
        "train_size = int(0.7 * len(df1))\n",
        "test_size = int(0.2 * len(df1))\n",
        "val_size = len(df1) - train_size - test_size\n",
        "\n",
        "train_data = df1[:train_size]\n",
        "test_data = df1[train_size:train_size+test_size]\n",
        "val_data = df1[train_size+test_size:]"
      ],
      "metadata": {
        "id": "F0bjNmQA-wjR"
      },
      "execution_count": 64,
      "outputs": []
    },
    {
      "cell_type": "code",
      "source": [
        "# 5. Hàm Create Dataset\n",
        "import numpy\n",
        "# convert an array of values into a dataset matrix\n",
        "def create_dataset(dataset, time_step=1):\n",
        "\tdataX, dataY = [], []\n",
        "\tfor i in range(len(dataset)-time_step-1):\n",
        "\t\ta = dataset[i:(i+time_step), 0]   ###i=0, X=0,1,2,3-----99   Y=100 \n",
        "\t\tdataX.append(a)\n",
        "\t\tdataY.append(dataset[i + time_step, 0])\n",
        "\treturn numpy.array(dataX), numpy.array(dataY)"
      ],
      "metadata": {
        "id": "90EkXGx5-yOL"
      },
      "execution_count": 65,
      "outputs": []
    },
    {
      "cell_type": "code",
      "source": [
        "#6. Reshape into X=t,t+1,t+2..t+99 and Y=t+100\n",
        "\n",
        "time_step = 100\n",
        "X_train, y_train = create_dataset(train_data, time_step)\n",
        "X_val, yval = create_dataset(val_data, time_step)\n",
        "X_test, ytest = create_dataset(test_data, time_step)"
      ],
      "metadata": {
        "id": "LPScjiEG-1Kh"
      },
      "execution_count": 66,
      "outputs": []
    },
    {
      "cell_type": "code",
      "source": [
        "# 7. Reshape input to be [samples, time steps, features] which is required for LSTM\n",
        "X_train =X_train.reshape(X_train.shape[0],X_train.shape[1] , 1)\n",
        "X_test = X_test.reshape(X_test.shape[0],X_test.shape[1] , 1)\n",
        "X_val = X_val.reshape(X_val.shape[0],X_val.shape[1] , 1)"
      ],
      "metadata": {
        "id": "AiqatCB4-2IC"
      },
      "execution_count": 67,
      "outputs": []
    },
    {
      "cell_type": "code",
      "source": [
        "# Xây dựng mô hình TDNN\n",
        "window_size = 100\n",
        "model = Sequential()\n",
        "model.add(Conv1D(filters=64, kernel_size=window_size, activation='relu', input_shape=(window_size, 1)))\n",
        "model.add(Flatten())\n",
        "model.add(Dense(32, activation='relu'))\n",
        "model.add(Dense(1))"
      ],
      "metadata": {
        "id": "rQtCZypT-3ZR"
      },
      "execution_count": 68,
      "outputs": []
    },
    {
      "cell_type": "code",
      "source": [
        "# 9. Fit mô hình với dữ liệu train\n",
        "model.compile(optimizer='adam', loss='mean_squared_error')\n",
        "model.fit(X_train,y_train,validation_data=(X_test,ytest),epochs=100,batch_size=64,verbose=1)"
      ],
      "metadata": {
        "colab": {
          "base_uri": "https://localhost:8080/"
        },
        "id": "sU5eZbls-5PK",
        "outputId": "90874735-4cb7-4e8f-e3e4-1fabd6d3af6b"
      },
      "execution_count": 69,
      "outputs": [
        {
          "output_type": "stream",
          "name": "stdout",
          "text": [
            "Epoch 1/100\n",
            "22/22 [==============================] - 1s 11ms/step - loss: 0.0197 - val_loss: 0.0025\n",
            "Epoch 2/100\n",
            "22/22 [==============================] - 0s 4ms/step - loss: 0.0051 - val_loss: 0.0011\n",
            "Epoch 3/100\n",
            "22/22 [==============================] - 0s 6ms/step - loss: 0.0038 - val_loss: 8.7677e-04\n",
            "Epoch 4/100\n",
            "22/22 [==============================] - 0s 6ms/step - loss: 0.0028 - val_loss: 6.9427e-04\n",
            "Epoch 5/100\n",
            "22/22 [==============================] - 0s 9ms/step - loss: 0.0022 - val_loss: 5.8045e-04\n",
            "Epoch 6/100\n",
            "22/22 [==============================] - 0s 5ms/step - loss: 0.0018 - val_loss: 4.6530e-04\n",
            "Epoch 7/100\n",
            "22/22 [==============================] - 0s 4ms/step - loss: 0.0017 - val_loss: 4.2563e-04\n",
            "Epoch 8/100\n",
            "22/22 [==============================] - 0s 6ms/step - loss: 0.0015 - val_loss: 5.9990e-04\n",
            "Epoch 9/100\n",
            "22/22 [==============================] - 0s 6ms/step - loss: 0.0014 - val_loss: 3.7255e-04\n",
            "Epoch 10/100\n",
            "22/22 [==============================] - 0s 6ms/step - loss: 0.0012 - val_loss: 3.7733e-04\n",
            "Epoch 11/100\n",
            "22/22 [==============================] - 0s 5ms/step - loss: 0.0012 - val_loss: 3.9012e-04\n",
            "Epoch 12/100\n",
            "22/22 [==============================] - 0s 5ms/step - loss: 0.0011 - val_loss: 3.1269e-04\n",
            "Epoch 13/100\n",
            "22/22 [==============================] - 0s 5ms/step - loss: 0.0011 - val_loss: 3.4447e-04\n",
            "Epoch 14/100\n",
            "22/22 [==============================] - 0s 4ms/step - loss: 0.0010 - val_loss: 3.6813e-04\n",
            "Epoch 15/100\n",
            "22/22 [==============================] - 0s 4ms/step - loss: 9.3878e-04 - val_loss: 2.8688e-04\n",
            "Epoch 16/100\n",
            "22/22 [==============================] - 0s 4ms/step - loss: 8.6600e-04 - val_loss: 2.6503e-04\n",
            "Epoch 17/100\n",
            "22/22 [==============================] - 0s 5ms/step - loss: 9.9646e-04 - val_loss: 2.5761e-04\n",
            "Epoch 18/100\n",
            "22/22 [==============================] - 0s 6ms/step - loss: 7.7166e-04 - val_loss: 2.7032e-04\n",
            "Epoch 19/100\n",
            "22/22 [==============================] - 0s 5ms/step - loss: 7.5264e-04 - val_loss: 2.5063e-04\n",
            "Epoch 20/100\n",
            "22/22 [==============================] - 0s 4ms/step - loss: 7.7546e-04 - val_loss: 2.6369e-04\n",
            "Epoch 21/100\n",
            "22/22 [==============================] - 0s 5ms/step - loss: 7.5424e-04 - val_loss: 2.2772e-04\n",
            "Epoch 22/100\n",
            "22/22 [==============================] - 0s 6ms/step - loss: 8.4919e-04 - val_loss: 2.5044e-04\n",
            "Epoch 23/100\n",
            "22/22 [==============================] - 0s 5ms/step - loss: 6.9970e-04 - val_loss: 2.3462e-04\n",
            "Epoch 24/100\n",
            "22/22 [==============================] - 0s 5ms/step - loss: 7.9400e-04 - val_loss: 2.1472e-04\n",
            "Epoch 25/100\n",
            "22/22 [==============================] - 0s 4ms/step - loss: 6.8199e-04 - val_loss: 2.4213e-04\n",
            "Epoch 26/100\n",
            "22/22 [==============================] - 0s 5ms/step - loss: 6.2657e-04 - val_loss: 2.1592e-04\n",
            "Epoch 27/100\n",
            "22/22 [==============================] - 0s 6ms/step - loss: 6.3179e-04 - val_loss: 2.2221e-04\n",
            "Epoch 28/100\n",
            "22/22 [==============================] - 0s 5ms/step - loss: 7.1042e-04 - val_loss: 2.0032e-04\n",
            "Epoch 29/100\n",
            "22/22 [==============================] - 0s 8ms/step - loss: 6.4968e-04 - val_loss: 2.3468e-04\n",
            "Epoch 30/100\n",
            "22/22 [==============================] - 0s 7ms/step - loss: 6.0761e-04 - val_loss: 1.9295e-04\n",
            "Epoch 31/100\n",
            "22/22 [==============================] - 0s 7ms/step - loss: 6.0867e-04 - val_loss: 2.1989e-04\n",
            "Epoch 32/100\n",
            "22/22 [==============================] - 0s 7ms/step - loss: 5.9120e-04 - val_loss: 1.9707e-04\n",
            "Epoch 33/100\n",
            "22/22 [==============================] - 0s 6ms/step - loss: 5.4021e-04 - val_loss: 2.0426e-04\n",
            "Epoch 34/100\n",
            "22/22 [==============================] - 0s 6ms/step - loss: 5.7453e-04 - val_loss: 1.8511e-04\n",
            "Epoch 35/100\n",
            "22/22 [==============================] - 0s 5ms/step - loss: 7.2585e-04 - val_loss: 1.7514e-04\n",
            "Epoch 36/100\n",
            "22/22 [==============================] - 0s 6ms/step - loss: 5.8686e-04 - val_loss: 1.7671e-04\n",
            "Epoch 37/100\n",
            "22/22 [==============================] - 0s 7ms/step - loss: 4.9179e-04 - val_loss: 1.9445e-04\n",
            "Epoch 38/100\n",
            "22/22 [==============================] - 0s 6ms/step - loss: 4.9759e-04 - val_loss: 1.6733e-04\n",
            "Epoch 39/100\n",
            "22/22 [==============================] - 0s 7ms/step - loss: 5.2876e-04 - val_loss: 1.6627e-04\n",
            "Epoch 40/100\n",
            "22/22 [==============================] - 0s 6ms/step - loss: 5.1920e-04 - val_loss: 1.6451e-04\n",
            "Epoch 41/100\n",
            "22/22 [==============================] - 0s 5ms/step - loss: 4.8360e-04 - val_loss: 1.8749e-04\n",
            "Epoch 42/100\n",
            "22/22 [==============================] - 0s 7ms/step - loss: 5.9227e-04 - val_loss: 1.9529e-04\n",
            "Epoch 43/100\n",
            "22/22 [==============================] - 0s 8ms/step - loss: 5.4501e-04 - val_loss: 1.5600e-04\n",
            "Epoch 44/100\n",
            "22/22 [==============================] - 0s 7ms/step - loss: 4.8937e-04 - val_loss: 1.6460e-04\n",
            "Epoch 45/100\n",
            "22/22 [==============================] - 0s 8ms/step - loss: 4.9737e-04 - val_loss: 1.5208e-04\n",
            "Epoch 46/100\n",
            "22/22 [==============================] - 0s 8ms/step - loss: 4.7110e-04 - val_loss: 1.8212e-04\n",
            "Epoch 47/100\n",
            "22/22 [==============================] - 0s 7ms/step - loss: 5.0323e-04 - val_loss: 2.0539e-04\n",
            "Epoch 48/100\n",
            "22/22 [==============================] - 0s 7ms/step - loss: 5.0763e-04 - val_loss: 1.5096e-04\n",
            "Epoch 49/100\n",
            "22/22 [==============================] - 0s 7ms/step - loss: 4.9604e-04 - val_loss: 1.8519e-04\n",
            "Epoch 50/100\n",
            "22/22 [==============================] - 0s 8ms/step - loss: 4.4695e-04 - val_loss: 1.4677e-04\n",
            "Epoch 51/100\n",
            "22/22 [==============================] - 0s 6ms/step - loss: 4.5232e-04 - val_loss: 1.4477e-04\n",
            "Epoch 52/100\n",
            "22/22 [==============================] - 0s 5ms/step - loss: 4.1716e-04 - val_loss: 1.6748e-04\n",
            "Epoch 53/100\n",
            "22/22 [==============================] - 0s 6ms/step - loss: 4.3958e-04 - val_loss: 1.5532e-04\n",
            "Epoch 54/100\n",
            "22/22 [==============================] - 0s 6ms/step - loss: 6.0117e-04 - val_loss: 1.4466e-04\n",
            "Epoch 55/100\n",
            "22/22 [==============================] - 0s 6ms/step - loss: 4.6782e-04 - val_loss: 2.4874e-04\n",
            "Epoch 56/100\n",
            "22/22 [==============================] - 0s 5ms/step - loss: 5.2303e-04 - val_loss: 1.5790e-04\n",
            "Epoch 57/100\n",
            "22/22 [==============================] - 0s 8ms/step - loss: 4.4740e-04 - val_loss: 1.4782e-04\n",
            "Epoch 58/100\n",
            "22/22 [==============================] - 0s 8ms/step - loss: 4.4720e-04 - val_loss: 1.3356e-04\n",
            "Epoch 59/100\n",
            "22/22 [==============================] - 0s 6ms/step - loss: 3.9530e-04 - val_loss: 1.6011e-04\n",
            "Epoch 60/100\n",
            "22/22 [==============================] - 0s 5ms/step - loss: 4.2741e-04 - val_loss: 1.5038e-04\n",
            "Epoch 61/100\n",
            "22/22 [==============================] - 0s 6ms/step - loss: 4.2913e-04 - val_loss: 1.4070e-04\n",
            "Epoch 62/100\n",
            "22/22 [==============================] - 0s 6ms/step - loss: 5.1867e-04 - val_loss: 1.4534e-04\n",
            "Epoch 63/100\n",
            "22/22 [==============================] - 0s 6ms/step - loss: 4.7315e-04 - val_loss: 1.6904e-04\n",
            "Epoch 64/100\n",
            "22/22 [==============================] - 0s 7ms/step - loss: 5.4806e-04 - val_loss: 1.4604e-04\n",
            "Epoch 65/100\n",
            "22/22 [==============================] - 0s 7ms/step - loss: 4.5633e-04 - val_loss: 1.3062e-04\n",
            "Epoch 66/100\n",
            "22/22 [==============================] - 0s 5ms/step - loss: 4.3582e-04 - val_loss: 1.6987e-04\n",
            "Epoch 67/100\n",
            "22/22 [==============================] - 0s 5ms/step - loss: 3.8002e-04 - val_loss: 1.4268e-04\n",
            "Epoch 68/100\n",
            "22/22 [==============================] - 0s 5ms/step - loss: 3.6940e-04 - val_loss: 1.4999e-04\n",
            "Epoch 69/100\n",
            "22/22 [==============================] - 0s 5ms/step - loss: 4.4458e-04 - val_loss: 1.4195e-04\n",
            "Epoch 70/100\n",
            "22/22 [==============================] - 0s 6ms/step - loss: 4.2611e-04 - val_loss: 1.2913e-04\n",
            "Epoch 71/100\n",
            "22/22 [==============================] - 0s 7ms/step - loss: 3.6938e-04 - val_loss: 1.2257e-04\n",
            "Epoch 72/100\n",
            "22/22 [==============================] - 0s 5ms/step - loss: 3.6295e-04 - val_loss: 1.2861e-04\n",
            "Epoch 73/100\n",
            "22/22 [==============================] - 0s 5ms/step - loss: 3.4137e-04 - val_loss: 1.2224e-04\n",
            "Epoch 74/100\n",
            "22/22 [==============================] - 0s 6ms/step - loss: 3.9670e-04 - val_loss: 1.2051e-04\n",
            "Epoch 75/100\n",
            "22/22 [==============================] - 0s 7ms/step - loss: 3.3275e-04 - val_loss: 1.1887e-04\n",
            "Epoch 76/100\n",
            "22/22 [==============================] - 0s 5ms/step - loss: 3.7131e-04 - val_loss: 1.1824e-04\n",
            "Epoch 77/100\n",
            "22/22 [==============================] - 0s 6ms/step - loss: 3.4794e-04 - val_loss: 1.1794e-04\n",
            "Epoch 78/100\n",
            "22/22 [==============================] - 0s 5ms/step - loss: 3.3567e-04 - val_loss: 1.1988e-04\n",
            "Epoch 79/100\n",
            "22/22 [==============================] - 0s 6ms/step - loss: 3.3261e-04 - val_loss: 1.6050e-04\n",
            "Epoch 80/100\n",
            "22/22 [==============================] - 0s 6ms/step - loss: 3.9523e-04 - val_loss: 1.1713e-04\n",
            "Epoch 81/100\n",
            "22/22 [==============================] - 0s 6ms/step - loss: 3.3937e-04 - val_loss: 1.2329e-04\n",
            "Epoch 82/100\n",
            "22/22 [==============================] - 0s 6ms/step - loss: 4.2255e-04 - val_loss: 1.2201e-04\n",
            "Epoch 83/100\n",
            "22/22 [==============================] - 0s 5ms/step - loss: 3.1949e-04 - val_loss: 1.5259e-04\n",
            "Epoch 84/100\n",
            "22/22 [==============================] - 0s 6ms/step - loss: 3.6726e-04 - val_loss: 1.1334e-04\n",
            "Epoch 85/100\n",
            "22/22 [==============================] - 0s 6ms/step - loss: 4.7329e-04 - val_loss: 1.3019e-04\n",
            "Epoch 86/100\n",
            "22/22 [==============================] - 0s 5ms/step - loss: 3.8994e-04 - val_loss: 1.1497e-04\n",
            "Epoch 87/100\n",
            "22/22 [==============================] - 0s 5ms/step - loss: 3.3916e-04 - val_loss: 1.7463e-04\n",
            "Epoch 88/100\n",
            "22/22 [==============================] - 0s 7ms/step - loss: 3.4588e-04 - val_loss: 1.5211e-04\n",
            "Epoch 89/100\n",
            "22/22 [==============================] - 0s 6ms/step - loss: 3.7010e-04 - val_loss: 1.2769e-04\n",
            "Epoch 90/100\n",
            "22/22 [==============================] - 0s 6ms/step - loss: 3.5933e-04 - val_loss: 1.1451e-04\n",
            "Epoch 91/100\n",
            "22/22 [==============================] - 0s 5ms/step - loss: 4.3231e-04 - val_loss: 1.2915e-04\n",
            "Epoch 92/100\n",
            "22/22 [==============================] - 0s 5ms/step - loss: 4.0345e-04 - val_loss: 1.1335e-04\n",
            "Epoch 93/100\n",
            "22/22 [==============================] - 0s 6ms/step - loss: 3.5420e-04 - val_loss: 1.1435e-04\n",
            "Epoch 94/100\n",
            "22/22 [==============================] - 0s 4ms/step - loss: 3.9405e-04 - val_loss: 1.5237e-04\n",
            "Epoch 95/100\n",
            "22/22 [==============================] - 0s 4ms/step - loss: 3.9521e-04 - val_loss: 1.1827e-04\n",
            "Epoch 96/100\n",
            "22/22 [==============================] - 0s 6ms/step - loss: 3.3849e-04 - val_loss: 1.4506e-04\n",
            "Epoch 97/100\n",
            "22/22 [==============================] - 0s 5ms/step - loss: 3.2959e-04 - val_loss: 1.2425e-04\n",
            "Epoch 98/100\n",
            "22/22 [==============================] - 0s 5ms/step - loss: 3.2980e-04 - val_loss: 1.0570e-04\n",
            "Epoch 99/100\n",
            "22/22 [==============================] - 0s 6ms/step - loss: 3.2519e-04 - val_loss: 1.0544e-04\n",
            "Epoch 100/100\n",
            "22/22 [==============================] - 0s 4ms/step - loss: 3.2877e-04 - val_loss: 1.6151e-04\n"
          ]
        },
        {
          "output_type": "execute_result",
          "data": {
            "text/plain": [
              "<keras.callbacks.History at 0x7f5d503a4760>"
            ]
          },
          "metadata": {},
          "execution_count": 69
        }
      ]
    },
    {
      "cell_type": "code",
      "source": [
        "# 10. Dự báo dữ liệu test, val\n",
        "train_predict=model.predict(X_train)\n",
        "y_pred=model.predict(X_test)\n",
        "y_pred_val=model.predict(X_val)"
      ],
      "metadata": {
        "colab": {
          "base_uri": "https://localhost:8080/"
        },
        "id": "Ruzm72cz-7lQ",
        "outputId": "4c4747da-a01f-4595-d39d-e6f7e4807160"
      },
      "execution_count": 70,
      "outputs": [
        {
          "output_type": "stream",
          "name": "stdout",
          "text": [
            "44/44 [==============================] - 0s 2ms/step\n",
            "11/11 [==============================] - 0s 2ms/step\n",
            "4/4 [==============================] - 0s 4ms/step\n"
          ]
        }
      ]
    },
    {
      "cell_type": "code",
      "source": [
        "# 11. Chuẩn hóa dữ liệu y_pred, y_pred_val\n",
        "train_predict=scaler.inverse_transform(train_predict)\n",
        "y_pred=scaler.inverse_transform(y_pred)\n",
        "y_pred_val=scaler.inverse_transform(y_pred_val)"
      ],
      "metadata": {
        "id": "udI5me5r-8l4"
      },
      "execution_count": 71,
      "outputs": []
    },
    {
      "cell_type": "code",
      "source": [
        "# 12. Đánh giá độ chính xác thuật toán bằng RMSE\n",
        "valid_rmse = np.sqrt(np.mean((y_pred_val - yval)**2))\n",
        "test_rmse = np.sqrt(np.mean((y_pred - ytest)**2))\n",
        "print('Validation RMSE:', valid_rmse)\n",
        "print('Testing RMSE:', test_rmse)"
      ],
      "metadata": {
        "colab": {
          "base_uri": "https://localhost:8080/"
        },
        "id": "hicPJ_3c-96J",
        "outputId": "a2dcf61e-21c1-410a-d910-6c3a90bab0c7"
      },
      "execution_count": 72,
      "outputs": [
        {
          "output_type": "stream",
          "name": "stdout",
          "text": [
            "Validation RMSE: 77.31900241967506\n",
            "Testing RMSE: 96.64600391706634\n"
          ]
        }
      ]
    },
    {
      "cell_type": "code",
      "source": [
        "# Dự báo 7 ngày tiếp theo\n",
        "x_input = val_data[-100:].reshape(1, -1)\n",
        "temp_input = list(x_input)\n",
        "temp_input = temp_input[0].tolist()\n",
        "\n",
        "lst_output = []\n",
        "n_steps = 100\n",
        "i = 0\n",
        "\n",
        "while i < 7:\n",
        "    if len(temp_input) > 100:\n",
        "        x_input = np.array(temp_input[1:])\n",
        "        x_input = x_input.reshape(1, -1)\n",
        "        x_input = x_input.reshape((1, n_steps, 1))\n",
        "        yhat = model.predict(x_input, verbose=0)\n",
        "        temp_input.extend(yhat[0].tolist())\n",
        "        temp_input = temp_input[1:]\n",
        "        lst_output.extend(yhat.tolist())\n",
        "        i += 1\n",
        "    else:\n",
        "        x_input = x_input.reshape((1, n_steps, 1))\n",
        "        yhat = model.predict(x_input, verbose=0)\n",
        "        temp_input.extend(yhat[0].tolist())\n",
        "        lst_output.extend(yhat.tolist())\n",
        "        i += 1"
      ],
      "metadata": {
        "id": "0uSjm_XL_CHQ"
      },
      "execution_count": 73,
      "outputs": []
    },
    {
      "cell_type": "code",
      "source": [
        "# 14.Vẽ hình\n",
        "train_data_index = pd.RangeIndex(start=0, stop=train_size, step=1)\n",
        "plt.plot(scaler.inverse_transform(train_data))\n",
        "test_data_index = pd.RangeIndex(start=train_size, stop=train_size+test_size, step=1)\n",
        "plt.plot(test_data_index,scaler.inverse_transform(test_data))\n",
        "test_data_index = pd.RangeIndex(start=train_size+101, stop=train_size+test_size, step=1)\n",
        "plt.plot(test_data_index,(y_pred))\n",
        "val_data_index = pd.RangeIndex(start=train_size+test_size, stop=train_size+test_size+val_size, step=1)\n",
        "plt.plot(val_data_index,scaler.inverse_transform(val_data))\n",
        "val_data_index = pd.RangeIndex(start=train_size+test_size+101, stop=train_size+test_size+val_size, step=1)\n",
        "plt.plot(val_data_index,y_pred_val)\n",
        "prediect_data_index = pd.RangeIndex(start=len(df1)-1, stop=len(df1)+6, step=1)\n",
        "plt.plot(prediect_data_index,scaler.inverse_transform(lst_output))\n",
        "plt.legend(['Train','Test','Predict','Validate','ValidatePred','Predict7days'])\n",
        "plt.show()"
      ],
      "metadata": {
        "colab": {
          "base_uri": "https://localhost:8080/",
          "height": 430
        },
        "id": "jsAGe1Gr_FOK",
        "outputId": "05e7c1b0-b61b-4e89-b5e7-b3c1b0333588"
      },
      "execution_count": 74,
      "outputs": [
        {
          "output_type": "display_data",
          "data": {
            "text/plain": [
              "<Figure size 640x480 with 1 Axes>"
            ],
            "image/png": "[encoded data removed]"
          },
          "metadata": {}
        }
      ]
    },
    {
      "cell_type": "code",
      "source": [
        "scaler.inverse_transform(lst_output)"
      ],
      "metadata": {
        "colab": {
          "base_uri": "https://localhost:8080/"
        },
        "id": "kM5Wx0Qk_GWo",
        "outputId": "4543d89f-cc28-42e1-b656-4a905274ff10"
      },
      "execution_count": 75,
      "outputs": [
        {
          "output_type": "execute_result",
          "data": {
            "text/plain": [
              "array([[77.62662659],\n",
              "       [77.78650491],\n",
              "       [77.99730767],\n",
              "       [78.32813901],\n",
              "       [78.56965623],\n",
              "       [78.84342166],\n",
              "       [79.10534168]])"
            ]
          },
          "metadata": {},
          "execution_count": 75
        }
      ]
    }
  ],
  "metadata": {
    "colab": {
      "provenance": []
    },
    "kernelspec": {
      "display_name": "Python 3",
      "name": "python3"
    },
    "language_info": {
      "codemirror_mode": {
        "name": "ipython",
        "version": 3
      },
      "file_extension": ".py",
      "mimetype": "text/x-python",
      "name": "python",
      "nbconvert_exporter": "python",
      "pygments_lexer": "ipython3",
      "version": "3.10.11"
    }
  },
  "nbformat": 4,
  "nbformat_minor": 0
}